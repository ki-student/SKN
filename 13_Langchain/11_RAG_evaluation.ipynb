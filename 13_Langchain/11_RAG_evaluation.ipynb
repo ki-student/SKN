{
 "cells": [
  {
   "cell_type": "markdown",
   "metadata": {},
   "source": [
    "# RAG 평가 개요\n",
    "- RAG 평가란 RAG 시스템이 주어진 입력에 대해 얼마나 효과적으로 관련 정보를 검색하고, 이를 기반으로 정확하고 유의미한 응답을 생성하는지를 측정하는 과정이다. \n",
    "- **평가 요소**\n",
    "    - **검색 단계 평가**\n",
    "        - 입력 질문에 대해 검색된 문서나 정보의 관련성과 정확성을 평가.\n",
    "    - **생성 단계 평가**\n",
    "        - 검색된 정보를 기반으로 생성된 응답의 품질, 정확성등을 평가.\n",
    "- **평가 방법**\n",
    "    - 온/오프라인 평가\n",
    "        1. **오프라인 평가**\n",
    "            - 미리 준비된 데이터셋을 활용하여 RAG 시스템의 성능을 측정한다.\n",
    "        2. **온라인 평가**\n",
    "            - 실제 사용자 트래픽과 피드백을 기반으로 시스템의 실시간 성능을 평가한다.\n",
    "    - 정량적/정성적 평가\n",
    "        1. 정량적 평가\n",
    "            - 자동화된 지표를 사용하여 생성된 텍스트의 품질을 평가한다.\n",
    "        2. 정성적 평가\n",
    "            - 전문가나 일반 사용자가 직접 생성된 응답의 품질을 평가하여 주관적인 지표를 평가한다."
   ]
  },
  {
   "cell_type": "markdown",
   "metadata": {},
   "source": [
    "# [RAGAS](https://www.ragas.io/)\n",
    "- RAGAS는 RAG 파이프라인을 **정량적 으로 평가하는** 오픈소스 프레임 워크이다. \n",
    "- RAGAS 문서: https://docs.ragas.io/en/stable/\n",
    "## 설치\n",
    "- `pip install ragas`"
   ]
  },
  {
   "cell_type": "code",
   "execution_count": 2,
   "metadata": {},
   "outputs": [
    {
     "data": {
      "text/plain": [
       "'0.2.15'"
      ]
     },
     "execution_count": 2,
     "metadata": {},
     "output_type": "execute_result"
    }
   ],
   "source": [
    "import ragas\n",
    "ragas.__version__"
   ]
  },
  {
   "cell_type": "markdown",
   "metadata": {},
   "source": [
    "## RAGAS 평가 지표 개요\n",
    "![ragas_score](figures/ragas_score.png)\n",
    "- **Generation**\n",
    "    - llm 모델이 생성한 답변에 대한 평가 지표들.\n",
    "    - **Faithfulness(신뢰성)**\n",
    "        -  생성된 답변과 검색된 문서(context)간의 관련성을 평가하는 지표\n",
    "        -  생성된 답변이 주어진 문맥(context)에 얼마나 충실한지를 평가하는 지표로 할루시네이션에 대한 평가로 볼 수있다.\n",
    "    - **Answer relevancy(답변 적합성)**\n",
    "        - 생성된 답변과 사용자의 질문간의 관련성을 평가하는 지표\n",
    "        - 생성된 답변이 사용자의 질문과 얼마나 관련성이 있는지를 평가하는 지표.\n",
    "- **Retrieval**\n",
    "    -  질문에 대해 검색한 문서(context)들에 대한 평가\n",
    "    -  **Context Precision(문맥 정밀도)**\n",
    "        -  검색된 문서(context)들 중 질문과 관련 있는 것들이 **얼마나 상위 순위에 위치하는지** 평가하는 지표.\n",
    "    -  **Context Recall(문맥 재현률)**\n",
    "        -  검색된 문서(context)가 정답(ground-truth)의 정보를 얼마나 포함하고 있는지 평가하는 지표.\n",
    "- 이러한 지표들은 RAG 파이프라인의 성능을 다각도로 평가하는 데 활용된다.\n",
    "![RAGAS_score2](figures/RAGAS_score2.png)"
   ]
  },
  {
   "cell_type": "markdown",
   "metadata": {},
   "source": [
    "## 주요 평가지표\n",
    "### Generation 평가\n",
    "- LLM이 생성한 답변에 대한 평가\n",
    "  \n",
    "#### Faithfulness (신뢰성)\n",
    "- 생성된 답변이 얼마나 주어진 검색 문서들(context)를 잘 반영해서 생성되었는지 평가한다. 할루시네이션에 대한 평가라고 할 수 있다. \n",
    "- 점수범위: **0 ~ 1** (1에 가까울수록 좋음)\n",
    "- 답변에 포함된 모든 주장이 context에서 얼마나 추출 가능한지를 확인한다.\n",
    "\n",
    "##### 평가 방법\n",
    "1. Answer에서 주장 구문(claim statement)들을 생성(추출)한다. (주장이란, 질문(user input)과 관련된 내용)\n",
    "    - 예) \n",
    "        - **질문**: 한국의 수도는 어디이고 인구는 얼마나 되나요? \n",
    "        - **LLM 답변**: 한국의 수도는 서울이고 인구수는 3000만명이다. \n",
    "        - **주장(claim)**: \n",
    "            1. 한국의 수도는 서울이다.\n",
    "            2. 인구수는 3000만명이다.\n",
    "2. 각 주장들을 context로 부터 추론 가능한지 판단한다. 이를 바탕으로 faithfulness 점수를 계산한다.\n",
    "    - 예)\n",
    "        - context: 한국은 동아시아에 위치하고 있는 나라다. 한국의 수도는 서울이다. .... 한국의 인구는 5000만명이고 서울에 1000만이 살고 있다.\n",
    "        - 위 context에서 추론 가능한 주장: \n",
    "            - 한국의 수도는 서울이다. -> context에서 추론가능한 주장.\n",
    "            - 한국의 인구는 3000만명이다. -> context에서 추론 불가능한 주장.\n",
    "3. **Faithfulness score** 를 계산한다. 총 주장 수 중에서 context로 부터 추론가능한 주장의 개수.    \n",
    "    - 예)\n",
    "        - Faithfulness Score = $\\cfrac{1}{2} = 0.5$ (두 개의 주장 중 한 개의 주장만 context에서 유추할 수있다.)\n",
    "    - LLM 답변에서 주장을 추출 하는 것과 각 주장이 context에서 추론 가능한 지를 판단하는 것은 LLM 을 활용한다.\n",
    "- 공식\n",
    "    $$\n",
    "    \\text{Faithfulness Score}\\;=\\;\\cfrac{\\text{주어진\\;context\\;에서\\;추론할\\;수\\;있는\\;주장의\\;개수}}{\\text{총\\;주장\\;개수}}\n",
    "    $$"
   ]
  },
  {
   "cell_type": "code",
   "execution_count": null,
   "metadata": {},
   "outputs": [],
   "source": []
  },
  {
   "cell_type": "markdown",
   "metadata": {},
   "source": [
    "#### Answer relevancy (답변 적합성)\n",
    "- 생성된 답변이 질문(user input)에 얼마나 잘 부합하는 지를 평가한다.\n",
    "- 점수 범위: -1~1 (1에 가까울수록 좋음)\n",
    "- LLM이 생성한 답변을 기반으로 질문들을 생성한다. 이렇게 생성한 질문들과 실제 질문(user input)의 embedding vector 간의 **코사인 유사도**를 측정한다.\n",
    "\n",
    "##### 평가방법\n",
    "1. LLM이 생성한 답변을 기반으로 질문들을 생성한다.\n",
    "    - 예) \n",
    "        - **LLM** 답변: 한국의 수도는 서울이고 인구수는 3000만명이다. \n",
    "        - **생성된 질문**: \n",
    "            1. 한국의 수도는 어디이고 인구는 얼마나 되나요?\n",
    "            2. 한국의 수도는 어디인가요?\n",
    "            3. 한국의 인구는 얼마나 되나요?\n",
    "2. 실제 질문과 생성한 질문간의 코사인 유사도를 측정한다. 그 평균이 최종 점수가 된다.\n",
    "    - 예)\n",
    "        - **실제 질문**: 한국의 수도는 어디이고 인구는 얼마나 되나요?\n",
    "        - **생성된 질문**: \n",
    "            1. 한국의 수도는 어디이고 인구는 얼마나 되나요?\n",
    "            2. 한국의 수도는 어디인가요?\n",
    "            3. 한국의 인구는 얼마나 되나요?\n",
    "- 공식\n",
    "  $$\n",
    "    \\cfrac{1}{N} \\sum_{i=1}^{N} \\text{cosine\\_similarity}(q_{\\text{user}_{_i}}, q_{\\text{generated}})\n",
    "  $$"
   ]
  },
  {
   "cell_type": "code",
   "execution_count": null,
   "metadata": {},
   "outputs": [],
   "source": []
  },
  {
   "cell_type": "markdown",
   "metadata": {},
   "source": [
    "### Retrieval 평가\n",
    "User input에 대해 Vector store에서 검색한 context에 대한 평가\n",
    "\n",
    "#### Context Precision\n",
    "- 사용자가 질문(query)에 대해 검색된 문서들이 답변 생성에 얼마나 유용한지를 평가한다.\n",
    "- 검색된 K개의 문서(context)들 중 **질문과 관련 있는 문서들이 얼마나 상위 순위**에 있는 지로 평가.\n",
    "- 점수 범위: 0~1 (1에 가까울수록 좋음)\n",
    "\n",
    "\n",
    "##### 평가방법\n",
    "\n",
    "- 공식\n",
    "$$\n",
    " \\text{Context\\;Precision@K} = \\frac{\\sum_{k=1}^{K} \\left( \\text{Precision@k} \\times v_k \\right)}{\\ 상위\\;K개\\;결과에서의\\;관련\\;항목\\;수}\n",
    "$$\n",
    "$$\n",
    " \\text{Precision@k} = \\frac{\\text{True\\;positive@k}}{(\\text{True\\;positive@k} + \\text{False\\;positive@k})} \\\\\n",
    "$$\n",
    "- $\\text{True Positive@k}$: 상위 k개의 문서 중 질문과 관련있는 문서의 개수\n",
    "- $\\text{False Positive@k}$: 상위 k개의 문서 중 질문과 관련없는 문서의 개수\n",
    "- $\\text{Precision@k}$: 상위 k개의 문서 중 질문과 관련된 문서들이 차지하는 비율\n",
    "- K: 검색한 context(문서)의 개수(chuck 수)\n",
    "- $v_k$: 질문과의 context간의 관련성 여부로 0 또는 1. (0: 관련 없음, 1: 관련 있음)\n",
    "\n",
    "##### 예시\n",
    "- 질문과 context 관련성 예\n",
    "    - 질문: 한국의 수도는 어디이고 인구는 얼마나 되나요?\n",
    "    - 높은 정밀도 context(관련성 높은 문서의 예)\n",
    "        - 한국의 수도는 서울이고 인구는 5000명 입니다. \n",
    "        - 한국의 수도는 서울입니다.\n",
    "        - 한국은 동아시아에 위치해 있는 국가로 수도는 서울입니다.\n",
    "        - 한국의 인구는 5000만명 입니다.\n",
    "    - 낮은 정밀도 context(관련성 낮은 문서의 예)\n",
    "        - 한국은 동아시아에 위치한 국가입니다.\n",
    "        - 한국의 K-pop은 전 세계적으로 유명합니다.\n",
    "        - 비빔밥, 불고기는 한국의 대표적인 음식입니다.\n",
    "    - **높은 정밀도의 context이 상위 순위에 위치했으면 높은 점수를 받는다.**\n",
    "- 점수 계산의 예\n",
    "  - 상위 5개의 검색 결과 중 1번째, 3번째, 4번째 문서가 관련이 있다고 가정\n",
    "    ```bash\n",
    "    Precision@1 = 1/1 = 1.0    # True positive@1/(True positive@1 + False positive@1).  1/1(1번 문서 계산 시에는 1개 문서만 있으므로 분모가 1이 된다.)\n",
    "    Precision@2 = 1/2 = 0.5     \n",
    "    Precision@3 = 2/3 ≈ 0.67    \n",
    "    Precision@4 = 3/4 = 0.75\n",
    "    Precision@5 = 3/5 = 0.6\n",
    "    ```\n",
    "- vk의 값\n",
    "    - 1번째: $v_1 = 1$\n",
    "    - 2번째: $v_2 = 0$\n",
    "    - 3번째: $v_3 = 1$\n",
    "    - 4번째: $v_4 = 1$\n",
    "    - 5번째: $v_5 = 0$\n",
    "\n",
    "- Context Precision@5\n",
    "$$\n",
    "\\text{Context\\;Precision@5} = \\frac{(1.0 \\times 1) + (0.5 \\times 0) + (0.67 \\times 1) + (0.75 \\times 1) + (0.6 \\times 0)}{3} = \\frac{1.0 + 0 + 0.67 + 0.75 + 0}{3} ≈ 0.807\n",
    "$$"
   ]
  },
  {
   "cell_type": "code",
   "execution_count": null,
   "metadata": {},
   "outputs": [],
   "source": []
  },
  {
   "cell_type": "markdown",
   "metadata": {},
   "source": [
    "#### Context Recall (문맥 재현률)\n",
    "- 검색된 문서(context)가 얼마나 정답(ground-truth)의 정보를 포함있는 지 평가하는 지표\n",
    "- 점수 범위: 0~1 (1에 가까울수록 좋음)\n",
    "- **정답(ground truth)의 각 주장(claim)이 검색된 context와 얼마나 일치**하는지 계산함.\n",
    "\n",
    "##### 평가방법\n",
    "1. **정답**에서 주장 문장(claim statement)들을 생성(추출)한다.\n",
    "    - 예) \n",
    "        - **정답**: 한국의 수도는 서울이고 인구수는 5000만명이다. \n",
    "        - **주장(claim)**: \n",
    "            1. 한국의 수도는 서울이다.\n",
    "            2. 인구수는 5000만명이다.\n",
    "2. 각 주장 문장(claim statement)의 정보를 검색된 context들에서 찾을 수 있는지 판별한다. 이를 바탕으로 context recall 점수를 계산한다.\n",
    "    - 예)\n",
    "        - context: 한국은 동아시아에 위치하고 있는 나라다. 한국의 수도는 서울이다.\n",
    "        - 위 context에서 추론 가능한 주장: \n",
    "            - 한국의 수도는 서울이다. -> context에서 찾을 수 있다.\n",
    "            - 한국의 인구는 5000만명이다. -> context에서 찾을 수 없다.\n",
    "3. **Context Recall Score** 를 계산한다. 총 주장 수 중에서 context로 부터 찾을 수 있는 주장의 개수.\n",
    "    - 예)\n",
    "        - Context Recall Score = $\\cfrac{1}{2} = 0.5$ (두 개의 주장 중 한 개의 주장만 context에서 찾을 수 있다.)\n",
    "\n",
    "- 공식\n",
    "    $$\n",
    "    \\text{Context Recall Score}\\;=\\;\\cfrac{\\text{GT의\\;주장\\;중\\;주어진\\;context\\;에서\\;찾을\\;수\\;있는\\;주장의\\;개수}}{\\text{GT의\\;총\\;주장\\;개수}}\n",
    "    $$ "
   ]
  },
  {
   "cell_type": "markdown",
   "metadata": {},
   "source": [
    "# RAGAS 평가 실습"
   ]
  },
  {
   "cell_type": "code",
   "execution_count": null,
   "metadata": {},
   "outputs": [],
   "source": []
  },
  {
   "cell_type": "code",
   "execution_count": 3,
   "metadata": {},
   "outputs": [],
   "source": [
    "from langchain_openai import ChatOpenAI, OpenAIEmbeddings\n",
    "from dotenv import load_dotenv\n",
    "\n",
    "load_dotenv()\n",
    "\n",
    "model = ChatOpenAI(model=\"gpt-4.1-mini\")\n",
    "embedding_model = OpenAIEmbeddings(\n",
    "    model=\"text-embedding-3-large\"\n",
    ")\n"
   ]
  },
  {
   "cell_type": "code",
   "execution_count": 5,
   "metadata": {},
   "outputs": [
    {
     "name": "stdout",
     "output_type": "stream",
     "text": [
      "61\n"
     ]
    }
   ],
   "source": [
    "# ChromaDB와 연결하고 vector store 생성\n",
    "from langchain_chroma import Chroma\n",
    "\n",
    "COLLECTION_NAME = \"olympic_info\"\n",
    "PERSIST_DIRECTORY = \"vector_store/chroma/olympic_info\"\n",
    "\n",
    "vector_store = Chroma(\n",
    "    embedding_function=embedding_model,\n",
    "    collection_name=COLLECTION_NAME,\n",
    "    persist_directory=PERSIST_DIRECTORY\n",
    ")\n",
    "print(vector_store._collection.count())"
   ]
  },
  {
   "cell_type": "code",
   "execution_count": null,
   "metadata": {},
   "outputs": [],
   "source": [
    "## document 추가 코드\n",
    "# from langchain_core.community.document_loaders import TextLoader\n",
    "# from langchain.text_splitter import RecursiveCharacterTextSplitter\n",
    "\n",
    "# loader = TextLoader(\"data/olympic.txt\", encoding=\"utf-8\")\n",
    "# splitter = RecursiveCharacterTextSplitter(chunk_size=500, chunk_overlap=50)\n",
    "\n",
    "# docs = loader.load_and_split(splitter)\n",
    "# vector_store.add_documents(docs)"
   ]
  },
  {
   "cell_type": "markdown",
   "metadata": {},
   "source": [
    "## RAG Chain 구성\n",
    "- Vector Store 연결\n",
    "- Chain 응답 결과\n",
    "    - 평가를 위해 **Vector Store에서 검색한 context**들과 **LLM 응답**이 출력되도록 chain을 구성한다."
   ]
  },
  {
   "cell_type": "code",
   "execution_count": 6,
   "metadata": {},
   "outputs": [],
   "source": [
    "from langchain.prompts import PromptTemplate\n",
    "from langchain_core.runnables import RunnablePassthrough, RunnableLambda\n",
    "from langchain_core.output_parsers import StrOutputParser\n",
    "from langchain_core.documents import Document\n",
    "\n",
    "retriever = vector_store.as_retriever()\n",
    "\n",
    "template = \"\"\"# Instruction:\n",
    "당신은 정확한 정보 제공을 우선시하는 인공지능 어시스턴트입니다.\n",
    "주어진 Context에 포함된 정보만 사용해서 질문에 답변하세요.\n",
    "Context에 질문에 대한 명확한 정보가 있는 경우 그 내용을 바탕으로 답변하세요.\n",
    "Context에 질문에 대한 명확한 정보없을 경우 \"정보가 부족해서 답을 알 수 없습니다.\" 라고 대답합니다.\n",
    "절대 Context에 없는 내용을 추측하거나 일반 상식을 이용해 답을 만들어서 대답하지 않습니다.\n",
    "\n",
    "# Context:\n",
    "{context}\n",
    "\n",
    "# 질문:\n",
    "{query}\n",
    "\"\"\"\n",
    "prompt_template = PromptTemplate(template=template)"
   ]
  },
  {
   "cell_type": "code",
   "execution_count": null,
   "metadata": {},
   "outputs": [],
   "source": [
    "def format_docs(src_dict:dict)->str:\n",
    "    \"\"\"\n",
    "    vector_store에 조회한 문서들에서 내용(page_content)만 추출해서 str으로 합쳐서 반환.\n",
    "    Args:\n",
    "        src_dict(dict): {\"context\":list[Document], \"query\":\"질문\"}\n",
    "    Returns:\n",
    "        str: 각 문서의 내용을 \"\\n\\n\"으로 연결한 string\n",
    "    \"\"\"\n",
    "    docs = src_dict[\"context\"]\n",
    "    return \"\\n\\n\".join(doc.page_content for doc in docs)\n",
    "\n",
    "def format_docs_list(src_dict:dict)->list[str]:\n",
    "    \"\"\"\n",
    "    vector_store에 조회한 문서들에서 내용(page_content)만 추출해서 str으로 합쳐서 반환.\n",
    "    Args:\n",
    "        src_dict(dict): {\"context\":list[Document], \"query\":\"질문\"}\n",
    "    Returns:\n",
    "        list[str]: 각 문서의 내용을 \"\\n\\n\"으로 연결한 list\n",
    "    \"\"\"\n",
    "    return [doc.page_content for doc in src_dict[\"context\"]]"
   ]
  },
  {
   "cell_type": "code",
   "execution_count": 8,
   "metadata": {},
   "outputs": [],
   "source": [
    "# 평가를 위한 RagChain\n",
    "# chain의 응답 : LLM의 응답 + Retriever가 검색한 context들\n",
    "rag_chain = (\n",
    "    RunnablePassthrough() |                                 # dict | dict 체인 연산 시도시 or 연산으로 빠지는 경우 방지\n",
    "    {\"context\":retriever, \"query\":RunnablePassthrough()} |\n",
    "    {\n",
    "        \"source_context\":format_docs_list,\n",
    "        \"llm_answer\":{\"context\":format_docs,               # list[Document] -> str(문서\\n\\n문서\\n\\n...)\n",
    "                      \"query\":RunnableLambda(lambda x: x[\"query\"])\n",
    "                      } | prompt_template | model | StrOutputParser()\n",
    "    }   # 응답 - 입력 : {\"context\":검색문서, \"query\":\"질문\"} / 출력 : {\"source_context\":검색한 문서(llm[str]), \"llm_answer\":LLM응답(str)}\n",
    "        #       -> 응답처리 출력이 chain의 최종 출력\n",
    ")"
   ]
  },
  {
   "cell_type": "code",
   "execution_count": 9,
   "metadata": {},
   "outputs": [],
   "source": [
    "user_input = \"국제 올림픽 위원회에 대해서 설명해주세요.\"\n",
    "response = rag_chain.invoke(user_input)"
   ]
  },
  {
   "cell_type": "code",
   "execution_count": 10,
   "metadata": {},
   "outputs": [
    {
     "name": "stdout",
     "output_type": "stream",
     "text": [
      "<class 'dict'> dict_keys(['source_context', 'llm_answer'])\n"
     ]
    }
   ],
   "source": [
    "print(type(response), response.keys())"
   ]
  },
  {
   "cell_type": "code",
   "execution_count": 11,
   "metadata": {},
   "outputs": [
    {
     "name": "stdout",
     "output_type": "stream",
     "text": [
      "국제 올림픽 위원회(IOC)는 모든 올림픽 활동을 통솔하는 단체로서, 올림픽 개최 도시 선정, 계획 감독, 종목 변경, 스폰서 및 방송권 계약 체결 등의 권리가 있습니다. IOC는 국제경기연맹(IF), 국가 올림픽 위원회(NOC), 그리고 올림픽 조직 위원회(OCOG)로 구성된 올림픽 구조를 관리하며, 올림픽 헌장에 부합하는 올림픽 활동을 감독합니다. 또한 올림픽의 공식언어는 프랑스어, 영어, 그리고 개최국의 공용어이며, 모든 공식 선언은 이 세 언어 중 하나 또는 모두 사용됩니다. IOC는 의사 결정 기구로서 올림픽 개최 도시 선정과 올림픽 종목 결정을 담당합니다. 과거 일부 IOC 위원들은 정치적 문제나 부패 문제로 비판받기도 했습니다.\n"
     ]
    }
   ],
   "source": [
    "llm_answer = response[\"llm_answer\"]\n",
    "print(llm_answer)"
   ]
  },
  {
   "cell_type": "code",
   "execution_count": 12,
   "metadata": {},
   "outputs": [
    {
     "data": {
      "text/plain": [
       "['국제 올림픽 위원회\\n올림픽 활동이란 많은 수의 국가, 국제 경기 연맹과 협회 • 미디어 파트너를 맺기 • 선수, 직원, 심판, 모든 사람과 기관이 올림픽 헌장을 지키는 것을 말한다. 국제올림픽위원회(IOC)는 모든 올림픽 활동을 통솔하는 단체로서, 올림픽 개최 도시 선정, 계획 감독, 종목 변경, 스폰서 및 방송권 계약 체결 등의 권리가 있다. 올림픽 활동은 크게 세 가지로 구성된다.\\n- 국제경기연맹(IF)은 국제적인 규모의 경기를 관리, 감독하는 기구이다. 예를 들어서 국제 축구 연맹(FIFA)는 축구를 주관하며, 국제 배구 연맹(FIVB)은 배구를 주관하는 기구이다. 올림픽에는 현재 35개의 국제경기연맹이 있고 각 종목을 대표한다. (이 중에는 올림픽 종목은 아니지만 IOC의 승인을 받은 연맹도 있다.)',\n",
       " '- 국가 올림픽 위원회(NOC)는 각국의 올림픽 활동을 감독하는 기구이다. 예를 들어서 대한 올림픽 위원회(KOC)는 대한민국의 국가 올림픽 위원회이다. 현재 IOC에 소속된 국가 올림픽 위원회는 205개이다.\\n- 올림픽 조직 위원회(OCOG)는 임시적인 조직으로 올림픽의 총체적인 것(개막식, 페막식 등)을 책임지기 위해 구성된 조직이다. 올림픽 조직 위원회는 올림픽이 끝나면 해산되며 최종보고서를 IOC에 제출한다.\\n올림픽의 공식언어는 프랑스어와 영어와 개최국의 공용어이다. 모든 선언(예를 들어서 개막식 때 각국 소개를 할 때)들은 세 언어가 모두 나오거나 영어나 프랑스어 중에서 한 언어로만 말하기도 한다. 개최국의 공용어가 영어나 프랑스어가 아닐 때는 당연히 그 나라의 공용어도 함께 나온다.',\n",
       " '올림픽은 국제경기연맹(IF), 국가 올림픽 위원회(NOC), 각 올림픽의 위원회(예-벤쿠버동계올림픽조직위원회)로 구성된다. 의사 결정 기구인 IOC는 올림픽 개최 도시를 선정하며, 각 올림픽 대회마다 열리는 올림픽 종목도 IOC에서 결정한다. 올림픽 경기 개최 도시는 경기 축하 의식이 올림픽 헌장에 부합하도록 조직하고 기금을 마련해야 한다. 올림픽 축하 행사로는 여러 의식과 상징을 들 수 있는데 올림픽기나 성화가 그 예이다.',\n",
       " '국제 올림픽 위원회(이하 IOC로 지칭)는 몇몇 위원들이 한 행위에 대해서 비판을 받고 있다. 그 예로 IOC 위원장이었던 에이버리 브런디지와 후안 안토니오 사마란치가 대표적인 사람이다. 브런디지는 20년 넘게 IOC 위원장직을 맡았고 임기 중에 올림픽을 정치적으로 휘말려들지 않게 하기 위해 보호했다. 그러나 그는 남아프리카 공화국 대표단에게 아파르트헤이트와 관련된 이슈를 건드리고 반유대정책을 함으로써 비난을 받았다. 사마란치 위원장 시기 때는 족벌 정치와 부패로 비난받았다. 사마란치가 스페인에서 프랑코 정권에 협력했다는 것도 비판의 이유가 되었다.']"
      ]
     },
     "execution_count": 12,
     "metadata": {},
     "output_type": "execute_result"
    }
   ],
   "source": [
    "context = response[\"source_context\"]\n",
    "context"
   ]
  },
  {
   "cell_type": "markdown",
   "metadata": {},
   "source": [
    "## 평가"
   ]
  },
  {
   "cell_type": "code",
   "execution_count": 15,
   "metadata": {},
   "outputs": [],
   "source": [
    "# 평가 데이터 셋 : user_input, response or ground_truth(정답)\n",
    "user_input = \"국제 올림픽 위원회에 대해 설명해주세요.\"\n",
    "reference = \"국제올림픽위원회(IOC)는 올림픽 활동을 통솔하는 기구로, 올림픽 개최 도시 선정, 계획 감독, 종목 변경, 스폰서 및 방송권 계약 체결 등의 역할을 수행한다.\"\n",
    "\n",
    "resp = rag_chain.invoke(user_input)\n",
    "retrieved_context = resp[\"source_context\"]              # RAG에서 검색된 문서\n",
    "response = resp[\"llm_answer\"]                          # RAG의 답변"
   ]
  },
  {
   "cell_type": "code",
   "execution_count": 17,
   "metadata": {},
   "outputs": [],
   "source": [
    "from ragas import SingleTurnSample, EvaluationDataset\n",
    "\n",
    "# RAGAS의 평가 데이터셋의 구성\n",
    "# - user_input : 사용자 입력(질문)\n",
    "# - retrieved_context : RAG에서 검색한 context(문서)들\n",
    "# - response : llm의 출력(응답)\n",
    "# - reference : 정답\n",
    "\n",
    "eval_sample1 = SingleTurnSample(                        # 1개의 평가 데이터를 생성할 때 사용\n",
    "    user_input=user_input,\n",
    "    retrieved_contexts=retrieved_context,\n",
    "    response=response,\n",
    "    reference=reference\n",
    ")\n",
    "# 평가용 데이터셋을 생성\n",
    "eval_dataset = EvaluationDataset(samples=[eval_sample1])"
   ]
  },
  {
   "cell_type": "code",
   "execution_count": 18,
   "metadata": {},
   "outputs": [
    {
     "data": {
      "text/plain": [
       "EvaluationDataset(features=['user_input', 'retrieved_contexts', 'response', 'reference'], len=1)"
      ]
     },
     "execution_count": 18,
     "metadata": {},
     "output_type": "execute_result"
    }
   ],
   "source": [
    "eval_dataset"
   ]
  },
  {
   "cell_type": "code",
   "execution_count": 19,
   "metadata": {},
   "outputs": [
    {
     "data": {
      "text/html": [
       "<div>\n",
       "<style scoped>\n",
       "    .dataframe tbody tr th:only-of-type {\n",
       "        vertical-align: middle;\n",
       "    }\n",
       "\n",
       "    .dataframe tbody tr th {\n",
       "        vertical-align: top;\n",
       "    }\n",
       "\n",
       "    .dataframe thead th {\n",
       "        text-align: right;\n",
       "    }\n",
       "</style>\n",
       "<table border=\"1\" class=\"dataframe\">\n",
       "  <thead>\n",
       "    <tr style=\"text-align: right;\">\n",
       "      <th></th>\n",
       "      <th>user_input</th>\n",
       "      <th>retrieved_contexts</th>\n",
       "      <th>response</th>\n",
       "      <th>reference</th>\n",
       "    </tr>\n",
       "  </thead>\n",
       "  <tbody>\n",
       "    <tr>\n",
       "      <th>0</th>\n",
       "      <td>국제 올림픽 위원회에 대해 설명해주세요.</td>\n",
       "      <td>[국제 올림픽 위원회\\n올림픽 활동이란 많은 수의 국가, 국제 경기 연맹과 협회 •...</td>\n",
       "      <td>국제 올림픽 위원회(IOC)는 올림픽 활동을 통솔하는 단체로, 올림픽 개최 도시 선...</td>\n",
       "      <td>국제올림픽위원회(IOC)는 올림픽 활동을 통솔하는 기구로, 올림픽 개최 도시 선정,...</td>\n",
       "    </tr>\n",
       "  </tbody>\n",
       "</table>\n",
       "</div>"
      ],
      "text/plain": [
       "               user_input                                 retrieved_contexts  \\\n",
       "0  국제 올림픽 위원회에 대해 설명해주세요.  [국제 올림픽 위원회\\n올림픽 활동이란 많은 수의 국가, 국제 경기 연맹과 협회 •...   \n",
       "\n",
       "                                            response  \\\n",
       "0  국제 올림픽 위원회(IOC)는 올림픽 활동을 통솔하는 단체로, 올림픽 개최 도시 선...   \n",
       "\n",
       "                                           reference  \n",
       "0  국제올림픽위원회(IOC)는 올림픽 활동을 통솔하는 기구로, 올림픽 개최 도시 선정,...  "
      ]
     },
     "execution_count": 19,
     "metadata": {},
     "output_type": "execute_result"
    }
   ],
   "source": [
    "# eval_dataset을 DataFrame으로 변환\n",
    "eval_dataset.to_pandas()"
   ]
  },
  {
   "cell_type": "code",
   "execution_count": 21,
   "metadata": {},
   "outputs": [
    {
     "data": {
      "text/plain": [
       "True"
      ]
     },
     "execution_count": 21,
     "metadata": {},
     "output_type": "execute_result"
    }
   ],
   "source": [
    "################\n",
    "# 평가\n",
    "from ragas.metrics import (\n",
    "    LLMContextRecall,                       # context recall을 계산\n",
    "    Faithfulness,\n",
    "    LLMContextPrecisionWithReference,       # context precision\n",
    "    AnswerRelevancy\n",
    ")\n",
    "from ragas import evaluate\n",
    "from ragas.llms import LangchainLLMWrapper\n",
    "from ragas.embeddings import LangchainEmbeddingsWrapper\n",
    "# Langchain으로 생성된  LLM 모델, 임베딩 모델 객체를 RAGAS에서 사용할 수 있도록 wrapping하는 클래스\n",
    "# 모든 평가지표들이 LLM 모델을 사용\n",
    "\n",
    "from langchain_openai import ChatOpenAI, OpenAIEmbeddings\n",
    "from dotenv import load_dotenv\n",
    "load_dotenv()"
   ]
  },
  {
   "cell_type": "code",
   "execution_count": 22,
   "metadata": {},
   "outputs": [
    {
     "data": {
      "application/vnd.jupyter.widget-view+json": {
       "model_id": "22922433c2db4fbd8a887b76bf392d06",
       "version_major": 2,
       "version_minor": 0
      },
      "text/plain": [
       "Evaluating:   0%|          | 0/4 [00:00<?, ?it/s]"
      ]
     },
     "metadata": {},
     "output_type": "display_data"
    }
   ],
   "source": [
    "# 평가 함수(객체)에 넣어줄 LLM 모델, Embedding 모델 생성\n",
    "llm_model = ChatOpenAI(model=\"gpt-4.1-mini\")\n",
    "e_model = OpenAIEmbeddings(model=\"text-embedding-3-large\")\n",
    "\n",
    "eval_model = LangchainLLMWrapper(llm_model)\n",
    "eval_embedding_model = LangchainEmbeddingsWrapper(e_model)\n",
    "\n",
    "# 평가 객체 생성 -> 리스트에 묶기\n",
    "metrics = [\n",
    "    LLMContextRecall(llm=eval_model),\n",
    "    LLMContextPrecisionWithReference(llm=eval_model),\n",
    "    Faithfulness(llm=eval_model),\n",
    "    AnswerRelevancy(llm=eval_model)\n",
    "]\n",
    "# 평가지표 객체를 이용해 평가\n",
    "eval_result = evaluate(dataset=eval_dataset, metrics=metrics)"
   ]
  },
  {
   "cell_type": "code",
   "execution_count": 23,
   "metadata": {},
   "outputs": [
    {
     "data": {
      "text/plain": [
       "{'context_recall': 1.0000, 'llm_context_precision_with_reference': 0.8333, 'faithfulness': 0.7222, 'answer_relevancy': 0.8477}"
      ]
     },
     "execution_count": 23,
     "metadata": {},
     "output_type": "execute_result"
    }
   ],
   "source": [
    "# context recall : 검색 context와 정답간의 연관성\n",
    "# context precision : 검색 context와 사용자 질문간의 연관성\n",
    "# faithfulness : LLM 답변과 검색 context간의 연관성\n",
    "# answer relevancy : LLM 답변과 사용자 질문간의 연관성\n",
    "eval_result"
   ]
  },
  {
   "cell_type": "code",
   "execution_count": 25,
   "metadata": {},
   "outputs": [
    {
     "data": {
      "text/html": [
       "<div>\n",
       "<style scoped>\n",
       "    .dataframe tbody tr th:only-of-type {\n",
       "        vertical-align: middle;\n",
       "    }\n",
       "\n",
       "    .dataframe tbody tr th {\n",
       "        vertical-align: top;\n",
       "    }\n",
       "\n",
       "    .dataframe thead th {\n",
       "        text-align: right;\n",
       "    }\n",
       "</style>\n",
       "<table border=\"1\" class=\"dataframe\">\n",
       "  <thead>\n",
       "    <tr style=\"text-align: right;\">\n",
       "      <th></th>\n",
       "      <th>user_input</th>\n",
       "      <th>retrieved_contexts</th>\n",
       "      <th>response</th>\n",
       "      <th>reference</th>\n",
       "      <th>context_recall</th>\n",
       "      <th>llm_context_precision_with_reference</th>\n",
       "      <th>faithfulness</th>\n",
       "      <th>answer_relevancy</th>\n",
       "    </tr>\n",
       "  </thead>\n",
       "  <tbody>\n",
       "    <tr>\n",
       "      <th>0</th>\n",
       "      <td>국제 올림픽 위원회에 대해 설명해주세요.</td>\n",
       "      <td>[국제 올림픽 위원회\\n올림픽 활동이란 많은 수의 국가, 국제 경기 연맹과 협회 •...</td>\n",
       "      <td>국제 올림픽 위원회(IOC)는 올림픽 활동을 통솔하는 단체로, 올림픽 개최 도시 선...</td>\n",
       "      <td>국제올림픽위원회(IOC)는 올림픽 활동을 통솔하는 기구로, 올림픽 개최 도시 선정,...</td>\n",
       "      <td>1.0</td>\n",
       "      <td>0.833333</td>\n",
       "      <td>0.722222</td>\n",
       "      <td>0.847703</td>\n",
       "    </tr>\n",
       "  </tbody>\n",
       "</table>\n",
       "</div>"
      ],
      "text/plain": [
       "               user_input                                 retrieved_contexts  \\\n",
       "0  국제 올림픽 위원회에 대해 설명해주세요.  [국제 올림픽 위원회\\n올림픽 활동이란 많은 수의 국가, 국제 경기 연맹과 협회 •...   \n",
       "\n",
       "                                            response  \\\n",
       "0  국제 올림픽 위원회(IOC)는 올림픽 활동을 통솔하는 단체로, 올림픽 개최 도시 선...   \n",
       "\n",
       "                                           reference  context_recall  \\\n",
       "0  국제올림픽위원회(IOC)는 올림픽 활동을 통솔하는 기구로, 올림픽 개최 도시 선정,...             1.0   \n",
       "\n",
       "   llm_context_precision_with_reference  faithfulness  answer_relevancy  \n",
       "0                              0.833333      0.722222          0.847703  "
      ]
     },
     "execution_count": 25,
     "metadata": {},
     "output_type": "execute_result"
    }
   ],
   "source": [
    "eval_result.to_pandas()"
   ]
  },
  {
   "cell_type": "code",
   "execution_count": null,
   "metadata": {},
   "outputs": [],
   "source": []
  },
  {
   "cell_type": "code",
   "execution_count": null,
   "metadata": {},
   "outputs": [],
   "source": []
  },
  {
   "cell_type": "code",
   "execution_count": null,
   "metadata": {},
   "outputs": [],
   "source": []
  },
  {
   "cell_type": "markdown",
   "metadata": {},
   "source": [
    "# 평가 데이터 셋 만들기\n",
    "\n",
    "1. 문서를 Loading하고 split하여 Context 들을 만든다.\n",
    "2. Context들 중 평가에 사용할 것을 Random하게 선택한다.\n",
    "3. 선택된 context를 기반으로 LLM 모델을 이용해서 질문과 답변을 생성한다. \n",
    "4. 생성된 질문과 답변을 검토하여 품질을 높인다. \n",
    "   - 질문과 답변 자체가 맞는지 검사한다.\n",
    "   - 나올만한 질문인 지 확인한다.\n",
    "\n",
    "- **생성된 질문-답변의 질이 낮으면 좋은 평가를 할 수 없다.**\n",
    "    - 질문-답변 생성시 사용하는 LLM 모델은 성능이 좋은 것을 사용해야 한다. \n",
    "    - 생성된 질문-답변을 사람이 검토해서 품질을 더 높여야 한다.\n",
    "\n",
    "## 데이터셋에 포함될 내용\n",
    "- Dataset을 생성할 때는 다음 항목이 들어가야 한다.\n",
    "    -  **user_input**: 질문. `string`\n",
    "    -  **reference**: 정답. `string`\n",
    "    -  qa_context : context. `str` - QA를 만들 때 어떤 context를 사용했는지 값. 생성된 데이터셋을 확인하기 위한 것으로 **평가시에는 사용하지 않는다.**\n",
    "-  평가할 때 추가할 것\n",
    "    - **response**: RAG 시스템에서 질문에 대해 LLM 모델이 생성한 답변. `string`\n",
    "    - **retrieved_contexts**: RAG 시스템에서 질문에 대해 Vector DB에서 검색한 context들. `list(string)`"
   ]
  },
  {
   "cell_type": "code",
   "execution_count": 26,
   "metadata": {},
   "outputs": [
    {
     "data": {
      "text/plain": [
       "True"
      ]
     },
     "execution_count": 26,
     "metadata": {},
     "output_type": "execute_result"
    }
   ],
   "source": [
    "from langchain_community.document_loaders import TextLoader\n",
    "from langchain_text_splitters import RecursiveCharacterTextSplitter\n",
    "from langchain_chroma import Chroma\n",
    "\n",
    "from langchain_openai import ChatOpenAI, OpenAIEmbeddings\n",
    "from langchain.prompts import PromptTemplate\n",
    "from langchain_core.output_parsers import JsonOutputParser,StrOutputParser\n",
    "\n",
    "# from langchain import hub\n",
    "from langchain_core.runnables import RunnablePassthrough, RunnableLambda\n",
    "from langchain_core.documents import Document\n",
    "\n",
    "from ragas import EvaluationDataset, RunConfig, evaluate\n",
    "from ragas.metrics import (\n",
    "    LLMContextRecall, Faithfulness, LLMContextPrecisionWithReference, AnswerRelevancy\n",
    ")\n",
    "from ragas.llms import LangchainLLMWrapper\n",
    "from ragas.embeddings import LangchainEmbeddingsWrapper\n",
    "\n",
    "from pydantic import BaseModel, Field\n",
    "\n",
    "import random\n",
    "import pandas as pd\n",
    "\n",
    "from dotenv import load_dotenv\n",
    "\n",
    "load_dotenv()"
   ]
  },
  {
   "cell_type": "code",
   "execution_count": 27,
   "metadata": {},
   "outputs": [
    {
     "data": {
      "text/plain": [
       "61"
      ]
     },
     "execution_count": 27,
     "metadata": {},
     "output_type": "execute_result"
    }
   ],
   "source": [
    "# context를 바탕으로 질문과 답변 생성\n",
    "# 생성된 질문을 rag_chain에 넣어서 context와 llm 응답을 생성\n",
    "# context 생성\n",
    "DOC_PATH = \"data/olympic.txt\"\n",
    "loader = TextLoader(DOC_PATH, encoding=\"utf-8\")\n",
    "# Vector DB에 저장한 context와 동일하게 chunking(split)\n",
    "splitter = RecursiveCharacterTextSplitter(chunk_size = 500, chunk_overlap = 50)\n",
    "docs = loader.load_and_split(splitter)\n",
    "len(docs)"
   ]
  },
  {
   "cell_type": "code",
   "execution_count": 36,
   "metadata": {},
   "outputs": [
    {
     "data": {
      "text/plain": [
       "[\"2004년 10월과 11월에 IOC는 '올림픽 프로그램 위원회'(Olympic Programme Commission)를 설립했다. 여기서는 올림픽 종목과 올림픽 종목이 아닌 스포츠를 모두 재검토하는 일을 한다. 이 위원회의 목표는 올림픽 종목에 더 체계적으로 다가가는 것이다. 위원회에서는 우선적으로 올림픽 종목으로 포함되기 위해서는 7개의 기준을 충족시켜야 한다고 말한다. 이 7개의 기준은 역사, 전통, 보편성, 인기도와 잠재성, 선수의 건강, 연맹의 스포츠를 관리할만한 능력, 스포츠를 여는 데에 필요한 비용이다. 예를 들면 2012년 하계 올림픽의 정식종목 후보에 7개 조건을 포함한 비(非)올림픽 스포츠가 올랐고 그 내용은, 골프, 가라테, 럭비, 인라인 스케이팅, 스쿼시였다. 이 스포츠들은 IOC 상임이사회에서 재검토되어 2005년 7월에 열린 싱가포르 총회에서 최종 결정하기로 했다. 결국 5개 중 2개(가라테와 스쿼시) 가 최종 후보로 올라왔으나 가라테와 스쿼시 둘 다\",\n",
       " '올림픽에서 첫 번째 보이콧은 1956년 하계 올림픽에서 시작되었다. 네덜란드, 스페인, 스위스는 소련의 헝가리 침공에 항의해 참가를 거부했다. 캄보디아, 이집트, 이라크, 레바논은 제2차 중동 전쟁 때문에 보이콧했다. 1972년과 1976년 올림픽에는 많은 아프리카의 국가들이 남아프리카 공화국과 로디지아에서 일어나는 인종 차별정권에 대한 항의의 표시로 올림픽 참가를 거부했다. 이 보이콧에는 뉴질랜드도 관계가 되어있는데, 뉴질랜드 럭비 국가 대표팀이 당시 아파르트헤이트정책을 쓰던 남아프리카 공화국과 경기를 했음에도 불구하고 뉴질랜드의 올림픽 참가가 허용되었기 때문이었다. 국제 올림픽 위원회는 이 두 보이콧에 대해 심각하게 고민했으나 후자의 뉴질랜드의 경우는 럭비가 올림픽 종목이 아니라는 이유를 내세워 뉴질랜드의 올림픽 참가 금지 요청을 거부했다. 당시 아프리카에 속해 있던 20개국과 가이아나, 이라크는 경기를 끝낸 선수들이 있었지만 탄자니아가 이끄는 올림픽 보이콧에 가세했다.',\n",
       " '올림픽은 거의 모든 국가가 참여할 정도로 규모가 커졌다. 하계 올림픽은 33개의 종목과 약 400개의 세부종목에서 13,000명이 넘는 선수들이 겨루고 그중 각 종목별 1, 2, 3위는 각각 금/은/동을 수여받는다. 전 세계 언론에서 각각 4년마다 열리는 올림픽 경기를 중계하기 때문에 이름 없는 선수가 개인적, 국가적, 세계적으로 명성을 얻을 수 있는 기회가 된다. 이와 더불어 올림픽 경기는 개최지와 개최국에게도 전 세계에 그 이름을 널리 알리는 좋은 기회가 된다.',\n",
       " '2002년에 열린 제114차 IOC 총회에서는 하계 올림픽 종목은 최대 28부문 301개 경기에 10,500명이 참가하는 것으로 제한하기로 결정했다.그 후 3년 뒤인 제117차 IOC 총회에서는 정식종목이었던 야구와 소프트볼을 정식 종목에서 제외시킨다. 이 결과에 대한 이견이 없었으므로 2012년 올림픽 때는 26개부문에서 경기가 열린다. 2016년과 2020년 올림픽 때는 럭비와 골프가 추가되어 다시 28개부문에서 경기가 열린다.\\n프로 NHL선수들은 1998년부터 아이스 하키종목에 출전할 수 있게 되었다. (나가노 올림픽 결승전 러시아 vs 체코).',\n",
       " '선수 개인이 자신의 정치적 성향에 대해 표현하기도 했다. 멕시코 시티에서 열린 1968년 하계 올림픽의 육상부문 200m 경기에서 각각 1위와 3위를 한 미국의 토미 스미스와 존 카를로스는 시상식 때 블랙 파워 설루트(Black Power salute , 흑인 차별 반대 행위)를 선보였으며 2위를 한 피터 노먼도 상황을 깨닫고 스미스와 카를로스의 행위를 지지한다는 뜻에서 급하게 인권을 위한 올림픽 프로젝트(OPHR) 배지를 달았다. 이 사건에 대해서 IOC 위원장이었던 에이버리 브런디지는 미국 올림픽 위원회에 이 두 선수를 미국으로 돌려보내거나 미국 육상팀 전부를 돌려보내는 둘 중 하나의 선택을 하게 했고, 미국 올림픽 위원회는 두 선수를 미국으로 돌려 보낸다.']"
      ]
     },
     "execution_count": 36,
     "metadata": {},
     "output_type": "execute_result"
    }
   ],
   "source": [
    "# docs 중에서 평가데이터를 생성할 때 사용할 문서 k개를 추출\n",
    "# 실제 평가 데이터셋을 생성할 때는 모든 문서를 다 사용\n",
    "total_samples = 5                                           # 5개의 context만 사용\n",
    "index_list = list(range(len(docs)))\n",
    "random.shuffle(index_list)\n",
    "\n",
    "eval_context = []                                           # 추출한 context들을 담을 리스트\n",
    "while len(eval_context) < total_samples:\n",
    "    index = index_list.pop()\n",
    "    context = docs[index].page_content\n",
    "    if len(context) > 200:                                  # 200자 이상인 것만 사용\n",
    "        eval_context.append(context)\n",
    "\n",
    "eval_context"
   ]
  },
  {
   "cell_type": "code",
   "execution_count": 39,
   "metadata": {},
   "outputs": [],
   "source": [
    "# Context -> 질문과 답변을 생성하는 Chain\n",
    "# JsonOutputParser 사용\n",
    "## 스키마 생성\n",
    "# LLM으로부터 응답받을 값들을 설계\n",
    "class EvalSchema(BaseModel):\n",
    "    # 스키마 변수에 대한 설정. \"...\" 시작 : 필수\n",
    "    user_input:str = Field(..., description=\"질문\")\n",
    "    reference:str = Field(..., description=\"user_input(사용자 질문)에 대한 정답\")\n",
    "    qa_context:str = Field(..., description=\"질문-답변 쌍을 만들때 참조한 context. 입력된 context를 수정하지 않고 그대로 넣음\")\n",
    "\n",
    "parser = JsonOutputParser(pydantic_object=EvalSchema)\n",
    "\n",
    "template = \"\"\"# Instruction:\n",
    "당신은 RAG 평가를 위해 질문과 정답 쌍을 생성하는 인공지능 비서입니다.\n",
    "다음 [Context] 에 문서가 주어지면 해당 문서를 기반으로 {num_questions}개 질문-정답 쌍을 생성하세요. \n",
    "\n",
    "질문과 정답을 생성한 후 Output Indicator의 format으로 출력합니다.,\n",
    "질문은 반드시 Context 문서에 있는 정보를 바탕으로 생성해야 합니다. Context에 없는 내용을 가지고 질문-정답을 절대 만들면 안됩니다.,\n",
    "올림픽에 관심있는 일반 사용자 관점의 자연스러운 질문을 작성합니다.,\n",
    "질문은 간결하게 작성합니다.,\n",
    "하나의 질문에는 한 가지씩만 내용만 작성합니다.,\n",
    "질문을 만들 때 \"제공된 문맥에서\", \"문서에 설명된 대로\", \"주어진 문서에 따라\" 또는 이와 유사한 말을 하지 마세요.,\n",
    "정답은 반드시 Context에 있는 정보를 바탕으로 작성합니다. 없는 내용을 추가하지 않습니다.,\n",
    "질문과 정답을 만들고 그 내용이 Context에 있는 항목인지 다시 한번 확인합니다.,\n",
    "생성된 질문-답변 쌍은 반드시 dictionary 형태로 정의하고 list로 묶어서 반환해야 합니다.,\n",
    "질문-답변 쌍은 반드시 {num_questions}개를 만들어야 합니다.,\n",
    "\n",
    "#Context:\n",
    "{context}\n",
    "\n",
    "# Output Indicator:,\n",
    "{format_instructions}\n",
    "\"\"\"\n",
    "prompt_template = PromptTemplate(\n",
    "    template=template,\n",
    "    partial_variables={\"format_instructions\":parser.get_format_instructions()}\n",
    ")\n",
    "eval_model = ChatOpenAI(model=\"gpt-4.1\")\n",
    "eval_dataset_chain = prompt_template | eval_model | parser"
   ]
  },
  {
   "cell_type": "code",
   "execution_count": null,
   "metadata": {},
   "outputs": [
    {
     "data": {
      "text/plain": [
       "[{'user_input': '올림픽 종목으로 포함되기 위해 충족해야 하는 기준은 무엇인가요?',\n",
       "  'reference': '역사, 전통, 보편성, 인기도와 잠재성, 선수의 건강, 연맹의 스포츠를 관리할만한 능력, 스포츠를 여는 데에 필요한 비용의 7가지 기준입니다.',\n",
       "  'qa_context': \"2004년 10월과 11월에 IOC는 '올림픽 프로그램 위원회'(Olympic Programme Commission)를 설립했다. 여기서는 올림픽 종목과 올림픽 종목이 아닌 스포츠를 모두 재검토하는 일을 한다. 이 위원회의 목표는 올림픽 종목에 더 체계적으로 다가가는 것이다. 위원회에서는 우선적으로 올림픽 종목으로 포함되기 위해서는 7개의 기준을 충족시켜야 한다고 말한다. 이 7개의 기준은 역사, 전통, 보편성, 인기도와 잠재성, 선수의 건강, 연맹의 스포츠를 관리할만한 능력, 스포츠를 여는 데에 필요한 비용이다. 예를 들면 2012년 하계 올림픽의 정식종목 후보에 7개 조건을 포함한 비(非)올림픽 스포츠가 올랐고 그 내용은, 골프, 가라테, 럭비, 인라인 스케이팅, 스쿼시였다. 이 스포츠들은 IOC 상임이사회에서 재검토되어 2005년 7월에 열린 싱가포르 총회에서 최종 결정하기로 했다. 결국 5개 중 2개(가라테와 스쿼시) 가 최종 후보로 올라왔으나 가라테와 스쿼시 둘 다\"},\n",
       " {'user_input': '2012년 하계 올림픽의 정식종목 후보로 올랐던 비올림픽 스포츠는 어떤 것들이 있었나요?',\n",
       "  'reference': '골프, 가라테, 럭비, 인라인 스케이팅, 스쿼시가 있었습니다.',\n",
       "  'qa_context': \"2004년 10월과 11월에 IOC는 '올림픽 프로그램 위원회'(Olympic Programme Commission)를 설립했다. 여기서는 올림픽 종목과 올림픽 종목이 아닌 스포츠를 모두 재검토하는 일을 한다. 이 위원회의 목표는 올림픽 종목에 더 체계적으로 다가가는 것이다. 위원회에서는 우선적으로 올림픽 종목으로 포함되기 위해서는 7개의 기준을 충족시켜야 한다고 말한다. 이 7개의 기준은 역사, 전통, 보편성, 인기도와 잠재성, 선수의 건강, 연맹의 스포츠를 관리할만한 능력, 스포츠를 여는 데에 필요한 비용이다. 예를 들면 2012년 하계 올림픽의 정식종목 후보에 7개 조건을 포함한 비(非)올림픽 스포츠가 올랐고 그 내용은, 골프, 가라테, 럭비, 인라인 스케이팅, 스쿼시였다. 이 스포츠들은 IOC 상임이사회에서 재검토되어 2005년 7월에 열린 싱가포르 총회에서 최종 결정하기로 했다. 결국 5개 중 2개(가라테와 스쿼시) 가 최종 후보로 올라왔으나 가라테와 스쿼시 둘 다\"},\n",
       " {'user_input': 'IOC 올림픽 프로그램 위원회는 언제 설립되었나요?',\n",
       "  'reference': '2004년 10월과 11월에 설립되었습니다.',\n",
       "  'qa_context': \"2004년 10월과 11월에 IOC는 '올림픽 프로그램 위원회'(Olympic Programme Commission)를 설립했다. 여기서는 올림픽 종목과 올림픽 종목이 아닌 스포츠를 모두 재검토하는 일을 한다. 이 위원회의 목표는 올림픽 종목에 더 체계적으로 다가가는 것이다. 위원회에서는 우선적으로 올림픽 종목으로 포함되기 위해서는 7개의 기준을 충족시켜야 한다고 말한다. 이 7개의 기준은 역사, 전통, 보편성, 인기도와 잠재성, 선수의 건강, 연맹의 스포츠를 관리할만한 능력, 스포츠를 여는 데에 필요한 비용이다. 예를 들면 2012년 하계 올림픽의 정식종목 후보에 7개 조건을 포함한 비(非)올림픽 스포츠가 올랐고 그 내용은, 골프, 가라테, 럭비, 인라인 스케이팅, 스쿼시였다. 이 스포츠들은 IOC 상임이사회에서 재검토되어 2005년 7월에 열린 싱가포르 총회에서 최종 결정하기로 했다. 결국 5개 중 2개(가라테와 스쿼시) 가 최종 후보로 올라왔으나 가라테와 스쿼시 둘 다\"}]"
      ]
     },
     "execution_count": 40,
     "metadata": {},
     "output_type": "execute_result"
    }
   ],
   "source": [
    "eval_dataset_chain.invoke({\"context\":eval_context[0], \"num_questions\":3})\n",
    "# user_input이 진짜 사람이 할 질문일지 LLM 검수 필요(그거에 따른 답도 검수!)"
   ]
  },
  {
   "cell_type": "code",
   "execution_count": null,
   "metadata": {},
   "outputs": [],
   "source": [
    "# eval_dataset_list = []\n",
    "# num_questions = 5\n",
    "# for context in eval_context:\n",
    "#     eval_data = eval_dataset_chain.invoke({\"context\":context, \"num_questions\":num_questions})\n",
    "#     eval_dataset_list.append(eval_data)\n",
    "\n",
    "# context당 5개씩 질문을 생성\n",
    "# instructor's code -> extend\n",
    "eval_dataset_list = []\n",
    "num_questions = 5\n",
    "\n",
    "for context in eval_context:\n",
    "    # eval_data: list[dict]\n",
    "    eval_data = eval_dataset_chain.invoke({'context':context, 'num_questions':num_questions})\n",
    "    eval_dataset_list.extend(eval_data)"
   ]
  },
  {
   "cell_type": "code",
   "execution_count": 58,
   "metadata": {},
   "outputs": [
    {
     "data": {
      "text/plain": [
       "{'user_input': '2012년 하계 올림픽 정식종목 후보 중 최종 후보로 선택된 두 종목은 무엇인가요?',\n",
       " 'reference': '가라테와 스쿼시입니다.',\n",
       " 'qa_context': \"2004년 10월과 11월에 IOC는 '올림픽 프로그램 위원회'(Olympic Programme Commission)를 설립했다. 여기서는 올림픽 종목과 올림픽 종목이 아닌 스포츠를 모두 재검토하는 일을 한다. 이 위원회의 목표는 올림픽 종목에 더 체계적으로 다가가는 것이다. 위원회에서는 우선적으로 올림픽 종목으로 포함되기 위해서는 7개의 기준을 충족시켜야 한다고 말한다. 이 7개의 기준은 역사, 전통, 보편성, 인기도와 잠재성, 선수의 건강, 연맹의 스포츠를 관리할만한 능력, 스포츠를 여는 데에 필요한 비용이다. 예를 들면 2012년 하계 올림픽의 정식종목 후보에 7개 조건을 포함한 비(非)올림픽 스포츠가 올랐고 그 내용은, 골프, 가라테, 럭비, 인라인 스케이팅, 스쿼시였다. 이 스포츠들은 IOC 상임이사회에서 재검토되어 2005년 7월에 열린 싱가포르 총회에서 최종 결정하기로 했다. 결국 5개 중 2개(가라테와 스쿼시) 가 최종 후보로 올라왔으나 가라테와 스쿼시 둘 다\"}"
      ]
     },
     "execution_count": 58,
     "metadata": {},
     "output_type": "execute_result"
    }
   ],
   "source": [
    "eval_dataset_list[3]"
   ]
  },
  {
   "cell_type": "code",
   "execution_count": 59,
   "metadata": {},
   "outputs": [
    {
     "name": "stdout",
     "output_type": "stream",
     "text": [
      "(25, 3)\n"
     ]
    },
    {
     "data": {
      "text/html": [
       "<div>\n",
       "<style scoped>\n",
       "    .dataframe tbody tr th:only-of-type {\n",
       "        vertical-align: middle;\n",
       "    }\n",
       "\n",
       "    .dataframe tbody tr th {\n",
       "        vertical-align: top;\n",
       "    }\n",
       "\n",
       "    .dataframe thead th {\n",
       "        text-align: right;\n",
       "    }\n",
       "</style>\n",
       "<table border=\"1\" class=\"dataframe\">\n",
       "  <thead>\n",
       "    <tr style=\"text-align: right;\">\n",
       "      <th></th>\n",
       "      <th>user_input</th>\n",
       "      <th>reference</th>\n",
       "      <th>qa_context</th>\n",
       "    </tr>\n",
       "  </thead>\n",
       "  <tbody>\n",
       "    <tr>\n",
       "      <th>0</th>\n",
       "      <td>올림픽 프로그램 위원회는 언제 설립되었나요?</td>\n",
       "      <td>2004년 10월과 11월에 설립되었습니다.</td>\n",
       "      <td>2004년 10월과 11월에 IOC는 '올림픽 프로그램 위원회'(Olympic Pr...</td>\n",
       "    </tr>\n",
       "    <tr>\n",
       "      <th>1</th>\n",
       "      <td>올림픽 종목 선정 시 고려되는 7가지 기준은 무엇인가요?</td>\n",
       "      <td>역사, 전통, 보편성, 인기도와 잠재성, 선수의 건강, 연맹의 스포츠를 관리할만한 ...</td>\n",
       "      <td>2004년 10월과 11월에 IOC는 '올림픽 프로그램 위원회'(Olympic Pr...</td>\n",
       "    </tr>\n",
       "    <tr>\n",
       "      <th>2</th>\n",
       "      <td>2012년 하계 올림픽 정식종목 후보에 올랐던 스포츠들은 무엇인가요?</td>\n",
       "      <td>골프, 가라테, 럭비, 인라인 스케이팅, 스쿼시입니다.</td>\n",
       "      <td>2004년 10월과 11월에 IOC는 '올림픽 프로그램 위원회'(Olympic Pr...</td>\n",
       "    </tr>\n",
       "    <tr>\n",
       "      <th>3</th>\n",
       "      <td>2012년 하계 올림픽 정식종목 후보 중 최종 후보로 선택된 두 종목은 무엇인가요?</td>\n",
       "      <td>가라테와 스쿼시입니다.</td>\n",
       "      <td>2004년 10월과 11월에 IOC는 '올림픽 프로그램 위원회'(Olympic Pr...</td>\n",
       "    </tr>\n",
       "    <tr>\n",
       "      <th>4</th>\n",
       "      <td>2012년 하계 올림픽 정식종목 후보 결정이 최종적으로 이루어진 회의는 언제 열렸나요?</td>\n",
       "      <td>2005년 7월에 열린 싱가포르 총회에서 최종적으로 결정하기로 했습니다.</td>\n",
       "      <td>2004년 10월과 11월에 IOC는 '올림픽 프로그램 위원회'(Olympic Pr...</td>\n",
       "    </tr>\n",
       "  </tbody>\n",
       "</table>\n",
       "</div>"
      ],
      "text/plain": [
       "                                         user_input  \\\n",
       "0                          올림픽 프로그램 위원회는 언제 설립되었나요?   \n",
       "1                   올림픽 종목 선정 시 고려되는 7가지 기준은 무엇인가요?   \n",
       "2            2012년 하계 올림픽 정식종목 후보에 올랐던 스포츠들은 무엇인가요?   \n",
       "3    2012년 하계 올림픽 정식종목 후보 중 최종 후보로 선택된 두 종목은 무엇인가요?   \n",
       "4  2012년 하계 올림픽 정식종목 후보 결정이 최종적으로 이루어진 회의는 언제 열렸나요?   \n",
       "\n",
       "                                           reference  \\\n",
       "0                           2004년 10월과 11월에 설립되었습니다.   \n",
       "1  역사, 전통, 보편성, 인기도와 잠재성, 선수의 건강, 연맹의 스포츠를 관리할만한 ...   \n",
       "2                     골프, 가라테, 럭비, 인라인 스케이팅, 스쿼시입니다.   \n",
       "3                                       가라테와 스쿼시입니다.   \n",
       "4           2005년 7월에 열린 싱가포르 총회에서 최종적으로 결정하기로 했습니다.   \n",
       "\n",
       "                                          qa_context  \n",
       "0  2004년 10월과 11월에 IOC는 '올림픽 프로그램 위원회'(Olympic Pr...  \n",
       "1  2004년 10월과 11월에 IOC는 '올림픽 프로그램 위원회'(Olympic Pr...  \n",
       "2  2004년 10월과 11월에 IOC는 '올림픽 프로그램 위원회'(Olympic Pr...  \n",
       "3  2004년 10월과 11월에 IOC는 '올림픽 프로그램 위원회'(Olympic Pr...  \n",
       "4  2004년 10월과 11월에 IOC는 '올림픽 프로그램 위원회'(Olympic Pr...  "
      ]
     },
     "execution_count": 59,
     "metadata": {},
     "output_type": "execute_result"
    }
   ],
   "source": [
    "# DataFrame으로 생성\n",
    "import pandas as pd\n",
    "eval_df = pd.DataFrame(eval_dataset_list)\n",
    "print(eval_df.shape)\n",
    "eval_df.head()"
   ]
  },
  {
   "cell_type": "code",
   "execution_count": 60,
   "metadata": {},
   "outputs": [
    {
     "name": "stdout",
     "output_type": "stream",
     "text": [
      "<class 'pandas.core.frame.DataFrame'>\n",
      "RangeIndex: 25 entries, 0 to 24\n",
      "Data columns (total 3 columns):\n",
      " #   Column      Non-Null Count  Dtype \n",
      "---  ------      --------------  ----- \n",
      " 0   user_input  25 non-null     object\n",
      " 1   reference   25 non-null     object\n",
      " 2   qa_context  25 non-null     object\n",
      "dtypes: object(3)\n",
      "memory usage: 732.0+ bytes\n"
     ]
    }
   ],
   "source": [
    "eval_df.info()"
   ]
  },
  {
   "cell_type": "code",
   "execution_count": 61,
   "metadata": {},
   "outputs": [],
   "source": [
    "# 평가할 RAG chain(rag_chain)을 이용해서 context 문서들과 llm 응답을 받아서 평가 데이터셋 완성\n",
    "# user_input -> (rag_chain) -> {llm_answer, source_context}\n",
    "context_list = []                                                               # source_context들을 저장할 리스트\n",
    "response_list = []                                                              # llm_answer들을 저장할 리스트\n",
    "\n",
    "for user_input in eval_df[\"user_input\"]:\n",
    "    resp = rag_chain.invoke(user_input)\n",
    "    context_list.append(resp[\"source_context\"])\n",
    "    response_list.append(resp[\"llm_answer\"])"
   ]
  },
  {
   "cell_type": "code",
   "execution_count": 62,
   "metadata": {},
   "outputs": [
    {
     "data": {
      "text/plain": [
       "(25, 25)"
      ]
     },
     "execution_count": 62,
     "metadata": {},
     "output_type": "execute_result"
    }
   ],
   "source": [
    "len(context_list), len(response_list)"
   ]
  },
  {
   "cell_type": "code",
   "execution_count": 63,
   "metadata": {},
   "outputs": [],
   "source": [
    "eval_df[\"response\"] = response_list\n",
    "eval_df[\"retrieved_contexts\"] = context_list"
   ]
  },
  {
   "cell_type": "code",
   "execution_count": 64,
   "metadata": {},
   "outputs": [
    {
     "data": {
      "text/html": [
       "<div>\n",
       "<style scoped>\n",
       "    .dataframe tbody tr th:only-of-type {\n",
       "        vertical-align: middle;\n",
       "    }\n",
       "\n",
       "    .dataframe tbody tr th {\n",
       "        vertical-align: top;\n",
       "    }\n",
       "\n",
       "    .dataframe thead th {\n",
       "        text-align: right;\n",
       "    }\n",
       "</style>\n",
       "<table border=\"1\" class=\"dataframe\">\n",
       "  <thead>\n",
       "    <tr style=\"text-align: right;\">\n",
       "      <th></th>\n",
       "      <th>user_input</th>\n",
       "      <th>reference</th>\n",
       "      <th>qa_context</th>\n",
       "      <th>response</th>\n",
       "      <th>retrieved_contexts</th>\n",
       "    </tr>\n",
       "  </thead>\n",
       "  <tbody>\n",
       "    <tr>\n",
       "      <th>0</th>\n",
       "      <td>올림픽 프로그램 위원회는 언제 설립되었나요?</td>\n",
       "      <td>2004년 10월과 11월에 설립되었습니다.</td>\n",
       "      <td>2004년 10월과 11월에 IOC는 '올림픽 프로그램 위원회'(Olympic Pr...</td>\n",
       "      <td>올림픽 프로그램 위원회는 2004년 10월과 11월에 설립되었습니다.</td>\n",
       "      <td>[2004년 10월과 11월에 IOC는 '올림픽 프로그램 위원회'(Olympic P...</td>\n",
       "    </tr>\n",
       "    <tr>\n",
       "      <th>1</th>\n",
       "      <td>올림픽 종목 선정 시 고려되는 7가지 기준은 무엇인가요?</td>\n",
       "      <td>역사, 전통, 보편성, 인기도와 잠재성, 선수의 건강, 연맹의 스포츠를 관리할만한 ...</td>\n",
       "      <td>2004년 10월과 11월에 IOC는 '올림픽 프로그램 위원회'(Olympic Pr...</td>\n",
       "      <td>올림픽 종목 선정 시 고려되는 7가지 기준은 다음과 같습니다.  \\n1. 역사  \\...</td>\n",
       "      <td>[2004년 10월과 11월에 IOC는 '올림픽 프로그램 위원회'(Olympic P...</td>\n",
       "    </tr>\n",
       "    <tr>\n",
       "      <th>2</th>\n",
       "      <td>2012년 하계 올림픽 정식종목 후보에 올랐던 스포츠들은 무엇인가요?</td>\n",
       "      <td>골프, 가라테, 럭비, 인라인 스케이팅, 스쿼시입니다.</td>\n",
       "      <td>2004년 10월과 11월에 IOC는 '올림픽 프로그램 위원회'(Olympic Pr...</td>\n",
       "      <td>2012년 하계 올림픽 정식종목 후보에 올랐던 스포츠들은 골프, 가라테, 럭비, 인...</td>\n",
       "      <td>[결국 5개 중 2개(가라테와 스쿼시) 가 최종 후보로 올라왔으나 가라테와 스쿼시 ...</td>\n",
       "    </tr>\n",
       "    <tr>\n",
       "      <th>3</th>\n",
       "      <td>2012년 하계 올림픽 정식종목 후보 중 최종 후보로 선택된 두 종목은 무엇인가요?</td>\n",
       "      <td>가라테와 스쿼시입니다.</td>\n",
       "      <td>2004년 10월과 11월에 IOC는 '올림픽 프로그램 위원회'(Olympic Pr...</td>\n",
       "      <td>2012년 하계 올림픽 정식종목 후보 중 최종 후보로 선택된 두 종목은 가라테와 스...</td>\n",
       "      <td>[결국 5개 중 2개(가라테와 스쿼시) 가 최종 후보로 올라왔으나 가라테와 스쿼시 ...</td>\n",
       "    </tr>\n",
       "    <tr>\n",
       "      <th>4</th>\n",
       "      <td>2012년 하계 올림픽 정식종목 후보 결정이 최종적으로 이루어진 회의는 언제 열렸나요?</td>\n",
       "      <td>2005년 7월에 열린 싱가포르 총회에서 최종적으로 결정하기로 했습니다.</td>\n",
       "      <td>2004년 10월과 11월에 IOC는 '올림픽 프로그램 위원회'(Olympic Pr...</td>\n",
       "      <td>2012년 하계 올림픽 정식종목 후보 결정이 최종적으로 이루어진 회의는 2005년 ...</td>\n",
       "      <td>[2004년 10월과 11월에 IOC는 '올림픽 프로그램 위원회'(Olympic P...</td>\n",
       "    </tr>\n",
       "  </tbody>\n",
       "</table>\n",
       "</div>"
      ],
      "text/plain": [
       "                                         user_input  \\\n",
       "0                          올림픽 프로그램 위원회는 언제 설립되었나요?   \n",
       "1                   올림픽 종목 선정 시 고려되는 7가지 기준은 무엇인가요?   \n",
       "2            2012년 하계 올림픽 정식종목 후보에 올랐던 스포츠들은 무엇인가요?   \n",
       "3    2012년 하계 올림픽 정식종목 후보 중 최종 후보로 선택된 두 종목은 무엇인가요?   \n",
       "4  2012년 하계 올림픽 정식종목 후보 결정이 최종적으로 이루어진 회의는 언제 열렸나요?   \n",
       "\n",
       "                                           reference  \\\n",
       "0                           2004년 10월과 11월에 설립되었습니다.   \n",
       "1  역사, 전통, 보편성, 인기도와 잠재성, 선수의 건강, 연맹의 스포츠를 관리할만한 ...   \n",
       "2                     골프, 가라테, 럭비, 인라인 스케이팅, 스쿼시입니다.   \n",
       "3                                       가라테와 스쿼시입니다.   \n",
       "4           2005년 7월에 열린 싱가포르 총회에서 최종적으로 결정하기로 했습니다.   \n",
       "\n",
       "                                          qa_context  \\\n",
       "0  2004년 10월과 11월에 IOC는 '올림픽 프로그램 위원회'(Olympic Pr...   \n",
       "1  2004년 10월과 11월에 IOC는 '올림픽 프로그램 위원회'(Olympic Pr...   \n",
       "2  2004년 10월과 11월에 IOC는 '올림픽 프로그램 위원회'(Olympic Pr...   \n",
       "3  2004년 10월과 11월에 IOC는 '올림픽 프로그램 위원회'(Olympic Pr...   \n",
       "4  2004년 10월과 11월에 IOC는 '올림픽 프로그램 위원회'(Olympic Pr...   \n",
       "\n",
       "                                            response  \\\n",
       "0             올림픽 프로그램 위원회는 2004년 10월과 11월에 설립되었습니다.   \n",
       "1  올림픽 종목 선정 시 고려되는 7가지 기준은 다음과 같습니다.  \\n1. 역사  \\...   \n",
       "2  2012년 하계 올림픽 정식종목 후보에 올랐던 스포츠들은 골프, 가라테, 럭비, 인...   \n",
       "3  2012년 하계 올림픽 정식종목 후보 중 최종 후보로 선택된 두 종목은 가라테와 스...   \n",
       "4  2012년 하계 올림픽 정식종목 후보 결정이 최종적으로 이루어진 회의는 2005년 ...   \n",
       "\n",
       "                                  retrieved_contexts  \n",
       "0  [2004년 10월과 11월에 IOC는 '올림픽 프로그램 위원회'(Olympic P...  \n",
       "1  [2004년 10월과 11월에 IOC는 '올림픽 프로그램 위원회'(Olympic P...  \n",
       "2  [결국 5개 중 2개(가라테와 스쿼시) 가 최종 후보로 올라왔으나 가라테와 스쿼시 ...  \n",
       "3  [결국 5개 중 2개(가라테와 스쿼시) 가 최종 후보로 올라왔으나 가라테와 스쿼시 ...  \n",
       "4  [2004년 10월과 11월에 IOC는 '올림픽 프로그램 위원회'(Olympic P...  "
      ]
     },
     "execution_count": 64,
     "metadata": {},
     "output_type": "execute_result"
    }
   ],
   "source": [
    "eval_df.head()"
   ]
  },
  {
   "cell_type": "code",
   "execution_count": 65,
   "metadata": {},
   "outputs": [
    {
     "data": {
      "text/plain": [
       "EvaluationDataset(features=['user_input', 'retrieved_contexts', 'response', 'reference'], len=25)"
      ]
     },
     "execution_count": 65,
     "metadata": {},
     "output_type": "execute_result"
    }
   ],
   "source": [
    "# RAGS의 EvaluationDataset 생성\n",
    "# feature로 \"user_input\", \"response\", \"retrieved_contexts\", \"reference\"를 가진 DataFramge으로부터 EvaluationDataset 생성\n",
    "evaluation_dataset = EvaluationDataset.from_pandas(eval_df)\n",
    "evaluation_dataset"
   ]
  },
  {
   "cell_type": "code",
   "execution_count": 66,
   "metadata": {},
   "outputs": [
    {
     "data": {
      "application/vnd.jupyter.widget-view+json": {
       "model_id": "5e6806ce642f43d6ac0d1faa6c762669",
       "version_major": 2,
       "version_minor": 0
      },
      "text/plain": [
       "Evaluating:   0%|          | 0/100 [00:00<?, ?it/s]"
      ]
     },
     "metadata": {},
     "output_type": "display_data"
    }
   ],
   "source": [
    "################################\n",
    "# 평가\n",
    "################################\n",
    "eval_llm = LangchainLLMWrapper(ChatOpenAI(model=\"gpt-4.1-mini\"))\n",
    "eval_embedding = LangchainEmbeddingsWrapper(OpenAIEmbeddings(model=\"text-embedding-3-large\"))\n",
    "metrics = [\n",
    "    LLMContextPrecisionWithReference(llm=eval_llm),\n",
    "    LLMContextRecall(llm=eval_llm),\n",
    "    Faithfulness(llm=eval_llm),\n",
    "    AnswerRelevancy(llm=eval_llm, embeddings=eval_embedding)\n",
    "]\n",
    "eval_result = evaluate(evaluation_dataset, metrics=metrics)"
   ]
  },
  {
   "cell_type": "code",
   "execution_count": 69,
   "metadata": {},
   "outputs": [
    {
     "data": {
      "text/html": [
       "<div>\n",
       "<style scoped>\n",
       "    .dataframe tbody tr th:only-of-type {\n",
       "        vertical-align: middle;\n",
       "    }\n",
       "\n",
       "    .dataframe tbody tr th {\n",
       "        vertical-align: top;\n",
       "    }\n",
       "\n",
       "    .dataframe thead th {\n",
       "        text-align: right;\n",
       "    }\n",
       "</style>\n",
       "<table border=\"1\" class=\"dataframe\">\n",
       "  <thead>\n",
       "    <tr style=\"text-align: right;\">\n",
       "      <th></th>\n",
       "      <th>user_input</th>\n",
       "      <th>retrieved_contexts</th>\n",
       "      <th>response</th>\n",
       "      <th>reference</th>\n",
       "      <th>llm_context_precision_with_reference</th>\n",
       "      <th>context_recall</th>\n",
       "      <th>faithfulness</th>\n",
       "      <th>answer_relevancy</th>\n",
       "    </tr>\n",
       "  </thead>\n",
       "  <tbody>\n",
       "    <tr>\n",
       "      <th>0</th>\n",
       "      <td>올림픽 프로그램 위원회는 언제 설립되었나요?</td>\n",
       "      <td>[2004년 10월과 11월에 IOC는 '올림픽 프로그램 위원회'(Olympic P...</td>\n",
       "      <td>올림픽 프로그램 위원회는 2004년 10월과 11월에 설립되었습니다.</td>\n",
       "      <td>2004년 10월과 11월에 설립되었습니다.</td>\n",
       "      <td>1.000000</td>\n",
       "      <td>1.0</td>\n",
       "      <td>1.0</td>\n",
       "      <td>0.798547</td>\n",
       "    </tr>\n",
       "    <tr>\n",
       "      <th>1</th>\n",
       "      <td>올림픽 종목 선정 시 고려되는 7가지 기준은 무엇인가요?</td>\n",
       "      <td>[2004년 10월과 11월에 IOC는 '올림픽 프로그램 위원회'(Olympic P...</td>\n",
       "      <td>올림픽 종목 선정 시 고려되는 7가지 기준은 다음과 같습니다.  \\n1. 역사  \\...</td>\n",
       "      <td>역사, 전통, 보편성, 인기도와 잠재성, 선수의 건강, 연맹의 스포츠를 관리할만한 ...</td>\n",
       "      <td>1.000000</td>\n",
       "      <td>1.0</td>\n",
       "      <td>1.0</td>\n",
       "      <td>0.875245</td>\n",
       "    </tr>\n",
       "    <tr>\n",
       "      <th>2</th>\n",
       "      <td>2012년 하계 올림픽 정식종목 후보에 올랐던 스포츠들은 무엇인가요?</td>\n",
       "      <td>[결국 5개 중 2개(가라테와 스쿼시) 가 최종 후보로 올라왔으나 가라테와 스쿼시 ...</td>\n",
       "      <td>2012년 하계 올림픽 정식종목 후보에 올랐던 스포츠들은 골프, 가라테, 럭비, 인...</td>\n",
       "      <td>골프, 가라테, 럭비, 인라인 스케이팅, 스쿼시입니다.</td>\n",
       "      <td>1.000000</td>\n",
       "      <td>1.0</td>\n",
       "      <td>1.0</td>\n",
       "      <td>0.751312</td>\n",
       "    </tr>\n",
       "    <tr>\n",
       "      <th>3</th>\n",
       "      <td>2012년 하계 올림픽 정식종목 후보 중 최종 후보로 선택된 두 종목은 무엇인가요?</td>\n",
       "      <td>[결국 5개 중 2개(가라테와 스쿼시) 가 최종 후보로 올라왔으나 가라테와 스쿼시 ...</td>\n",
       "      <td>2012년 하계 올림픽 정식종목 후보 중 최종 후보로 선택된 두 종목은 가라테와 스...</td>\n",
       "      <td>가라테와 스쿼시입니다.</td>\n",
       "      <td>1.000000</td>\n",
       "      <td>1.0</td>\n",
       "      <td>1.0</td>\n",
       "      <td>0.745757</td>\n",
       "    </tr>\n",
       "    <tr>\n",
       "      <th>4</th>\n",
       "      <td>2012년 하계 올림픽 정식종목 후보 결정이 최종적으로 이루어진 회의는 언제 열렸나요?</td>\n",
       "      <td>[2004년 10월과 11월에 IOC는 '올림픽 프로그램 위원회'(Olympic P...</td>\n",
       "      <td>2012년 하계 올림픽 정식종목 후보 결정이 최종적으로 이루어진 회의는 2005년 ...</td>\n",
       "      <td>2005년 7월에 열린 싱가포르 총회에서 최종적으로 결정하기로 했습니다.</td>\n",
       "      <td>1.000000</td>\n",
       "      <td>1.0</td>\n",
       "      <td>1.0</td>\n",
       "      <td>0.735666</td>\n",
       "    </tr>\n",
       "    <tr>\n",
       "      <th>5</th>\n",
       "      <td>1956년 하계 올림픽에서 어떤 나라들이 소련의 헝가리 침공에 항의해 불참했나요?</td>\n",
       "      <td>[열린 L.A 올림픽때는 루마니아와 유고슬라비아를 제외한 소련과 동구권의 14개 국...</td>\n",
       "      <td>1956년 하계 올림픽에서 소련의 헝가리 침공에 항의해 불참한 나라는 네덜란드, 스...</td>\n",
       "      <td>네덜란드, 스페인, 스위스가 소련의 헝가리 침공에 항의하며 1956년 하계 올림픽 ...</td>\n",
       "      <td>0.250000</td>\n",
       "      <td>1.0</td>\n",
       "      <td>1.0</td>\n",
       "      <td>0.723336</td>\n",
       "    </tr>\n",
       "    <tr>\n",
       "      <th>6</th>\n",
       "      <td>1972년과 1976년 올림픽에서 많은 아프리카 국가들은 어떤 이유로 참가를 거부했나요?</td>\n",
       "      <td>[이라크는 경기를 끝낸 선수들이 있었지만 탄자니아가 이끄는 올림픽 보이콧에 가세했다...</td>\n",
       "      <td>1972년과 1976년 올림픽에서 많은 아프리카 국가들은 남아프리카 공화국과 로디지...</td>\n",
       "      <td>아프리카 국가들은 남아프리카 공화국과 로디지아에서 일어나는 인종 차별정권에 대한 항...</td>\n",
       "      <td>0.500000</td>\n",
       "      <td>1.0</td>\n",
       "      <td>1.0</td>\n",
       "      <td>0.814970</td>\n",
       "    </tr>\n",
       "    <tr>\n",
       "      <th>7</th>\n",
       "      <td>뉴질랜드가 올림픽 참가 금지 요청을 받았던 이유는 무엇인가요?</td>\n",
       "      <td>[현재 이란 정부는 이스라엘과의 어떤 경기 경쟁이든 피하고 있다. 2008년 하계 ...</td>\n",
       "      <td>정보가 부족해서 답을 알 수 없습니다.</td>\n",
       "      <td>뉴질랜드 럭비 국가 대표팀이 아파르트헤이트 정책을 실시하던 남아프리카 공화국과 경기...</td>\n",
       "      <td>0.000000</td>\n",
       "      <td>0.0</td>\n",
       "      <td>0.0</td>\n",
       "      <td>0.000000</td>\n",
       "    </tr>\n",
       "    <tr>\n",
       "      <th>8</th>\n",
       "      <td>국제 올림픽 위원회는 뉴질랜드의 올림픽 참가 금지 요청을 어떻게 처리했나요?</td>\n",
       "      <td>[올림픽에 참가하는 나라는 UN에 등록된 국가의 수 193개보다 많다. 다른 국제조...</td>\n",
       "      <td>정보가 부족해서 답을 알 수 없습니다.</td>\n",
       "      <td>국제 올림픽 위원회는 럭비가 올림픽 종목이 아니라는 이유를 들어 뉴질랜드의 올림픽 ...</td>\n",
       "      <td>0.000000</td>\n",
       "      <td>0.0</td>\n",
       "      <td>0.0</td>\n",
       "      <td>0.000000</td>\n",
       "    </tr>\n",
       "    <tr>\n",
       "      <th>9</th>\n",
       "      <td>제2차 중동 전쟁 때문에 보이콧한 나라는 어디인가요?</td>\n",
       "      <td>[올림픽에서 첫 번째 보이콧은 1956년 하계 올림픽에서 시작되었다. 네덜란드, 스...</td>\n",
       "      <td>제2차 중동 전쟁 때문에 보이콧한 나라는 캄보디아, 이집트, 이라크, 레바논입니다.</td>\n",
       "      <td>캄보디아, 이집트, 이라크, 레바논이 제2차 중동 전쟁 때문에 올림픽을 보이콧했습니다.</td>\n",
       "      <td>1.000000</td>\n",
       "      <td>1.0</td>\n",
       "      <td>1.0</td>\n",
       "      <td>0.453601</td>\n",
       "    </tr>\n",
       "    <tr>\n",
       "      <th>10</th>\n",
       "      <td>올림픽 하계 대회에서는 몇 개의 종목이 열리나요?</td>\n",
       "      <td>[올림픽 경기 종목\\n올림픽 경기 종목은 총 33개부문 52개 종목에서 약 400개...</td>\n",
       "      <td>올림픽 하계 대회에서는 26개 부문의 종목이 열립니다.</td>\n",
       "      <td>33개의 종목이 열린다.</td>\n",
       "      <td>0.833333</td>\n",
       "      <td>1.0</td>\n",
       "      <td>1.0</td>\n",
       "      <td>0.605542</td>\n",
       "    </tr>\n",
       "    <tr>\n",
       "      <th>11</th>\n",
       "      <td>하계 올림픽에서는 몇 명 이상의 선수가 참가하나요?</td>\n",
       "      <td>[2002년에 열린 제114차 IOC 총회에서는 하계 올림픽 종목은 최대 28부문 ...</td>\n",
       "      <td>하계 올림픽에서는 13,000명 넘는 선수들이 참가합니다.</td>\n",
       "      <td>13,000명이 넘는 선수들이 참가한다.</td>\n",
       "      <td>0.500000</td>\n",
       "      <td>1.0</td>\n",
       "      <td>1.0</td>\n",
       "      <td>0.454273</td>\n",
       "    </tr>\n",
       "    <tr>\n",
       "      <th>12</th>\n",
       "      <td>올림픽에서 종목별 1, 2, 3위 선수들은 어떤 메달을 받나요?</td>\n",
       "      <td>[개인 혹은 팀으로 경기에 출전해서 1위, 2위, 3위를 한 선수는 메달을 받는다....</td>\n",
       "      <td>올림픽에서 종목별 1위 선수는 금메달을, 2위 선수는 은메달을, 3위 선수는 동메달...</td>\n",
       "      <td>종목별 1위는 금메달, 2위는 은메달, 3위는 동메달을 받는다.</td>\n",
       "      <td>0.916667</td>\n",
       "      <td>1.0</td>\n",
       "      <td>1.0</td>\n",
       "      <td>0.707086</td>\n",
       "    </tr>\n",
       "    <tr>\n",
       "      <th>13</th>\n",
       "      <td>올림픽은 몇 년마다 개최되나요?</td>\n",
       "      <td>[올림픽(영어: Olympic Games, 프랑스어: Jeux olympiques)...</td>\n",
       "      <td>올림픽은 2년마다 하계 올림픽과 동계 올림픽이 번갈아 열립니다.</td>\n",
       "      <td>올림픽 경기는 4년마다 열린다.</td>\n",
       "      <td>0.250000</td>\n",
       "      <td>1.0</td>\n",
       "      <td>1.0</td>\n",
       "      <td>0.725327</td>\n",
       "    </tr>\n",
       "    <tr>\n",
       "      <th>14</th>\n",
       "      <td>올림픽 개최가 개최지와 개최국에 주는 기회는 무엇인가요?</td>\n",
       "      <td>[개최지 선정\\n올림픽 개최지는 해당 올림픽 개최 7년 전에 IOC 위원들의 투표로...</td>\n",
       "      <td>정보가 부족해서 답을 알 수 없습니다.</td>\n",
       "      <td>올림픽 경기는 개최지와 개최국에게 전 세계에 그 이름을 널리 알리는 좋은 기회가 된다.</td>\n",
       "      <td>0.000000</td>\n",
       "      <td>0.0</td>\n",
       "      <td>0.0</td>\n",
       "      <td>0.000000</td>\n",
       "    </tr>\n",
       "    <tr>\n",
       "      <th>15</th>\n",
       "      <td>2012년 올림픽에서는 몇 개 부문에서 경기가 열렸나요?</td>\n",
       "      <td>[올림픽 경기 종목\\n올림픽 경기 종목은 총 33개부문 52개 종목에서 약 400개...</td>\n",
       "      <td>2012년 올림픽에서는 26개 부문에서 경기가 열렸습니다.</td>\n",
       "      <td>2012년 올림픽에서는 26개 부문에서 경기가 열렸다.</td>\n",
       "      <td>1.000000</td>\n",
       "      <td>1.0</td>\n",
       "      <td>1.0</td>\n",
       "      <td>0.564374</td>\n",
       "    </tr>\n",
       "    <tr>\n",
       "      <th>16</th>\n",
       "      <td>야구와 소프트볼이 올림픽 정식 종목에서 제외된 이유에 대한 이견이 있었나요?</td>\n",
       "      <td>[2002년에 열린 제114차 IOC 총회에서는 하계 올림픽 종목은 최대 28부문 ...</td>\n",
       "      <td>야구와 소프트볼이 올림픽 정식 종목에서 제외된 결과에 대한 이견은 없었습니다.</td>\n",
       "      <td>야구와 소프트볼이 정식 종목에서 제외된 결과에 이견이 없었다.</td>\n",
       "      <td>0.833333</td>\n",
       "      <td>1.0</td>\n",
       "      <td>1.0</td>\n",
       "      <td>0.589526</td>\n",
       "    </tr>\n",
       "    <tr>\n",
       "      <th>17</th>\n",
       "      <td>2016년과 2020년 올림픽에서 추가된 종목은 무엇인가요?</td>\n",
       "      <td>[결국 5개 중 2개(가라테와 스쿼시) 가 최종 후보로 올라왔으나 가라테와 스쿼시 ...</td>\n",
       "      <td>2016년과 2020년 올림픽에서 추가된 종목은 골프와 7인제 럭비입니다.</td>\n",
       "      <td>2016년과 2020년 올림픽에서는 럭비와 골프가 추가되었다.</td>\n",
       "      <td>1.000000</td>\n",
       "      <td>1.0</td>\n",
       "      <td>1.0</td>\n",
       "      <td>0.720906</td>\n",
       "    </tr>\n",
       "    <tr>\n",
       "      <th>18</th>\n",
       "      <td>하계 올림픽 종목의 최대 부문과 최대 경기 수는 얼마로 제한되었나요?</td>\n",
       "      <td>[2002년에 열린 제114차 IOC 총회에서는 하계 올림픽 종목은 최대 28부문 ...</td>\n",
       "      <td>하계 올림픽 종목은 최대 28부문, 301개 경기로 제한되기로 결정되었습니다.</td>\n",
       "      <td>하계 올림픽 종목은 최대 28부문 301개 경기로 제한되었다.</td>\n",
       "      <td>1.000000</td>\n",
       "      <td>1.0</td>\n",
       "      <td>1.0</td>\n",
       "      <td>0.511532</td>\n",
       "    </tr>\n",
       "    <tr>\n",
       "      <th>19</th>\n",
       "      <td>올림픽 아이스 하키에 프로 NHL선수 출전이 허용된 첫 해는 언제인가요?</td>\n",
       "      <td>[2002년에 열린 제114차 IOC 총회에서는 하계 올림픽 종목은 최대 28부문 ...</td>\n",
       "      <td>프로 NHL선수들이 올림픽 아이스 하키에 출전할 수 있게 된 첫 해는 1998년입니다.</td>\n",
       "      <td>프로 NHL선수들은 1998년부터 아이스 하키종목에 출전할 수 있게 되었다.</td>\n",
       "      <td>1.000000</td>\n",
       "      <td>1.0</td>\n",
       "      <td>1.0</td>\n",
       "      <td>0.891849</td>\n",
       "    </tr>\n",
       "    <tr>\n",
       "      <th>20</th>\n",
       "      <td>1968년 멕시코 시티 올림픽 육상 200m 경기 시상식에서 토미 스미스와 존 카를...</td>\n",
       "      <td>[선수 개인이 자신의 정치적 성향에 대해 표현하기도 했다. 멕시코 시티에서 열린 1...</td>\n",
       "      <td>1968년 멕시코 시티 올림픽 육상 200m 경기 시상식에서 1위인 토미 스미스와 ...</td>\n",
       "      <td>토미 스미스와 존 카를로스는 시상식 때 블랙 파워 설루트(흑인 차별 반대 행위)를 ...</td>\n",
       "      <td>1.000000</td>\n",
       "      <td>1.0</td>\n",
       "      <td>1.0</td>\n",
       "      <td>0.709940</td>\n",
       "    </tr>\n",
       "    <tr>\n",
       "      <th>21</th>\n",
       "      <td>피터 노먼은 200m 경기 시상식에서 어떤 행동을 했나요?</td>\n",
       "      <td>[선수 개인이 자신의 정치적 성향에 대해 표현하기도 했다. 멕시코 시티에서 열린 1...</td>\n",
       "      <td>피터 노먼은 1968년 하계 올림픽 멕시코 시티에서 열린 200m 경기 시상식에서 ...</td>\n",
       "      <td>피터 노먼은 인권을 위한 올림픽 프로젝트(OPHR) 배지를 달아서 토미 스미스와 존...</td>\n",
       "      <td>1.000000</td>\n",
       "      <td>1.0</td>\n",
       "      <td>1.0</td>\n",
       "      <td>0.564865</td>\n",
       "    </tr>\n",
       "    <tr>\n",
       "      <th>22</th>\n",
       "      <td>1968년 멕시코 시티 올림픽 육상 200m 경기에서 1위와 3위를 차지한 선수는 ...</td>\n",
       "      <td>[선수 개인이 자신의 정치적 성향에 대해 표현하기도 했다. 멕시코 시티에서 열린 1...</td>\n",
       "      <td>1968년 멕시코 시티 올림픽 육상 200m 경기에서 1위와 3위를 차지한 선수는 ...</td>\n",
       "      <td>1위는 토미 스미스, 3위는 존 카를로스입니다.</td>\n",
       "      <td>1.000000</td>\n",
       "      <td>1.0</td>\n",
       "      <td>1.0</td>\n",
       "      <td>0.794082</td>\n",
       "    </tr>\n",
       "    <tr>\n",
       "      <th>23</th>\n",
       "      <td>블랙 파워 설루트 사건 이후 IOC 위원장의 반응은 무엇이었나요?</td>\n",
       "      <td>[국제 올림픽 위원회(이하 IOC로 지칭)는 몇몇 위원들이 한 행위에 대해서 비판을...</td>\n",
       "      <td>블랙 파워 설루트 사건 이후 당시 IOC 위원장이었던 에이버리 브런디지는 미국 올림...</td>\n",
       "      <td>IOC 위원장이었던 에이버리 브런디지는 미국 올림픽 위원회에 두 선수를 미국으로 돌...</td>\n",
       "      <td>0.250000</td>\n",
       "      <td>1.0</td>\n",
       "      <td>1.0</td>\n",
       "      <td>0.497073</td>\n",
       "    </tr>\n",
       "    <tr>\n",
       "      <th>24</th>\n",
       "      <td>미국 올림픽 위원회가 블랙 파워 설루트 사건 이후 내린 결정은 무엇이었나요?</td>\n",
       "      <td>[선수 개인이 자신의 정치적 성향에 대해 표현하기도 했다. 멕시코 시티에서 열린 1...</td>\n",
       "      <td>미국 올림픽 위원회는 1968년 멕시코 시티 하계 올림픽 육상 200m 경기에서 블...</td>\n",
       "      <td>미국 올림픽 위원회는 토미 스미스와 존 카를로스, 두 선수를 미국으로 돌려보냈습니다.</td>\n",
       "      <td>1.000000</td>\n",
       "      <td>1.0</td>\n",
       "      <td>1.0</td>\n",
       "      <td>0.616636</td>\n",
       "    </tr>\n",
       "  </tbody>\n",
       "</table>\n",
       "</div>"
      ],
      "text/plain": [
       "                                           user_input  \\\n",
       "0                            올림픽 프로그램 위원회는 언제 설립되었나요?   \n",
       "1                     올림픽 종목 선정 시 고려되는 7가지 기준은 무엇인가요?   \n",
       "2              2012년 하계 올림픽 정식종목 후보에 올랐던 스포츠들은 무엇인가요?   \n",
       "3      2012년 하계 올림픽 정식종목 후보 중 최종 후보로 선택된 두 종목은 무엇인가요?   \n",
       "4    2012년 하계 올림픽 정식종목 후보 결정이 최종적으로 이루어진 회의는 언제 열렸나요?   \n",
       "5       1956년 하계 올림픽에서 어떤 나라들이 소련의 헝가리 침공에 항의해 불참했나요?   \n",
       "6   1972년과 1976년 올림픽에서 많은 아프리카 국가들은 어떤 이유로 참가를 거부했나요?   \n",
       "7                  뉴질랜드가 올림픽 참가 금지 요청을 받았던 이유는 무엇인가요?   \n",
       "8          국제 올림픽 위원회는 뉴질랜드의 올림픽 참가 금지 요청을 어떻게 처리했나요?   \n",
       "9                       제2차 중동 전쟁 때문에 보이콧한 나라는 어디인가요?   \n",
       "10                        올림픽 하계 대회에서는 몇 개의 종목이 열리나요?   \n",
       "11                       하계 올림픽에서는 몇 명 이상의 선수가 참가하나요?   \n",
       "12                올림픽에서 종목별 1, 2, 3위 선수들은 어떤 메달을 받나요?   \n",
       "13                                  올림픽은 몇 년마다 개최되나요?   \n",
       "14                    올림픽 개최가 개최지와 개최국에 주는 기회는 무엇인가요?   \n",
       "15                    2012년 올림픽에서는 몇 개 부문에서 경기가 열렸나요?   \n",
       "16         야구와 소프트볼이 올림픽 정식 종목에서 제외된 이유에 대한 이견이 있었나요?   \n",
       "17                  2016년과 2020년 올림픽에서 추가된 종목은 무엇인가요?   \n",
       "18             하계 올림픽 종목의 최대 부문과 최대 경기 수는 얼마로 제한되었나요?   \n",
       "19           올림픽 아이스 하키에 프로 NHL선수 출전이 허용된 첫 해는 언제인가요?   \n",
       "20  1968년 멕시코 시티 올림픽 육상 200m 경기 시상식에서 토미 스미스와 존 카를...   \n",
       "21                   피터 노먼은 200m 경기 시상식에서 어떤 행동을 했나요?   \n",
       "22  1968년 멕시코 시티 올림픽 육상 200m 경기에서 1위와 3위를 차지한 선수는 ...   \n",
       "23               블랙 파워 설루트 사건 이후 IOC 위원장의 반응은 무엇이었나요?   \n",
       "24         미국 올림픽 위원회가 블랙 파워 설루트 사건 이후 내린 결정은 무엇이었나요?   \n",
       "\n",
       "                                   retrieved_contexts  \\\n",
       "0   [2004년 10월과 11월에 IOC는 '올림픽 프로그램 위원회'(Olympic P...   \n",
       "1   [2004년 10월과 11월에 IOC는 '올림픽 프로그램 위원회'(Olympic P...   \n",
       "2   [결국 5개 중 2개(가라테와 스쿼시) 가 최종 후보로 올라왔으나 가라테와 스쿼시 ...   \n",
       "3   [결국 5개 중 2개(가라테와 스쿼시) 가 최종 후보로 올라왔으나 가라테와 스쿼시 ...   \n",
       "4   [2004년 10월과 11월에 IOC는 '올림픽 프로그램 위원회'(Olympic P...   \n",
       "5   [열린 L.A 올림픽때는 루마니아와 유고슬라비아를 제외한 소련과 동구권의 14개 국...   \n",
       "6   [이라크는 경기를 끝낸 선수들이 있었지만 탄자니아가 이끄는 올림픽 보이콧에 가세했다...   \n",
       "7   [현재 이란 정부는 이스라엘과의 어떤 경기 경쟁이든 피하고 있다. 2008년 하계 ...   \n",
       "8   [올림픽에 참가하는 나라는 UN에 등록된 국가의 수 193개보다 많다. 다른 국제조...   \n",
       "9   [올림픽에서 첫 번째 보이콧은 1956년 하계 올림픽에서 시작되었다. 네덜란드, 스...   \n",
       "10  [올림픽 경기 종목\\n올림픽 경기 종목은 총 33개부문 52개 종목에서 약 400개...   \n",
       "11  [2002년에 열린 제114차 IOC 총회에서는 하계 올림픽 종목은 최대 28부문 ...   \n",
       "12  [개인 혹은 팀으로 경기에 출전해서 1위, 2위, 3위를 한 선수는 메달을 받는다....   \n",
       "13  [올림픽(영어: Olympic Games, 프랑스어: Jeux olympiques)...   \n",
       "14  [개최지 선정\\n올림픽 개최지는 해당 올림픽 개최 7년 전에 IOC 위원들의 투표로...   \n",
       "15  [올림픽 경기 종목\\n올림픽 경기 종목은 총 33개부문 52개 종목에서 약 400개...   \n",
       "16  [2002년에 열린 제114차 IOC 총회에서는 하계 올림픽 종목은 최대 28부문 ...   \n",
       "17  [결국 5개 중 2개(가라테와 스쿼시) 가 최종 후보로 올라왔으나 가라테와 스쿼시 ...   \n",
       "18  [2002년에 열린 제114차 IOC 총회에서는 하계 올림픽 종목은 최대 28부문 ...   \n",
       "19  [2002년에 열린 제114차 IOC 총회에서는 하계 올림픽 종목은 최대 28부문 ...   \n",
       "20  [선수 개인이 자신의 정치적 성향에 대해 표현하기도 했다. 멕시코 시티에서 열린 1...   \n",
       "21  [선수 개인이 자신의 정치적 성향에 대해 표현하기도 했다. 멕시코 시티에서 열린 1...   \n",
       "22  [선수 개인이 자신의 정치적 성향에 대해 표현하기도 했다. 멕시코 시티에서 열린 1...   \n",
       "23  [국제 올림픽 위원회(이하 IOC로 지칭)는 몇몇 위원들이 한 행위에 대해서 비판을...   \n",
       "24  [선수 개인이 자신의 정치적 성향에 대해 표현하기도 했다. 멕시코 시티에서 열린 1...   \n",
       "\n",
       "                                             response  \\\n",
       "0              올림픽 프로그램 위원회는 2004년 10월과 11월에 설립되었습니다.   \n",
       "1   올림픽 종목 선정 시 고려되는 7가지 기준은 다음과 같습니다.  \\n1. 역사  \\...   \n",
       "2   2012년 하계 올림픽 정식종목 후보에 올랐던 스포츠들은 골프, 가라테, 럭비, 인...   \n",
       "3   2012년 하계 올림픽 정식종목 후보 중 최종 후보로 선택된 두 종목은 가라테와 스...   \n",
       "4   2012년 하계 올림픽 정식종목 후보 결정이 최종적으로 이루어진 회의는 2005년 ...   \n",
       "5   1956년 하계 올림픽에서 소련의 헝가리 침공에 항의해 불참한 나라는 네덜란드, 스...   \n",
       "6   1972년과 1976년 올림픽에서 많은 아프리카 국가들은 남아프리카 공화국과 로디지...   \n",
       "7                               정보가 부족해서 답을 알 수 없습니다.   \n",
       "8                               정보가 부족해서 답을 알 수 없습니다.   \n",
       "9      제2차 중동 전쟁 때문에 보이콧한 나라는 캄보디아, 이집트, 이라크, 레바논입니다.   \n",
       "10                     올림픽 하계 대회에서는 26개 부문의 종목이 열립니다.   \n",
       "11                   하계 올림픽에서는 13,000명 넘는 선수들이 참가합니다.   \n",
       "12  올림픽에서 종목별 1위 선수는 금메달을, 2위 선수는 은메달을, 3위 선수는 동메달...   \n",
       "13                올림픽은 2년마다 하계 올림픽과 동계 올림픽이 번갈아 열립니다.   \n",
       "14                              정보가 부족해서 답을 알 수 없습니다.   \n",
       "15                   2012년 올림픽에서는 26개 부문에서 경기가 열렸습니다.   \n",
       "16        야구와 소프트볼이 올림픽 정식 종목에서 제외된 결과에 대한 이견은 없었습니다.   \n",
       "17          2016년과 2020년 올림픽에서 추가된 종목은 골프와 7인제 럭비입니다.   \n",
       "18        하계 올림픽 종목은 최대 28부문, 301개 경기로 제한되기로 결정되었습니다.   \n",
       "19   프로 NHL선수들이 올림픽 아이스 하키에 출전할 수 있게 된 첫 해는 1998년입니다.   \n",
       "20  1968년 멕시코 시티 올림픽 육상 200m 경기 시상식에서 1위인 토미 스미스와 ...   \n",
       "21  피터 노먼은 1968년 하계 올림픽 멕시코 시티에서 열린 200m 경기 시상식에서 ...   \n",
       "22  1968년 멕시코 시티 올림픽 육상 200m 경기에서 1위와 3위를 차지한 선수는 ...   \n",
       "23  블랙 파워 설루트 사건 이후 당시 IOC 위원장이었던 에이버리 브런디지는 미국 올림...   \n",
       "24  미국 올림픽 위원회는 1968년 멕시코 시티 하계 올림픽 육상 200m 경기에서 블...   \n",
       "\n",
       "                                            reference  \\\n",
       "0                            2004년 10월과 11월에 설립되었습니다.   \n",
       "1   역사, 전통, 보편성, 인기도와 잠재성, 선수의 건강, 연맹의 스포츠를 관리할만한 ...   \n",
       "2                      골프, 가라테, 럭비, 인라인 스케이팅, 스쿼시입니다.   \n",
       "3                                        가라테와 스쿼시입니다.   \n",
       "4            2005년 7월에 열린 싱가포르 총회에서 최종적으로 결정하기로 했습니다.   \n",
       "5   네덜란드, 스페인, 스위스가 소련의 헝가리 침공에 항의하며 1956년 하계 올림픽 ...   \n",
       "6   아프리카 국가들은 남아프리카 공화국과 로디지아에서 일어나는 인종 차별정권에 대한 항...   \n",
       "7   뉴질랜드 럭비 국가 대표팀이 아파르트헤이트 정책을 실시하던 남아프리카 공화국과 경기...   \n",
       "8   국제 올림픽 위원회는 럭비가 올림픽 종목이 아니라는 이유를 들어 뉴질랜드의 올림픽 ...   \n",
       "9    캄보디아, 이집트, 이라크, 레바논이 제2차 중동 전쟁 때문에 올림픽을 보이콧했습니다.   \n",
       "10                                      33개의 종목이 열린다.   \n",
       "11                             13,000명이 넘는 선수들이 참가한다.   \n",
       "12                종목별 1위는 금메달, 2위는 은메달, 3위는 동메달을 받는다.   \n",
       "13                                  올림픽 경기는 4년마다 열린다.   \n",
       "14   올림픽 경기는 개최지와 개최국에게 전 세계에 그 이름을 널리 알리는 좋은 기회가 된다.   \n",
       "15                     2012년 올림픽에서는 26개 부문에서 경기가 열렸다.   \n",
       "16                 야구와 소프트볼이 정식 종목에서 제외된 결과에 이견이 없었다.   \n",
       "17                 2016년과 2020년 올림픽에서는 럭비와 골프가 추가되었다.   \n",
       "18                 하계 올림픽 종목은 최대 28부문 301개 경기로 제한되었다.   \n",
       "19         프로 NHL선수들은 1998년부터 아이스 하키종목에 출전할 수 있게 되었다.   \n",
       "20  토미 스미스와 존 카를로스는 시상식 때 블랙 파워 설루트(흑인 차별 반대 행위)를 ...   \n",
       "21  피터 노먼은 인권을 위한 올림픽 프로젝트(OPHR) 배지를 달아서 토미 스미스와 존...   \n",
       "22                         1위는 토미 스미스, 3위는 존 카를로스입니다.   \n",
       "23  IOC 위원장이었던 에이버리 브런디지는 미국 올림픽 위원회에 두 선수를 미국으로 돌...   \n",
       "24    미국 올림픽 위원회는 토미 스미스와 존 카를로스, 두 선수를 미국으로 돌려보냈습니다.   \n",
       "\n",
       "    llm_context_precision_with_reference  context_recall  faithfulness  \\\n",
       "0                               1.000000             1.0           1.0   \n",
       "1                               1.000000             1.0           1.0   \n",
       "2                               1.000000             1.0           1.0   \n",
       "3                               1.000000             1.0           1.0   \n",
       "4                               1.000000             1.0           1.0   \n",
       "5                               0.250000             1.0           1.0   \n",
       "6                               0.500000             1.0           1.0   \n",
       "7                               0.000000             0.0           0.0   \n",
       "8                               0.000000             0.0           0.0   \n",
       "9                               1.000000             1.0           1.0   \n",
       "10                              0.833333             1.0           1.0   \n",
       "11                              0.500000             1.0           1.0   \n",
       "12                              0.916667             1.0           1.0   \n",
       "13                              0.250000             1.0           1.0   \n",
       "14                              0.000000             0.0           0.0   \n",
       "15                              1.000000             1.0           1.0   \n",
       "16                              0.833333             1.0           1.0   \n",
       "17                              1.000000             1.0           1.0   \n",
       "18                              1.000000             1.0           1.0   \n",
       "19                              1.000000             1.0           1.0   \n",
       "20                              1.000000             1.0           1.0   \n",
       "21                              1.000000             1.0           1.0   \n",
       "22                              1.000000             1.0           1.0   \n",
       "23                              0.250000             1.0           1.0   \n",
       "24                              1.000000             1.0           1.0   \n",
       "\n",
       "    answer_relevancy  \n",
       "0           0.798547  \n",
       "1           0.875245  \n",
       "2           0.751312  \n",
       "3           0.745757  \n",
       "4           0.735666  \n",
       "5           0.723336  \n",
       "6           0.814970  \n",
       "7           0.000000  \n",
       "8           0.000000  \n",
       "9           0.453601  \n",
       "10          0.605542  \n",
       "11          0.454273  \n",
       "12          0.707086  \n",
       "13          0.725327  \n",
       "14          0.000000  \n",
       "15          0.564374  \n",
       "16          0.589526  \n",
       "17          0.720906  \n",
       "18          0.511532  \n",
       "19          0.891849  \n",
       "20          0.709940  \n",
       "21          0.564865  \n",
       "22          0.794082  \n",
       "23          0.497073  \n",
       "24          0.616636  "
      ]
     },
     "execution_count": 69,
     "metadata": {},
     "output_type": "execute_result"
    }
   ],
   "source": [
    "eval_result.to_pandas()"
   ]
  },
  {
   "cell_type": "markdown",
   "metadata": {},
   "source": [
    "# 생성한 평가 데이터셋을 HuggingFace에 저장/로드"
   ]
  },
  {
   "cell_type": "code",
   "execution_count": 71,
   "metadata": {},
   "outputs": [],
   "source": [
    "from huggingface_hub import login\n",
    "import os\n",
    "HF_KEY = os.getenv(\"HUGGINGFACE_API_KEY\")\n",
    "login(HF_KEY)"
   ]
  },
  {
   "cell_type": "code",
   "execution_count": 72,
   "metadata": {},
   "outputs": [
    {
     "data": {
      "text/plain": [
       "Dataset({\n",
       "    features: ['user_input', 'reference', 'qa_context', 'response', 'retrieved_contexts'],\n",
       "    num_rows: 25\n",
       "})"
      ]
     },
     "execution_count": 72,
     "metadata": {},
     "output_type": "execute_result"
    }
   ],
   "source": [
    "from datasets import Dataset\n",
    "eval_dataset = Dataset.from_pandas(eval_df)\n",
    "eval_dataset"
   ]
  },
  {
   "cell_type": "code",
   "execution_count": 73,
   "metadata": {},
   "outputs": [
    {
     "data": {
      "application/vnd.jupyter.widget-view+json": {
       "model_id": "18d41bbf3d20468ea447b335ea0ed94c",
       "version_major": 2,
       "version_minor": 0
      },
      "text/plain": [
       "Uploading the dataset shards:   0%|          | 0/1 [00:00<?, ?it/s]"
      ]
     },
     "metadata": {},
     "output_type": "display_data"
    },
    {
     "data": {
      "application/vnd.jupyter.widget-view+json": {
       "model_id": "4d6e365d1dd0426a9b2c3fd3fc629020",
       "version_major": 2,
       "version_minor": 0
      },
      "text/plain": [
       "Creating parquet from Arrow format:   0%|          | 0/1 [00:00<?, ?ba/s]"
      ]
     },
     "metadata": {},
     "output_type": "display_data"
    },
    {
     "data": {
      "application/vnd.jupyter.widget-view+json": {
       "model_id": "aae4ecc4aaa445859654fb4c272a3002",
       "version_major": 2,
       "version_minor": 0
      },
      "text/plain": [
       "Uploading...:   0%|          | 0.00/32.6k [00:00<?, ?B/s]"
      ]
     },
     "metadata": {},
     "output_type": "display_data"
    },
    {
     "data": {
      "text/plain": [
       "CommitInfo(commit_url='https://huggingface.co/datasets/ki-student/wiki_olympic_rag_eval_dataset/commit/ae5fab1859a247502feaf994f849e947fb608c66', commit_message='Upload dataset', commit_description='', oid='ae5fab1859a247502feaf994f849e947fb608c66', pr_url=None, repo_url=RepoUrl('https://huggingface.co/datasets/ki-student/wiki_olympic_rag_eval_dataset', endpoint='https://huggingface.co', repo_type='dataset', repo_id='ki-student/wiki_olympic_rag_eval_dataset'), pr_revision=None, pr_num=None)"
      ]
     },
     "execution_count": 73,
     "metadata": {},
     "output_type": "execute_result"
    }
   ],
   "source": [
    "# huggingface에 upload\n",
    "eval_dataset.push_to_hub(\"wiki_olympic_rag_eval_dataset\")           # dataset_id"
   ]
  },
  {
   "cell_type": "code",
   "execution_count": 74,
   "metadata": {},
   "outputs": [
    {
     "data": {
      "application/vnd.jupyter.widget-view+json": {
       "model_id": "0bf982485877487e9d6a42ac4886d0c4",
       "version_major": 2,
       "version_minor": 0
      },
      "text/plain": [
       "README.md:   0%|          | 0.00/438 [00:00<?, ?B/s]"
      ]
     },
     "metadata": {},
     "output_type": "display_data"
    },
    {
     "data": {
      "application/vnd.jupyter.widget-view+json": {
       "model_id": "c9906a4766444b68b838faa684b4aec1",
       "version_major": 2,
       "version_minor": 0
      },
      "text/plain": [
       "data/train-00000-of-00001.parquet:   0%|          | 0.00/32.6k [00:00<?, ?B/s]"
      ]
     },
     "metadata": {},
     "output_type": "display_data"
    },
    {
     "data": {
      "application/vnd.jupyter.widget-view+json": {
       "model_id": "cef3201ec72f4ce19e096283828ce1e1",
       "version_major": 2,
       "version_minor": 0
      },
      "text/plain": [
       "Generating train split:   0%|          | 0/25 [00:00<?, ? examples/s]"
      ]
     },
     "metadata": {},
     "output_type": "display_data"
    },
    {
     "data": {
      "text/plain": [
       "DatasetDict({\n",
       "    train: Dataset({\n",
       "        features: ['user_input', 'reference', 'qa_context', 'response', 'retrieved_contexts'],\n",
       "        num_rows: 25\n",
       "    })\n",
       "})"
      ]
     },
     "execution_count": 74,
     "metadata": {},
     "output_type": "execute_result"
    }
   ],
   "source": [
    "from datasets import load_dataset\n",
    "\n",
    "# Login using e.g. `huggingface-cli login` to access this dataset\n",
    "load_eval_dataset = load_dataset(\"ki-student/wiki_olympic_rag_eval_dataset\")\n",
    "load_eval_dataset"
   ]
  },
  {
   "cell_type": "code",
   "execution_count": null,
   "metadata": {},
   "outputs": [],
   "source": []
  }
 ],
 "metadata": {
  "kernelspec": {
   "display_name": "lang_env",
   "language": "python",
   "name": "python3"
  },
  "language_info": {
   "codemirror_mode": {
    "name": "ipython",
    "version": 3
   },
   "file_extension": ".py",
   "mimetype": "text/x-python",
   "name": "python",
   "nbconvert_exporter": "python",
   "pygments_lexer": "ipython3",
   "version": "3.12.11"
  }
 },
 "nbformat": 4,
 "nbformat_minor": 4
}
