{
 "cells": [
  {
   "cell_type": "markdown",
   "id": "b8e37759-3e94-4abc-bac5-334a0c0adc1f",
   "metadata": {},
   "source": [
    "# Output Parser\n",
    "**Output Parser**는 대규모 언어 모델(LLM, Large Language Model)의 출력 결과를 **애플리케이션에서 활용할 수 있도록 적절한 형식으로 변환**하는 도구이다.\n",
    "- LLM은 일반적으로 텍스트 형태로 응답을 생성하지만, 이 텍스트는 그대로 활용하기 어려운 경우가 많다.\n",
    "- Output Parser는 이러한 **비구조적 텍스트 데이터를 구조화된 데이터로 변환**하여 프로그램에서 활용 가능하도록 만든다.\n",
    "- 예를 들어, 키워드 리스트를 뽑거나 JSON 형식으로 정보를 변환하는 데 사용된다.\n",
    "\n",
    "## 주요 Output Parser 종류\n",
    "\n",
    "1. **CommaSeparatedListOutputParser**\n",
    "   - 쉼표로 구분된 텍스트를 파싱하여 리스트 형태로 변환한다.\n",
    "   - 예: `\"사과, 바나나, 포도\"` → `[\"사과\", \"바나나\", \"포도\"]`\n",
    "2. **JsonOutputParser**\n",
    "   - LLM의 출력이 JSON 형식일 때 이를 Python의 `dict` 객체로 변환한다.\n",
    "   - JSON(JavaScript Object Notation)은 데이터 구조를 표현하기 위한 경량 포맷이다.\n",
    "3. **PydanticOutputParser**\n",
    "   - JSON 데이터를 Python의 [Pydantic](https://docs.pydantic.dev) 모델로 변환한다.\n",
    "   - Pydantic은 데이터 유효성 검사와 설정 관리에 널리 사용되는 Python 라이브러리이다.\n",
    "4. **StrOutputParser**\n",
    "   - 모델의 출력 결과를 단순 문자열로 반환한다.\n",
    "   - Chat 기반 모델은 Message 객체의 속성으로 LLM 결과를 반환한다. 거기에서 응답 문자열만 추출해서 반환한다.\n",
    "> `JsonOutputParser`, `PydanticOutputParser` 는 모두 Pydantic을 사용해 데이터 구조(schema)를 정의하고, 해당 구조에 따라 출력을 검증하고 변환한다.\n",
    "\n",
    "## 주요 메소드\n",
    "- `parse(text: str)`\n",
    "  - LLM이 생성한 문자열 응답을 받아 정해진 구조로 변환하여 반환한다.\n",
    "- `get_format_instructions() -> str`\n",
    "  - 각 OutputParer가 변환할 수있는 형식으로 LLM이 응답하도록 하는 프롬프트 텍스트를 반환한다.\n",
    "  - 이 내용을 프롬프트에 넣어서 LLM이 정확한 포맷으로 응답하도록 유도한다.\n",
    "  \n",
    "## 참고\n",
    "- Output Parser는 일반적으로 [`Runnable`](05_chaing_LECL.ipynb#Runnable) 인터페이스를 상속하여 구현되며, `invoke()` 메서드를 통해 실행할 수 있다.\n",
    "- `invoke()`는 내부적으로 `parse()`를 호출하여 동작한다.\n",
    "- 필요한 경우 Output Parser를 직접 구현하여 사용자 정의 출력 포맷을 처리할 수도 있다. \n"
   ]
  },
  {
   "cell_type": "code",
   "execution_count": 2,
   "id": "fb27467a-c221-4464-8d63-9cd5c390c7db",
   "metadata": {},
   "outputs": [
    {
     "data": {
      "text/plain": [
       "True"
      ]
     },
     "execution_count": 2,
     "metadata": {},
     "output_type": "execute_result"
    }
   ],
   "source": [
    "from dotenv import load_dotenv\n",
    "load_dotenv()"
   ]
  },
  {
   "cell_type": "markdown",
   "id": "f08d0e64-7c94-45fc-8070-b76965ed0943",
   "metadata": {},
   "source": [
    "## StrOutputParser\n",
    "- 모델(LLM)의 출력 결과를 string으로 변환하여 반환하는 output parser.\n",
    "- Chat Model은  Message 객체에서 content 속성값을 추출하여 문자열로 반환한다."
   ]
  },
  {
   "cell_type": "code",
   "execution_count": 3,
   "id": "8a12c88d-3b3c-48e2-8137-8e25a49075db",
   "metadata": {},
   "outputs": [],
   "source": [
    "from langchain.prompts import ChatPromptTemplate\n",
    "from langchain_openai import ChatOpenAI\n",
    "from langchain_core.output_parsers import StrOutputParser\n",
    "\n",
    "# 프롬프트 생성\n",
    "prompt_template = ChatPromptTemplate.from_template(\n",
    "    \"한국의 {topic} 관련된 속담을 {count}개 알려줘\"\n",
    ")\n",
    "prompt = prompt_template.format_prompt(\n",
    "    topic=\"호랑이\",\n",
    "    count=2\n",
    ")\n",
    "\n",
    "# LLM 모델 생성\n",
    "model = ChatOpenAI(model=\"gpt-4o-mini\")\n",
    "\n",
    "# LLM 모델에 프롬프트 전달 및 응답 받기\n",
    "response = model.invoke(prompt)"
   ]
  },
  {
   "cell_type": "code",
   "execution_count": 4,
   "id": "acc69603-8a16-4980-bd0d-3b8a2e112b1a",
   "metadata": {},
   "outputs": [
    {
     "data": {
      "text/plain": [
       "'한국의 호랑이에 관련된 속담 두 가지는 다음과 같습니다:\\n\\n1. **\"호랑이 굴에 가야 호랑이 새끼를 잡는다.\"**  \\n   이 속담은 어떤 목표를 이루기 위해서는 위험을 감수하고 적극적으로 행동해야 한다는 의미입니다. 즉, 좋은 결과를 얻기 위해서는 도전이 필요하다는 것을 강조합니다.\\n\\n2. **\"호랑이보다 더 무서운 것은 사람이다.\"**  \\n   이 속담은 사람의 힘이나 악의가 호랑이 같은 짐승보다 더 위협적일 수 있다는 뜻입니다. 즉, 외부의 위협보다도 인간의 행동이 더 무서울 수 있다는 경각심을 담고 있습니다.\\n\\n이 두 가지 속담은 호랑이를 상징적으로 사용하여 인간의 행동과 선택에 대한 교훈을 전달합니다.'"
      ]
     },
     "execution_count": 4,
     "metadata": {},
     "output_type": "execute_result"
    }
   ],
   "source": [
    "response.content"
   ]
  },
  {
   "cell_type": "code",
   "execution_count": 5,
   "id": "a2c3d245-ff2f-4587-bf2c-9815f6878030",
   "metadata": {},
   "outputs": [
    {
     "name": "stdout",
     "output_type": "stream",
     "text": [
      "content='한국의 호랑이에 관련된 속담 두 가지는 다음과 같습니다:\\n\\n1. **\"호랑이 굴에 가야 호랑이 새끼를 잡는다.\"**  \\n   이 속담은 어떤 목표를 이루기 위해서는 위험을 감수하고 적극적으로 행동해야 한다는 의미입니다. 즉, 좋은 결과를 얻기 위해서는 도전이 필요하다는 것을 강조합니다.\\n\\n2. **\"호랑이보다 더 무서운 것은 사람이다.\"**  \\n   이 속담은 사람의 힘이나 악의가 호랑이 같은 짐승보다 더 위협적일 수 있다는 뜻입니다. 즉, 외부의 위협보다도 인간의 행동이 더 무서울 수 있다는 경각심을 담고 있습니다.\\n\\n이 두 가지 속담은 호랑이를 상징적으로 사용하여 인간의 행동과 선택에 대한 교훈을 전달합니다.' additional_kwargs={'refusal': None} response_metadata={'token_usage': {'completion_tokens': 185, 'prompt_tokens': 22, 'total_tokens': 207, 'completion_tokens_details': {'accepted_prediction_tokens': 0, 'audio_tokens': 0, 'reasoning_tokens': 0, 'rejected_prediction_tokens': 0}, 'prompt_tokens_details': {'audio_tokens': 0, 'cached_tokens': 0}}, 'model_name': 'gpt-4o-mini-2024-07-18', 'system_fingerprint': 'fp_34a54ae93c', 'id': 'chatcmpl-BgNFnQQRsh11QqHOlSp3Sz7IX1cqm', 'service_tier': 'default', 'finish_reason': 'stop', 'logprobs': None} id='run--a069e303-db52-4129-8f6c-928249fc1aa7-0' usage_metadata={'input_tokens': 22, 'output_tokens': 185, 'total_tokens': 207, 'input_token_details': {'audio': 0, 'cache_read': 0}, 'output_token_details': {'audio': 0, 'reasoning': 0}}\n"
     ]
    }
   ],
   "source": [
    "parser = StrOutputParser()                                  # Message 객체에서 content 속성의 값만 추출\n",
    "res = parser.parse(response)                                # 응답을 파싱하여 문자열로 변환\n",
    "print(res)                                                  # 결과 출력"
   ]
  },
  {
   "cell_type": "code",
   "execution_count": 6,
   "id": "e0f06257",
   "metadata": {},
   "outputs": [
    {
     "name": "stdout",
     "output_type": "stream",
     "text": [
      "한국에는 정신력과 관련된 여러 속담이 있습니다. 다음은 그 중 세 가지입니다.\n",
      "\n",
      "1. **\"떡 줄 사람은 꿈도 안 꾸고\"**  \n",
      "   의미: 무언가를 받으려면 그에 상응하는 준비나 노력이 필요하다는 것을 나타냅니다. 힘든 상황에서도 포기하지 않으려는 정신력과 노력의 중요성을 강조합니다.\n",
      "\n",
      "2. **\"고생 끝에 낙이 온다\"**  \n",
      "   의미: 힘든 과정을 겪고 나면 좋은 결과가 뒤따른다는 뜻으로, 힘든 순간에도 최선을 다하면 결국에는 보상이 있다는 것을 알려줍니다.\n",
      "\n",
      "3. **\"웃으면 복이 온다\"**  \n",
      "   의미: 긍정적인 마음가짐이 좋은 운을 가져온다는 뜻으로, 어려운 상황에서도 긍정적인 태도를 유지하는 것이 중요하다는 것을 강조합니다.\n",
      "\n",
      "이 속담들은 어려운 상황에서의 정신력과 긍정적인 태도의 중요성을 잘 보여줍니다.\n"
     ]
    }
   ],
   "source": [
    "# prompt_template -> model -> response -> output parser\n",
    "chain = prompt_template | model | parser                    # 체인 생성(pipeline)\n",
    "\n",
    "res = chain.invoke({\"topic\": \"사람의 정신력\", \"count\": 3})\n",
    "print(res)"
   ]
  },
  {
   "cell_type": "markdown",
   "id": "85c38dec-0141-468f-9145-96c7062db100",
   "metadata": {},
   "source": [
    "## CommaSeparatedListOutputParser\n",
    "\n",
    "- 쉼표로 구분된 텍스트를 파싱하여 리스트 형태로 변환한다.\n",
    "  - \"a,b,c\" => ['a','b','c']"
   ]
  },
  {
   "cell_type": "code",
   "execution_count": 7,
   "id": "e7676198-380d-44e9-90a5-1e400244add8",
   "metadata": {},
   "outputs": [
    {
     "name": "stdout",
     "output_type": "stream",
     "text": [
      "['사과', '당근', '수박', '참외', '메론']\n"
     ]
    }
   ],
   "source": [
    "from langchain_core.output_parsers import CommaSeparatedListOutputParser\n",
    "\n",
    "parser = CommaSeparatedListOutputParser()\n",
    "res_txt = \"사과,당근,수박,참외,메론\"\n",
    "print(parser.invoke(res_txt))"
   ]
  },
  {
   "cell_type": "code",
   "execution_count": 8,
   "id": "4b93df61-56af-450b-9255-d5c5026cd2a2",
   "metadata": {},
   "outputs": [
    {
     "name": "stdout",
     "output_type": "stream",
     "text": [
      "Your response should be a list of comma separated values, eg: `foo, bar, baz` or `foo,bar,baz`\n"
     ]
    }
   ],
   "source": [
    "# 출력 형식 지정\n",
    "format_string = parser.get_format_instructions()\n",
    "print(format_string)"
   ]
  },
  {
   "cell_type": "code",
   "execution_count": 9,
   "id": "dfdc3bb2-ff64-4be7-87d0-f0445babad33",
   "metadata": {},
   "outputs": [],
   "source": [
    "from textwrap import dedent\n",
    "prompt_template = ChatPromptTemplate.from_template(\n",
    "    dedent(\"\"\"\n",
    "        # instruction\n",
    "        {subject}의 이름 다섯개를 나열해주세요.\n",
    "\n",
    "        # output indicator  ->  출력 형식 지정\n",
    "        {format_instructions}\n",
    "        \"\"\"),\n",
    "        partial_variables={\"format_instructions\":parser.get_format_instructions()}\n",
    ")\n",
    "# partial_variables={변수명:넣을값,...} : 템플릿의 placeholder 변수에 넣을 값을 prompttemplate 객체 생성 시 넣음\n",
    "# placeholder에 넣을 값이 있는데 함수나 메소드호출을 통해 그 값을 가져와야 하는 경우 사용\n",
    "\n",
    "model = ChatOpenAI(model_name=\"gpt-4o-mini\")\n",
    "\n",
    "# prompt 생성\n",
    "prompt = prompt_template.invoke({\"subject\":\"동물\"})\n",
    "# LLM에 요청\n",
    "response = model.invoke(prompt)"
   ]
  },
  {
   "cell_type": "code",
   "execution_count": 10,
   "id": "a8d592f1",
   "metadata": {},
   "outputs": [
    {
     "name": "stdout",
     "output_type": "stream",
     "text": [
      "고양이, 개, 토끼, 코끼리, 사자\n",
      "<class 'list'>\n",
      "['고양이', '개', '토끼', '코끼리', '사자']\n"
     ]
    }
   ],
   "source": [
    "print(response.content)\n",
    "res = parser.invoke(response)\n",
    "print(type(res))\n",
    "print(res)"
   ]
  },
  {
   "cell_type": "code",
   "execution_count": 11,
   "id": "281da899",
   "metadata": {},
   "outputs": [
    {
     "data": {
      "text/plain": [
       "['소나타', '아반떼', '말리부', '싼타페', '투싼']"
      ]
     },
     "execution_count": 11,
     "metadata": {},
     "output_type": "execute_result"
    }
   ],
   "source": [
    "# chain으로 구성\n",
    "chain = prompt_template | model | parser\n",
    "\n",
    "res = chain.invoke({\"subject\":\"한국산 자동차\"})\n",
    "res"
   ]
  },
  {
   "cell_type": "markdown",
   "id": "abe378b6-26db-4218-a0b1-64ff93fa044d",
   "metadata": {},
   "source": [
    "## JsonOutputParser\n",
    "\n",
    "- JSON 형식의 응답을 dictionary로 반환한다.\n",
    "- JSON 형식을 정하려는 경우 [Pydantic](Ref_typing_Pydantic.ipynb)을 이용해 JSON 스키마를 정의하여 JsonOutputParser 생성시 전달한다.\n",
    "  - Pydantic 모델클래스를 이용해 LLM 모델이 응답할 때 json의 어떤 key에 어떤 응답을 작성할 지 Field로 정의한다.\n",
    "  - Schema 지정은 필수는 아니다. \n",
    "- LLM이 JSON Schema를 따르는 형태로 응답을 하면 JsonOutputParser는 Dictionary로 변환한다."
   ]
  },
  {
   "cell_type": "code",
   "execution_count": 12,
   "id": "d0274a4d-c883-4473-b0d3-f9ac3f3e13fd",
   "metadata": {},
   "outputs": [
    {
     "name": "stdout",
     "output_type": "stream",
     "text": [
      "<class 'dict'>\n"
     ]
    },
    {
     "data": {
      "text/plain": [
       "{'name': '홍길동', 'age': 20, 'address': '서울', 'hobby': ['독서', '게임']}"
      ]
     },
     "execution_count": 12,
     "metadata": {},
     "output_type": "execute_result"
    }
   ],
   "source": [
    "from langchain_core.output_parsers import JsonOutputParser\n",
    "\n",
    "parser = JsonOutputParser()\n",
    "res_text = \"\"\"\n",
    "    {\n",
    "        \"name\":\"홍길동\",\n",
    "        \"age\":20,\n",
    "        \"address\":\"서울\",\n",
    "        \"hobby\":[\"독서\", \"게임\"]\n",
    "    }\n",
    "\"\"\"\n",
    "res_dict = parser.invoke(res_text)\n",
    "print(type(res_dict))\n",
    "res_dict"
   ]
  },
  {
   "cell_type": "code",
   "execution_count": 13,
   "id": "15f82523-783e-41ea-99c1-798157a296a1",
   "metadata": {},
   "outputs": [
    {
     "data": {
      "text/plain": [
       "'Return a JSON object.'"
      ]
     },
     "execution_count": 13,
     "metadata": {},
     "output_type": "execute_result"
    }
   ],
   "source": [
    "parser.get_format_instructions()"
   ]
  },
  {
   "cell_type": "code",
   "execution_count": 14,
   "id": "74aeb5b0-bc53-4129-a728-0a1d3252cefc",
   "metadata": {},
   "outputs": [],
   "source": [
    "prompt_template = ChatPromptTemplate.from_template(\n",
    "    \"{name}에 대해서 설명해줘.\\n{format_instructions}\",\n",
    "    partial_variables={\"format_instructions\":parser.get_format_instructions()}\n",
    ")\n",
    "model = ChatOpenAI(model_name=\"gpt-4o-mini\")\n",
    "prompt = prompt_template.invoke({\"name\":\"아이폰\"})\n",
    "response = model.invoke(prompt)"
   ]
  },
  {
   "cell_type": "code",
   "execution_count": 15,
   "id": "9f17cc03",
   "metadata": {},
   "outputs": [
    {
     "name": "stdout",
     "output_type": "stream",
     "text": [
      "```json\n",
      "{\n",
      "  \"product\": {\n",
      "    \"name\": \"아이폰\",\n",
      "    \"manufacturer\": \"Apple Inc.\",\n",
      "    \"first_release_date\": \"2007-06-29\",\n",
      "    \"current_model\": {\n",
      "      \"name\": \"아이폰 15\",\n",
      "      \"release_date\": \"2023-09-22\",\n",
      "      \"features\": [\n",
      "        \"A17 Pro 칩\",\n",
      "        \"Super Retina XDR 디스플레이\",\n",
      "        \"5G 연결\",\n",
      "        \"향상된 카메라 시스템\",\n",
      "        \"다양한 색상 옵션\"\n",
      "      ]\n",
      "    },\n",
      "    \"operating_system\": {\n",
      "      \"name\": \"iOS\",\n",
      "      \"current_version\": \"iOS 17\",\n",
      "      \"features\": [\n",
      "        \"개인정보 보호 기능 향상\",\n",
      "        \"위젯 및 홈 화면 맞춤 설정\",\n",
      "        \"FaceTime 및 메시지의 새로운 기능\"\n",
      "      ]\n",
      "    },\n",
      "    \"significance\": \"아이폰은 스마트폰의 본질을 변화시킨 혁신적인 제품으로, 터치스크린 기반의 인터페이스와 앱 생태계를 통해 모바일 기술을 발전시키는 데 기여했습니다.\",\n",
      "    \"market_impact\": \"아이폰은 전 세계 스마트폰 시장에서 중요한 위치를 차지하고 있으며, Apple의 주요 수익원 중 하나입니다.\"\n",
      "  }\n",
      "}\n",
      "```\n"
     ]
    }
   ],
   "source": [
    "print(response.content)"
   ]
  },
  {
   "cell_type": "code",
   "execution_count": 16,
   "id": "ea36759a",
   "metadata": {},
   "outputs": [
    {
     "name": "stdout",
     "output_type": "stream",
     "text": [
      "<class 'str'> <class 'dict'>\n"
     ]
    }
   ],
   "source": [
    "response_dict = parser.invoke(response)\n",
    "print(type(response.content), type(response_dict))"
   ]
  },
  {
   "cell_type": "code",
   "execution_count": 17,
   "id": "b12ff093",
   "metadata": {},
   "outputs": [],
   "source": [
    "# response_dict[\"아이폰\"][\"첫 번째 출시\"]"
   ]
  },
  {
   "cell_type": "code",
   "execution_count": 20,
   "id": "5abb8dc6",
   "metadata": {},
   "outputs": [],
   "source": [
    "# 출력 스키마를 정의\n",
    "# json 형식을 설계\n",
    "from pydantic import BaseModel, Field\n",
    "\n",
    "class ItemSchema(BaseModel):\n",
    "    # JSON에 포함될 항목들을 class변수로 정의. 변수명:타입=Field(설명)\n",
    "    name: str = Field(description=\"제품의 이름\")\n",
    "    info: str = Field(description=\"제품에 대한 정보\")\n",
    "    release_date: str = Field(description=\"제품이 출시된 일시, yyyy-mm-dd 형식\")\n",
    "    price: int = Field(description=\"제품의 가격\")\n",
    "\n",
    "parser = JsonOutputParser(pydantic_object=ItemSchema)\n",
    "# print(parser.get_format_instructions())\n",
    "\n",
    "prompt_template = ChatPromptTemplate.from_template(\n",
    "    dedent(\"\"\"\n",
    "        # instruction\n",
    "        {name}에 대해서 설명해주세요.\n",
    "           \n",
    "        # output indicator\n",
    "        {format_instructions}\n",
    "\"\"\"),\n",
    "partial_variables={\"format_instructions\":parser.get_format_instructions()}\n",
    ")\n",
    "\n",
    "model = ChatOpenAI(model_name=\"gpt-4o-mini\")"
   ]
  },
  {
   "cell_type": "code",
   "execution_count": 24,
   "id": "3bf3e33c",
   "metadata": {},
   "outputs": [
    {
     "data": {
      "text/plain": [
       "{'name': '갤럭시 S24',\n",
       " 'info': '갤럭시 S24는 삼성의 최신 스마트폰으로, 강력한 프로세서와 향상된 카메라 성능을 제공합니다. 또한, 120Hz 주사율의 AMOLED 디스플레이와 IP68등급의 방수 및 방진 기능이 특징입니다.',\n",
       " 'release_date': '2023-02-01',\n",
       " 'price': 999}"
      ]
     },
     "execution_count": 24,
     "metadata": {},
     "output_type": "execute_result"
    }
   ],
   "source": [
    "p = prompt_template.invoke({\"name\":\"갤럭시s24\"})\n",
    "res = model.invoke(p)\n",
    "response = parser.invoke(res)\n",
    "response"
   ]
  },
  {
   "cell_type": "markdown",
   "id": "6c47de9c-f028-45e0-adf7-f31239afaf2f",
   "metadata": {},
   "source": [
    "## PydanticOutputParser\n",
    "\n",
    "- JSON 형태로 받은 응답을 Pydantic 모델로 변환하여 반환한다.\n",
    "- 구현은 JsonOutputParser와 동일한데 parsing 결과를 pydantic 모델타입으로 반환한다."
   ]
  },
  {
   "cell_type": "code",
   "execution_count": 25,
   "id": "4474a71b-61aa-4877-b1ae-8d54cfc51bbe",
   "metadata": {},
   "outputs": [
    {
     "name": "stdout",
     "output_type": "stream",
     "text": [
      "<bound method PydanticOutputParser.get_format_instructions of PydanticOutputParser(pydantic_object=<class '__main__.ItemSchema'>)>\n"
     ]
    }
   ],
   "source": [
    "from langchain_core.output_parsers import PydanticOutputParser\n",
    "\n",
    "parser = PydanticOutputParser(pydantic_object=ItemSchema)\n",
    "# JsonOutputParser와 동일한 format instruction을 생성\n",
    "# 응답 : JSON -> Parser : Pydantic Model 객체로 변환\n",
    "print(parser.get_format_instructions)"
   ]
  },
  {
   "cell_type": "code",
   "execution_count": 26,
   "id": "1b95da11-4334-4d01-a33f-b48148659f57",
   "metadata": {},
   "outputs": [],
   "source": [
    "prompt_template = ChatPromptTemplate.from_template(\n",
    "    dedent(\"\"\"\n",
    "        # instruction\n",
    "        {name}에 대해서 설명해주세요.\n",
    "           \n",
    "        # output indicator\n",
    "        {format_instructions}\n",
    "\"\"\"),\n",
    "partial_variables={\"format_instructions\":parser.get_format_instructions()}\n",
    ")\n",
    "\n",
    "model = ChatOpenAI(model_name=\"gpt-4o-mini\")"
   ]
  },
  {
   "cell_type": "code",
   "execution_count": 40,
   "id": "38662eb2-a7c2-473b-bdb0-a5054048458a",
   "metadata": {},
   "outputs": [],
   "source": [
    "prompt = prompt_template.invoke({\"name\":\"맥북\"})\n",
    "res = model.invoke(prompt)\n",
    "response = parser.invoke(res)"
   ]
  },
  {
   "cell_type": "code",
   "execution_count": 41,
   "id": "f2977085-d5bc-438f-91d4-14227e66761b",
   "metadata": {},
   "outputs": [
    {
     "data": {
      "text/plain": [
       "__main__.ItemSchema"
      ]
     },
     "execution_count": 41,
     "metadata": {},
     "output_type": "execute_result"
    }
   ],
   "source": [
    "type(response)"
   ]
  },
  {
   "cell_type": "code",
   "execution_count": 42,
   "id": "08ca4d99",
   "metadata": {},
   "outputs": [
    {
     "name": "stdout",
     "output_type": "stream",
     "text": [
      "제품이름 맥북\n",
      "정보 애플사가 개발한 노트북 컴퓨터로, macOS 운영체제를 실행하며 우수한 디자인과 성능을 자랑합니다.\n",
      "2006-01-10 1200000\n"
     ]
    }
   ],
   "source": [
    "print(\"제품이름\", response.name)\n",
    "print(\"정보\", response.info)\n",
    "print(response.release_date, response.price)"
   ]
  },
  {
   "cell_type": "code",
   "execution_count": 43,
   "id": "9e60d734",
   "metadata": {},
   "outputs": [],
   "source": [
    "chain = prompt_template | model | parser\n",
    "response = chain.invoke({\"name\":\"아이폰\"})"
   ]
  },
  {
   "cell_type": "code",
   "execution_count": 44,
   "id": "460adf2c",
   "metadata": {},
   "outputs": [
    {
     "data": {
      "text/plain": [
       "ItemSchema(name='아이폰', info='아이폰은 애플이 개발한 스마트폰으로, 터치스크린 인터페이스와 iOS 운영 체제를 채택하고 있으며, 다양한 애플리케이션을 지원합니다.', release_date='2007-06-29', price=999)"
      ]
     },
     "execution_count": 44,
     "metadata": {},
     "output_type": "execute_result"
    }
   ],
   "source": [
    "response"
   ]
  }
 ],
 "metadata": {
  "kernelspec": {
   "display_name": "lang_env",
   "language": "python",
   "name": "python3"
  },
  "language_info": {
   "codemirror_mode": {
    "name": "ipython",
    "version": 3
   },
   "file_extension": ".py",
   "mimetype": "text/x-python",
   "name": "python",
   "nbconvert_exporter": "python",
   "pygments_lexer": "ipython3",
   "version": "3.12.11"
  }
 },
 "nbformat": 4,
 "nbformat_minor": 5
}
