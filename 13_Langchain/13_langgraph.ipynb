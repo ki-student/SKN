{
 "cells": [
  {
   "cell_type": "markdown",
   "id": "1663fa59",
   "metadata": {},
   "source": [
    "# 1. 랭그래프란 어떤 프레임워크인가\n",
    "\n",
    "## **랭그래프란?**\n",
    "\n",
    "랭그래프는 LangChain 생태계에서 개발된 그래프 기반 워크플로우 프레임워크로, 복잡한 멀티 에이전트 시스템과 상태 기반 AI 애플리케이션을 개발하는 데 특화되어 있다. 기존의 선형적인 처리 방식과 달리, 노드(점)와 엣지(선)로 구성된 그래프 구조를 통해 비선형적이고 동적인 프로세스를 구성할 수 있다.\n",
    "\n",
    "랭그래프의 가장 큰 특징은 **사이클(순환 구조)**을 지원한다는 점이다4. 이는 특정 조건에 따라 이전 단계로 돌아가거나 다른 경로를 선택할 수 있음을 의미한다. 예를 들어, 검색 결과가 만족스럽지 않을 때 다시 검색을 수행하거나, 답변의 품질이 낮을 때 재생성을 요청하는 등의 복잡한 로직을 구현할 수 있다.\n",
    "\n",
    "## **랭체인과의 관계**\n",
    "\n",
    "랭그래프는 랭체인(LangChain)의 기능을 확장하여 만들어진 프레임워크이다. 두 프레임워크의 주요 차이점을 살펴보면 다음과 같다:\n",
    "\n",
    "**구조적 차이점:**\n",
    "\n",
    "- **랭체인**: 선형적이고 직선적인 체인 구조로, 정의된 순서에 따라 작업을 수행한다\n",
    "    \n",
    "- **랭그래프**: 노드와 엣지의 연결을 통해 비선형적이고 동적인 프로세스를 구성한다\n",
    "    \n",
    "\n",
    "**복잡도와 유연성:**\n",
    "\n",
    "- **랭체인**: 비교적 간단한 애플리케이션과 직선적인 워크플로우에 적합하다\n",
    "    \n",
    "- **랭그래프**: 복잡한 다단계 작업, 멀티 에이전트 협업, 동적인 의사결정 트리 등 복잡한 워크플로우를 관리하는 데 유용하다\n",
    "    \n",
    "\n",
    "**상태 관리:**\n",
    "\n",
    "- **랭체인**: 암시적이고 자동화된 상태 관리를 제공한다\n",
    "    \n",
    "- **랭그래프**: 명시적이고 세밀한 상태 관리를 통해 각 단계에서 상태를 직접 제어할 수 있다\n",
    "    \n",
    "\n",
    "## **랭그래프 프레임워크의 핵심 기능 정리**\n",
    "\n",
    "랭그래프의 핵심 기능들을 정리하면 다음과 같다:\n",
    "\n",
    "**1. 그래프 기반 워크플로우**: 노드와 엣지로 구성된 그래프 구조를 통해 복잡한 처리 흐름을 시각적으로 표현하고 관리할 수 있다.\n",
    "\n",
    "**2. 상태 기반 처리**: 전체 애플리케이션의 상태를 중앙에서 관리하며, 각 노드가 이 상태를 공유하고 업데이트할 수 있다4.\n",
    "\n",
    "**3. 조건부 분기**: 실행 중에 조건에 따라 다른 경로를 선택할 수 있는 동적 라우팅 기능을 제공한다.\n",
    "\n",
    "**4. 순환 구조 지원**: 특정 조건에서 이전 단계로 돌아가거나 반복 실행이 가능한 사이클 구조를 구현할 수 있다4.\n",
    "\n",
    "**5. 멀티 에이전트 협업**: 여러 AI 에이전트가 협력하여 복잡한 작업을 수행할 수 있는 환경을 제공한다.\n"
   ]
  },
  {
   "cell_type": "code",
   "execution_count": null,
   "id": "87e9dfb6",
   "metadata": {},
   "outputs": [],
   "source": []
  },
  {
   "cell_type": "markdown",
   "id": "b01a90cf",
   "metadata": {},
   "source": [
    "# 2. 랭그래프 기본 구조\n",
    "\n",
    "## **엣지와 노드**\n",
    "\n",
    "랭그래프의 기본 구조는 **노드(Node)**와 **엣지(Edge)**로 구성된다.\n",
    "\n",
    "**노드(Node)**: 실제 작업을 수행하는 Python 함수들로, 각각의 노드는 특정 로직을 담당한다. 노드는 현재 상태를 입력으로 받아서 작업을 수행하고, 업데이트된 상태를 반환한다. 예를 들어, LLM 호출, 문서 검색, 데이터 처리 등의 기능을 수행할 수 있다.\n",
    "\n",
    "**엣지(Edge)**: 노드 간의 연결을 정의하며, 다음에 어떤 노드를 실행할지 결정하는 역할을 한다. 엣지는 워크플로우의 흐름을 제어하고 조건부 라우팅을 가능하게 한다.\n",
    "\n",
    "## **상태(State)**\n",
    "\n",
    "상태(State)는 전체 애플리케이션의 현재 상태를 나타내는 공유 데이터 구조이다. 모든 노드가 이 상태에 접근할 수 있으며, 작업 결과에 따라 상태를 업데이트할 수 있다. 상태는 일반적으로 TypedDict 또는 Pydantic BaseModel로 정의된다.\n",
    "\n",
    "상태의 주요 역할은 다음과 같다:\n",
    "\n",
    "- **전체 워크플로우의 컨텍스트 유지**: 처리 과정에서 필요한 모든 정보를 중앙에서 관리한다\n",
    "    \n",
    "- **노드 간 정보 공유**: 한 노드에서 처리한 결과를 다른 노드에서 활용할 수 있게 한다\n",
    "    \n",
    "- **진행 상황 추적**: 현재 어떤 단계에 있는지, 어떤 작업이 완료되었는지 추적한다\n",
    "    \n",
    "\n",
    "## **StateGraph**\n",
    "\n",
    "StateGraph는 랭그래프의 핵심 클래스로, 상태 기반의 계산 그래프를 정의하는 역할을 한다. StateGraph는 에이전트의 수명 주기 전반에 걸쳐 상태가 유지되도록 하며, 그래프의 노드들이 이 상태를 업데이트할 수 있게 한다.\n",
    "\n",
    "StateGraph의 초기화 과정에서는 상태 정의를 전달하며, 이후 노드들이 키-값 형태로 상태의 속성을 반환하게 된다.\n",
    "\n",
    "## **랭그래프에서 상태관리**\n",
    "\n",
    "랭그래프에서 상태 관리는 두 가지 방식으로 이루어진다:\n",
    "\n",
    "**1. 완전 재정의 방식**: 노드가 속성의 새 값을 반환하여 기존 값을 완전히 대체하는 방식이다.\n",
    "\n",
    "**2. 업데이트 방식**: 기존 속성 값에 새로운 값을 추가하는 방식으로, `operator.add`와 같은 어노테이션을 사용하여 구현한다. 예를 들어, 메시지 리스트에 새로운 메시지를 추가할 때 사용된다."
   ]
  },
  {
   "cell_type": "code",
   "execution_count": null,
   "id": "d40bb96b",
   "metadata": {},
   "outputs": [],
   "source": []
  },
  {
   "cell_type": "markdown",
   "id": "3f77726f",
   "metadata": {},
   "source": [
    "# 3. 랭그래프 구현\n",
    "\n",
    "## **상태(State) 구조 정의**\n",
    "\n",
    "- 랭그래프를 구현하기 위해서는 먼저 State 클래스를 정의 한다.\n",
    "    - State는 `TypedDict`를 상속받아 정의하며, 각 속성에 대해 reducer 함수를 지정할 수 있다. \n",
    "    - Reducer 함수는 기존 값과 새 값을 어떻게 결합할지 정의한다 (예: 리스트 추가, 값 덮어쓰기 등)\n",
    "- State는 graph의 노드들이 공유할 데이터이다.\n",
    "- State 클래스는 state의 속성들을 정의하는 스키마(schema)이다.\n",
    "\n",
    "\n",
    "```python\n",
    "from typing import TypedDict\n",
    "class MyState(TypedDict):\n",
    "     counter: int    \n",
    "     messages: list \n",
    "```\n",
    "\n",
    "## **노드 정의**\n",
    "\n",
    "노드는 실제 작업을 수행하는 Python 함수로 정의된다. 각 노드 함수는 현재 상태를 입력으로 받아 처리 후 업데이트된 상태를 반환한다.\n",
    "\n",
    "```python\n",
    "def increment_counter(state):    \n",
    "     return {\"counter\": state[\"counter\"] + 1} \n",
    "     \n",
    "def process_message(state):\n",
    "    # 메시지 처리 로직    \n",
    "    new_message = \"처리된 메시지\"    \n",
    "    return {\"messages\": state[\"messages\"] + [new_message]}\n",
    "```\n",
    "\n",
    "\n",
    "## **엣지 정의**\n",
    "\n",
    "엣지는 노드 간의 연결을 정의하며, `add_edge` 메서드를 사용하여 추가한다. 기본적인 엣지는 한 노드에서 다른 노드로의 직접적인 연결을 의미한다.\n",
    "\n",
    "```python\n",
    "graph.add_edge(\"node1\", \"node2\") \n",
    "graph.add_edge(\"node2\", \"node3\")\n",
    "```\n",
    "\n",
    "## **그래프 구성**\n",
    "\n",
    "- 노드와 엣지를 정의한 후에는 그래프를 구성하고 컴파일해야 한다. \n",
    "  - `StateGraph`를 생성하고 그래프에 노드들을 추가한다.\n",
    "  - 각 노드들을 연결하여 엣지를 추가한다. 이 과정에서 시작점과 종료점을 설정한다.\n",
    "  - 컴파일을 통해 그래프의 구조를 검증한다.\n",
    "\n",
    "```python\n",
    "from langgraph.graph import START, END\n",
    "from langgraph.graph import StateGraph \n",
    "\n",
    "# StateGraph 생성\n",
    "graph = StateGraph(MyState)\n",
    "\n",
    "# 노드 추가 \n",
    "graph.add_node(\"increment\", increment_counter) \n",
    "graph.add_node(\"process\", process_message) \n",
    "# 엣지 추가 \n",
    "graph.add_edge(START, \"increment\") \n",
    "graph.add_edge(\"increment\", \"process\") \n",
    "graph.add_edge(\"process\", END) \n",
    "# 그래프 컴파일 \n",
    "app = graph.compile(\n",
    "```\n",
    "\n",
    "## **그래프 실행**\n",
    "\n",
    "- 실행 시에는 초기 상태(Initial state)를 제공하여 그래프를 실행한다.   \n",
    "- 그래프는 이 초기 상태부터 시작하여 정의된 노드들을 순차적으로 실행하며 상태를 업데이트한다.\n",
    "\n",
    "```python\n",
    "result = app.invoke({\"counter\": 0, \"messages\": []}) \n",
    "print(result)\n",
    "```"
   ]
  },
  {
   "cell_type": "code",
   "execution_count": 1,
   "id": "41597cd1",
   "metadata": {},
   "outputs": [
    {
     "data": {
      "text/plain": [
       "True"
      ]
     },
     "execution_count": 1,
     "metadata": {},
     "output_type": "execute_result"
    }
   ],
   "source": [
    "from langchain_openai import ChatOpenAI\n",
    "from langgraph.graph import StateGraph, START, END\n",
    "from langgraph.graph.message import add_messages\n",
    "from typing_extensions import TypedDict\n",
    "from typing import Annotated\n",
    "from dotenv import load_dotenv\n",
    "load_dotenv()"
   ]
  },
  {
   "cell_type": "code",
   "execution_count": 19,
   "id": "bedb1230",
   "metadata": {},
   "outputs": [],
   "source": [
    "################################################################\n",
    "# 상태 클래스 정의\n",
    "# 노드들이 공유할 state값들을 정의하는 클래스(타입)\n",
    "################################################################\n",
    "class State(TypedDict):\n",
    "    # state에 저장할 값(속성, state)들을 정의\n",
    "    messages: Annotated[list, add_messages]                     # 변수 : Annotated[변수타입, 설명]\n",
    "    \n",
    "    # add_messages(left:list, right:list) : return left + right -> langgraph에서 챗봇용으로 만듦"
   ]
  },
  {
   "cell_type": "code",
   "execution_count": 24,
   "id": "be1321c9",
   "metadata": {},
   "outputs": [],
   "source": [
    "model = ChatOpenAI(model=\"gpt-4.1-mini\")\n",
    "########################################################\n",
    "# 노드 정의\n",
    "# 노드 == 기능 == 함수(callable): 파라미터로 state 타입을 선언\n",
    "def chatbot(state:State):\n",
    "    # state: Dictionary\n",
    "    print(\"chatbot:state type:\", type(state))\n",
    "    # messages를 llm에 query로 전달\n",
    "    response = model.invoke(state[\"messages\"])          # invoke(str 또는 Message List)\n",
    "    # response를 state에 저장 -> dictionary로 구성 {저장할 state의 이름:저장할 값}\n",
    "    return {\"messages\":[response]}          # return -> state에 저장"
   ]
  },
  {
   "cell_type": "code",
   "execution_count": 25,
   "id": "5993c7c0",
   "metadata": {},
   "outputs": [],
   "source": [
    "# 그래프 구성(StateGraph)\n",
    "# 노드와 엣지 + state\n",
    "workflow = StateGraph(State)\n",
    "# graph(workflow)에 노드를 추가\n",
    "workflow.add_node(\"chatbot\",chatbot)\n",
    "\n",
    "# graph에 엣지를 구성.\n",
    "# start 노드 - 엣지 구성 - (END 노드:생략가능)\n",
    "workflow.add_edge(START, \"chatbot\")\n",
    "workflow.add_edge(\"chatbot\", END)\n",
    "\n",
    "# 구성을 완료하면 compile -> 그래프 최적화를 하고 실행할 수 있도록 만드는 작업\n",
    "graph = workflow.compile()"
   ]
  },
  {
   "cell_type": "code",
   "execution_count": 26,
   "id": "8f015e29",
   "metadata": {},
   "outputs": [
    {
     "data": {
      "image/png": "[encoded data removed]",
      "text/plain": [
       "<IPython.core.display.Image object>"
      ]
     },
     "execution_count": 26,
     "metadata": {},
     "output_type": "execute_result"
    }
   ],
   "source": [
    "##################################################\n",
    "# 그래프 구조 시각화 -> 실행 흐름 확인\n",
    "##################################################\n",
    "from IPython.display import Image\n",
    "Image(graph.get_graph().draw_mermaid_png())"
   ]
  },
  {
   "cell_type": "code",
   "execution_count": 12,
   "id": "b616fcba",
   "metadata": {},
   "outputs": [],
   "source": [
    "##################################################\n",
    "# 실행 - graph.invoke()\n",
    "##################################################\n",
    "from langchain_core.messages import HumanMessage\n",
    "query = \"Langgraph에 대해서 알려줘\"\n",
    "init_state = {\"messages\":[HumanMessage(content=query)]}\n",
    "resp = graph.invoke(init_state)                               # state에 넣어줄 초기값 -> 첫번째 노드가 사용"
   ]
  },
  {
   "cell_type": "code",
   "execution_count": 13,
   "id": "abf36a27",
   "metadata": {},
   "outputs": [
    {
     "name": "stdout",
     "output_type": "stream",
     "text": [
      "LangGraph는 **언어 모델(LLM, Large Language Model)**을 활용하여 복잡한 워크플로우나 애플리케이션을 만들기 위한 **그래프 기반 오케스트레이션 프레임워크**입니다. LangGraph는 LangChain 팀에서 개발했으며, \"Stateful, Multi-Actor Applications with LLMs\"을 구현하는 데 중점을 두고 있습니다.\n",
      "\n",
      "### LangGraph의 특징\n",
      "\n",
      "1. **그래프 기반 구조**\n",
      "   - 노드(node)와 엣지(edge)로 이루어진 그래프 형태로 워크플로우를 설계합니다.\n",
      "   - 각 노드는 LLM, 툴 호출, 함수, 조건문 등 다양한 역할을 수행할 수 있습니다.\n",
      "   - 엣지는 데이터 흐름, 조건 분기, 에러 처리 루트를 지정하는 데 사용됩니다.\n",
      "\n",
      "2. **상태(State) 관리**\n",
      "   - 각 단계(노드)에서 상태(state)를 읽고 쓰며, 복잡한 데이터와 이력 관리가 가능합니다.\n",
      "   - 세션이나 멀티턴 대화, 문서 생성 등 상태 변화가 중요한 애플리케이션에 적합합니다.\n",
      "\n",
      "3. **Multi-Agent 및 Multi-step 시나리오**\n",
      "   - 여러 LLM(Agent)이나 유틸리티 툴이 협업하는 시나리오를 손쉽게 구현할 수 있습니다.\n",
      "   - 예: 역할이 다른 여러 봇, 단계마다 검증/요약이 필요한 복잡한 작업 등.\n",
      "\n",
      "4. **LangChain과의 통합**\n",
      "   - LangChain의 체인, 툴, 메모리 등과 완벽히 호환되어 빠르게 복잡한 앱을 만들 수 있습니다.\n",
      "\n",
      "### LangGraph의 활용 예시\n",
      "\n",
      "- 멀티스텝 챗봇 플로우 (초기 질문 → 요약 → 후처리)\n",
      "- 문서 분할 및 처리 → 정보 추출 → 검증 루프\n",
      "- 여러 Agent 간 협력 대화 설계\n",
      "- LLM Output 검증 및 Post-processing Workflow 구축\n",
      "\n",
      "### 코드 예시\n",
      "\n",
      "아래는 LangGraph에서 워크플로우(그래프) 설계를 단순화한 예입니다 (파이썬 사용):\n",
      "\n",
      "```python\n",
      "import langgraph\n",
      "\n",
      "# 간단한 그래프 노드 정의\n",
      "def greet(state, input):\n",
      "    return \"안녕하세요!\"\n",
      "\n",
      "def farewell(state, input):\n",
      "    return \"좋은 하루 되세요!\"\n",
      "\n",
      "graph = langgraph.Graph()\n",
      "graph.add_node(\"greet\", greet)\n",
      "graph.add_node(\"farewell\", farewell)\n",
      "graph.add_edge(\"greet\", \"farewell\")\n",
      "\n",
      "# 그래프 실행\n",
      "result = graph.run(\"greet\", \"시작\")\n",
      "print(result)  # \"좋은 하루 되세요!\" 출력\n",
      "```\n",
      "\n",
      "### 공식 문서 및 더 알아보기\n",
      "\n",
      "- [LangGraph 공식 문서(영문)](https://langchain-ai.github.io/langgraph/)\n",
      "- [LangChain 공식 GitHub에서 LangGraph 소개 및 예제](https://github.com/langchain-ai/langgraph)\n",
      "\n",
      "#### 요약\n",
      "> LangGraph는 LLM을 활용한 복잡한 멀티스텝/멀티에이전트 워크플로우를 그래프 구조로 쉽고 강력하게 설계·관리할 수 있도록 도와주는 프레임워크입니다.\n",
      "\n",
      "궁금한 점이나 구체적인 사용 예시, API 사용법 등이 필요하다면 추가로 질문해주세요!\n"
     ]
    }
   ],
   "source": [
    "print(resp[\"messages\"][-1].content)"
   ]
  },
  {
   "cell_type": "code",
   "execution_count": 1,
   "id": "2659d52b",
   "metadata": {},
   "outputs": [
    {
     "data": {
      "text/plain": [
       "True"
      ]
     },
     "execution_count": 1,
     "metadata": {},
     "output_type": "execute_result"
    }
   ],
   "source": [
    "from langchain_openai import ChatOpenAI\n",
    "from langgraph.graph import StateGraph, START, END\n",
    "from langgraph.graph.message import add_messages\n",
    "from typing_extensions import TypedDict\n",
    "from typing import Annotated\n",
    "from dotenv import load_dotenv\n",
    "load_dotenv()"
   ]
  },
  {
   "cell_type": "code",
   "execution_count": 2,
   "id": "e502e900",
   "metadata": {},
   "outputs": [],
   "source": [
    "##################################################################\n",
    "# 이름 추가, 나이 추가, 주소를 추가하는 노드\n",
    "# - LangGraph에서 노드와 엣지의 흐름 + 상태관리개념\n",
    "##################################################################\n",
    "\n",
    "# 1. State를 정의(노드들이 공유할 state값들을 설계)\n",
    "class UserInfoState(TypedDict):                 # Pydantic 상속 받아도 가능\n",
    "    name:str\n",
    "    age:int\n",
    "    address:str"
   ]
  },
  {
   "cell_type": "code",
   "execution_count": 4,
   "id": "54930d9f",
   "metadata": {},
   "outputs": [],
   "source": [
    "# 노드 정의 -> 함수(callable) --> 입력: State, 출력: State에 저장할 속성(state)\n",
    "def add_name(state:UserInfoState):\n",
    "    print(\"add_name:\",state)\n",
    "    return {\"name\":\"홍길동\"}                                        # UserInfoState의 field이름: \"저장할 값\"\n",
    "\n",
    "def add_age(state:UserInfoState):\n",
    "    print(\"add_age:\",state)\n",
    "    return {\"age\":20}\n",
    "\n",
    "def add_address(state:UserInfoState):\n",
    "    print(\"add_address:\",state)\n",
    "    return {\"address\":\"독산\"}"
   ]
  },
  {
   "cell_type": "code",
   "execution_count": 5,
   "id": "a2a5d8c4",
   "metadata": {},
   "outputs": [],
   "source": [
    "# StateGraph를 구성\n",
    "workflow = StateGraph(UserInfoState)\n",
    "# 노드 추가\n",
    "workflow.add_node(\"add_name\",add_name)\n",
    "workflow.add_node(\"add_age\",add_age)\n",
    "workflow.add_node(\"add_address\",add_address)\n",
    "# 엣지 추가 -> 시작은 START, 끝은 END로!!(END는 생략 가능)\n",
    "workflow.add_edge(START, \"add_name\")\n",
    "workflow.add_edge(\"add_name\", \"add_age\")\n",
    "workflow.add_edge(\"add_age\", \"add_address\")\n",
    "workflow.add_edge(\"add_address\", END)\n",
    "# stategraph를 컴파일 - 실행가능한 상태로 만듦(그래프 검증 및 최적화)\n",
    "graph = workflow.compile()"
   ]
  },
  {
   "cell_type": "code",
   "execution_count": null,
   "id": "374c819a",
   "metadata": {},
   "outputs": [
    {
     "data": {
      "image/png": "[encoded data removed]",
      "text/plain": [
       "<IPython.core.display.Image object>"
      ]
     },
     "metadata": {},
     "output_type": "display_data"
    }
   ],
   "source": [
    "# 시각화\n",
    "from IPython.display import Image, display\n",
    "display(Image(graph.get_graph().draw_mermaid_png()))                # jupyter에서 지원하는 IPython : png 파일로 나오게 함 / display : 화면에 나오게 함"
   ]
  },
  {
   "cell_type": "code",
   "execution_count": null,
   "id": "d35de7b3",
   "metadata": {},
   "outputs": [
    {
     "name": "stdout",
     "output_type": "stream",
     "text": [
      "add_name: {'name': '응애'}\n",
      "add_age: {'name': '홍길동'}\n",
      "add_address: {'name': '홍길동', 'age': 20}\n"
     ]
    }
   ],
   "source": [
    "# 실행\n",
    "res = graph.invoke({})                # 첫번째 노드에 전달할 state를 dict로 -> 전달할 거 없으면 빈 dict"
   ]
  },
  {
   "cell_type": "code",
   "execution_count": 12,
   "id": "545da936",
   "metadata": {},
   "outputs": [
    {
     "data": {
      "text/plain": [
       "{'name': '홍길동', 'age': 20, 'address': '독산'}"
      ]
     },
     "execution_count": 12,
     "metadata": {},
     "output_type": "execute_result"
    }
   ],
   "source": [
    "res                                     # node-edge 연결을 통해 처음에 빈 dict였더라도 각 node를 거쳐 하나씩 받아 완성"
   ]
  },
  {
   "cell_type": "markdown",
   "id": "9f294876",
   "metadata": {},
   "source": [
    "# 4. 다양한 엣지\n",
    "\n",
    "## **기본 엣지**\n",
    "\n",
    "- 기본 엣지(Normal Edge)는 한 노드에서 다른 노드로의 직접적인 연결을 의미한다. 이는 가장 단순한 형태의 연결로, 이전 노드의 작업이 완료되면 자동으로 다음 노드로 이동한다.\n",
    "- 기본 엣지는 다음과 같은 특징을 가진다:\n",
    "  - **고정된 흐름**: 항상 동일한 다음 노드로 이동한다      \n",
    "  - **단순한 구조**: 복잡한 조건 없이 순차적으로 실행된다      \n",
    "  - **예측 가능한 동작**: 실행 전에 전체 흐름을 예측할 수 있다    \n",
    "\n",
    "## **조건부 엣지와 라우팅**\n",
    "\n",
    "- 조건부 엣지(Conditional Edge)는 특정 조건에 따라 다음에 실행할 노드를 동적으로 결정하는 기능이다. 이는 랭그래프의 가장 강력한 기능 중 하나로, 복잡한 의사결정 로직을 구현할 수 있게 한다.\n",
    "- 조건부 엣지를 구현하기 위해서는 세 가지 구성 요소가 필요하다:\n",
    "    - **1. 소스 노드(Source Node)**\n",
    "      -  조건 평가가 시작될 노드의 이름이다.\n",
    "    - **2. 조건 함수(Condition Function)**\n",
    "      - 현재 상태를 입력받아 문자열을 반환하는 함수로, 다음에 실행할 노드를 결정하는 로직을 포함한다.\n",
    "    - **3. 조건부 엣지 매핑(Conditional Edge Mapping)**\n",
    "      -  조건 함수의 반환값과 다음 노드 이름을 매핑하는 딕셔너리이다.\n",
    "```python\n",
    "def relevance_check(state):     \n",
    "    # 관련성 체크 로직    \n",
    "    if state[\"relevance_score\"] > 0.8:        \n",
    "        return \"grounded\"    \n",
    "    else:        \n",
    "        return \"not_grounded\" \n",
    "        \n",
    "graph.add_conditional_edges(\n",
    "    \"llm_answer\",     # 소스 노드    \n",
    "    relevance_check,  # 조건 함수    \n",
    "    {        \n",
    "        \"grounded\": END,  # 조건함수반환값:이동할 노드 (grounded 이면 END 노드로 이동)\n",
    "        \"not_grounded\": \"retrieve\"  # not_grounded 이면 retrieve 노드로 이동\n",
    "    } \n",
    ")\n",
    "```\n",
    "\n",
    "## **반복 구조**\n",
    "\n",
    "- 랭그래프의 가장 큰 장점 중 하나는 반복 구조(순환 구조)를 지원한다는 점이다. 이를 통해 특정 조건이 만족될 때까지 작업을 반복하거나, 품질이 향상될 때까지 개선 과정을 반복할 수 있다.\n",
    "- 반복 구조의 활용 예시:\n",
    "  - **검색 품질 개선**\n",
    "    - 검색 결과가 만족스럽지 않을 때 쿼리를 재작성하여 다시 검색한다      \n",
    "  - **답변 품질 향상**\n",
    "    - 생성된 답변의 품질이 낮을 때 다시 생성하거나 개선한다      \n",
    "  - **할루시네이션 방지**\n",
    "    -  답변이 검색된 문서와 관련성이 낮을 때 재생성을 요청한다"
   ]
  },
  {
   "cell_type": "code",
   "execution_count": 2,
   "id": "d7bfa15b",
   "metadata": {},
   "outputs": [
    {
     "data": {
      "text/plain": [
       "RunnableBinding(bound=ChatOpenAI(client=<openai.resources.chat.completions.completions.Completions object at 0x10f04a930>, async_client=<openai.resources.chat.completions.completions.AsyncCompletions object at 0x10fbeb8c0>, root_client=<openai.OpenAI object at 0x10f713fe0>, root_async_client=<openai.AsyncOpenAI object at 0x10f7794c0>, model_name='gpt-4.1', model_kwargs={}, openai_api_key=SecretStr('**********')), kwargs={'tools': [{'type': 'function', 'function': {'name': 'tavily_search', 'description': 'A search engine optimized for comprehensive, accurate, and trusted results. Useful for when you need to answer questions about current events. It not only retrieves URLs and snippets, but offers advanced search depths, domain management, time range filters, and image search, this tool delivers real-time, accurate, and citation-backed results.Input should be a search query.', 'parameters': {'properties': {'query': {'description': 'Search query to look up', 'type': 'string'}, 'include_domains': {'anyOf': [{'items': {'type': 'string'}, 'type': 'array'}, {'type': 'null'}], 'default': [], 'description': 'A list of domains to restrict search results to.\\n\\n        Use this parameter when:\\n        1. The user explicitly requests information from specific websites (e.g., \"Find climate data from nasa.gov\")\\n        2. The user mentions an organization or company without specifying the domain (e.g., \"Find information about iPhones from Apple\")\\n\\n        In both cases, you should determine the appropriate domains (e.g., [\"nasa.gov\"] or [\"apple.com\"]) and set this parameter.\\n\\n        Results will ONLY come from the specified domains - no other sources will be included.\\n        Default is None (no domain restriction).\\n        '}, 'exclude_domains': {'anyOf': [{'items': {'type': 'string'}, 'type': 'array'}, {'type': 'null'}], 'default': [], 'description': 'A list of domains to exclude from search results.\\n\\n        Use this parameter when:\\n        1. The user explicitly requests to avoid certain websites (e.g., \"Find information about climate change but not from twitter.com\")\\n        2. The user mentions not wanting results from specific organizations without naming the domain (e.g., \"Find phone reviews but nothing from Apple\")\\n\\n        In both cases, you should determine the appropriate domains to exclude (e.g., [\"twitter.com\"] or [\"apple.com\"]) and set this parameter.\\n\\n        Results will filter out all content from the specified domains.\\n        Default is None (no domain exclusion).\\n        '}, 'search_depth': {'anyOf': [{'enum': ['basic', 'advanced'], 'type': 'string'}, {'type': 'null'}], 'default': 'basic', 'description': 'Controls search thoroughness and result comprehensiveness.\\n    \\n        Use \"basic\" for simple queries requiring quick, straightforward answers.\\n        \\n        Use \"advanced\" (default) for complex queries, specialized topics, \\n        rare information, or when in-depth analysis is needed.\\n        '}, 'include_images': {'anyOf': [{'type': 'boolean'}, {'type': 'null'}], 'default': False, 'description': 'Determines if the search returns relevant images along with text results.\\n   \\n        Set to True when the user explicitly requests visuals or when images would \\n        significantly enhance understanding (e.g., \"Show me what black holes look like,\" \\n        \"Find pictures of Renaissance art\").\\n        \\n        Leave as False (default) for most informational queries where text is sufficient.\\n        '}, 'time_range': {'anyOf': [{'enum': ['day', 'week', 'month', 'year'], 'type': 'string'}, {'type': 'null'}], 'default': None, 'description': 'Limits results to content published within a specific timeframe.\\n        \\n        ONLY set this when the user explicitly mentions a time period \\n        (e.g., \"latest AI news,\" \"articles from last week\").\\n        \\n        For less popular or niche topics, use broader time ranges \\n        (\"month\" or \"year\") to ensure sufficient relevant results.\\n   \\n        Options: \"day\" (24h), \"week\" (7d), \"month\" (30d), \"year\" (365d).\\n        \\n        Default is None.\\n        '}, 'topic': {'anyOf': [{'enum': ['general', 'news', 'finance'], 'type': 'string'}, {'type': 'null'}], 'default': 'general', 'description': 'Specifies search category for optimized results.\\n   \\n        Use \"general\" (default) for most queries, INCLUDING those with terms like \\n        \"latest,\" \"newest,\" or \"recent\" when referring to general information.\\n\\n        Use \"finance\" for markets, investments, economic data, or financial news.\\n\\n        Use \"news\" ONLY for politics, sports, or major current events covered by \\n        mainstream media - NOT simply because a query asks for \"new\" information.\\n        '}}, 'required': ['query'], 'type': 'object'}}}]}, config={}, config_factories=[])"
      ]
     },
     "execution_count": 2,
     "metadata": {},
     "output_type": "execute_result"
    }
   ],
   "source": [
    "from langchain_tavily import TavilySearch\n",
    "\n",
    "tool = TavilySearch(max_results=2)\n",
    "tools = [tool]\n",
    "tool_model = ChatOpenAI(model=\"gpt-4.1\").bind_tools(tools)\n",
    "tool_model"
   ]
  },
  {
   "cell_type": "code",
   "execution_count": null,
   "id": "9fb483c0",
   "metadata": {},
   "outputs": [],
   "source": [
    "class State(TypedDict):\n",
    "    messages: Annotated[list, add_messages]\n",
    "    # add_messages : 상태값을 저장하는 방법을 정의한 함수 -> reducer라고 함\n",
    "\n",
    "# 노드 정의\n",
    "# 챗봇 노드\n",
    "def chatbot(state:State):\n",
    "    response = tool_model.invoke(state['messages'])\n",
    "    return {\"messages\":[response]}\n",
    "\n",
    "# tool을 호출하는 node\n",
    "class CustomToolNode:\n",
    "    def __init__(self, tools): # Tool List를 받는다.\n",
    "        # 속성으로 툴이름 저장\n",
    "        self.tools_by_name = {tool.name: tool for tool in tools}  # dict[tool이름:Tool객체]\n",
    "\n",
    "    def __call__(self, inputs:State):  # inputs: State\n",
    "        if messages := inputs.get(\"messages\", []):\n",
    "            message = messages[-1]  # tool calls가 있는 AI Message  (messages는 메세지들이 누적되어 있으므로 마지막 Message 객체를 가져온다.)\n",
    "        else:\n",
    "            raise ValueError(\"No messages found in inputs.\")\n",
    "\n",
    "        outputs = []\n",
    "        for tool_call in message.tool_calls:\n",
    "            tool_message = self.tools_by_name[tool_call['name']].invoke(tool_call)\n",
    "            outputs.append(tool_message)\n",
    "\n",
    "        return {\"messages\": outputs}\n",
    "    \n",
    "tool_node = CustomToolNode(tools)\n",
    "\n",
    "# ## Tool들을 호출하는 Prebuilt Node\n",
    "# from langgraph.prebuilt import ToolNode     # -> CunstomTollNode 와 동일\n",
    "# tool_node = ToolNode(tools)                 # [tool, tool, ...]\n",
    "\n",
    "###############################################\n",
    "# 조건부 엣지 함수 생성\n",
    "# 조건에 따라 실행할 다음노드의 이름/식별자를 반환\n",
    "###############################################\n",
    "def custom_tools_condition(state:State):\n",
    "    if messages := state.get(\"messages\",[]):\n",
    "        ai_message = messages[-1]\n",
    "    else:\n",
    "        raise Exception(\"State에 message가 없습니다.\")\n",
    "    if hasattr(ai_message, \"tool_calls\") and len(ai_message.tool_calls) > 0:\n",
    "        # AIMessage -> tool_calls가 있고, tool_calls에 한개 이상의 tool_call 값이 있다면\n",
    "        return \"tools\"\n",
    "    else:\n",
    "        return END\n",
    "    \n",
    "# from langgraph.prebuilt import tools_condition      # add_conditional_edge()에 이함수를 넣으면 됨\n",
    "# # -> custom_tools_condition 과 동일"
   ]
  },
  {
   "cell_type": "code",
   "execution_count": 8,
   "id": "d916e123",
   "metadata": {},
   "outputs": [
    {
     "data": {
      "text/plain": [
       "'툴실행노드'"
      ]
     },
     "execution_count": 8,
     "metadata": {},
     "output_type": "execute_result"
    }
   ],
   "source": [
    "# 객체에 특정 attribute 체크\n",
    "# hasattr() : 있는지 여부 / getattr() : 값을 조회 / setattr() : 값을 할당\n",
    "t = CustomToolNode(tools)\n",
    "hasattr(t,\"tools_by_name\"), hasattr(t, \"tools_name\")\n",
    "getattr(t, \"tools_by_name\")\n",
    "setattr(t, \"name\", \"툴실행노드\")\n",
    "getattr(t,\"name\")"
   ]
  },
  {
   "cell_type": "code",
   "execution_count": null,
   "id": "7e675953",
   "metadata": {},
   "outputs": [],
   "source": [
    "# Graph 정의\n",
    "workflow = StateGraph(State)\n",
    "# 노드 추가\n",
    "workflow.add_node(\"chatbot\", chatbot)\n",
    "workflow.add_node(\"tools\", tool_node)\n",
    "# 노드 연결 --> 엣지\n",
    "workflow.add_edge(START, \"chatbot\")\n",
    "workflow.add_conditional_edges(\"chatbot\", custom_tools_condition,   # tools_condition\n",
    "                               {\"tools\":\"tools\", END:END})\n",
    "workflow.add_edge(\"tools\",\"chatbot\")\n",
    "graph = workflow.compile()"
   ]
  },
  {
   "cell_type": "code",
   "execution_count": 11,
   "id": "76328c2f",
   "metadata": {},
   "outputs": [
    {
     "data": {
      "image/png": "[encoded data removed]",
      "text/plain": [
       "<IPython.core.display.Image object>"
      ]
     },
     "execution_count": 11,
     "metadata": {},
     "output_type": "execute_result"
    }
   ],
   "source": [
    "from IPython.display import Image\n",
    "Image(graph.get_graph().draw_mermaid_png())"
   ]
  },
  {
   "cell_type": "code",
   "execution_count": 18,
   "id": "940382ff",
   "metadata": {},
   "outputs": [],
   "source": [
    "from langchain_core.messages import HumanMessage\n",
    "query = \"Langgraph가 무엇인지 설명해줘. 검색을 해서 정확한 정보를 알려줘.\"\n",
    "init_state = {\"messages\":[HumanMessage(content=query)]}\n",
    "resp = graph.invoke(init_state)"
   ]
  },
  {
   "cell_type": "code",
   "execution_count": 19,
   "id": "a0bb31e8",
   "metadata": {},
   "outputs": [
    {
     "name": "stdout",
     "output_type": "stream",
     "text": [
      "LangGraph(랭그래프)는 대규모 언어 모델(LLM)을 활용한 애플리케이션 개발을 위한 프레임워크입니다. LangGraph는 기존의 LangChain 프레임워크와 유사하게 RAG(Retrieval-Augmented Generation) 개발을 도와주지만, 더 나아가 복잡한 워크플로우나 멀티 에이전트(여러 LLM 에이전트)가 유기적으로 협력하는 구조를 쉽게 표현하고 구현할 수 있게 설계된 것이 특징입니다.\n",
      "\n",
      "주요 특징과 설명:\n",
      "\n",
      "- 워크플로우를 그래프 구조(노드와 엣지)로 표현: 각 노드는 하나의 에이전트(예: 개발자, 테스터, 평가자 등) 또는 도구 수행으로, 엣지는 이들 노드 간 연결(함수 실행 순서나 분기 등)을 표현합니다.\n",
      "- 복잡한 상태 관리 및 분기 제어 지원: 단순히 LLM의 결과를 직선적으로 처리하는 데 그치지 않고, 결과에 따라 다양한 후처리, 분기, 오류 복구 등의 로직을 쉽게 추가할 수 있습니다.\n",
      "- 파이프라인의 유연성: LangChain이 상대적으로 선형(single chain)에 가까운 구조라면, LangGraph는 그래프 형태의 복합적인 워크플로우를 자연스럽게 설계할 수 있습니다.\n",
      "\n",
      "이런 이유로 LangGraph는 LLM 기반 멀티에이전트, 복잡한 파이프라인, 동적 상태 관리가 필요한 LLM 애플리케이션 개발에 적합합니다.\n",
      "\n",
      "참고: brunch.co.kr/@aPda/339, brunch.co.kr/@hqFh/132\n"
     ]
    }
   ],
   "source": [
    "print(resp['messages'][-1].content)"
   ]
  },
  {
   "cell_type": "markdown",
   "id": "58e0cf2d",
   "metadata": {},
   "source": [
    "# 5. 랭그래프에서 메모리 관리\n",
    "\n",
    "랭그래프에서 메모리 관리는 **체크포인터(Checkpointer)** 기능을 통해 구현된다. 이는 복잡한 대화형 AI 시스템 구축에 필수적인 기능으로, 상태를 저장하고 관리하는 핵심 역할을 한다.\n",
    "\n",
    "- **체크포인터의 주요 기능:**\n",
    "    - **1. 상태 지속성**\n",
    "      -  그래프 실행 중간에 상태를 저장하여 나중에 복원할 수 있다.\n",
    "    - **2. 대화 기록 유지**\n",
    "      - 이전 대화 내용을 기억하여 연속적인 대화가 가능하다.\n",
    "    - **3. 오류 복구**\n",
    "      -  실행 중 오류가 발생했을 때 이전 상태로 돌아갈 수 있다.\n",
    "-   구현\n",
    "    -  Graph를 컴파일할 때 checkpointer객체를 설정한다.\n",
    "    - Graph 실행시 대화를 저장할 때 사용할 thread_id를 `RunnableConfig`를 이용해 전달한다.\n",
    "\n",
    "```python\n",
    "\n",
    "from langgraph.checkpoint.memory import MemorySaver\n",
    "from langgraph.checkpoint.sqlite import SqliteSaver\n",
    "\n",
    "# 메모리 체크포인터 생성\n",
    "checkpointer = MemorySaver()\n",
    "# SQLite 체크포인터 생성\n",
    "# checkpointer = SqliteSaver.from_conn_string(\"checkpoints.db\")\n",
    "\n",
    "# 그래프에 연결\n",
    "graph = workflow.compile(checkpointer=checkpointer)\n",
    "\n",
    "# graph 호출시 thread_id 전달\n",
    "config = {\"configurable\": {\"thread_id\": \"user-123\"}}\n",
    "response = graph.invoke({\"messages\": [user_message]}, config)\n",
    "```"
   ]
  },
  {
   "cell_type": "code",
   "execution_count": 16,
   "id": "3d4e7d52",
   "metadata": {},
   "outputs": [
    {
     "data": {
      "text/plain": [
       "True"
      ]
     },
     "execution_count": 16,
     "metadata": {},
     "output_type": "execute_result"
    }
   ],
   "source": [
    "from langchain_openai import ChatOpenAI\n",
    "from langchain_core.messages import HumanMessage\n",
    "from langchain.prompts import ChatPromptTemplate\n",
    "from langgraph.graph import StateGraph, START, END\n",
    "from langgraph.graph.message import add_messages\n",
    "from langgraph.checkpoint.memory import MemorySaver\n",
    "from langgraph.prebuilt import ToolNode, tools_condition\n",
    "from typing_extensions import TypedDict\n",
    "from typing import Annotated\n",
    "from tools import search_web\n",
    "from dotenv import load_dotenv\n",
    "load_dotenv()"
   ]
  },
  {
   "cell_type": "code",
   "execution_count": 17,
   "id": "00424780",
   "metadata": {},
   "outputs": [],
   "source": [
    "class State(TypedDict):\n",
    "    messages:Annotated[list, add_messages]"
   ]
  },
  {
   "cell_type": "code",
   "execution_count": 29,
   "id": "89939324",
   "metadata": {},
   "outputs": [],
   "source": [
    "# 노드 정의\n",
    "from datetime import date\n",
    "from textwrap import dedent\n",
    "class ChatbotNode:\n",
    "    def __init__(self, tools):\n",
    "        prompt = ChatPromptTemplate(\n",
    "            [\n",
    "                (\"system\", dedent(\"\"\"\n",
    "                    당신은 다양한 지식을 제공하는 AI 어시스턴트입니다. \n",
    "                    주요 목표는 사용자의 요청에 대한 정확한 정보를 이해하기 쉽게 설명하는 것입니다.\n",
    "                    # Instruction:\n",
    "                    정확한 답변을 위해 웹 검색이 필요하거나 최신 정보를 얻고 싶을 때는 search_web 도구를 사용하십시오. 이 도구는 인터넷 검색을 통해 정보를 검색해서 제공합니다.\n",
    "                    최신 정보를 제공해야 할 때는 {today} 를 기준으로 합니다.\n",
    "                    검색 결과를 기반으로 명확하고 간결한 답변을 제공하십시오.\n",
    "                    최종 응답은 챗봇과 같은 대화형 스타일을 유지하세요. 친근하고 쉽고 자연스럽게 다변하되 전문성을 보이는 어조를 유지하세요.\n",
    "\n",
    "                    각 도구들을 결합해서 사용자의 요청에 정확한 대답을 하세요.\n",
    "                    항상 가장 최신의 정확한 정보를 제공하기 위해 노력하세요.\n",
    "                    \"\"\")),\n",
    "                (\"human\", \"{query}\")\n",
    "            ],\n",
    "            partial_variables={\"today\": date.today().strftime('%Y년 %m월 %d일')}\n",
    "        )\n",
    "        tool_model = ChatOpenAI(model=\"gpt-4.1\").bind_tools(tools)\n",
    "        self.chain = prompt | tool_model\n",
    "\n",
    "    def __call__(self, input_state:State):\n",
    "        response = self.chain.invoke({\"query\":input_state[\"messages\"]})\n",
    "        return {\"messages\":[response]}\n",
    "    \n",
    "\n",
    "tools = [search_web]\n",
    "chatbot_node = ChatbotNode(tools)"
   ]
  },
  {
   "cell_type": "code",
   "execution_count": 30,
   "id": "e3a70928",
   "metadata": {},
   "outputs": [],
   "source": [
    "# 툴 호출 처리 Node\n",
    "tool_node = ToolNode(tools)         # 위 예제의 CustomToolNode와 동일한 역할"
   ]
  },
  {
   "cell_type": "code",
   "execution_count": 31,
   "id": "ba33c1cc",
   "metadata": {},
   "outputs": [
    {
     "data": {
      "text/plain": [
       "<langgraph.graph.state.StateGraph at 0x13015bd10>"
      ]
     },
     "execution_count": 31,
     "metadata": {},
     "output_type": "execute_result"
    }
   ],
   "source": [
    "# Graph\n",
    "workflow = StateGraph(State)\n",
    "# Node\n",
    "workflow.add_node(\"chatbot\", chatbot_node)\n",
    "workflow.add_node(\"tools\", tool_node)\n",
    "# Edge\n",
    "workflow.add_edge(START, \"chatbot\")\n",
    "# chatbot - END or tool_node --> tool_calls에 따라 둘 중 하나로 연결 -> add_conditional_edges 사용\n",
    "workflow.add_conditional_edges(\"chatbot\", tools_condition, {\"tools\":\"tools\", END:END})          # Node, 조건함수, 조건에 따른 값 dict\n",
    "workflow.add_edge(\"tools\",\"chatbot\")"
   ]
  },
  {
   "cell_type": "code",
   "execution_count": 32,
   "id": "2c2076db",
   "metadata": {},
   "outputs": [],
   "source": [
    "# 그래프 컴파일 + checkpointer를 설정: 대화내역을 저장 관리\n",
    "checkpointer = MemorySaver()\n",
    "graph = workflow.compile(checkpointer=checkpointer)"
   ]
  },
  {
   "cell_type": "code",
   "execution_count": 33,
   "id": "26853496",
   "metadata": {},
   "outputs": [
    {
     "data": {
      "image/png": "[encoded data removed]",
      "text/plain": [
       "<IPython.core.display.Image object>"
      ]
     },
     "execution_count": 33,
     "metadata": {},
     "output_type": "execute_result"
    }
   ],
   "source": [
    "# 시각화\n",
    "from IPython.display import Image\n",
    "Image(graph.get_graph().draw_mermaid_png())"
   ]
  },
  {
   "cell_type": "code",
   "execution_count": 34,
   "id": "dc76abfc",
   "metadata": {},
   "outputs": [],
   "source": [
    "# 호출(invoke) -> 대화 ID를 config로 전달\n",
    "config = {\"configurable\":{\"thread_id\":\"user-1\"}}\n",
    "user_input = \"내 이름은 홍길동입니다.\"\n",
    "init_state = {\"messages\":[HumanMessage(content=user_input)]}\n",
    "response = graph.invoke(init_state, config=config)"
   ]
  },
  {
   "cell_type": "code",
   "execution_count": 35,
   "id": "887bd72e",
   "metadata": {},
   "outputs": [
    {
     "data": {
      "text/plain": [
       "{'messages': [HumanMessage(content='내 이름은 홍길동입니다.', additional_kwargs={}, response_metadata={}, id='406ba7ed-0c90-4c1c-ba71-86582eb7b89f'),\n",
       "  AIMessage(content='네, 반갑습니다 홍길동님! 궁금하신 점이나 도움이 필요한 내용이 있으시면 언제든 말씀해 주세요. 무엇을 도와드릴까요?', additional_kwargs={'refusal': None}, response_metadata={'token_usage': {'completion_tokens': 37, 'prompt_tokens': 339, 'total_tokens': 376, 'completion_tokens_details': {'accepted_prediction_tokens': 0, 'audio_tokens': 0, 'reasoning_tokens': 0, 'rejected_prediction_tokens': 0}, 'prompt_tokens_details': {'audio_tokens': 0, 'cached_tokens': 0}}, 'model_name': 'gpt-4.1-2025-04-14', 'system_fingerprint': 'fp_51e1070cf2', 'id': 'chatcmpl-BlRH1o2U0kEFIPS1NbATL8tTKIpmL', 'service_tier': 'default', 'finish_reason': 'stop', 'logprobs': None}, id='run--0f3bee00-5570-41a0-8cc5-616a87406cf1-0', usage_metadata={'input_tokens': 339, 'output_tokens': 37, 'total_tokens': 376, 'input_token_details': {'audio': 0, 'cache_read': 0}, 'output_token_details': {'audio': 0, 'reasoning': 0}})]}"
      ]
     },
     "execution_count": 35,
     "metadata": {},
     "output_type": "execute_result"
    }
   ],
   "source": [
    "response"
   ]
  },
  {
   "cell_type": "code",
   "execution_count": null,
   "id": "03abb7e3",
   "metadata": {},
   "outputs": [],
   "source": [
    "response2 = graph.invoke({\"messages\":\"내 이름의 한국 고전소설이 있는지 확인해줘. 있으면 소개도 부탁해.\"},config=config)"
   ]
  },
  {
   "cell_type": "code",
   "execution_count": 45,
   "id": "fd54f316",
   "metadata": {},
   "outputs": [
    {
     "data": {
      "text/plain": [
       "{'messages': [HumanMessage(content='내 이름은 홍길동입니다.', additional_kwargs={}, response_metadata={}, id='406ba7ed-0c90-4c1c-ba71-86582eb7b89f'),\n",
       "  AIMessage(content='네, 반갑습니다 홍길동님! 궁금하신 점이나 도움이 필요한 내용이 있으시면 언제든 말씀해 주세요. 무엇을 도와드릴까요?', additional_kwargs={'refusal': None}, response_metadata={'token_usage': {'completion_tokens': 37, 'prompt_tokens': 339, 'total_tokens': 376, 'completion_tokens_details': {'accepted_prediction_tokens': 0, 'audio_tokens': 0, 'reasoning_tokens': 0, 'rejected_prediction_tokens': 0}, 'prompt_tokens_details': {'audio_tokens': 0, 'cached_tokens': 0}}, 'model_name': 'gpt-4.1-2025-04-14', 'system_fingerprint': 'fp_51e1070cf2', 'id': 'chatcmpl-BlRH1o2U0kEFIPS1NbATL8tTKIpmL', 'service_tier': 'default', 'finish_reason': 'stop', 'logprobs': None}, id='run--0f3bee00-5570-41a0-8cc5-616a87406cf1-0', usage_metadata={'input_tokens': 339, 'output_tokens': 37, 'total_tokens': 376, 'input_token_details': {'audio': 0, 'cache_read': 0}, 'output_token_details': {'audio': 0, 'reasoning': 0}}),\n",
       "  AIMessage(content='네, 다시 만나서 반갑습니다 홍길동님! 궁금하신 점이나 필요하신 정보가 있으면 언제든 편하게 말씀해 주세요. 무엇을 도와드릴까요?', additional_kwargs={'refusal': None}, response_metadata={'token_usage': {'completion_tokens': 43, 'prompt_tokens': 643, 'total_tokens': 686, 'completion_tokens_details': {'accepted_prediction_tokens': 0, 'audio_tokens': 0, 'reasoning_tokens': 0, 'rejected_prediction_tokens': 0}, 'prompt_tokens_details': {'audio_tokens': 0, 'cached_tokens': 0}}, 'model_name': 'gpt-4.1-2025-04-14', 'system_fingerprint': 'fp_51e1070cf2', 'id': 'chatcmpl-BlRH7YlEtrHlnqYx58blT8NXmbZ86', 'service_tier': 'default', 'finish_reason': 'stop', 'logprobs': None}, id='run--ce957804-6fcd-4eb4-8e14-4cdfca72ece7-0', usage_metadata={'input_tokens': 643, 'output_tokens': 43, 'total_tokens': 686, 'input_token_details': {'audio': 0, 'cache_read': 0}, 'output_token_details': {'audio': 0, 'reasoning': 0}}),\n",
       "  AIMessage(content='네, 홍길동님! 또 찾아주셔서 반갑습니다. 궁금한 점이나 필요한 정보, 또는 도움받고 싶은 내용이 있으시면 언제든 말씀해 주세요. 어떻게 도와드릴까요?', additional_kwargs={'refusal': None}, response_metadata={'token_usage': {'completion_tokens': 47, 'prompt_tokens': 953, 'total_tokens': 1000, 'completion_tokens_details': {'accepted_prediction_tokens': 0, 'audio_tokens': 0, 'reasoning_tokens': 0, 'rejected_prediction_tokens': 0}, 'prompt_tokens_details': {'audio_tokens': 0, 'cached_tokens': 0}}, 'model_name': 'gpt-4.1-2025-04-14', 'system_fingerprint': 'fp_51e1070cf2', 'id': 'chatcmpl-BlRJBVpCyJUqVJmSv8UjsWtrUcgBl', 'service_tier': 'default', 'finish_reason': 'stop', 'logprobs': None}, id='run--118fdfbb-d369-4d5e-8f34-ad192e387391-0', usage_metadata={'input_tokens': 953, 'output_tokens': 47, 'total_tokens': 1000, 'input_token_details': {'audio': 0, 'cache_read': 0}, 'output_token_details': {'audio': 0, 'reasoning': 0}}),\n",
       "  HumanMessage(content='내 이름 뭔지 기억해?', additional_kwargs={}, response_metadata={}, id='2a5f79ac-f294-4ecf-bd5d-eb5e84f47c8c'),\n",
       "  AIMessage(content='네, 홍길동님! 이름 기억하고 있습니다. 혹시 더 궁금한 점이나 필요한 게 있으신가요? 언제든 말씀해 주세요.', additional_kwargs={'refusal': None}, response_metadata={'token_usage': {'completion_tokens': 34, 'prompt_tokens': 1312, 'total_tokens': 1346, 'completion_tokens_details': {'accepted_prediction_tokens': 0, 'audio_tokens': 0, 'reasoning_tokens': 0, 'rejected_prediction_tokens': 0}, 'prompt_tokens_details': {'audio_tokens': 0, 'cached_tokens': 0}}, 'model_name': 'gpt-4.1-2025-04-14', 'system_fingerprint': 'fp_51e1070cf2', 'id': 'chatcmpl-BlRNfiXOmxYB6truSbuyyajGJMcBe', 'service_tier': 'default', 'finish_reason': 'stop', 'logprobs': None}, id='run--1b5d4068-01ea-4c90-aa27-5601e1e39494-0', usage_metadata={'input_tokens': 1312, 'output_tokens': 34, 'total_tokens': 1346, 'input_token_details': {'audio': 0, 'cache_read': 0}, 'output_token_details': {'audio': 0, 'reasoning': 0}}),\n",
       "  AIMessage(content='네, 홍길동님! 이름을 잘 기억하고 있습니다. 궁금한 점이 있거나 도움이 필요하시면 언제든 말씀해 주세요. 무엇을 도와드릴까요?', additional_kwargs={'refusal': None}, response_metadata={'token_usage': {'completion_tokens': 40, 'prompt_tokens': 1616, 'total_tokens': 1656, 'completion_tokens_details': {'accepted_prediction_tokens': 0, 'audio_tokens': 0, 'reasoning_tokens': 0, 'rejected_prediction_tokens': 0}, 'prompt_tokens_details': {'audio_tokens': 0, 'cached_tokens': 1280}}, 'model_name': 'gpt-4.1-2025-04-14', 'system_fingerprint': 'fp_51e1070cf2', 'id': 'chatcmpl-BlRO017HgKLPwl4yCiL4hcVX2vPgZ', 'service_tier': 'default', 'finish_reason': 'stop', 'logprobs': None}, id='run--6bd67f25-ec2c-4be1-a4e8-f10be156233c-0', usage_metadata={'input_tokens': 1616, 'output_tokens': 40, 'total_tokens': 1656, 'input_token_details': {'audio': 0, 'cache_read': 1280}, 'output_token_details': {'audio': 0, 'reasoning': 0}}),\n",
       "  AIMessage(content='네, 홍길동님! 이름을 잘 기억하고 있습니다. 더 궁금한 점이나 필요한 정보가 있으시면 언제든 편하게 말씀해 주세요. 무엇을 도와드릴까요?', additional_kwargs={'refusal': None}, response_metadata={'token_usage': {'completion_tokens': 42, 'prompt_tokens': 1928, 'total_tokens': 1970, 'completion_tokens_details': {'accepted_prediction_tokens': 0, 'audio_tokens': 0, 'reasoning_tokens': 0, 'rejected_prediction_tokens': 0}, 'prompt_tokens_details': {'audio_tokens': 0, 'cached_tokens': 1536}}, 'model_name': 'gpt-4.1-2025-04-14', 'system_fingerprint': 'fp_51e1070cf2', 'id': 'chatcmpl-BlROH9wKYuCg5guj668oq4gN77PJp', 'service_tier': 'default', 'finish_reason': 'stop', 'logprobs': None}, id='run--a6a809a8-9404-4ef4-8983-fc23598dec08-0', usage_metadata={'input_tokens': 1928, 'output_tokens': 42, 'total_tokens': 1970, 'input_token_details': {'audio': 0, 'cache_read': 1536}, 'output_token_details': {'audio': 0, 'reasoning': 0}})]}"
      ]
     },
     "execution_count": 45,
     "metadata": {},
     "output_type": "execute_result"
    }
   ],
   "source": [
    "response2                   # __call__에서 messages[-1] 이었으면 마지막 대화만 기억하므로 다음 질문 처리 못함"
   ]
  },
  {
   "cell_type": "code",
   "execution_count": null,
   "id": "f8bdcb18",
   "metadata": {},
   "outputs": [],
   "source": [
    "response3 = graph.invoke({\"messages\":\"독산동 맛있는 쌀국수집 추천해줘.\"},config=config)"
   ]
  },
  {
   "cell_type": "code",
   "execution_count": 43,
   "id": "c0a891ef",
   "metadata": {},
   "outputs": [
    {
     "data": {
      "text/plain": [
       "{'messages': [HumanMessage(content='내 이름은 홍길동입니다.', additional_kwargs={}, response_metadata={}, id='406ba7ed-0c90-4c1c-ba71-86582eb7b89f'),\n",
       "  AIMessage(content='네, 반갑습니다 홍길동님! 궁금하신 점이나 도움이 필요한 내용이 있으시면 언제든 말씀해 주세요. 무엇을 도와드릴까요?', additional_kwargs={'refusal': None}, response_metadata={'token_usage': {'completion_tokens': 37, 'prompt_tokens': 339, 'total_tokens': 376, 'completion_tokens_details': {'accepted_prediction_tokens': 0, 'audio_tokens': 0, 'reasoning_tokens': 0, 'rejected_prediction_tokens': 0}, 'prompt_tokens_details': {'audio_tokens': 0, 'cached_tokens': 0}}, 'model_name': 'gpt-4.1-2025-04-14', 'system_fingerprint': 'fp_51e1070cf2', 'id': 'chatcmpl-BlRH1o2U0kEFIPS1NbATL8tTKIpmL', 'service_tier': 'default', 'finish_reason': 'stop', 'logprobs': None}, id='run--0f3bee00-5570-41a0-8cc5-616a87406cf1-0', usage_metadata={'input_tokens': 339, 'output_tokens': 37, 'total_tokens': 376, 'input_token_details': {'audio': 0, 'cache_read': 0}, 'output_token_details': {'audio': 0, 'reasoning': 0}}),\n",
       "  AIMessage(content='네, 다시 만나서 반갑습니다 홍길동님! 궁금하신 점이나 필요하신 정보가 있으면 언제든 편하게 말씀해 주세요. 무엇을 도와드릴까요?', additional_kwargs={'refusal': None}, response_metadata={'token_usage': {'completion_tokens': 43, 'prompt_tokens': 643, 'total_tokens': 686, 'completion_tokens_details': {'accepted_prediction_tokens': 0, 'audio_tokens': 0, 'reasoning_tokens': 0, 'rejected_prediction_tokens': 0}, 'prompt_tokens_details': {'audio_tokens': 0, 'cached_tokens': 0}}, 'model_name': 'gpt-4.1-2025-04-14', 'system_fingerprint': 'fp_51e1070cf2', 'id': 'chatcmpl-BlRH7YlEtrHlnqYx58blT8NXmbZ86', 'service_tier': 'default', 'finish_reason': 'stop', 'logprobs': None}, id='run--ce957804-6fcd-4eb4-8e14-4cdfca72ece7-0', usage_metadata={'input_tokens': 643, 'output_tokens': 43, 'total_tokens': 686, 'input_token_details': {'audio': 0, 'cache_read': 0}, 'output_token_details': {'audio': 0, 'reasoning': 0}}),\n",
       "  AIMessage(content='네, 홍길동님! 또 찾아주셔서 반갑습니다. 궁금한 점이나 필요한 정보, 또는 도움받고 싶은 내용이 있으시면 언제든 말씀해 주세요. 어떻게 도와드릴까요?', additional_kwargs={'refusal': None}, response_metadata={'token_usage': {'completion_tokens': 47, 'prompt_tokens': 953, 'total_tokens': 1000, 'completion_tokens_details': {'accepted_prediction_tokens': 0, 'audio_tokens': 0, 'reasoning_tokens': 0, 'rejected_prediction_tokens': 0}, 'prompt_tokens_details': {'audio_tokens': 0, 'cached_tokens': 0}}, 'model_name': 'gpt-4.1-2025-04-14', 'system_fingerprint': 'fp_51e1070cf2', 'id': 'chatcmpl-BlRJBVpCyJUqVJmSv8UjsWtrUcgBl', 'service_tier': 'default', 'finish_reason': 'stop', 'logprobs': None}, id='run--118fdfbb-d369-4d5e-8f34-ad192e387391-0', usage_metadata={'input_tokens': 953, 'output_tokens': 47, 'total_tokens': 1000, 'input_token_details': {'audio': 0, 'cache_read': 0}, 'output_token_details': {'audio': 0, 'reasoning': 0}}),\n",
       "  HumanMessage(content='내 이름 뭔지 기억해?', additional_kwargs={}, response_metadata={}, id='2a5f79ac-f294-4ecf-bd5d-eb5e84f47c8c'),\n",
       "  AIMessage(content='네, 홍길동님! 이름 기억하고 있습니다. 혹시 더 궁금한 점이나 필요한 게 있으신가요? 언제든 말씀해 주세요.', additional_kwargs={'refusal': None}, response_metadata={'token_usage': {'completion_tokens': 34, 'prompt_tokens': 1312, 'total_tokens': 1346, 'completion_tokens_details': {'accepted_prediction_tokens': 0, 'audio_tokens': 0, 'reasoning_tokens': 0, 'rejected_prediction_tokens': 0}, 'prompt_tokens_details': {'audio_tokens': 0, 'cached_tokens': 0}}, 'model_name': 'gpt-4.1-2025-04-14', 'system_fingerprint': 'fp_51e1070cf2', 'id': 'chatcmpl-BlRNfiXOmxYB6truSbuyyajGJMcBe', 'service_tier': 'default', 'finish_reason': 'stop', 'logprobs': None}, id='run--1b5d4068-01ea-4c90-aa27-5601e1e39494-0', usage_metadata={'input_tokens': 1312, 'output_tokens': 34, 'total_tokens': 1346, 'input_token_details': {'audio': 0, 'cache_read': 0}, 'output_token_details': {'audio': 0, 'reasoning': 0}}),\n",
       "  AIMessage(content='네, 홍길동님! 이름을 잘 기억하고 있습니다. 궁금한 점이 있거나 도움이 필요하시면 언제든 말씀해 주세요. 무엇을 도와드릴까요?', additional_kwargs={'refusal': None}, response_metadata={'token_usage': {'completion_tokens': 40, 'prompt_tokens': 1616, 'total_tokens': 1656, 'completion_tokens_details': {'accepted_prediction_tokens': 0, 'audio_tokens': 0, 'reasoning_tokens': 0, 'rejected_prediction_tokens': 0}, 'prompt_tokens_details': {'audio_tokens': 0, 'cached_tokens': 1280}}, 'model_name': 'gpt-4.1-2025-04-14', 'system_fingerprint': 'fp_51e1070cf2', 'id': 'chatcmpl-BlRO017HgKLPwl4yCiL4hcVX2vPgZ', 'service_tier': 'default', 'finish_reason': 'stop', 'logprobs': None}, id='run--6bd67f25-ec2c-4be1-a4e8-f10be156233c-0', usage_metadata={'input_tokens': 1616, 'output_tokens': 40, 'total_tokens': 1656, 'input_token_details': {'audio': 0, 'cache_read': 1280}, 'output_token_details': {'audio': 0, 'reasoning': 0}})]}"
      ]
     },
     "execution_count": 43,
     "metadata": {},
     "output_type": "execute_result"
    }
   ],
   "source": [
    "response3"
   ]
  },
  {
   "cell_type": "code",
   "execution_count": 41,
   "id": "cf6c8c11",
   "metadata": {},
   "outputs": [
    {
     "data": {
      "text/plain": [
       "{'messages': [HumanMessage(content='내 이름은 홍길동입니다.', additional_kwargs={}, response_metadata={}, id='406ba7ed-0c90-4c1c-ba71-86582eb7b89f'),\n",
       "  AIMessage(content='네, 반갑습니다 홍길동님! 궁금하신 점이나 도움이 필요한 내용이 있으시면 언제든 말씀해 주세요. 무엇을 도와드릴까요?', additional_kwargs={'refusal': None}, response_metadata={'token_usage': {'completion_tokens': 37, 'prompt_tokens': 339, 'total_tokens': 376, 'completion_tokens_details': {'accepted_prediction_tokens': 0, 'audio_tokens': 0, 'reasoning_tokens': 0, 'rejected_prediction_tokens': 0}, 'prompt_tokens_details': {'audio_tokens': 0, 'cached_tokens': 0}}, 'model_name': 'gpt-4.1-2025-04-14', 'system_fingerprint': 'fp_51e1070cf2', 'id': 'chatcmpl-BlRH1o2U0kEFIPS1NbATL8tTKIpmL', 'service_tier': 'default', 'finish_reason': 'stop', 'logprobs': None}, id='run--0f3bee00-5570-41a0-8cc5-616a87406cf1-0', usage_metadata={'input_tokens': 339, 'output_tokens': 37, 'total_tokens': 376, 'input_token_details': {'audio': 0, 'cache_read': 0}, 'output_token_details': {'audio': 0, 'reasoning': 0}}),\n",
       "  AIMessage(content='네, 다시 만나서 반갑습니다 홍길동님! 궁금하신 점이나 필요하신 정보가 있으면 언제든 편하게 말씀해 주세요. 무엇을 도와드릴까요?', additional_kwargs={'refusal': None}, response_metadata={'token_usage': {'completion_tokens': 43, 'prompt_tokens': 643, 'total_tokens': 686, 'completion_tokens_details': {'accepted_prediction_tokens': 0, 'audio_tokens': 0, 'reasoning_tokens': 0, 'rejected_prediction_tokens': 0}, 'prompt_tokens_details': {'audio_tokens': 0, 'cached_tokens': 0}}, 'model_name': 'gpt-4.1-2025-04-14', 'system_fingerprint': 'fp_51e1070cf2', 'id': 'chatcmpl-BlRH7YlEtrHlnqYx58blT8NXmbZ86', 'service_tier': 'default', 'finish_reason': 'stop', 'logprobs': None}, id='run--ce957804-6fcd-4eb4-8e14-4cdfca72ece7-0', usage_metadata={'input_tokens': 643, 'output_tokens': 43, 'total_tokens': 686, 'input_token_details': {'audio': 0, 'cache_read': 0}, 'output_token_details': {'audio': 0, 'reasoning': 0}}),\n",
       "  AIMessage(content='네, 홍길동님! 또 찾아주셔서 반갑습니다. 궁금한 점이나 필요한 정보, 또는 도움받고 싶은 내용이 있으시면 언제든 말씀해 주세요. 어떻게 도와드릴까요?', additional_kwargs={'refusal': None}, response_metadata={'token_usage': {'completion_tokens': 47, 'prompt_tokens': 953, 'total_tokens': 1000, 'completion_tokens_details': {'accepted_prediction_tokens': 0, 'audio_tokens': 0, 'reasoning_tokens': 0, 'rejected_prediction_tokens': 0}, 'prompt_tokens_details': {'audio_tokens': 0, 'cached_tokens': 0}}, 'model_name': 'gpt-4.1-2025-04-14', 'system_fingerprint': 'fp_51e1070cf2', 'id': 'chatcmpl-BlRJBVpCyJUqVJmSv8UjsWtrUcgBl', 'service_tier': 'default', 'finish_reason': 'stop', 'logprobs': None}, id='run--118fdfbb-d369-4d5e-8f34-ad192e387391-0', usage_metadata={'input_tokens': 953, 'output_tokens': 47, 'total_tokens': 1000, 'input_token_details': {'audio': 0, 'cache_read': 0}, 'output_token_details': {'audio': 0, 'reasoning': 0}}),\n",
       "  HumanMessage(content='내 이름 뭔지 기억해?', additional_kwargs={}, response_metadata={}, id='2a5f79ac-f294-4ecf-bd5d-eb5e84f47c8c'),\n",
       "  AIMessage(content='네, 홍길동님! 이름 기억하고 있습니다. 혹시 더 궁금한 점이나 필요한 게 있으신가요? 언제든 말씀해 주세요.', additional_kwargs={'refusal': None}, response_metadata={'token_usage': {'completion_tokens': 34, 'prompt_tokens': 1312, 'total_tokens': 1346, 'completion_tokens_details': {'accepted_prediction_tokens': 0, 'audio_tokens': 0, 'reasoning_tokens': 0, 'rejected_prediction_tokens': 0}, 'prompt_tokens_details': {'audio_tokens': 0, 'cached_tokens': 0}}, 'model_name': 'gpt-4.1-2025-04-14', 'system_fingerprint': 'fp_51e1070cf2', 'id': 'chatcmpl-BlRNfiXOmxYB6truSbuyyajGJMcBe', 'service_tier': 'default', 'finish_reason': 'stop', 'logprobs': None}, id='run--1b5d4068-01ea-4c90-aa27-5601e1e39494-0', usage_metadata={'input_tokens': 1312, 'output_tokens': 34, 'total_tokens': 1346, 'input_token_details': {'audio': 0, 'cache_read': 0}, 'output_token_details': {'audio': 0, 'reasoning': 0}})]}"
      ]
     },
     "execution_count": 41,
     "metadata": {},
     "output_type": "execute_result"
    }
   ],
   "source": [
    "config2 = {\"configurable\":{\"thread_id\":\"user-2\"}}\n",
    "res = graph.invoke({\"messages\":\"내 이름 뭔지 기억해?\"},config=config)\n",
    "res"
   ]
  },
  {
   "cell_type": "code",
   "execution_count": 46,
   "id": "9a597a92",
   "metadata": {},
   "outputs": [
    {
     "data": {
      "text/plain": [
       "{'messages': [HumanMessage(content='내 이름은 홍길동입니다.', additional_kwargs={}, response_metadata={}, id='406ba7ed-0c90-4c1c-ba71-86582eb7b89f'),\n",
       "  AIMessage(content='네, 반갑습니다 홍길동님! 궁금하신 점이나 도움이 필요한 내용이 있으시면 언제든 말씀해 주세요. 무엇을 도와드릴까요?', additional_kwargs={'refusal': None}, response_metadata={'token_usage': {'completion_tokens': 37, 'prompt_tokens': 339, 'total_tokens': 376, 'completion_tokens_details': {'accepted_prediction_tokens': 0, 'audio_tokens': 0, 'reasoning_tokens': 0, 'rejected_prediction_tokens': 0}, 'prompt_tokens_details': {'audio_tokens': 0, 'cached_tokens': 0}}, 'model_name': 'gpt-4.1-2025-04-14', 'system_fingerprint': 'fp_51e1070cf2', 'id': 'chatcmpl-BlRH1o2U0kEFIPS1NbATL8tTKIpmL', 'service_tier': 'default', 'finish_reason': 'stop', 'logprobs': None}, id='run--0f3bee00-5570-41a0-8cc5-616a87406cf1-0', usage_metadata={'input_tokens': 339, 'output_tokens': 37, 'total_tokens': 376, 'input_token_details': {'audio': 0, 'cache_read': 0}, 'output_token_details': {'audio': 0, 'reasoning': 0}}),\n",
       "  AIMessage(content='네, 다시 만나서 반갑습니다 홍길동님! 궁금하신 점이나 필요하신 정보가 있으면 언제든 편하게 말씀해 주세요. 무엇을 도와드릴까요?', additional_kwargs={'refusal': None}, response_metadata={'token_usage': {'completion_tokens': 43, 'prompt_tokens': 643, 'total_tokens': 686, 'completion_tokens_details': {'accepted_prediction_tokens': 0, 'audio_tokens': 0, 'reasoning_tokens': 0, 'rejected_prediction_tokens': 0}, 'prompt_tokens_details': {'audio_tokens': 0, 'cached_tokens': 0}}, 'model_name': 'gpt-4.1-2025-04-14', 'system_fingerprint': 'fp_51e1070cf2', 'id': 'chatcmpl-BlRH7YlEtrHlnqYx58blT8NXmbZ86', 'service_tier': 'default', 'finish_reason': 'stop', 'logprobs': None}, id='run--ce957804-6fcd-4eb4-8e14-4cdfca72ece7-0', usage_metadata={'input_tokens': 643, 'output_tokens': 43, 'total_tokens': 686, 'input_token_details': {'audio': 0, 'cache_read': 0}, 'output_token_details': {'audio': 0, 'reasoning': 0}}),\n",
       "  AIMessage(content='네, 홍길동님! 또 찾아주셔서 반갑습니다. 궁금한 점이나 필요한 정보, 또는 도움받고 싶은 내용이 있으시면 언제든 말씀해 주세요. 어떻게 도와드릴까요?', additional_kwargs={'refusal': None}, response_metadata={'token_usage': {'completion_tokens': 47, 'prompt_tokens': 953, 'total_tokens': 1000, 'completion_tokens_details': {'accepted_prediction_tokens': 0, 'audio_tokens': 0, 'reasoning_tokens': 0, 'rejected_prediction_tokens': 0}, 'prompt_tokens_details': {'audio_tokens': 0, 'cached_tokens': 0}}, 'model_name': 'gpt-4.1-2025-04-14', 'system_fingerprint': 'fp_51e1070cf2', 'id': 'chatcmpl-BlRJBVpCyJUqVJmSv8UjsWtrUcgBl', 'service_tier': 'default', 'finish_reason': 'stop', 'logprobs': None}, id='run--118fdfbb-d369-4d5e-8f34-ad192e387391-0', usage_metadata={'input_tokens': 953, 'output_tokens': 47, 'total_tokens': 1000, 'input_token_details': {'audio': 0, 'cache_read': 0}, 'output_token_details': {'audio': 0, 'reasoning': 0}}),\n",
       "  HumanMessage(content='내 이름 뭔지 기억해?', additional_kwargs={}, response_metadata={}, id='2a5f79ac-f294-4ecf-bd5d-eb5e84f47c8c'),\n",
       "  AIMessage(content='네, 홍길동님! 이름 기억하고 있습니다. 혹시 더 궁금한 점이나 필요한 게 있으신가요? 언제든 말씀해 주세요.', additional_kwargs={'refusal': None}, response_metadata={'token_usage': {'completion_tokens': 34, 'prompt_tokens': 1312, 'total_tokens': 1346, 'completion_tokens_details': {'accepted_prediction_tokens': 0, 'audio_tokens': 0, 'reasoning_tokens': 0, 'rejected_prediction_tokens': 0}, 'prompt_tokens_details': {'audio_tokens': 0, 'cached_tokens': 0}}, 'model_name': 'gpt-4.1-2025-04-14', 'system_fingerprint': 'fp_51e1070cf2', 'id': 'chatcmpl-BlRNfiXOmxYB6truSbuyyajGJMcBe', 'service_tier': 'default', 'finish_reason': 'stop', 'logprobs': None}, id='run--1b5d4068-01ea-4c90-aa27-5601e1e39494-0', usage_metadata={'input_tokens': 1312, 'output_tokens': 34, 'total_tokens': 1346, 'input_token_details': {'audio': 0, 'cache_read': 0}, 'output_token_details': {'audio': 0, 'reasoning': 0}}),\n",
       "  AIMessage(content='네, 홍길동님! 이름을 잘 기억하고 있습니다. 궁금한 점이 있거나 도움이 필요하시면 언제든 말씀해 주세요. 무엇을 도와드릴까요?', additional_kwargs={'refusal': None}, response_metadata={'token_usage': {'completion_tokens': 40, 'prompt_tokens': 1616, 'total_tokens': 1656, 'completion_tokens_details': {'accepted_prediction_tokens': 0, 'audio_tokens': 0, 'reasoning_tokens': 0, 'rejected_prediction_tokens': 0}, 'prompt_tokens_details': {'audio_tokens': 0, 'cached_tokens': 1280}}, 'model_name': 'gpt-4.1-2025-04-14', 'system_fingerprint': 'fp_51e1070cf2', 'id': 'chatcmpl-BlRO017HgKLPwl4yCiL4hcVX2vPgZ', 'service_tier': 'default', 'finish_reason': 'stop', 'logprobs': None}, id='run--6bd67f25-ec2c-4be1-a4e8-f10be156233c-0', usage_metadata={'input_tokens': 1616, 'output_tokens': 40, 'total_tokens': 1656, 'input_token_details': {'audio': 0, 'cache_read': 1280}, 'output_token_details': {'audio': 0, 'reasoning': 0}}),\n",
       "  AIMessage(content='네, 홍길동님! 이름을 잘 기억하고 있습니다. 더 궁금한 점이나 필요한 정보가 있으시면 언제든 편하게 말씀해 주세요. 무엇을 도와드릴까요?', additional_kwargs={'refusal': None}, response_metadata={'token_usage': {'completion_tokens': 42, 'prompt_tokens': 1928, 'total_tokens': 1970, 'completion_tokens_details': {'accepted_prediction_tokens': 0, 'audio_tokens': 0, 'reasoning_tokens': 0, 'rejected_prediction_tokens': 0}, 'prompt_tokens_details': {'audio_tokens': 0, 'cached_tokens': 1536}}, 'model_name': 'gpt-4.1-2025-04-14', 'system_fingerprint': 'fp_51e1070cf2', 'id': 'chatcmpl-BlROH9wKYuCg5guj668oq4gN77PJp', 'service_tier': 'default', 'finish_reason': 'stop', 'logprobs': None}, id='run--a6a809a8-9404-4ef4-8983-fc23598dec08-0', usage_metadata={'input_tokens': 1928, 'output_tokens': 42, 'total_tokens': 1970, 'input_token_details': {'audio': 0, 'cache_read': 1536}, 'output_token_details': {'audio': 0, 'reasoning': 0}}),\n",
       "  HumanMessage(content='독산동 쌀국수집 추천해줘.', additional_kwargs={}, response_metadata={}, id='df53e654-46b3-4085-b200-da2938c6527d'),\n",
       "  AIMessage(content='', additional_kwargs={'tool_calls': [{'id': 'call_uMxqpHjQMTPMeGHXrLQRd0NG', 'function': {'arguments': '{\"query\":\"독산동 쌀국수집 추천\",\"max_results\":5}', 'name': 'search_web'}, 'type': 'function'}], 'refusal': None}, response_metadata={'token_usage': {'completion_tokens': 27, 'prompt_tokens': 2287, 'total_tokens': 2314, 'completion_tokens_details': {'accepted_prediction_tokens': 0, 'audio_tokens': 0, 'reasoning_tokens': 0, 'rejected_prediction_tokens': 0}, 'prompt_tokens_details': {'audio_tokens': 0, 'cached_tokens': 1792}}, 'model_name': 'gpt-4.1-2025-04-14', 'system_fingerprint': 'fp_51e1070cf2', 'id': 'chatcmpl-BlRPhmwfqhGJJ63cR07J35fwWXZDi', 'service_tier': 'default', 'finish_reason': 'tool_calls', 'logprobs': None}, id='run--bd1409c2-0fb6-469a-b781-0aeb67556cf2-0', tool_calls=[{'name': 'search_web', 'args': {'query': '독산동 쌀국수집 추천', 'max_results': 5}, 'id': 'call_uMxqpHjQMTPMeGHXrLQRd0NG', 'type': 'tool_call'}], usage_metadata={'input_tokens': 2287, 'output_tokens': 27, 'total_tokens': 2314, 'input_token_details': {'audio': 0, 'cache_read': 1792}, 'output_token_details': {'audio': 0, 'reasoning': 0}}),\n",
       "  ToolMessage(content='{\"result\": [{\"url\": \"https://www.diningcode.com/list.dc?query=%EB%8F%85%EC%82%B0%EB%8F%99%20%EC%8C%80%EA%B5%AD%EC%88%98\", \"title\": \"\\'독산동 쌀국수\\' 맛집 빅데이터 추천순위 Top5 - 다이닝코드\", \"content\": \"독산동 쌀국수맛집 (5곳) · 1. 분짜하노이 금천롯데캐슬점 · 2. 반포식스 독산점 · 3. 강남쌀국수 금천구 · 4. 베트남 쌀국수 pho viet 독산 · 5. 행운식당 독산동.\", \"score\": 0.9100432, \"raw_content\": null}, {\"url\": \"https://www.diningcode.com/list.dc?query=%EB%8F%85%EC%82%B0%EB%8F%99%20%EB%B2%A0%ED%8A%B8%EB%82%A8%EC%8C%80%EA%B5%AD%EC%88%98\", \"title\": \"\\'독산동 베트남쌀국수\\' 맛집 빅데이터 추천순위 Top4 - 다이닝코드\", \"content\": \"독산동 베트남쌀국수맛집 (4곳) · 1. 분짜하노이 금천롯데캐슬점 · 2. 반포식스 독산점 · 3. 베트남 쌀국수 pho viet 독산 · 4. 강남쌀국수 금천구.\", \"score\": 0.8576849, \"raw_content\": null}, {\"url\": \"https://www.siksinhot.com/search?keywords=%EB%8F%85%EC%82%B0%EB%8F%99%20%EC%8C%80%EA%B5%AD%EC%88%98\", \"title\": \"독산동 쌀국수 맛집 인기검색 순위 - 식신\", \"content\": \"독산동 쌀국수 맛집 인기검색 순위 · 꾸왁칼국수 , 서울특별시 중구 창경궁로 67-11 best · 이도곰탕 , 서울특별시 강남구 논현로94길 29-5 best · 포레스트 , 경기도 화성시\", \"score\": 0.7942736, \"raw_content\": null}, {\"url\": \"http://m.blog.naver.com/judymary731/223563519768?fromRss=true&trackingCode=rss\", \"title\": \"꼭 가봐야 할 서울 금천구 독산동 맛집 BEST 5 2탄! - 네이버 블로그\", \"content\": \"1. 한라산도새기 가산점 · 2. 포닷 베트남 쌀국수 · 3. 도원 · 4. 윤포차 · 5. 삼은식당.\", \"score\": 0.78963995, \"raw_content\": null}, {\"url\": \"https://blog.naver.com/cugs7113/223340484524?viewType=pc\", \"title\": \"금천구 독산역 쌀국수 맛집 포닷베트남쌀국수 : 네이버 블로그\", \"content\": \"수저통과 베트남 고추, 레몬,. 고수, 배추 김치, 단무지가 있습니다. \\u200b. 본인이 먹을만큼 밑반찬을. 셀프로 가져다 먹을 수 있어서 좋았어요\", \"score\": 0.6739866, \"raw_content\": null}]}', name='search_web', id='485556b2-36a1-462f-8305-5f0a8fb71ccf', tool_call_id='call_uMxqpHjQMTPMeGHXrLQRd0NG'),\n",
       "  AIMessage(content='홍길동님, 독산동 근처 쌀국수 맛집을 추천해드릴게요!\\n\\n1. 분짜하노이 금천롯데캐슬점  \\n쌀국수와 분짜 등 베트남 대표 음식이 다양하게 잘 나와요.\\n\\n2. 반포식스 독산점  \\n깔끔하고 진한 육수로 유명한 쌀국수집입니다.\\n\\n3. 강남쌀국수 금천구  \\n지역 주민들에게 인기 있는 베트남 쌀국수 전문점이에요.\\n\\n4. 베트남 쌀국수 Pho Viet 독산  \\n현지 느낌이 잘 살아있고, 푸짐하게 제공돼 만족도가 높습니다.\\n\\n5. 포닷 베트남 쌀국수  \\n셀프 반찬 바(고수, 배추김치, 단무지 등)가 있어 취향대로 즐길 수 있어요.\\n\\n각 매장은 구글맵 또는 네이버 지도에서 바로 검색하실 수 있습니다. 궁금한 메뉴, 위치, 영업시간 등 더 자세한 정보가 필요하시면 언제든 말씀해 주세요!', additional_kwargs={'refusal': None}, response_metadata={'token_usage': {'completion_tokens': 236, 'prompt_tokens': 3572, 'total_tokens': 3808, 'completion_tokens_details': {'accepted_prediction_tokens': 0, 'audio_tokens': 0, 'reasoning_tokens': 0, 'rejected_prediction_tokens': 0}, 'prompt_tokens_details': {'audio_tokens': 0, 'cached_tokens': 2176}}, 'model_name': 'gpt-4.1-2025-04-14', 'system_fingerprint': 'fp_51e1070cf2', 'id': 'chatcmpl-BlRPlpZjaBtXMoRgSxDTTR1hfDr5D', 'service_tier': 'default', 'finish_reason': 'stop', 'logprobs': None}, id='run--29d3e37a-7a7c-4a13-832f-ae551e06bcad-0', usage_metadata={'input_tokens': 3572, 'output_tokens': 236, 'total_tokens': 3808, 'input_token_details': {'audio': 0, 'cache_read': 2176}, 'output_token_details': {'audio': 0, 'reasoning': 0}})]}"
      ]
     },
     "execution_count": 46,
     "metadata": {},
     "output_type": "execute_result"
    }
   ],
   "source": [
    "res2 = graph.invoke({\"messages\":\"독산동 쌀국수집 추천해줘.\"}, config=config)\n",
    "res2"
   ]
  },
  {
   "cell_type": "code",
   "execution_count": null,
   "id": "df556afb",
   "metadata": {},
   "outputs": [],
   "source": []
  }
 ],
 "metadata": {
  "kernelspec": {
   "display_name": "lang_env",
   "language": "python",
   "name": "python3"
  },
  "language_info": {
   "codemirror_mode": {
    "name": "ipython",
    "version": 3
   },
   "file_extension": ".py",
   "mimetype": "text/x-python",
   "name": "python",
   "nbconvert_exporter": "python",
   "pygments_lexer": "ipython3",
   "version": "3.12.11"
  }
 },
 "nbformat": 4,
 "nbformat_minor": 5
}
