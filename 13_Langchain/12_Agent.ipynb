{
 "cells": [
  {
   "cell_type": "markdown",
   "metadata": {},
   "source": [
    "# Agent 개요\n",
    "\n",
    "- Agent 대형 언어 모델(LLM)과 다양한 도구(Tool)를 결합하여 복잡한 작업을 처리할 수 있도록 설계된 사용자 요청 처리 인공지능 시스템이다.\n",
    "    - Agent는 주어진 목표를 달성하기 위해 환경(toolkit)과 상호작용하며 의사 결정을 내리고 행동을 취하는 자율적인 개체이다.\n",
    "    - Agent의 자율적인 의사 결정은 LLM 이 담당하여 사람의 개입이 최소화 된다.\n",
    "\n",
    "## Agent의 주요 특징\n",
    "- **자율성**: 사전 정의된 규칙 없이도 스스로 결정을 내리고 행동할 수 있다.\n",
    "- **목표 지향성**: 특정 목표나 작업을 달성하기 위해 설계되어 있다.\n",
    "- **도구 활용**: 다양한 도구나 API를 활용하여 작업을 수행한다.\n",
    "\n",
    "## Agent 기본 동작 원리\n",
    "\n",
    "![agent_concept](figures/agent_concept.png)\n",
    "\n",
    "### ReAct\n",
    "- Reasoning and Acting의 약자로, 에이전트가 문제를 해결할 때 추론과 행동을 결합하는 방식이다.\n",
    "\n",
    "#### 동작 단계\n",
    "- **사용자 입력 수신**: \n",
    "    - 에이전트는 사용자가 입력한 질문이나 명령을 받는다.\n",
    "- **추론(Reasoning)**\n",
    "    - 입력된 내용을 분석하여 문제를 이해하고, 해결 방안을 계획합니다. \n",
    "- **행동 결정 및 도구 실행(Action)**: \n",
    "    - 계획에 따라 어떤 도구를 사용할지 결정하고 그 도구를 호출하여 작업을 수행한다.\n",
    "- **결과 평가 및 추가 행동 결정**: \n",
    "    - 도구 실행 결과를 바탕으로 추가로 도구를 사용할지, 아니면 최종 답변을 생성할지를 결정한다.\n",
    "    - 추가로 도구를 사용하기로 결정한 경우 도구를 실행한다.\n",
    "- **최종 답변 반환**: \n",
    "    - 최종 결과를 사용자에게 제공한다."
   ]
  },
  {
   "cell_type": "markdown",
   "metadata": {},
   "source": [
    "# TOOL\n",
    "- **Tool은 하나의 기능을 처리하는 함수이다.**\n",
    "\n",
    "## Tool Calling 개요\n",
    "- LLM이 외부 도구나 API를 활용하여 작업을 수행할 수 있게 하는 기능이다.\n",
    "    1. LLM 이 사용할 수 있는 도구들을 binding한다.\n",
    "    2. 사용자로 부터 질의가 들어오면 그 질의를 처리하기 위해 tool을 호출 하는 것이 필요하다면 LLM은 어떤 tool을 어떻게 호출할지 응답한다.\n",
    "    3.  사용자는 응답에 맞는 tool을 호출하고 그 처리결과를 취합해 질의와 함께 LLM에게 요청한다.\n",
    "\t- TOOL Calling 예\n",
    "        - LLM이 수학 계산을 수행해야 할 때, 직접 계산하는 대신 미리 정의된 '계산' 도구를 호출하여 정확한 결과를 얻을 수 있다.\n",
    "    \t- LLM에 최신 정보를 요청하는 질문이 들어왔을 때 '검색' 도구나 'Database 연동' 도구를 사용해 최신 뉴스를 검색하거나, 특정 데이터베이스에서 정보를 조회하는 등의 작업을 수행할 수 있다.\n",
    "- **LLM은 도구를 이용해 자체 지식의 한계를 넘어서는 정보를 제공할 수 있습니다.**\n",
    "- Tool calling은 OpenAI, Anthropic 등 여러 LLM 서비스가 지원한다.\n",
    "  - Tool Calling을 지원하는 LLM 모델만 사용할 수있다.\n",
    "- LangChain은 다양한 모델들의 도구 호출 방식을 표준화하여 일관된 인터페이스로 제공한다. 이를 통해 개발자들은 다양한 모델과 도구들을 쉽게 통합할 수있다.\n",
    "- Tool Calling Concept: https://python.langchain.com/docs/concepts/tool_calling/\n",
    "- Langchain 지원 tools (Builtin Tool)\n",
    "    -  https://python.langchain.com/docs/integrations/tools/#search\n",
    "- **Agent:**\n",
    "\t- LLM 모델이 목표한 결과를 얻기 위해 적절한 도구를 선택하고, 이를 활용하여 작업을 수행하는 시스템을 **Agent**라고 한다."
   ]
  },
  {
   "cell_type": "markdown",
   "metadata": {},
   "source": [
    "# 랭체인 내장 도구(tools) 사용\n",
    "- Langchain은 다양한 도구들을 구현해서 제공하고 있다. 이것들을 builtin tool이라고 한다. \n",
    "  - [Langchain 지원 Built tools](https://python.langchain.com/docs/integrations/tools/)\n",
    "- 그 외에 필요한 도구들을 직접 구현할 수있는 방법도 제공한다.\n",
    "- Tavily 웹 검색 도구 사용해 Tool calling을 이해한다.\n",
    "\n",
    "\n",
    "## Tavily\n",
    "- LLM을 위한 웹 검색 API.\n",
    "- https://tavily.com/\n",
    "-  LLM과 RAG 시스템에 최적화된 검색 엔진.\n",
    "   -  기존의 일반 검색 엔진들과 달리, Tavily는 AI 애플리케이션의 요구사항에 맞춰 설계되었다.\n",
    "   -  Tavily는 검색 결과에서 검색 query와 관련 콘텐츠를 추출하여 제공한다.\n",
    "   -  월 1000회 무료 사용 가능.\n",
    "### Tavily API Key 받기\n",
    "- 로그인 한다.\n",
    "- Overview 화면에서 API Key 생성  \n",
    "- **API Keys \\[+\\] 클릭**\n",
    "\n",
    "![apikey1](figures/travily_apikey1.png)\n",
    "\n",
    "- **Key Name을 입력하고 생성**\n",
    "\n",
    "![apikey1](figures/travily_apikey2.png)\n",
    "\n",
    "- **API Key를 복사**\n",
    "\n",
    "![apikey1](figures/travily_apikey3.png)\n",
    "\n",
    "- 환경변수에 등록한다.\n",
    "    - 변수이름: \"TAVILY_API_KEY\""
   ]
  },
  {
   "cell_type": "markdown",
   "metadata": {},
   "source": [
    "## TavilySearch\n",
    "- Langchain에서 제공하는 tool로 Tavily 의 검색 엔진 API를 사용해 검색을 수행한다.\n",
    "- 설치\n",
    "  - `pip install langchain-tavily`\n",
    "- https://python.langchain.com/docs/integrations/tools/tavily_search/"
   ]
  },
  {
   "cell_type": "code",
   "execution_count": 1,
   "metadata": {},
   "outputs": [
    {
     "data": {
      "text/plain": [
       "True"
      ]
     },
     "execution_count": 1,
     "metadata": {},
     "output_type": "execute_result"
    }
   ],
   "source": [
    "from dotenv import load_dotenv\n",
    "from langchain_tavily import TavilySearch\n",
    "\n",
    "load_dotenv()\n",
    "\n",
    "# import os\n",
    "# os.getenv(\"TAVILY_API_KEY\")"
   ]
  },
  {
   "cell_type": "code",
   "execution_count": 2,
   "metadata": {},
   "outputs": [],
   "source": [
    "tavily_search = TavilySearch(\n",
    "    max_result = 3, # 최대 검색 개수\n",
    "    include_images = True, # 검색한 페이지의 이미지들의 URL도 반환\n",
    "    time_range = \"month\", # 검색할 기간 단위 (최근 \"day\", \"week\", \"month\", \"year\" 내용들을 검색)\n",
    ")\n",
    "query = \"2025-2026 시즌 손흥민 이적설\"\n",
    "resp = tavily_search.invoke(query)"
   ]
  },
  {
   "cell_type": "code",
   "execution_count": 3,
   "metadata": {},
   "outputs": [
    {
     "name": "stdout",
     "output_type": "stream",
     "text": [
      "<class 'dict'>\n"
     ]
    },
    {
     "data": {
      "text/plain": [
       "{'query': '2025-2026 시즌 손흥민 이적설',\n",
       " 'follow_up_questions': None,\n",
       " 'answer': None,\n",
       " 'images': ['https://thumbnews.nateimg.co.kr/view610/news.nateimg.co.kr/orgImg/kz/2024/11/16/news-p.v1.20240926.ad0cd8c9c02e4b35aa4c0c3b7b0c3735_P1.png',\n",
       "  'https://image.xportsnews.com/contents/images/upload/article/2024/1221/1734758534483703.jpg',\n",
       "  'https://img6.yna.co.kr/photo/etc/af/2025/01/04/PAF20250104194501009_P4.jpg',\n",
       "  'https://img-s-msn-com.akamaized.net/tenant/amp/entityid/AA1udLWy.img?w=650&h=453&m=4&q=79',\n",
       "  'https://fo-newscenter.s3.ap-northeast-2.amazonaws.com/sportal-korea/extract/2024/12/24/SK007_20241224_020101.jpg'],\n",
       " 'results': [{'title': '손흥민 이적설 2025-26시즌에는 어디에서 뛸까? - 한국 스포츠 소식',\n",
       "   'url': 'https://koreanathleticnews.blogspot.com/2025/06/2025-26.html',\n",
       "   'content': '현재 유력한 행선지는 무리뉴 감독이 지휘하고 있는 튀르키예 페네르바체 입니다. 과거 토트넘에서 무리뉴 감독에게 지도를 받은 경험이 있습니다. 무리뉴 감독은 손흥민을 아주 높게 평가하며 손흥민 역시 무리뉴 감독에 대한 신뢰가 높습니다. 또한 페네르바체는 다음 시즌 챔피언스리그 진출을 노리고 있습니다. 다만 토트넘과 이적료 협상에 난항이 있습니다. 토트넘은 최소 이적료 350~400억을 원하고 있습니다. 이것은 사우디 아라비아 팀들은 쉽게 맞춰줄 수 있습니다. UEFA 유럽대항전에서 뛰는 것을 생각하면 페네르바체가 좋은 선택일 수 있지만 페네르바체는 이적료를 250~300억 정도로 생각하고 있습니다. 알힐랄은 네이마르가 떠난 상황에서 슈퍼스타를 원하고 있습니다. 따라서 MLS 이적설도 신빙성이 높게 나오고 있습니다. 따라서 MLS로 이적해서 현지에 쉽게 적응할 수 있습니다. 상황을 요약하면 튀르키예, 사우디 아라비아, MLS 정도로 요약할 수 있습니다. 토트넘은 쿠팡플레이 시리즈로 7월말에 내한을 하기 때문에 실제 팀을 옮기는 시기는 8월초가 될 수 있습니다.',\n",
       "   'score': 0.8893851,\n",
       "   'raw_content': None},\n",
       "  {'title': \"'아직 공식 오퍼는 없는데'…현지에서 계속 제기되는 손흥민의 이적설｜스포츠동아\",\n",
       "   'url': 'https://sports.donga.com/sports/article/all/20250618/131828228/1',\n",
       "   'content': '*   [![Image 25: 이세영 비키니 입고 춤 삼매경…반려견 ‘그러려니’ [DA★]](https://dimg.donga.com/a/232/174/95/1/wps/SPORTS/IMAGE/2025/06/18/131835259.1.jpg)](https://sports.donga.com/ent/article/all/20250618/131835270/1)[이세영 비키니 입고 춤 삼매경…반려견 ‘그러려니’ [DA★]](https://sports.donga.com/ent/article/all/20250618/131835270/1) 이수만·바다·유진, 월디페서 얼굴로 뭉쳤다](https://dimg.donga.com/a/232/174/95/1/wps/SPORTS/IMAGE/2025/06/18/131834286.1.jpg)](https://sports.donga.com/ent/article/all/20250618/131834283/1)[[★스느스] S.E.S 재결합 떡밥? *   1[![Image 32: 김혜선, 말벅지+복근…근육질 몸매 대박이야 [DA★]](https://dimg.donga.com/a/72/72/95/1/wps/SPORTS/IMAGE/2025/06/17/131825443.1.jpg)](https://sports.donga.com/ent/article/all/20250617/131825455/1) [김혜선, 말벅지+복근…근육질 몸매 대박이야 [DA★]](https://sports.donga.com/ent/article/all/20250617/131825455/1)    *   2[![Image 33: 황신혜, 나이 잊게 하는 비키니…치명적 존재감 [DA★]](https://dimg.donga.com/a/72/72/95/1/wps/SPORTS/IMAGE/2025/06/17/131827312.1.jpg)](https://sports.donga.com/ent/article/all/20250617/131827314/1) [황신혜, 나이 잊게 하는 비키니…치명적 존재감 [DA★]](https://sports.donga.com/ent/article/all/20250617/131827314/1)    *   3[![Image 34: 한그루, 레깅스 터질라…엉덩이+등근육 ‘탄탄 뒤태’ [DA★]](https://dimg.donga.com/a/72/72/95/1/wps/SPORTS/IMAGE/2025/06/17/131824405.1.jpg)](https://sports.donga.com/ent/article/all/20250617/131824413/1) [한그루, 레깅스 터질라…엉덩이+등근육 ‘탄탄 뒤태’ [DA★]](https://sports.donga.com/ent/article/all/20250617/131824413/1)    *   5[![Image 36: ‘AV 배우 만남’ 주학년 더보이즈 탈퇴, 전속계약도 해지 [공식]](https://dimg.donga.com/a/72/72/95/1/wps/SPORTS/IMAGE/2025/06/18/131833310.1.jpg)](https://sports.donga.com/ent/article/all/20250618/131833311/1) [‘AV 배우 만남’ 주학년 더보이즈 탈퇴, 전속계약도 해지 [공식]](https://sports.donga.com/ent/article/all/20250618/131833311/1)    *   [![Image 38: 40대 전미라, 길쭉 탄탄 비키니…♥윤종신 놀라겠어 [DA★]](https://dimg.donga.com/a/140/140/95/1/wps/SPORTS/IMAGE/2025/06/19/131838286.1.jpg)](https://sports.donga.com/ent/article/all/20250619/131838296/1)[40대 전미라, 길쭉 탄탄 비키니…♥윤종신 놀라겠어 [DA★]](https://sports.donga.com/ent/article/all/20250619/131838296/1) *   [![Image 41: 이세영 비키니 입고 춤 삼매경…반려견 ‘그러려니’ [DA★]](https://dimg.donga.com/a/140/140/95/1/wps/SPORTS/IMAGE/2025/06/18/131835259.1.jpg)](https://sports.donga.com/ent/article/all/20250618/131835270/1)[이세영 비키니 입고 춤 삼매경…반려견 ‘그러려니’ [DA★]](https://sports.donga.com/ent/article/all/20250618/131835270/1)',\n",
       "   'score': 0.7890553,\n",
       "   'raw_content': None},\n",
       "  {'title': '350억 포기하나… 손흥민, 토트넘 유니폼 다시 입었다',\n",
       "   'url': 'https://tenbizt.com/entertainment/article/180971/',\n",
       "   'content': '축구선수 손흥민(토트넘 홋스퍼)의 이적설이 이어지는 가운데, 그가 토트넘 홋스퍼의 새 시즌 유니폼 모델로 나섰다. 지난 3일(현지 시각) 토트넘은 구단 공식 홈페이지와 소셜 미디어 등을 통해 2025-2026시즌 홈 유니폼 사진을 공개했다.',\n",
       "   'score': 0.78709817,\n",
       "   'raw_content': None},\n",
       "  {'title': \"손흥민 이적설 데드라인 나왔다…'아시아 투어' 이후 결정 - 파이낸셜뉴스\",\n",
       "   'url': 'https://www.fnnews.com/news/202506181010460750',\n",
       "   'content': \"# 손흥민 이적설 데드라인 나왔다…'아시아 투어' 이후 결정 뉴시스 입력 2025.06.18 10:10 수정 2025.06.18 10:10 ![[서울=뉴시스] 홍효식 기자 = 지난해 7월31일 서울 마포구 서울월드컵경기장에서 열린 쿠팡플레이 시리즈 1차전 팀 K리그와 토트넘 홋스퍼의 경기를 마친 토트넘 손흥민이 관중들에게 인사하고 있다. yesphoto@newsis.com](https://image.fnnews.com/resource/media/image/2025/06/18/202506181010372049_l.jpg) ![[서울=뉴시스] 김근수 기자 = 지난해 8월3일 서울 마포구 서울월드컵경기장에서 열린 쿠팡플레이 시리즈 2경기 토트넘 홋스퍼와 FC바이에른 뮌헨의 경기에서 FC바이에른 뮌헨이 토트넘 홋스퍼를 상대로 2-1로 승리를 거뒀다. 토트넘 홋스퍼 손흥민이 경기장을 돌며 팬들에게 인사하고 있다. ks@newsis.com](https://image.fnnews.com/resource/media/image/2025/06/18/202506181010409266_l.jpg) ![[서울=뉴시스] 황준선 기자 = 지난해 8월3일 오후 서울 마포구 서울월드컵경기장에서 열린 쿠팡플레이 시리즈 2경기 토트넘 홋스퍼와 FC바이에른 뮌헨의 경기, 토트넘 손흥민이 경기가 끝난 뒤 관중들에게 인사하고 있다. hwang@newsis.com](https://image.fnnews.com/resource/media/image/2025/06/18/202506181010424566_l.jpg) 저작권자ⓒ 공감언론 뉴시스통신사. 무단전재-재배포 금지 주소 : 서울 서초구 강남대로 315 인터넷신문 등록번호 : 서울 아04510\",\n",
       "   'score': 0.7152057,\n",
       "   'raw_content': None},\n",
       "  {'title': '[오피셜] 충격! 손흥민 없다…\"토트넘, 2025-26시즌 홈 유니폼 메인 모델 제외\" 사우디 이적 연봉 567억 메가톤급 제안 ...',\n",
       "   'url': 'https://sports.news.nate.com/view/20250603n17596',\n",
       "   'content': '손흥민 없다…\"토트넘, 2025-26시즌 홈 유니폼 메인 모델 제외\" 사우디 이적 연봉 567억 메가톤급 제안 급부상 → 진짜 현실될까 : 네이트 스포츠 손흥민 없다…\"토트넘, 2025-26시즌 홈 유니폼 메인 모델 제외\" 사우디 이적 연봉 567억 메가톤급 제안 급부상 → 진짜 현실될까](https://thumbnews.nateimg.co.kr/view610///news.nateimg.co.kr/orgImg/su/2025/06/03/751727_1203510_4117.png) Image 2 Image 3 Image 4 Image 5 Image 6 *   [Image 39**\\'대리출전으로 우승\\' 강원도민체전…\\'공정성 얼룩\\' [스포츠 화제의 뉴스 I 일반]**Image 40: slide](javascript:OpenPopup(\\'//ps.news.nate.com/photo/slidePopup? \\'배신의 아이콘\\' 고군분투…선수단과 어울리지 못해→노력 필요하다[해외축구 화제의 뉴스]**Image 44: slide](javascript:OpenPopup(\\'//ps.news.nate.com/photo/slidePopup? *   [Image 45**\\'끔찍\\' 비니시우스 인형 목 매단 4명 유죄 판결…1km 접근 금지+직업 활동 제한+경기장 출입도 X [스포츠 사건 사고]**Image 46: slide](javascript:OpenPopup(\\'//ps.news.nate.com/photo/slidePopup? 3.   8[_Image 61_ \\'플로리얼 부상\\' 한화, 김하성 전 동료 6주 6800만원에 영입 \"한화가 韓 흥행 주도하는 팀이라 들었다\" [공식발표]공감수 _27_](https://sports.news.nate.com/view/20250617n11959)',\n",
       "   'score': 0.7016523,\n",
       "   'raw_content': None}],\n",
       " 'response_time': 1.06}"
      ]
     },
     "execution_count": 3,
     "metadata": {},
     "output_type": "execute_result"
    }
   ],
   "source": [
    "print(type(resp))\n",
    "resp # 요약 # score는 유사도 "
   ]
  },
  {
   "cell_type": "code",
   "execution_count": 4,
   "metadata": {},
   "outputs": [
    {
     "data": {
      "text/plain": [
       "langchain_tavily.tavily_search.TavilySearch"
      ]
     },
     "execution_count": 4,
     "metadata": {},
     "output_type": "execute_result"
    }
   ],
   "source": [
    "type(tavily_search)"
   ]
  },
  {
   "cell_type": "code",
   "execution_count": 5,
   "metadata": {},
   "outputs": [
    {
     "name": "stdout",
     "output_type": "stream",
     "text": [
      "tool의 이름: tavily_search\n",
      "tool에 대한 설명: A search engine optimized for comprehensive, accurate, and trusted results. Useful for when you need to answer questions about current events. It not only retrieves URLs and snippets, but offers advanced search depths, domain management, time range filters, and image search, this tool delivers real-time, accurate, and citation-backed results.Input should be a search query.\n"
     ]
    }
   ],
   "source": [
    "# 툴 정보 # 모든 툴이 가져야만 함\n",
    "print(\"tool의 이름:\", tavily_search.name)\n",
    "print(\"tool에 대한 설명:\" , tavily_search.description)"
   ]
  },
  {
   "cell_type": "code",
   "execution_count": 6,
   "metadata": {},
   "outputs": [
    {
     "name": "stdout",
     "output_type": "stream",
     "text": [
      "tool의 스키마(schema):\n"
     ]
    },
    {
     "data": {
      "text/plain": [
       "{'description': 'Input for [TavilySearch]',\n",
       " 'properties': {'query': {'description': 'Search query to look up',\n",
       "   'title': 'Query',\n",
       "   'type': 'string'},\n",
       "  'include_domains': {'anyOf': [{'items': {'type': 'string'}, 'type': 'array'},\n",
       "    {'type': 'null'}],\n",
       "   'default': [],\n",
       "   'description': 'A list of domains to restrict search results to.\\n\\n        Use this parameter when:\\n        1. The user explicitly requests information from specific websites (e.g., \"Find climate data from nasa.gov\")\\n        2. The user mentions an organization or company without specifying the domain (e.g., \"Find information about iPhones from Apple\")\\n\\n        In both cases, you should determine the appropriate domains (e.g., [\"nasa.gov\"] or [\"apple.com\"]) and set this parameter.\\n\\n        Results will ONLY come from the specified domains - no other sources will be included.\\n        Default is None (no domain restriction).\\n        ',\n",
       "   'title': 'Include Domains'},\n",
       "  'exclude_domains': {'anyOf': [{'items': {'type': 'string'}, 'type': 'array'},\n",
       "    {'type': 'null'}],\n",
       "   'default': [],\n",
       "   'description': 'A list of domains to exclude from search results.\\n\\n        Use this parameter when:\\n        1. The user explicitly requests to avoid certain websites (e.g., \"Find information about climate change but not from twitter.com\")\\n        2. The user mentions not wanting results from specific organizations without naming the domain (e.g., \"Find phone reviews but nothing from Apple\")\\n\\n        In both cases, you should determine the appropriate domains to exclude (e.g., [\"twitter.com\"] or [\"apple.com\"]) and set this parameter.\\n\\n        Results will filter out all content from the specified domains.\\n        Default is None (no domain exclusion).\\n        ',\n",
       "   'title': 'Exclude Domains'},\n",
       "  'search_depth': {'anyOf': [{'enum': ['basic', 'advanced'], 'type': 'string'},\n",
       "    {'type': 'null'}],\n",
       "   'default': 'basic',\n",
       "   'description': 'Controls search thoroughness and result comprehensiveness.\\n    \\n        Use \"basic\" for simple queries requiring quick, straightforward answers.\\n        \\n        Use \"advanced\" (default) for complex queries, specialized topics, \\n        rare information, or when in-depth analysis is needed.\\n        ',\n",
       "   'title': 'Search Depth'},\n",
       "  'include_images': {'anyOf': [{'type': 'boolean'}, {'type': 'null'}],\n",
       "   'default': False,\n",
       "   'description': 'Determines if the search returns relevant images along with text results.\\n   \\n        Set to True when the user explicitly requests visuals or when images would \\n        significantly enhance understanding (e.g., \"Show me what black holes look like,\" \\n        \"Find pictures of Renaissance art\").\\n        \\n        Leave as False (default) for most informational queries where text is sufficient.\\n        ',\n",
       "   'title': 'Include Images'},\n",
       "  'time_range': {'anyOf': [{'enum': ['day', 'week', 'month', 'year'],\n",
       "     'type': 'string'},\n",
       "    {'type': 'null'}],\n",
       "   'default': None,\n",
       "   'description': 'Limits results to content published within a specific timeframe.\\n        \\n        ONLY set this when the user explicitly mentions a time period \\n        (e.g., \"latest AI news,\" \"articles from last week\").\\n        \\n        For less popular or niche topics, use broader time ranges \\n        (\"month\" or \"year\") to ensure sufficient relevant results.\\n   \\n        Options: \"day\" (24h), \"week\" (7d), \"month\" (30d), \"year\" (365d).\\n        \\n        Default is None.\\n        ',\n",
       "   'title': 'Time Range'},\n",
       "  'topic': {'anyOf': [{'enum': ['general', 'news', 'finance'],\n",
       "     'type': 'string'},\n",
       "    {'type': 'null'}],\n",
       "   'default': 'general',\n",
       "   'description': 'Specifies search category for optimized results.\\n   \\n        Use \"general\" (default) for most queries, INCLUDING those with terms like \\n        \"latest,\" \"newest,\" or \"recent\" when referring to general information.\\n\\n        Use \"finance\" for markets, investments, economic data, or financial news.\\n\\n        Use \"news\" ONLY for politics, sports, or major current events covered by \\n        mainstream media - NOT simply because a query asks for \"new\" information.\\n        ',\n",
       "   'title': 'Topic'}},\n",
       " 'required': ['query'],\n",
       " 'title': 'TavilySearchInput',\n",
       " 'type': 'object'}"
      ]
     },
     "execution_count": 6,
     "metadata": {},
     "output_type": "execute_result"
    }
   ],
   "source": [
    "print(\"tool의 스키마(schema):\") # 어떻게 만들어진지 정해놓은 애  # tool 구조에 대한 설계도 \n",
    "tavily_search.args_schema.model_json_schema()\n",
    "# \"properties\" -> 툴을 호출할 때 전달해야하는 값들. "
   ]
  },
  {
   "cell_type": "code",
   "execution_count": null,
   "metadata": {},
   "outputs": [],
   "source": []
  },
  {
   "cell_type": "markdown",
   "metadata": {},
   "source": [
    "## LLM tool callings\n",
    "\n",
    "### 작동 원리\n",
    "\n",
    "![toolcalling_concept](figures/toolcalling_concept.png)\n",
    "1. Tool 생성\n",
    "2. 생성한 Tool을 tool calling을 지원하는 LLM 모델에 연결(binding)\n",
    "   - LLM 이 사용할 수있는 tool들을 등록(bind) 한다.\n",
    "    - **`Model.bind([tool_1, tool_2, ...]): RunnableBinding`**\n",
    "    - Model에 tool을 bind 하면 `Runnable` 타입의 `RunnableBinding` 객체가 반환된다.\n",
    "3. 질의가 들어오면 모델(LLM + tool) 은 tool calling 정보(어떤 툴을 어떤 query로 호출할지 schema 에 맞게 만든 정보)를 응답.\n",
    "    - 질의에 대해 tool 요청이 **필요하다고** 결정한 경우 tool들 중 어떤 tool을 어떤 query로 호출해야 하는지를 응답한다.\n",
    "    - 질의에 대해 tool 요청이 **필요 없다고** 결정한 경우는 LLM API를 호출한다.(모델이 직접 응답)\n",
    "5. 3에서 응답한 tool calling 정보를 이용해 tool 호출"
   ]
  },
  {
   "cell_type": "markdown",
   "metadata": {},
   "source": [
    "### LLM Model에 tool binding\n",
    "- `LLM.bind_tools(tools=[tool_1, tool_2, ...])`"
   ]
  },
  {
   "cell_type": "code",
   "execution_count": 7,
   "metadata": {},
   "outputs": [
    {
     "data": {
      "text/plain": [
       "(langchain_openai.chat_models.base.ChatOpenAI,\n",
       " langchain_core.runnables.base.RunnableBinding)"
      ]
     },
     "execution_count": 7,
     "metadata": {},
     "output_type": "execute_result"
    }
   ],
   "source": [
    "from langchain_openai import ChatOpenAI\n",
    "\n",
    "model = ChatOpenAI(model=\"gpt-4.1-mini\")\n",
    "# model에 tool을 붙여주기(binding)\n",
    "tool_model = model.bind_tools(tools=[tavily_search])\n",
    "type(model), type(tool_model)"
   ]
  },
  {
   "cell_type": "code",
   "execution_count": 8,
   "metadata": {},
   "outputs": [],
   "source": [
    "# 툴이 필요없는 query\n",
    "resp1 = tool_model.invoke(\"안녕하세요.\")"
   ]
  },
  {
   "cell_type": "code",
   "execution_count": 9,
   "metadata": {},
   "outputs": [
    {
     "data": {
      "text/plain": [
       "AIMessage(content='안녕하세요! 어떻게 도와드릴까요?', additional_kwargs={'refusal': None}, response_metadata={'token_usage': {'completion_tokens': 11, 'prompt_tokens': 770, 'total_tokens': 781, 'completion_tokens_details': {'accepted_prediction_tokens': 0, 'audio_tokens': 0, 'reasoning_tokens': 0, 'rejected_prediction_tokens': 0}, 'prompt_tokens_details': {'audio_tokens': 0, 'cached_tokens': 0}}, 'model_name': 'gpt-4.1-mini-2025-04-14', 'system_fingerprint': 'fp_6f2eabb9a5', 'id': 'chatcmpl-BjzRpiqHNdsTKJOtKMWah1ym1vKsZ', 'service_tier': 'default', 'finish_reason': 'stop', 'logprobs': None}, id='run--43325cd1-ee88-45e0-bf61-757cf1ecb46e-0', usage_metadata={'input_tokens': 770, 'output_tokens': 11, 'total_tokens': 781, 'input_token_details': {'audio': 0, 'cache_read': 0}, 'output_token_details': {'audio': 0, 'reasoning': 0}})"
      ]
     },
     "execution_count": 9,
     "metadata": {},
     "output_type": "execute_result"
    }
   ],
   "source": [
    "resp1"
   ]
  },
  {
   "cell_type": "code",
   "execution_count": null,
   "metadata": {},
   "outputs": [
    {
     "name": "stdout",
     "output_type": "stream",
     "text": [
      "AI응답 content: 안녕하세요! 어떻게 도와드릴까요?\n",
      "AI tool 호출 정보: []\n"
     ]
    }
   ],
   "source": [
    "print(\"AI응답 content:\",resp1.content)\n",
    "print(\"AI tool 호출 정보:\",resp1.tool_calls)\n",
    "# RunnableBinding(model+tool)의 응답에는 tool을 호출하는 방법을 리스트에 담아서 반환(속성:tool_calls)"
   ]
  },
  {
   "cell_type": "code",
   "execution_count": 16,
   "metadata": {},
   "outputs": [],
   "source": [
    "# tool calling이 필요한 요청\n",
    "query = \"2025-2026 시즌 손흥민 이적설에 대해 정리해줘.\"\n",
    "query = \"2025-2026 시즌 손흥민,김민재,이강인 이적설에 대해 정리해줘.\"\n",
    "resp2 = tool_model.invoke(query)"
   ]
  },
  {
   "cell_type": "code",
   "execution_count": 17,
   "metadata": {},
   "outputs": [
    {
     "name": "stdout",
     "output_type": "stream",
     "text": [
      "\n",
      "----------------------------------------------------------------------\n"
     ]
    },
    {
     "data": {
      "text/plain": [
       "[{'name': 'tavily_search',\n",
       "  'args': {'query': '2025-2026 시즌 손흥민 이적설',\n",
       "   'time_range': 'year',\n",
       "   'topic': 'general'},\n",
       "  'id': 'call_f3ZYaU5lbPb3Kw6fH683OLE3',\n",
       "  'type': 'tool_call'},\n",
       " {'name': 'tavily_search',\n",
       "  'args': {'query': '2025-2026 시즌 김민재 이적설',\n",
       "   'time_range': 'year',\n",
       "   'topic': 'general'},\n",
       "  'id': 'call_hGeVKze5cP8Fe0iWABBySlIR',\n",
       "  'type': 'tool_call'},\n",
       " {'name': 'tavily_search',\n",
       "  'args': {'query': '2025-2026 시즌 이강인 이적설',\n",
       "   'time_range': 'year',\n",
       "   'topic': 'general'},\n",
       "  'id': 'call_4HUkU8va3iYzBY03h4iAEOYy',\n",
       "  'type': 'tool_call'}]"
      ]
     },
     "execution_count": 17,
     "metadata": {},
     "output_type": "execute_result"
    }
   ],
   "source": [
    "print(resp2.content)\n",
    "print(\"-\"*70)\n",
    "resp2.tool_calls"
   ]
  },
  {
   "cell_type": "code",
   "execution_count": null,
   "metadata": {},
   "outputs": [],
   "source": []
  },
  {
   "cell_type": "code",
   "execution_count": null,
   "metadata": {},
   "outputs": [],
   "source": []
  },
  {
   "cell_type": "code",
   "execution_count": null,
   "metadata": {},
   "outputs": [],
   "source": []
  },
  {
   "cell_type": "markdown",
   "metadata": {},
   "source": [
    "## tool_calls 를 이용해 Tool 호출\n",
    "- LLM 모델이 tool 요청을 결정한 경우 어떤 tool을 어떻게 호출할 지 tool_calls를 반환한다.\n",
    "- tool_calls를 이용해 Tool을 호출한다.\n",
    "\n",
    "### 방법\n",
    "1. `tool_calls` 의 `args` 값을 전달.\n",
    "   - `args`는 tool을 호출(invoke)할 때 전달할 정보를 dictionary로 제공한다.\n",
    "   - `tool.invoke(result.tool_calls[0]['args'])`\n",
    "   - **반환타입**: 각 tool의 반환타입\n",
    "2. tool_calls 정보를 넣어 호출\n",
    "   - `tool.invoke(result.tool_calls[0])`\n",
    "   - **반환타입**: `ToolMessage`\n",
    "     - Tool의 처리결과를 담는 Message Type 이다."
   ]
  },
  {
   "cell_type": "markdown",
   "metadata": {},
   "source": [
    "#### tool_calls의 args를 이용해 호출"
   ]
  },
  {
   "cell_type": "code",
   "execution_count": 18,
   "metadata": {},
   "outputs": [
    {
     "data": {
      "text/plain": [
       "{'name': 'tavily_search',\n",
       " 'args': {'query': '2025-2026 시즌 손흥민 이적설',\n",
       "  'time_range': 'year',\n",
       "  'topic': 'general'},\n",
       " 'id': 'call_f3ZYaU5lbPb3Kw6fH683OLE3',\n",
       " 'type': 'tool_call'}"
      ]
     },
     "execution_count": 18,
     "metadata": {},
     "output_type": "execute_result"
    }
   ],
   "source": [
    "resp2.tool_calls[0]"
   ]
  },
  {
   "cell_type": "code",
   "execution_count": 19,
   "metadata": {},
   "outputs": [],
   "source": [
    "# tool 객체.invoke(args)\n",
    "search_result = tavily_search.invoke(resp2.tool_calls[0][\"args\"])"
   ]
  },
  {
   "cell_type": "code",
   "execution_count": 20,
   "metadata": {},
   "outputs": [
    {
     "data": {
      "text/plain": [
       "{'query': '2025-2026 시즌 손흥민 이적설',\n",
       " 'follow_up_questions': None,\n",
       " 'answer': None,\n",
       " 'images': ['https://fo-newscenter.s3.ap-northeast-2.amazonaws.com/sportal-korea/extract/2024/12/24/SK007_20241224_020101.jpg',\n",
       "  'https://thumbnews.nateimg.co.kr/view610/news.nateimg.co.kr/orgImg/kz/2024/11/16/news-p.v1.20240926.ad0cd8c9c02e4b35aa4c0c3b7b0c3735_P1.png',\n",
       "  'https://img6.yna.co.kr/photo/etc/af/2025/01/04/PAF20250104194501009_P4.jpg',\n",
       "  'https://image.xportsnews.com/contents/images/upload/article/2024/1221/1734758534483703.jpg',\n",
       "  'https://img-s-msn-com.akamaized.net/tenant/amp/entityid/AA1udLWy.img?w=650&h=453&m=4&q=79'],\n",
       " 'results': [{'title': '손흥민 이적설 2025 최신 뉴스 - 사우디행 유력? 토트넘과 결별 수순?',\n",
       "   'url': 'https://socando.tistory.com/entry/손흥민-이적설-2025-최신-뉴스',\n",
       "   'content': '2025년 여름 이적시장을 앞두고 손흥민(33, 토트넘) 의 거취가 다시 한번 뜨거운 이슈로 떠올랐습니다. 사우디아라비아 구단들의 지속적인 관심, 토트넘의 재정 악화, 유니폼 모델 제외 등의 정황이 겹치며 이적설이 급부상하고 있습니다.토트넘과의 계약 상황손흥민은 2021년 재계약을 통해 2025년까지',\n",
       "   'score': 0.7915799,\n",
       "   'raw_content': None},\n",
       "  {'title': \"'아직 공식 오퍼는 없는데'…현지에서 계속 제기되는 손흥민의 이적설｜스포츠동아\",\n",
       "   'url': 'https://sports.donga.com/sports/article/all/20250618/131828228/1',\n",
       "   'content': '*   [![Image 25: 이세영 비키니 입고 춤 삼매경…반려견 ‘그러려니’ [DA★]](https://dimg.donga.com/a/232/174/95/1/wps/SPORTS/IMAGE/2025/06/18/131835259.1.jpg)](https://sports.donga.com/ent/article/all/20250618/131835270/1)[이세영 비키니 입고 춤 삼매경…반려견 ‘그러려니’ [DA★]](https://sports.donga.com/ent/article/all/20250618/131835270/1) 이수만·바다·유진, 월디페서 얼굴로 뭉쳤다](https://dimg.donga.com/a/232/174/95/1/wps/SPORTS/IMAGE/2025/06/18/131834286.1.jpg)](https://sports.donga.com/ent/article/all/20250618/131834283/1)[[★스느스] S.E.S 재결합 떡밥? *   1[![Image 32: 김혜선, 말벅지+복근…근육질 몸매 대박이야 [DA★]](https://dimg.donga.com/a/72/72/95/1/wps/SPORTS/IMAGE/2025/06/17/131825443.1.jpg)](https://sports.donga.com/ent/article/all/20250617/131825455/1) [김혜선, 말벅지+복근…근육질 몸매 대박이야 [DA★]](https://sports.donga.com/ent/article/all/20250617/131825455/1)    *   2[![Image 33: 황신혜, 나이 잊게 하는 비키니…치명적 존재감 [DA★]](https://dimg.donga.com/a/72/72/95/1/wps/SPORTS/IMAGE/2025/06/17/131827312.1.jpg)](https://sports.donga.com/ent/article/all/20250617/131827314/1) [황신혜, 나이 잊게 하는 비키니…치명적 존재감 [DA★]](https://sports.donga.com/ent/article/all/20250617/131827314/1)    *   3[![Image 34: 한그루, 레깅스 터질라…엉덩이+등근육 ‘탄탄 뒤태’ [DA★]](https://dimg.donga.com/a/72/72/95/1/wps/SPORTS/IMAGE/2025/06/17/131824405.1.jpg)](https://sports.donga.com/ent/article/all/20250617/131824413/1) [한그루, 레깅스 터질라…엉덩이+등근육 ‘탄탄 뒤태’ [DA★]](https://sports.donga.com/ent/article/all/20250617/131824413/1)    *   5[![Image 36: ‘AV 배우 만남’ 주학년 더보이즈 탈퇴, 전속계약도 해지 [공식]](https://dimg.donga.com/a/72/72/95/1/wps/SPORTS/IMAGE/2025/06/18/131833310.1.jpg)](https://sports.donga.com/ent/article/all/20250618/131833311/1) [‘AV 배우 만남’ 주학년 더보이즈 탈퇴, 전속계약도 해지 [공식]](https://sports.donga.com/ent/article/all/20250618/131833311/1)    *   [![Image 38: 40대 전미라, 길쭉 탄탄 비키니…♥윤종신 놀라겠어 [DA★]](https://dimg.donga.com/a/140/140/95/1/wps/SPORTS/IMAGE/2025/06/19/131838286.1.jpg)](https://sports.donga.com/ent/article/all/20250619/131838296/1)[40대 전미라, 길쭉 탄탄 비키니…♥윤종신 놀라겠어 [DA★]](https://sports.donga.com/ent/article/all/20250619/131838296/1) *   [![Image 41: 이세영 비키니 입고 춤 삼매경…반려견 ‘그러려니’ [DA★]](https://dimg.donga.com/a/140/140/95/1/wps/SPORTS/IMAGE/2025/06/18/131835259.1.jpg)](https://sports.donga.com/ent/article/all/20250618/131835270/1)[이세영 비키니 입고 춤 삼매경…반려견 ‘그러려니’ [DA★]](https://sports.donga.com/ent/article/all/20250618/131835270/1)',\n",
       "   'score': 0.7890553,\n",
       "   'raw_content': None},\n",
       "  {'title': '350억 포기하나… 손흥민, 토트넘 유니폼 다시 입었다',\n",
       "   'url': 'https://tenbizt.com/entertainment/article/180971/',\n",
       "   'content': '축구선수 손흥민(토트넘 홋스퍼)의 이적설이 이어지는 가운데, 그가 토트넘 홋스퍼의 새 시즌 유니폼 모델로 나섰다. 지난 3일(현지 시각) 토트넘은 구단 공식 홈페이지와 소셜 미디어 등을 통해 2025-2026시즌 홈 유니폼 사진을 공개했다.',\n",
       "   'score': 0.78709817,\n",
       "   'raw_content': None},\n",
       "  {'title': '543억 손흥민 이적설 재점화…새 감독에 운명 맡겼다',\n",
       "   'url': 'https://www.chosun.com/sports/world-football/2025/06/08/4N67WBSZO3HAYV6OHW7W7YS6WY/',\n",
       "   'content': '543억 손흥민 이적설 재점화새 감독에 운명 맡겼다 유럽 축구 이적시장 전문가 파브리시오 로마노가 손흥민33·토트넘의 향후 거취에 대해 입을 열었다. ... 입력 2025.06.08. 12:42 업데이트 2025.06.08 ... 계약이 2026년까지 남아 있는 손흥민은 올여름이 이적료 수익을',\n",
       "   'score': 0.7578844,\n",
       "   'raw_content': None},\n",
       "  {'title': \"손흥민 이적설 데드라인 나왔다…'아시아 투어' 이후 결정 - 파이낸셜뉴스\",\n",
       "   'url': 'https://www.fnnews.com/news/202506181010460750',\n",
       "   'content': \"# 손흥민 이적설 데드라인 나왔다…'아시아 투어' 이후 결정 뉴시스 입력 2025.06.18 10:10 수정 2025.06.18 10:10 ![[서울=뉴시스] 홍효식 기자 = 지난해 7월31일 서울 마포구 서울월드컵경기장에서 열린 쿠팡플레이 시리즈 1차전 팀 K리그와 토트넘 홋스퍼의 경기를 마친 토트넘 손흥민이 관중들에게 인사하고 있다. yesphoto@newsis.com](https://image.fnnews.com/resource/media/image/2025/06/18/202506181010372049_l.jpg) ![[서울=뉴시스] 김근수 기자 = 지난해 8월3일 서울 마포구 서울월드컵경기장에서 열린 쿠팡플레이 시리즈 2경기 토트넘 홋스퍼와 FC바이에른 뮌헨의 경기에서 FC바이에른 뮌헨이 토트넘 홋스퍼를 상대로 2-1로 승리를 거뒀다. 토트넘 홋스퍼 손흥민이 경기장을 돌며 팬들에게 인사하고 있다. ks@newsis.com](https://image.fnnews.com/resource/media/image/2025/06/18/202506181010409266_l.jpg) ![[서울=뉴시스] 황준선 기자 = 지난해 8월3일 오후 서울 마포구 서울월드컵경기장에서 열린 쿠팡플레이 시리즈 2경기 토트넘 홋스퍼와 FC바이에른 뮌헨의 경기, 토트넘 손흥민이 경기가 끝난 뒤 관중들에게 인사하고 있다. hwang@newsis.com](https://image.fnnews.com/resource/media/image/2025/06/18/202506181010424566_l.jpg) 저작권자ⓒ 공감언론 뉴시스통신사. 무단전재-재배포 금지 주소 : 서울 서초구 강남대로 315 인터넷신문 등록번호 : 서울 아04510\",\n",
       "   'score': 0.7152057,\n",
       "   'raw_content': None}],\n",
       " 'response_time': 0.99}"
      ]
     },
     "execution_count": 20,
     "metadata": {},
     "output_type": "execute_result"
    }
   ],
   "source": [
    "type(search_result)\n",
    "search_result"
   ]
  },
  {
   "cell_type": "code",
   "execution_count": null,
   "metadata": {},
   "outputs": [],
   "source": []
  },
  {
   "cell_type": "code",
   "execution_count": null,
   "metadata": {},
   "outputs": [],
   "source": []
  },
  {
   "cell_type": "markdown",
   "metadata": {},
   "source": [
    "#### tool_call 정보를 넣어 Tool 호출"
   ]
  },
  {
   "cell_type": "code",
   "execution_count": 22,
   "metadata": {},
   "outputs": [],
   "source": [
    "search_result2 = tavily_search.invoke(resp2.tool_calls[0])"
   ]
  },
  {
   "cell_type": "code",
   "execution_count": null,
   "metadata": {},
   "outputs": [
    {
     "data": {
      "text/plain": [
       "ToolMessage(content='{\"query\": \"2025-2026 시즌 손흥민 이적설\", \"follow_up_questions\": null, \"answer\": null, \"images\": [\"https://fo-newscenter.s3.ap-northeast-2.amazonaws.com/sportal-korea/extract/2024/12/24/SK007_20241224_020101.jpg\", \"https://thumbnews.nateimg.co.kr/view610/news.nateimg.co.kr/orgImg/kz/2024/11/16/news-p.v1.20240926.ad0cd8c9c02e4b35aa4c0c3b7b0c3735_P1.png\", \"https://img6.yna.co.kr/photo/etc/af/2025/01/04/PAF20250104194501009_P4.jpg\", \"https://image.xportsnews.com/contents/images/upload/article/2024/1221/1734758534483703.jpg\", \"https://img-s-msn-com.akamaized.net/tenant/amp/entityid/AA1udLWy.img?w=650&h=453&m=4&q=79\"], \"results\": [{\"title\": \"손흥민 이적설 2025 최신 뉴스 - 사우디행 유력? 토트넘과 결별 수순?\", \"url\": \"https://socando.tistory.com/entry/손흥민-이적설-2025-최신-뉴스\", \"content\": \"2025년 여름 이적시장을 앞두고 손흥민(33, 토트넘) 의 거취가 다시 한번 뜨거운 이슈로 떠올랐습니다. 사우디아라비아 구단들의 지속적인 관심, 토트넘의 재정 악화, 유니폼 모델 제외 등의 정황이 겹치며 이적설이 급부상하고 있습니다.토트넘과의 계약 상황손흥민은 2021년 재계약을 통해 2025년까지\", \"score\": 0.7915799, \"raw_content\": null}, {\"title\": \"\\'아직 공식 오퍼는 없는데\\'…현지에서 계속 제기되는 손흥민의 이적설｜스포츠동아\", \"url\": \"https://sports.donga.com/sports/article/all/20250618/131828228/1\", \"content\": \"*   [![Image 25: 이세영 비키니 입고 춤 삼매경…반려견 ‘그러려니’ [DA★]](https://dimg.donga.com/a/232/174/95/1/wps/SPORTS/IMAGE/2025/06/18/131835259.1.jpg)](https://sports.donga.com/ent/article/all/20250618/131835270/1)[이세영 비키니 입고 춤 삼매경…반려견 ‘그러려니’ [DA★]](https://sports.donga.com/ent/article/all/20250618/131835270/1) 이수만·바다·유진, 월디페서 얼굴로 뭉쳤다](https://dimg.donga.com/a/232/174/95/1/wps/SPORTS/IMAGE/2025/06/18/131834286.1.jpg)](https://sports.donga.com/ent/article/all/20250618/131834283/1)[[★스느스] S.E.S 재결합 떡밥? *   1[![Image 32: 김혜선, 말벅지+복근…근육질 몸매 대박이야 [DA★]](https://dimg.donga.com/a/72/72/95/1/wps/SPORTS/IMAGE/2025/06/17/131825443.1.jpg)](https://sports.donga.com/ent/article/all/20250617/131825455/1) [김혜선, 말벅지+복근…근육질 몸매 대박이야 [DA★]](https://sports.donga.com/ent/article/all/20250617/131825455/1)    *   2[![Image 33: 황신혜, 나이 잊게 하는 비키니…치명적 존재감 [DA★]](https://dimg.donga.com/a/72/72/95/1/wps/SPORTS/IMAGE/2025/06/17/131827312.1.jpg)](https://sports.donga.com/ent/article/all/20250617/131827314/1) [황신혜, 나이 잊게 하는 비키니…치명적 존재감 [DA★]](https://sports.donga.com/ent/article/all/20250617/131827314/1)    *   3[![Image 34: 한그루, 레깅스 터질라…엉덩이+등근육 ‘탄탄 뒤태’ [DA★]](https://dimg.donga.com/a/72/72/95/1/wps/SPORTS/IMAGE/2025/06/17/131824405.1.jpg)](https://sports.donga.com/ent/article/all/20250617/131824413/1) [한그루, 레깅스 터질라…엉덩이+등근육 ‘탄탄 뒤태’ [DA★]](https://sports.donga.com/ent/article/all/20250617/131824413/1)    *   5[![Image 36: ‘AV 배우 만남’ 주학년 더보이즈 탈퇴, 전속계약도 해지 [공식]](https://dimg.donga.com/a/72/72/95/1/wps/SPORTS/IMAGE/2025/06/18/131833310.1.jpg)](https://sports.donga.com/ent/article/all/20250618/131833311/1) [‘AV 배우 만남’ 주학년 더보이즈 탈퇴, 전속계약도 해지 [공식]](https://sports.donga.com/ent/article/all/20250618/131833311/1)    *   [![Image 38: 40대 전미라, 길쭉 탄탄 비키니…♥윤종신 놀라겠어 [DA★]](https://dimg.donga.com/a/140/140/95/1/wps/SPORTS/IMAGE/2025/06/19/131838286.1.jpg)](https://sports.donga.com/ent/article/all/20250619/131838296/1)[40대 전미라, 길쭉 탄탄 비키니…♥윤종신 놀라겠어 [DA★]](https://sports.donga.com/ent/article/all/20250619/131838296/1) *   [![Image 41: 이세영 비키니 입고 춤 삼매경…반려견 ‘그러려니’ [DA★]](https://dimg.donga.com/a/140/140/95/1/wps/SPORTS/IMAGE/2025/06/18/131835259.1.jpg)](https://sports.donga.com/ent/article/all/20250618/131835270/1)[이세영 비키니 입고 춤 삼매경…반려견 ‘그러려니’ [DA★]](https://sports.donga.com/ent/article/all/20250618/131835270/1)\", \"score\": 0.7890553, \"raw_content\": null}, {\"title\": \"350억 포기하나… 손흥민, 토트넘 유니폼 다시 입었다\", \"url\": \"https://tenbizt.com/entertainment/article/180971/\", \"content\": \"축구선수 손흥민(토트넘 홋스퍼)의 이적설이 이어지는 가운데, 그가 토트넘 홋스퍼의 새 시즌 유니폼 모델로 나섰다. 지난 3일(현지 시각) 토트넘은 구단 공식 홈페이지와 소셜 미디어 등을 통해 2025-2026시즌 홈 유니폼 사진을 공개했다.\", \"score\": 0.78709817, \"raw_content\": null}, {\"title\": \"543억 손흥민 이적설 재점화…새 감독에 운명 맡겼다\", \"url\": \"https://www.chosun.com/sports/world-football/2025/06/08/4N67WBSZO3HAYV6OHW7W7YS6WY/\", \"content\": \"543억 손흥민 이적설 재점화새 감독에 운명 맡겼다 유럽 축구 이적시장 전문가 파브리시오 로마노가 손흥민33·토트넘의 향후 거취에 대해 입을 열었다. ... 입력 2025.06.08. 12:42 업데이트 2025.06.08 ... 계약이 2026년까지 남아 있는 손흥민은 올여름이 이적료 수익을\", \"score\": 0.7578844, \"raw_content\": null}, {\"title\": \"손흥민 이적설 데드라인 나왔다…\\'아시아 투어\\' 이후 결정 - 파이낸셜뉴스\", \"url\": \"https://www.fnnews.com/news/202506181010460750\", \"content\": \"# 손흥민 이적설 데드라인 나왔다…\\'아시아 투어\\' 이후 결정 뉴시스 입력 2025.06.18 10:10 수정 2025.06.18 10:10 ![[서울=뉴시스] 홍효식 기자 = 지난해 7월31일 서울 마포구 서울월드컵경기장에서 열린 쿠팡플레이 시리즈 1차전 팀 K리그와 토트넘 홋스퍼의 경기를 마친 토트넘 손흥민이 관중들에게 인사하고 있다. yesphoto@newsis.com](https://image.fnnews.com/resource/media/image/2025/06/18/202506181010372049_l.jpg) ![[서울=뉴시스] 김근수 기자 = 지난해 8월3일 서울 마포구 서울월드컵경기장에서 열린 쿠팡플레이 시리즈 2경기 토트넘 홋스퍼와 FC바이에른 뮌헨의 경기에서 FC바이에른 뮌헨이 토트넘 홋스퍼를 상대로 2-1로 승리를 거뒀다. 토트넘 홋스퍼 손흥민이 경기장을 돌며 팬들에게 인사하고 있다. ks@newsis.com](https://image.fnnews.com/resource/media/image/2025/06/18/202506181010409266_l.jpg) ![[서울=뉴시스] 황준선 기자 = 지난해 8월3일 오후 서울 마포구 서울월드컵경기장에서 열린 쿠팡플레이 시리즈 2경기 토트넘 홋스퍼와 FC바이에른 뮌헨의 경기, 토트넘 손흥민이 경기가 끝난 뒤 관중들에게 인사하고 있다. hwang@newsis.com](https://image.fnnews.com/resource/media/image/2025/06/18/202506181010424566_l.jpg) 저작권자ⓒ 공감언론 뉴시스통신사. 무단전재-재배포 금지 주소 : 서울 서초구 강남대로 315 인터넷신문 등록번호 : 서울 아04510\", \"score\": 0.7152057, \"raw_content\": null}], \"response_time\": 1.25}', name='tavily_search', tool_call_id='call_f3ZYaU5lbPb3Kw6fH683OLE3')"
      ]
     },
     "execution_count": 23,
     "metadata": {},
     "output_type": "execute_result"
    }
   ],
   "source": [
    "type(search_result2)\n",
    "search_result2\n",
    "# tool이 return한 값을 str로 변환해서 content 속성으로 제공"
   ]
  },
  {
   "cell_type": "code",
   "execution_count": null,
   "metadata": {},
   "outputs": [
    {
     "data": {
      "text/plain": [
       "{'content': '{\"query\": \"2025-2026 시즌 손흥민 이적설\", \"follow_up_questions\": null, \"answer\": null, \"images\": [\"https://fo-newscenter.s3.ap-northeast-2.amazonaws.com/sportal-korea/extract/2024/12/24/SK007_20241224_020101.jpg\", \"https://thumbnews.nateimg.co.kr/view610/news.nateimg.co.kr/orgImg/kz/2024/11/16/news-p.v1.20240926.ad0cd8c9c02e4b35aa4c0c3b7b0c3735_P1.png\", \"https://img6.yna.co.kr/photo/etc/af/2025/01/04/PAF20250104194501009_P4.jpg\", \"https://image.xportsnews.com/contents/images/upload/article/2024/1221/1734758534483703.jpg\", \"https://img-s-msn-com.akamaized.net/tenant/amp/entityid/AA1udLWy.img?w=650&h=453&m=4&q=79\"], \"results\": [{\"title\": \"손흥민 이적설 2025 최신 뉴스 - 사우디행 유력? 토트넘과 결별 수순?\", \"url\": \"https://socando.tistory.com/entry/손흥민-이적설-2025-최신-뉴스\", \"content\": \"2025년 여름 이적시장을 앞두고 손흥민(33, 토트넘) 의 거취가 다시 한번 뜨거운 이슈로 떠올랐습니다. 사우디아라비아 구단들의 지속적인 관심, 토트넘의 재정 악화, 유니폼 모델 제외 등의 정황이 겹치며 이적설이 급부상하고 있습니다.토트넘과의 계약 상황손흥민은 2021년 재계약을 통해 2025년까지\", \"score\": 0.7915799, \"raw_content\": null}, {\"title\": \"\\'아직 공식 오퍼는 없는데\\'…현지에서 계속 제기되는 손흥민의 이적설｜스포츠동아\", \"url\": \"https://sports.donga.com/sports/article/all/20250618/131828228/1\", \"content\": \"*   [![Image 25: 이세영 비키니 입고 춤 삼매경…반려견 ‘그러려니’ [DA★]](https://dimg.donga.com/a/232/174/95/1/wps/SPORTS/IMAGE/2025/06/18/131835259.1.jpg)](https://sports.donga.com/ent/article/all/20250618/131835270/1)[이세영 비키니 입고 춤 삼매경…반려견 ‘그러려니’ [DA★]](https://sports.donga.com/ent/article/all/20250618/131835270/1) 이수만·바다·유진, 월디페서 얼굴로 뭉쳤다](https://dimg.donga.com/a/232/174/95/1/wps/SPORTS/IMAGE/2025/06/18/131834286.1.jpg)](https://sports.donga.com/ent/article/all/20250618/131834283/1)[[★스느스] S.E.S 재결합 떡밥? *   1[![Image 32: 김혜선, 말벅지+복근…근육질 몸매 대박이야 [DA★]](https://dimg.donga.com/a/72/72/95/1/wps/SPORTS/IMAGE/2025/06/17/131825443.1.jpg)](https://sports.donga.com/ent/article/all/20250617/131825455/1) [김혜선, 말벅지+복근…근육질 몸매 대박이야 [DA★]](https://sports.donga.com/ent/article/all/20250617/131825455/1)    *   2[![Image 33: 황신혜, 나이 잊게 하는 비키니…치명적 존재감 [DA★]](https://dimg.donga.com/a/72/72/95/1/wps/SPORTS/IMAGE/2025/06/17/131827312.1.jpg)](https://sports.donga.com/ent/article/all/20250617/131827314/1) [황신혜, 나이 잊게 하는 비키니…치명적 존재감 [DA★]](https://sports.donga.com/ent/article/all/20250617/131827314/1)    *   3[![Image 34: 한그루, 레깅스 터질라…엉덩이+등근육 ‘탄탄 뒤태’ [DA★]](https://dimg.donga.com/a/72/72/95/1/wps/SPORTS/IMAGE/2025/06/17/131824405.1.jpg)](https://sports.donga.com/ent/article/all/20250617/131824413/1) [한그루, 레깅스 터질라…엉덩이+등근육 ‘탄탄 뒤태’ [DA★]](https://sports.donga.com/ent/article/all/20250617/131824413/1)    *   5[![Image 36: ‘AV 배우 만남’ 주학년 더보이즈 탈퇴, 전속계약도 해지 [공식]](https://dimg.donga.com/a/72/72/95/1/wps/SPORTS/IMAGE/2025/06/18/131833310.1.jpg)](https://sports.donga.com/ent/article/all/20250618/131833311/1) [‘AV 배우 만남’ 주학년 더보이즈 탈퇴, 전속계약도 해지 [공식]](https://sports.donga.com/ent/article/all/20250618/131833311/1)    *   [![Image 38: 40대 전미라, 길쭉 탄탄 비키니…♥윤종신 놀라겠어 [DA★]](https://dimg.donga.com/a/140/140/95/1/wps/SPORTS/IMAGE/2025/06/19/131838286.1.jpg)](https://sports.donga.com/ent/article/all/20250619/131838296/1)[40대 전미라, 길쭉 탄탄 비키니…♥윤종신 놀라겠어 [DA★]](https://sports.donga.com/ent/article/all/20250619/131838296/1) *   [![Image 41: 이세영 비키니 입고 춤 삼매경…반려견 ‘그러려니’ [DA★]](https://dimg.donga.com/a/140/140/95/1/wps/SPORTS/IMAGE/2025/06/18/131835259.1.jpg)](https://sports.donga.com/ent/article/all/20250618/131835270/1)[이세영 비키니 입고 춤 삼매경…반려견 ‘그러려니’ [DA★]](https://sports.donga.com/ent/article/all/20250618/131835270/1)\", \"score\": 0.7890553, \"raw_content\": null}, {\"title\": \"350억 포기하나… 손흥민, 토트넘 유니폼 다시 입었다\", \"url\": \"https://tenbizt.com/entertainment/article/180971/\", \"content\": \"축구선수 손흥민(토트넘 홋스퍼)의 이적설이 이어지는 가운데, 그가 토트넘 홋스퍼의 새 시즌 유니폼 모델로 나섰다. 지난 3일(현지 시각) 토트넘은 구단 공식 홈페이지와 소셜 미디어 등을 통해 2025-2026시즌 홈 유니폼 사진을 공개했다.\", \"score\": 0.78709817, \"raw_content\": null}, {\"title\": \"543억 손흥민 이적설 재점화…새 감독에 운명 맡겼다\", \"url\": \"https://www.chosun.com/sports/world-football/2025/06/08/4N67WBSZO3HAYV6OHW7W7YS6WY/\", \"content\": \"543억 손흥민 이적설 재점화새 감독에 운명 맡겼다 유럽 축구 이적시장 전문가 파브리시오 로마노가 손흥민33·토트넘의 향후 거취에 대해 입을 열었다. ... 입력 2025.06.08. 12:42 업데이트 2025.06.08 ... 계약이 2026년까지 남아 있는 손흥민은 올여름이 이적료 수익을\", \"score\": 0.7578844, \"raw_content\": null}, {\"title\": \"손흥민 이적설 데드라인 나왔다…\\'아시아 투어\\' 이후 결정 - 파이낸셜뉴스\", \"url\": \"https://www.fnnews.com/news/202506181010460750\", \"content\": \"# 손흥민 이적설 데드라인 나왔다…\\'아시아 투어\\' 이후 결정 뉴시스 입력 2025.06.18 10:10 수정 2025.06.18 10:10 ![[서울=뉴시스] 홍효식 기자 = 지난해 7월31일 서울 마포구 서울월드컵경기장에서 열린 쿠팡플레이 시리즈 1차전 팀 K리그와 토트넘 홋스퍼의 경기를 마친 토트넘 손흥민이 관중들에게 인사하고 있다. yesphoto@newsis.com](https://image.fnnews.com/resource/media/image/2025/06/18/202506181010372049_l.jpg) ![[서울=뉴시스] 김근수 기자 = 지난해 8월3일 서울 마포구 서울월드컵경기장에서 열린 쿠팡플레이 시리즈 2경기 토트넘 홋스퍼와 FC바이에른 뮌헨의 경기에서 FC바이에른 뮌헨이 토트넘 홋스퍼를 상대로 2-1로 승리를 거뒀다. 토트넘 홋스퍼 손흥민이 경기장을 돌며 팬들에게 인사하고 있다. ks@newsis.com](https://image.fnnews.com/resource/media/image/2025/06/18/202506181010409266_l.jpg) ![[서울=뉴시스] 황준선 기자 = 지난해 8월3일 오후 서울 마포구 서울월드컵경기장에서 열린 쿠팡플레이 시리즈 2경기 토트넘 홋스퍼와 FC바이에른 뮌헨의 경기, 토트넘 손흥민이 경기가 끝난 뒤 관중들에게 인사하고 있다. hwang@newsis.com](https://image.fnnews.com/resource/media/image/2025/06/18/202506181010424566_l.jpg) 저작권자ⓒ 공감언론 뉴시스통신사. 무단전재-재배포 금지 주소 : 서울 서초구 강남대로 315 인터넷신문 등록번호 : 서울 아04510\", \"score\": 0.7152057, \"raw_content\": null}], \"response_time\": 1.25}',\n",
       " 'additional_kwargs': {},\n",
       " 'response_metadata': {},\n",
       " 'type': 'tool',\n",
       " 'name': 'tavily_search',\n",
       " 'id': None,\n",
       " 'tool_call_id': 'call_f3ZYaU5lbPb3Kw6fH683OLE3',\n",
       " 'artifact': None,\n",
       " 'status': 'success'}"
      ]
     },
     "execution_count": 24,
     "metadata": {},
     "output_type": "execute_result"
    }
   ],
   "source": [
    "vars(search_result2)\n",
    "# 객체를 dict로 (instance변수-키 : 변수값 - value)"
   ]
  },
  {
   "cell_type": "code",
   "execution_count": null,
   "metadata": {},
   "outputs": [],
   "source": []
  },
  {
   "cell_type": "code",
   "execution_count": null,
   "metadata": {},
   "outputs": [],
   "source": []
  },
  {
   "cell_type": "markdown",
   "metadata": {},
   "source": [
    "#### tool_call 이 여러개일 경우 \n",
    "- 질의에 대해 tool을 여러번 호출 해야 하는 경우 tool_calling 정보를 여러개 반환할 수 있다.\n",
    "    - 예) 검색할 키워드가 여러개인 경우. \n",
    "- `tool.batch([tool_call1, tool_call2, ..])`"
   ]
  },
  {
   "cell_type": "code",
   "execution_count": 25,
   "metadata": {},
   "outputs": [],
   "source": [
    "# Runnable을 한번에 여러번 호출할 때\n",
    "# Runnable.batch([전달할값1, 전달할값2, .....]) -> [결과값1, 결과값2, ...]\n",
    "resp = model.batch([\"안녕하세요\",\n",
    "                    \"LLM에 대해새 20글자로 설명해줘.\"\n",
    "                    \"손흥민 이적설을 20글자로 설명해줘.\"])\n"
   ]
  },
  {
   "cell_type": "code",
   "execution_count": 26,
   "metadata": {},
   "outputs": [
    {
     "data": {
      "text/plain": [
       "[AIMessage(content='안녕하세요! 어떻게 도와드릴까요?', additional_kwargs={'refusal': None}, response_metadata={'token_usage': {'completion_tokens': 10, 'prompt_tokens': 9, 'total_tokens': 19, 'completion_tokens_details': {'accepted_prediction_tokens': 0, 'audio_tokens': 0, 'reasoning_tokens': 0, 'rejected_prediction_tokens': 0}, 'prompt_tokens_details': {'audio_tokens': 0, 'cached_tokens': 0}}, 'model_name': 'gpt-4.1-mini-2025-04-14', 'system_fingerprint': 'fp_6f2eabb9a5', 'id': 'chatcmpl-Bk0JFNXc7bg5YNgQLAqcaG3Ysv56B', 'service_tier': 'default', 'finish_reason': 'stop', 'logprobs': None}, id='run--2132a0f5-16f8-45d2-b224-b4fd9855b86c-0', usage_metadata={'input_tokens': 9, 'output_tokens': 10, 'total_tokens': 19, 'input_token_details': {'audio': 0, 'cache_read': 0}, 'output_token_details': {'audio': 0, 'reasoning': 0}}),\n",
       " AIMessage(content='- LLM: 대규모 언어 모델, 자연어 이해 생성  \\n- 손흥민 이적설: 유럽 구단 이적 소문 떠돌아', additional_kwargs={'refusal': None}, response_metadata={'token_usage': {'completion_tokens': 35, 'prompt_tokens': 35, 'total_tokens': 70, 'completion_tokens_details': {'accepted_prediction_tokens': 0, 'audio_tokens': 0, 'reasoning_tokens': 0, 'rejected_prediction_tokens': 0}, 'prompt_tokens_details': {'audio_tokens': 0, 'cached_tokens': 0}}, 'model_name': 'gpt-4.1-mini-2025-04-14', 'system_fingerprint': 'fp_6f2eabb9a5', 'id': 'chatcmpl-Bk0JFMETnihERT2XH45oqgnvxgIDp', 'service_tier': 'default', 'finish_reason': 'stop', 'logprobs': None}, id='run--ac22aff9-f749-4404-a770-d379b1002437-0', usage_metadata={'input_tokens': 35, 'output_tokens': 35, 'total_tokens': 70, 'input_token_details': {'audio': 0, 'cache_read': 0}, 'output_token_details': {'audio': 0, 'reasoning': 0}})]"
      ]
     },
     "execution_count": 26,
     "metadata": {},
     "output_type": "execute_result"
    }
   ],
   "source": [
    "resp"
   ]
  },
  {
   "cell_type": "code",
   "execution_count": 28,
   "metadata": {},
   "outputs": [],
   "source": [
    "search_result3 = tavily_search.batch(resp2.tool_calls)"
   ]
  },
  {
   "cell_type": "code",
   "execution_count": 29,
   "metadata": {},
   "outputs": [
    {
     "data": {
      "text/plain": [
       "[ToolMessage(content='{\"query\": \"2025-2026 시즌 손흥민 이적설\", \"follow_up_questions\": null, \"answer\": null, \"images\": [\"https://fo-newscenter.s3.ap-northeast-2.amazonaws.com/sportal-korea/extract/2024/12/24/SK007_20241224_020101.jpg\", \"https://thumbnews.nateimg.co.kr/view610/news.nateimg.co.kr/orgImg/kz/2024/11/16/news-p.v1.20240926.ad0cd8c9c02e4b35aa4c0c3b7b0c3735_P1.png\", \"https://img6.yna.co.kr/photo/etc/af/2025/01/04/PAF20250104194501009_P4.jpg\", \"https://image.xportsnews.com/contents/images/upload/article/2024/1221/1734758534483703.jpg\", \"https://img-s-msn-com.akamaized.net/tenant/amp/entityid/AA1udLWy.img?w=650&h=453&m=4&q=79\"], \"results\": [{\"title\": \"손흥민 이적설 2025 최신 뉴스 - 사우디행 유력? 토트넘과 결별 수순?\", \"url\": \"https://socando.tistory.com/entry/손흥민-이적설-2025-최신-뉴스\", \"content\": \"2025년 여름 이적시장을 앞두고 손흥민(33, 토트넘) 의 거취가 다시 한번 뜨거운 이슈로 떠올랐습니다. 사우디아라비아 구단들의 지속적인 관심, 토트넘의 재정 악화, 유니폼 모델 제외 등의 정황이 겹치며 이적설이 급부상하고 있습니다.토트넘과의 계약 상황손흥민은 2021년 재계약을 통해 2025년까지\", \"score\": 0.7915799, \"raw_content\": null}, {\"title\": \"\\'아직 공식 오퍼는 없는데\\'…현지에서 계속 제기되는 손흥민의 이적설｜스포츠동아\", \"url\": \"https://sports.donga.com/sports/article/all/20250618/131828228/1\", \"content\": \"*   [![Image 25: 이세영 비키니 입고 춤 삼매경…반려견 ‘그러려니’ [DA★]](https://dimg.donga.com/a/232/174/95/1/wps/SPORTS/IMAGE/2025/06/18/131835259.1.jpg)](https://sports.donga.com/ent/article/all/20250618/131835270/1)[이세영 비키니 입고 춤 삼매경…반려견 ‘그러려니’ [DA★]](https://sports.donga.com/ent/article/all/20250618/131835270/1) 이수만·바다·유진, 월디페서 얼굴로 뭉쳤다](https://dimg.donga.com/a/232/174/95/1/wps/SPORTS/IMAGE/2025/06/18/131834286.1.jpg)](https://sports.donga.com/ent/article/all/20250618/131834283/1)[[★스느스] S.E.S 재결합 떡밥? *   1[![Image 32: 김혜선, 말벅지+복근…근육질 몸매 대박이야 [DA★]](https://dimg.donga.com/a/72/72/95/1/wps/SPORTS/IMAGE/2025/06/17/131825443.1.jpg)](https://sports.donga.com/ent/article/all/20250617/131825455/1) [김혜선, 말벅지+복근…근육질 몸매 대박이야 [DA★]](https://sports.donga.com/ent/article/all/20250617/131825455/1)    *   2[![Image 33: 황신혜, 나이 잊게 하는 비키니…치명적 존재감 [DA★]](https://dimg.donga.com/a/72/72/95/1/wps/SPORTS/IMAGE/2025/06/17/131827312.1.jpg)](https://sports.donga.com/ent/article/all/20250617/131827314/1) [황신혜, 나이 잊게 하는 비키니…치명적 존재감 [DA★]](https://sports.donga.com/ent/article/all/20250617/131827314/1)    *   3[![Image 34: 한그루, 레깅스 터질라…엉덩이+등근육 ‘탄탄 뒤태’ [DA★]](https://dimg.donga.com/a/72/72/95/1/wps/SPORTS/IMAGE/2025/06/17/131824405.1.jpg)](https://sports.donga.com/ent/article/all/20250617/131824413/1) [한그루, 레깅스 터질라…엉덩이+등근육 ‘탄탄 뒤태’ [DA★]](https://sports.donga.com/ent/article/all/20250617/131824413/1)    *   5[![Image 36: ‘AV 배우 만남’ 주학년 더보이즈 탈퇴, 전속계약도 해지 [공식]](https://dimg.donga.com/a/72/72/95/1/wps/SPORTS/IMAGE/2025/06/18/131833310.1.jpg)](https://sports.donga.com/ent/article/all/20250618/131833311/1) [‘AV 배우 만남’ 주학년 더보이즈 탈퇴, 전속계약도 해지 [공식]](https://sports.donga.com/ent/article/all/20250618/131833311/1)    *   [![Image 38: 40대 전미라, 길쭉 탄탄 비키니…♥윤종신 놀라겠어 [DA★]](https://dimg.donga.com/a/140/140/95/1/wps/SPORTS/IMAGE/2025/06/19/131838286.1.jpg)](https://sports.donga.com/ent/article/all/20250619/131838296/1)[40대 전미라, 길쭉 탄탄 비키니…♥윤종신 놀라겠어 [DA★]](https://sports.donga.com/ent/article/all/20250619/131838296/1) *   [![Image 41: 이세영 비키니 입고 춤 삼매경…반려견 ‘그러려니’ [DA★]](https://dimg.donga.com/a/140/140/95/1/wps/SPORTS/IMAGE/2025/06/18/131835259.1.jpg)](https://sports.donga.com/ent/article/all/20250618/131835270/1)[이세영 비키니 입고 춤 삼매경…반려견 ‘그러려니’ [DA★]](https://sports.donga.com/ent/article/all/20250618/131835270/1)\", \"score\": 0.7890553, \"raw_content\": null}, {\"title\": \"350억 포기하나… 손흥민, 토트넘 유니폼 다시 입었다\", \"url\": \"https://tenbizt.com/entertainment/article/180971/\", \"content\": \"축구선수 손흥민(토트넘 홋스퍼)의 이적설이 이어지는 가운데, 그가 토트넘 홋스퍼의 새 시즌 유니폼 모델로 나섰다. 지난 3일(현지 시각) 토트넘은 구단 공식 홈페이지와 소셜 미디어 등을 통해 2025-2026시즌 홈 유니폼 사진을 공개했다.\", \"score\": 0.78709817, \"raw_content\": null}, {\"title\": \"543억 손흥민 이적설 재점화…새 감독에 운명 맡겼다\", \"url\": \"https://www.chosun.com/sports/world-football/2025/06/08/4N67WBSZO3HAYV6OHW7W7YS6WY/\", \"content\": \"543억 손흥민 이적설 재점화새 감독에 운명 맡겼다 유럽 축구 이적시장 전문가 파브리시오 로마노가 손흥민33·토트넘의 향후 거취에 대해 입을 열었다. ... 입력 2025.06.08. 12:42 업데이트 2025.06.08 ... 계약이 2026년까지 남아 있는 손흥민은 올여름이 이적료 수익을\", \"score\": 0.7578844, \"raw_content\": null}, {\"title\": \"손흥민 이적설 데드라인 나왔다…\\'아시아 투어\\' 이후 결정 - 파이낸셜뉴스\", \"url\": \"https://www.fnnews.com/news/202506181010460750\", \"content\": \"# 손흥민 이적설 데드라인 나왔다…\\'아시아 투어\\' 이후 결정 뉴시스 입력 2025.06.18 10:10 수정 2025.06.18 10:10 ![[서울=뉴시스] 홍효식 기자 = 지난해 7월31일 서울 마포구 서울월드컵경기장에서 열린 쿠팡플레이 시리즈 1차전 팀 K리그와 토트넘 홋스퍼의 경기를 마친 토트넘 손흥민이 관중들에게 인사하고 있다. yesphoto@newsis.com](https://image.fnnews.com/resource/media/image/2025/06/18/202506181010372049_l.jpg) ![[서울=뉴시스] 김근수 기자 = 지난해 8월3일 서울 마포구 서울월드컵경기장에서 열린 쿠팡플레이 시리즈 2경기 토트넘 홋스퍼와 FC바이에른 뮌헨의 경기에서 FC바이에른 뮌헨이 토트넘 홋스퍼를 상대로 2-1로 승리를 거뒀다. 토트넘 홋스퍼 손흥민이 경기장을 돌며 팬들에게 인사하고 있다. ks@newsis.com](https://image.fnnews.com/resource/media/image/2025/06/18/202506181010409266_l.jpg) ![[서울=뉴시스] 황준선 기자 = 지난해 8월3일 오후 서울 마포구 서울월드컵경기장에서 열린 쿠팡플레이 시리즈 2경기 토트넘 홋스퍼와 FC바이에른 뮌헨의 경기, 토트넘 손흥민이 경기가 끝난 뒤 관중들에게 인사하고 있다. hwang@newsis.com](https://image.fnnews.com/resource/media/image/2025/06/18/202506181010424566_l.jpg) 저작권자ⓒ 공감언론 뉴시스통신사. 무단전재-재배포 금지 주소 : 서울 서초구 강남대로 315 인터넷신문 등록번호 : 서울 아04510\", \"score\": 0.7152057, \"raw_content\": null}], \"response_time\": 1.55}', name='tavily_search', tool_call_id='call_f3ZYaU5lbPb3Kw6fH683OLE3'),\n",
       " ToolMessage(content='{\"query\": \"2025-2026 시즌 김민재 이적설\", \"follow_up_questions\": null, \"answer\": null, \"images\": [\"https://many-information.com/wp-content/uploads/2024/08/image-26-optimized.png\", \"https://many-information.com/wp-content/uploads/2024/08/image-28-optimized.png\", \"https://rzelle.com/20230607/kimminjea-013.jpg\", \"https://mydaily.co.kr/photos/2024/03/24/2024032410032981903_l.jpg\", \"https://flexible.img.hani.co.kr/flexible/normal/560/373/imgdb/original/2024/1007/20241007501351.jpg\"], \"results\": [{\"title\": \"Ai 심층 분석: \\'완전체\\' 김민재 이적, 2025-2026 시즌 Epl 빅클럽행?\", \"url\": \"https://wonisoli.tistory.com/entry/AI-심층-분석-완전체-김민재-이적-2025-2026-시즌-EPL-빅클럽행\", \"content\": \"AI 심층 분석: \\'완전체\\' 김민재 이적, 2025-2026 시즌 EPL 빅클럽행 유력? (팀별 합류 가능성 최종판)[분석의 핵심 전제] 이 글은 김민재 선수가 지난 시즌 겪었을 수 있는 부상 및 컨디션 난조에서 **완벽하게 회복하여, 나폴리 시절과 바이에른 뮌헨 시즌 초반에 보여준 세계 최정상급 기량을 되찾았다는\", \"score\": 0.8259413, \"raw_content\": null}, {\"title\": \"\\'이적설\\' 이강인·김민재, 클럽월드컵 이후 거취 결정될까\", \"url\": \"https://www.newsis.com/view/NISX20250616_0003214834\", \"content\": \"이강인·김민재 모두 팀 내 입지 불안 지난 시즌 중반부터 이적설 돌고 있어 ... 실제 김민재는 뮌헨의 2025~2026시즌 새 유니폼 모델로 소개되는 등\", \"score\": 0.8036831, \"raw_content\": null}, {\"title\": \"\\'저 잔류해요!\\' 김민재, 이적설 직접 종결 \\\\\"뮌헨 떠날 이유 없다, 남고 싶어\\\\\"... Ac밀란·리버풀 허탈\", \"url\": \"https://news.mt.co.kr/mtview.php?no=2025060803022893363\", \"content\": \"축구 통계 매체 \\'트랜스퍼마크트\\'도 최근 \\'2025~2026 시즌 뮌헨의 베스트 11\\'을 예상했는데 왼쪽 센터백 자리에 김민재 대신 타가 이름을 올려 눈길을 끌었다. 포백 왼쪽부터 알폰소 데이비스, 타, 다요 우파메카노, 요시프 스타니시치가 자리했다.\", \"score\": 0.8033131, \"raw_content\": null}, {\"title\": \"김민재 알나스르 이적설 총정리 - 바이에른과 사우디의 시선 차이\", \"url\": \"https://koreaamateursports.tistory.com/entry/김민재-알나스르-이적설-총정리-–-바이에른과-사우디의-시선-차이\", \"content\": \"김민재, 사우디 알나스르의 새로운 타깃이 된 이유 2025년 여름, 축구계의 뜨거운 이슈 중 하나는 단연 김민재의 사우디 이적설입니다. 사우디 아라비아의 프로축구 리그는 호날두, 벤제마, 네이마르 등 슈퍼스타들을 영입한 데 이어, 이제는 중심 수비수이자 아시아 최고 수비수인 김민재까지\", \"score\": 0.78512776, \"raw_content\": null}, {\"title\": \"김민재, 굴욕적인 이적설…\\'Epl 우승\\' 리버풀행 가능성→트레이드 카드로 전락하다니 - 일간스포츠\", \"url\": \"https://isplus.com/article/view/isp202506060033\", \"content\": \"김민재, 굴욕적인 이적설…\\'epl 우승\\' 리버풀행 가능성→트레이드 카드로 전락하다니 ... 2025-06-04 14:47:19. 홍진경, 대선 전날 빨간 옷 사진→정치색 논란… \\\\\"구독 취소하겠다\\\\\"vs\\\\\"응원한다\\\\\" ... 리버풀은 현재 세계 최고의 팀 중 하나다. 2024~25시즌 epl\", \"score\": 0.62687886, \"raw_content\": null}], \"response_time\": 0.94}', name='tavily_search', tool_call_id='call_hGeVKze5cP8Fe0iWABBySlIR'),\n",
       " ToolMessage(content='{\"query\": \"2025-2026 시즌 이강인 이적설\", \"follow_up_questions\": null, \"answer\": null, \"images\": [\"https://img1.daumcdn.net/thumb/R800x0/?scode=mtistory2&fname=https://blog.kakaocdn.net/dn/cpBgtJ/btsMRWIVpYf/SmvNzMPvvNiC0ykyIeA7a1/img.png\", \"https://dimg1.donga.com/wps/SPORTS/IMAGE/2025/04/10/131386753.1.jpg\", \"https://cdn.modoosearch.com/news/photo/202407/7641_11436_4513.jpg\", \"https://thumbnews.nateimg.co.kr/view610/news.nateimg.co.kr/orgImg/pt/2025/02/14/202502141358778166_67aed13409ede.jpg\", \"https://thumbnews.nateimg.co.kr/view610/news.nateimg.co.kr/orgImg/fb/2025/01/08/647653_718700_5341.jpg\"], \"results\": [{\"title\": \"\\'이적설\\' 이강인·김민재, 클럽월드컵 이후 거취 결정될까 :: 공감언론 뉴시스\", \"url\": \"https://www.newsis.com/view/NISX20250616_0003214834\", \"content\": \"이강인·김민재 모두 팀 내 입지 불안 지난 시즌 중반부터 이적설 돌고 있어 ... 실제 김민재는 뮌헨의 2025~2026시즌 새 유니폼 모델로 소개되는 등\", \"score\": 0.7906115, \"raw_content\": null}, {\"title\": \"이강인 이적 최신 정보 업데이트 : 다음 시즌 나폴리 유력\", \"url\": \"https://wonisoli.tistory.com/156\", \"content\": \"과연 이강인 선수는 2025-2026 시즌 어느 팀의 유니폼을 입고 팬들 앞에 나서게 될까요? 이 글에서는 2025년 5월 31일 현재까지 공개된 최신 정보와 각 구단의 상황을 종합적으로 고려하여, ai가 분석한 팀별 합류 가능성을 별표와 함께 자세히 살펴보겠습니다.\", \"score\": 0.7732339, \"raw_content\": null}, {\"title\": \"이강인 나폴리 이적설 총정리 : 세리에a 강호들의 러브콜과 현실적 변수\", \"url\": \"https://studio24.kr/3224\", \"content\": \"안녕하세요, JS입니다.2025년 여름 이적시장을 앞두고 이강인(파리 생제르맹, PSG)의 나폴리 이적설이 이탈리아와 한국 축구계를 뜨겁게 달구고 있습니다.이강인은 나폴리를 비롯해 AC밀란, 유벤투스, 인터밀란 등 세리에A 명문 구단은 물론, 프리미어리그와 분데스리가 클럽들까지 관심을 보이고\", \"score\": 0.7498395, \"raw_content\": null}, {\"title\": \"\\'이적설\\' 이강인·김민재, 클럽월드컵 이후 거취 결정될까 - 파이낸셜뉴스\", \"url\": \"https://www.fnnews.com/news/202506170700469086\", \"content\": \"이강인·김민재 모두 팀 내 입지 불안 지난 시즌 중반부터 이적설 돌고 있어 [암만(요르단)=뉴시스] 이영환 기자 = 2026 국제축구연맹(FIFA) 북중미 월드컵 아시아 3차 예선 B조 6차전 팔레스타인전에 출전한 김민재(왼쪽), 이강인. 2024.11.20. 20hwan@newsis.com\", \"score\": 0.7251239, \"raw_content\": null}, {\"title\": \"\\'나폴리·아스널·맨유...\\' 이강인, 이적설 직접 답했다 \\\\\"솔직히 나도 잘 모른다... 저도 기사로 봐요\\\\\" [상암 현장]\", \"url\": \"https://news.mt.co.kr/mtview.php?no=2025061022322941375\", \"content\": \"한국 축구대표팀 공격수 이강인(24)이 자신을 둘러싼 이적설에 관해 직접 이야기했다. 홍명보 감독이 이끄는 한국 축구대표팀은 10일 오후 8시(한국시간) 서울월드컵경기장에서 열린 쿠웨이트와 \\'국제축구연맹(FIFA) 2026 북중미 월드컵\\' 아시아 3차 예선 B조 최종 10차전 홈 경기에서 상대 자책골, 이강인\", \"score\": 0.6824261, \"raw_content\": null}], \"response_time\": 1.27}', name='tavily_search', tool_call_id='call_4HUkU8va3iYzBY03h4iAEOYy')]"
      ]
     },
     "execution_count": 29,
     "metadata": {},
     "output_type": "execute_result"
    }
   ],
   "source": [
    "search_result3"
   ]
  },
  {
   "cell_type": "code",
   "execution_count": null,
   "metadata": {},
   "outputs": [],
   "source": []
  },
  {
   "cell_type": "markdown",
   "metadata": {},
   "source": [
    "## Tool 의 처리(응답) 결과를 LLM 요청시 사용\n",
    "- ToolMessage를 prompt 에 추가하여 LLM에 요청한다.\n",
    "- ToolMessage 는 Tool Calling 정보를 가진 AIMessage 다음에 들어와야 한다.\n",
    "- Prompt 순서\n",
    "    1. 일반 prompt (system, 대화 history, .., human)\n",
    "    2. AIMessage: tool calling 정보를 가진 AIMessage. (tool_model에 질의 받은 tool calling 정보가 있는 응답)\n",
    "    3. ToolMessage:  Tool의 처리 결과"
   ]
  },
  {
   "cell_type": "code",
   "execution_count": 31,
   "metadata": {},
   "outputs": [],
   "source": [
    "from langchain.prompts import ChatPromptTemplate, MessagesPlaceholder\n",
    "prompt = ChatPromptTemplate(\n",
    "    [\n",
    "        (\"system\",\"당신은 AI 정보 제공자입니다. 제공된 정보를 바탕으로 답변해주세요.\"),\n",
    "        (\"human\",\"{user_input}\"),\n",
    "        MessagesPlaceholder(variable_name=\"messages\", optional=True)\n",
    "    ]\n",
    ")\n",
    "input_dict = {\"user_input\":query, \"messages\":[resp2,*search_result3]}     # messages : [AIMessage, ToolMessage, ToolMessage, ...] / *를 통해 원소들을 풀어서 넣음\n",
    "final_chain = prompt | tool_model\n",
    "final_response = final_chain.invoke(input_dict)"
   ]
  },
  {
   "cell_type": "code",
   "execution_count": 34,
   "metadata": {},
   "outputs": [
    {
     "name": "stdout",
     "output_type": "stream",
     "text": [
      "2025-2026 시즌 손흥민, 김민재, 이강인 이적설 현황을 정리해드리겠습니다.\n",
      "\n",
      "1. 손흥민\n",
      "- 2025년 여름 이적시장에 손흥민(토트넘)의 거취가 다시 한번 큰 관심을 받고 있습니다.\n",
      "- 사우디 아라비아 구단들의 지속적인 관심 속에 토트넘 내부 재정 악화와 유니폼 모멘트 등 다양한 이적설이 나오고 있습니다.\n",
      "- 손흥민은 2021년 재계약을 통해 2025년까지 계약이 되어 있으며, 2025년 이후 거취에 대한 여러 옵션이 검토 중입니다.\n",
      "- 토트넘 구단은 손흥민과의 재계약을 논의 중이며, 새 시즌 종료 후 재계약 또는 이적 가능성에 대해 관심이 집중되고 있습니다.\n",
      "\n",
      "2. 김민재\n",
      "- 김민재의 2025-2026 시즌 이적설도 활발히 언급되고 있습니다.\n",
      "- 최근 토트넘 구단이 김민재 영입을 추진 중이라는 보도가 있으며, 재계약 여부와 관련해 협상이 진행 중입니다.\n",
      "- 김민재는 현재 축구 경기력과 폼이 좋아 여러 구단들의 관심을 받고 있으며, 유럽 내 다른 팀과의 이적 가능성도 있습니다.\n",
      "\n",
      "3. 이강인\n",
      "- 이강인도 2025-2026 시즌 이적설이 꾸준히 나오고 있습니다.\n",
      "- PSG(파리 생제르맹)에서 활약 중인 이강인은 한국과 유럽 축구계의 관심을 받고 있으며, 이적 가능성 및 새로운 유니폼 발매 등과 연관된 소식들이 있습니다.\n",
      "- 2025년 여름 이적 시장에서 이강인의 거취 변화가 예상되고 있습니다.\n",
      "\n",
      "각 선수의 이적설은 구단 내부 사정, 선수 본인의 의사, 새 시즌 종료 후 상황에 따라 달라질 수 있음을 참고하시기 바랍니다. 추가로 원하시는 내용이나 특정 선수에 대한 더 상세한 정보가 필요하시면 알려주세요.\n"
     ]
    }
   ],
   "source": [
    "print(final_response.content)"
   ]
  },
  {
   "cell_type": "code",
   "execution_count": 35,
   "metadata": {},
   "outputs": [
    {
     "data": {
      "text/plain": [
       "True"
      ]
     },
     "execution_count": 35,
     "metadata": {},
     "output_type": "execute_result"
    }
   ],
   "source": [
    "#############################################################################\n",
    "# 요청 - 응답까지의 전체 체인을 구성\n",
    "#\n",
    "# query -> (tool + model = RunnableBinding) -> AIMessage.tool_calls\n",
    "#       -> (tool) -> 처리결과(검색결과)\n",
    "#       -> LLM -> 최종응답\n",
    "#############################################################################\n",
    "\n",
    "from langchain_tavily import TavilySearch\n",
    "from langchain_openai import ChatOpenAI\n",
    "from langchain.prompts import ChatPromptTemplate, MessagesPlaceholder\n",
    "from langchain_core.output_parsers import StrOutputParser\n",
    "from langchain_core.runnables import chain\n",
    "from dotenv import load_dotenv\n",
    "load_dotenv()"
   ]
  },
  {
   "cell_type": "code",
   "execution_count": null,
   "metadata": {},
   "outputs": [],
   "source": [
    "from datetime import date\n",
    "\n",
    "# 1. Tool 생성\n",
    "tavily_search = TavilySearch()\n",
    "model = ChatOpenAI(model=\"gpt-4.1\")                 # 뇌 : model + tool -> 어떤 tool을 사용할지 선택 / 성능 좋아야겠지????\n",
    "\n",
    "tool_model = model.bind_tools(tools=[tavily_search])\n",
    "prompt_template = ChatPromptTemplate(\n",
    "    [\n",
    "        (\"system\",(\"당신은 AI 어시스턴트입니다.\"\n",
    "                   \"질문에 대해서 최신 정보를 바탕으로 답변해주세요.\"\n",
    "                   \"오늘 날짜는 {today}입니다.\")),\n",
    "        (\"human\",\"{user_input}\"),\n",
    "        MessagesPlaceholder(variable_name=\"messages\", optional=True)\n",
    "    ],\n",
    "    partial_variables = {\"today\":{date.today().strftime(\"%Y년 %m월 %d일\")}}\n",
    ")\n",
    "tool_model_chain = prompt_template | tool_model\n",
    "\n",
    "@chain          # runnable로 만들기\n",
    "def web_search_chain(user_input:str)->str:\n",
    "    \"\"\"전체 프로세스를 처리하는 체인\n",
    "    사용자 질문(user_input)을 받아서 tool 호출을 거쳐 응답 처리하는 체인.\n",
    "    \"\"\"\n",
    "    ai_message = tool_model_chain.invoke({\"user_input\":user_input})                 # 반환 : 1.응답 or 2.tool calls 정보\n",
    "\n",
    "    if ai_message.tool_calls:                                                       # list 형태\n",
    "        ## tool 호출 -> 결과 -> llm 호출\n",
    "        # tool 호출\n",
    "        tool_messages = tavily_search.batch(ai_message.tool_calls)\n",
    "        input_dict = {\n",
    "            \"user_input\":user_input,\n",
    "            \"messages\":[ai_message, *tool_messages]                                  # tool 처리결과 llm에 전달 [tool_calls 값이 있는 AIMessage, Tool 처리결과 ToolMessage]\n",
    "        }\n",
    "        return tool_model_chain.invoke(input_dict).content\n",
    "    else:                                                                           # 빈 리스트라면\n",
    "        return ai_message.content"
   ]
  },
  {
   "cell_type": "code",
   "execution_count": 48,
   "metadata": {},
   "outputs": [],
   "source": [
    "# tool_model_chain.invoke({\"user_input\":\"안녕하세요.\"})\n",
    "r = tool_model_chain.invoke({\"user_input\":\"오늘 서울 날씨 알려주세요.\"})"
   ]
  },
  {
   "cell_type": "code",
   "execution_count": 46,
   "metadata": {},
   "outputs": [
    {
     "data": {
      "text/plain": [
       "[{'name': 'tavily_search',\n",
       "  'args': {'query': '오늘 서울 날씨', 'search_depth': 'basic'},\n",
       "  'id': 'call_wEjDOSrUAD7oZnZvFPVPGV36',\n",
       "  'type': 'tool_call'}]"
      ]
     },
     "execution_count": 46,
     "metadata": {},
     "output_type": "execute_result"
    }
   ],
   "source": [
    "r.tool_calls"
   ]
  },
  {
   "cell_type": "code",
   "execution_count": 53,
   "metadata": {},
   "outputs": [],
   "source": [
    "response = web_search_chain.invoke(\"내일 서울과 부산 날씨를 알려주세요.\")"
   ]
  },
  {
   "cell_type": "code",
   "execution_count": 55,
   "metadata": {},
   "outputs": [
    {
     "name": "stdout",
     "output_type": "stream",
     "text": [
      "내일(2025년 6월 20일) 서울과 부산의 날씨를 요약해서 알려드리면 다음과 같습니다.\n",
      "\n",
      "■ 서울  \n",
      "- 대체로 흐리거나 구름 많고, 장마전선 영향으로 일부 지역에 비가 내릴 수 있습니다.\n",
      "- 이번 주간 서울은 평년 수준 이상의 기온(평균 최고 약 27~29도, 최저 약 17~19도)이 유지될 전망입니다.\n",
      "- 습도가 높아지고, 장마와 본격적인 여름 더위가 시작됩니다.\n",
      "\n",
      "■ 부산  \n",
      "- 부산도 장마 영향으로 흐리고, 비가 내릴 가능성이 있습니다.\n",
      "- 평균 최고기온은 약 23~24도, 최저기온은 약 17~19도로 비교적 온화합니다.\n",
      "- 습도는 80% 이상으로 매우 높고, 이날부터 본격적인 장마권에 접어드는 모습입니다.\n",
      "\n",
      "두 지역 모두 우산을 챙기시는 것이 좋겠습니다.  \n",
      "참고: 기상청, 데이터풀, 네이버 블로그 예보 등 최신 기상 자료 종합\n",
      "\n",
      "더 자세한 실시간 날씨나 강수 확률, 시간대별 비 예보가 궁금하시다면 말씀해 주세요!\n"
     ]
    }
   ],
   "source": [
    "print(response)"
   ]
  },
  {
   "cell_type": "code",
   "execution_count": null,
   "metadata": {},
   "outputs": [],
   "source": []
  },
  {
   "cell_type": "markdown",
   "metadata": {},
   "source": [
    "# 사용자 정의 Tool 구현\n",
    "\n",
    "## @tool 사용\n",
    "- 함수로 구현하고 `@tool` 데코레이터를 사용해 tool(StructuredTool)로 정의한다.\n",
    "    - `langchain_core.tools` 모듈에 있다.\n",
    "- tool name\n",
    "    - 함수의 이름이 tool의 이름이 된다.\n",
    "- parameters\n",
    "    - 함수의 파라미터가 tool의 파라미터가 된다.\n",
    "    - **type hint**를 이용해 타입을 지정한다.  \n",
    "- description\n",
    "    - doctring이 description이 된다.\n",
    "    - RunnableBinding이 tool을 잘 찾을 수 있도록 하려면 **tool의 기능을 최대한 구체적**으로 작성한다.\n",
    "- **@tool이 적용된 함수(StructuredTool)이 tool**이므로 model에 binding 한다."
   ]
  },
  {
   "cell_type": "code",
   "execution_count": 65,
   "metadata": {},
   "outputs": [],
   "source": [
    "from langchain_core.tools import tool\n",
    "\n",
    "# LLM이 tool을 선택하는 기준 : tool의 이름 및 설명(doc string)\n",
    "\n",
    "@tool\n",
    "def plus(num1:int|float, num2:int|float)->int|float:           # doc string (\"\"\"\"\"\" 이 없으면 error)\n",
    "    \"\"\"\n",
    "    두 숫자를 받아서 덧셈처리하는 tool\n",
    "    \"\"\"\n",
    "    return num1 + num2\n",
    "\n",
    "@tool\n",
    "def mul(num1:int|float, num2:int|float)->int|float:\n",
    "    \"\"\"\n",
    "    두 숫자를 받아서 곱셈처리하는 tool\n",
    "    \"\"\"\n",
    "    return num1 * num2"
   ]
  },
  {
   "cell_type": "code",
   "execution_count": 67,
   "metadata": {},
   "outputs": [
    {
     "name": "stdout",
     "output_type": "stream",
     "text": [
      "<class 'langchain_core.tools.structured.StructuredTool'>\n",
      "plus\n",
      "두 숫자를 받아서 덧셈처리하는 tool\n"
     ]
    }
   ],
   "source": [
    "print(type(plus))\n",
    "print(plus.name)\n",
    "print(plus.description)"
   ]
  },
  {
   "cell_type": "code",
   "execution_count": 68,
   "metadata": {},
   "outputs": [
    {
     "data": {
      "text/plain": [
       "{'description': '두 숫자를 받아서 덧셈처리하는 tool',\n",
       " 'properties': {'num1': {'anyOf': [{'type': 'integer'}, {'type': 'number'}],\n",
       "   'title': 'Num1'},\n",
       "  'num2': {'anyOf': [{'type': 'integer'}, {'type': 'number'}],\n",
       "   'title': 'Num2'}},\n",
       " 'required': ['num1', 'num2'],\n",
       " 'title': 'plus',\n",
       " 'type': 'object'}"
      ]
     },
     "execution_count": 68,
     "metadata": {},
     "output_type": "execute_result"
    }
   ],
   "source": [
    "plus.args_schema.model_json_schema()"
   ]
  },
  {
   "cell_type": "code",
   "execution_count": 69,
   "metadata": {},
   "outputs": [],
   "source": [
    "model = ChatOpenAI(model=\"gpt-4.1-mini\")\n",
    "tool_model = model.bind_tools([plus,mul])"
   ]
  },
  {
   "cell_type": "code",
   "execution_count": 70,
   "metadata": {},
   "outputs": [
    {
     "data": {
      "text/plain": [
       "''"
      ]
     },
     "execution_count": 70,
     "metadata": {},
     "output_type": "execute_result"
    }
   ],
   "source": [
    "resp = tool_model.invoke(\"5000원짜리 빵을 5개 샀어. 얼마야?\")\n",
    "resp.content"
   ]
  },
  {
   "cell_type": "code",
   "execution_count": 74,
   "metadata": {},
   "outputs": [
    {
     "name": "stdout",
     "output_type": "stream",
     "text": [
      "content='' additional_kwargs={'tool_calls': [{'id': 'call_ON2mqXBf1s4u6MhZrFvCMTaj', 'function': {'arguments': '{\"num1\":5000,\"num2\":5}', 'name': 'mul'}, 'type': 'function'}], 'refusal': None} response_metadata={'token_usage': {'completion_tokens': 20, 'prompt_tokens': 115, 'total_tokens': 135, 'completion_tokens_details': {'accepted_prediction_tokens': 0, 'audio_tokens': 0, 'reasoning_tokens': 0, 'rejected_prediction_tokens': 0}, 'prompt_tokens_details': {'audio_tokens': 0, 'cached_tokens': 0}}, 'model_name': 'gpt-4.1-mini-2025-04-14', 'system_fingerprint': 'fp_6f2eabb9a5', 'id': 'chatcmpl-Bk3Ni43FjuCqNUUZCw8UWvxgkremo', 'service_tier': 'default', 'finish_reason': 'tool_calls', 'logprobs': None} id='run--9253668d-3870-473c-be46-76f97bd77d95-0' tool_calls=[{'name': 'mul', 'args': {'num1': 5000, 'num2': 5}, 'id': 'call_ON2mqXBf1s4u6MhZrFvCMTaj', 'type': 'tool_call'}] usage_metadata={'input_tokens': 115, 'output_tokens': 20, 'total_tokens': 135, 'input_token_details': {'audio': 0, 'cache_read': 0}, 'output_token_details': {'audio': 0, 'reasoning': 0}}\n"
     ]
    }
   ],
   "source": [
    "print(resp)"
   ]
  },
  {
   "cell_type": "code",
   "execution_count": null,
   "metadata": {},
   "outputs": [
    {
     "data": {
      "text/plain": [
       "[{'name': 'mul',\n",
       "  'args': {'num1': 5000, 'num2': 5},\n",
       "  'id': 'call_ON2mqXBf1s4u6MhZrFvCMTaj',\n",
       "  'type': 'tool_call'}]"
      ]
     },
     "execution_count": 71,
     "metadata": {},
     "output_type": "execute_result"
    }
   ],
   "source": [
    "resp.tool_calls\n",
    "# 어떤 tool을 호출해야되는지 알려줌"
   ]
  },
  {
   "cell_type": "code",
   "execution_count": 73,
   "metadata": {},
   "outputs": [
    {
     "data": {
      "text/plain": [
       "ToolMessage(content='25000', name='mul', tool_call_id='call_ON2mqXBf1s4u6MhZrFvCMTaj')"
      ]
     },
     "execution_count": 73,
     "metadata": {},
     "output_type": "execute_result"
    }
   ],
   "source": [
    "mul.invoke(resp.tool_calls[0])"
   ]
  },
  {
   "cell_type": "code",
   "execution_count": 78,
   "metadata": {},
   "outputs": [],
   "source": [
    "from langchain_core.tools import tool\n",
    "from langchain_tavily import TavilySearch\n",
    "#tavily_search를 이용해서 web 검색을 처리하는 툴\n",
    "from typing import Literal # 넣을 수 있는 값이 정해진 경우.\n",
    "# type|None=None => optional\n",
    "##################################################\n",
    "# #만약 아래의 파라미터들에 대해 type뿐 아니라 더 자세히 지정하고 싶으면, pydantic의 field를 지정하면된다.\n",
    "from pydantic import BaseModel, Field\n",
    "class PropertySchema(BaseModel):\n",
    "    query: str = Field(..., description=\"검색할 검색어 문장\"),\n",
    "    max_results: int = Field(default=3, description=\"최대 검색 개수\")\n",
    "    time_range:Literal[\"day\", \"week\", \"month\", \"year\"]|None = Field(default=None, description=\"최신정보 검색시 검색 기간.\")\n",
    "@tool(name_or_callable=\"툴 이름\", description=\"이 툴에 대한 설명\", args_schema=PropertySchema) # >>> @tool 대신 적어라\n",
    "##################################################\n",
    "@tool\n",
    "def search_web(query:str,\n",
    "               max_results:int=3,\n",
    "               time_range:Literal[\"day\", \"week\", \"month\", \"year\"]|None=None\n",
    "               ) -> dict:\n",
    "    \"\"\"데이터 베이스에 존재하지 않는 정보다, 최신정보를 찾기 위해서 인터넷 검색을 하는 Tool입니다.\"\"\"\n",
    "    tavily_search = TavilySearch(max_results=max_results, time_range=time_range)\n",
    "    # tavily_search 이외의 검색 툴들을 이용해서 다양한 검색 결과들을 취함\n",
    "    search_result = tavily_search.invoke(query)[\"results\"] #{..., \"results\":list[dict]}\n",
    "    if search_result: # 검색 결과가 있다.\n",
    "        return {\"result\": search_result}\n",
    "    else: # 검색결과가 없다면\n",
    "        return {\"result\": \"검색결과가 없습니다.\"}"
   ]
  },
  {
   "cell_type": "code",
   "execution_count": 79,
   "metadata": {},
   "outputs": [
    {
     "name": "stdout",
     "output_type": "stream",
     "text": [
      "툴 이름\n",
      "이 툴에 대한 설명\n"
     ]
    },
    {
     "data": {
      "text/plain": [
       "<bound method BaseModel.model_json_schema of <class 'langchain_core.utils.pydantic.search_web'>>"
      ]
     },
     "execution_count": 79,
     "metadata": {},
     "output_type": "execute_result"
    }
   ],
   "source": [
    "print(search_web.name)\n",
    "print(search_web.description)\n",
    "search_web.args_schema.model_json_schema"
   ]
  },
  {
   "cell_type": "code",
   "execution_count": 81,
   "metadata": {},
   "outputs": [
    {
     "data": {
      "text/plain": [
       "{'result': [{'url': 'https://xn--zf4b19gw9af7l.kr/shop/item.php?it_id=1692685420&device=pc',\n",
       "   'title': '한우1++꽃등심 100g당 15000 > 베스트상품 - 주식회사 마장자연축산',\n",
       "   'content': '관련상품 · 한우1++ 새우살등심 100당 17,000 · 한우1++ 안심 100g당 18,000원 · 한우1++ 치마살 100g당 18,000 · 한우1++ 제비추리 100g당 18,000 · 한우1++ 업진살 100g당',\n",
       "   'score': 0.81097376,\n",
       "   'raw_content': None},\n",
       "  {'url': 'https://m.kin.naver.com/qna/dirs/8020605/docs/480625927?qb=7ZWc7JqwIOuTseyLrCDqsIDqsqkgMTAwZ%20uLuQ==&enc=utf8&mobile',\n",
       "   'title': '한우 +1 등심 100g 9800원이면 어떤가요? : 네이버 지식iN - 지식인',\n",
       "   'content': '마트에서 한우 등심 1+ 등급을 100g당 9,800원 정도에 구매하셨다면, 현재 시세 대비 상당히 저렴하게 구매하신 편입니다. 보통 한우 등심 1+ 등급은 100g당 1만원을 훌쩍',\n",
       "   'score': 0.7923522,\n",
       "   'raw_content': None},\n",
       "  {'url': 'https://www.ssg.com/item/itemView.ssg?itemId=0000008041803',\n",
       "   'title': '한우 등심 구이용 1등급 (100g) (팩) - SSG.COM',\n",
       "   'content': '한우 등심 구이용 1등급 (100g) (팩) ; 원산지 · 상세설명참조 ; 최고판매가. 11,880원 ; 무이자 할부: 카드사별 무이자 혜택 ; 쇼핑혜택: 충전결제 시 최대 5% 적립 첫결제 5%,',\n",
       "   'score': 0.6680367,\n",
       "   'raw_content': None}]}"
      ]
     },
     "execution_count": 81,
     "metadata": {},
     "output_type": "execute_result"
    }
   ],
   "source": [
    "from tools import search_web as s_web\n",
    "s_web.invoke(\"한우 100g당 가격이 얼마지?\")"
   ]
  },
  {
   "cell_type": "code",
   "execution_count": null,
   "metadata": {},
   "outputs": [],
   "source": []
  },
  {
   "cell_type": "markdown",
   "metadata": {},
   "source": [
    "## Runnable을 tool로 정의\n",
    "- `Runnable객체.as_tool()`\n",
    "    - name, description, args_schema 파라미터를 이용해 tool의 이름, 설명, 스키마를 설정한다."
   ]
  },
  {
   "cell_type": "code",
   "execution_count": null,
   "metadata": {},
   "outputs": [],
   "source": [
    "# 위키백과사전의 내용들 검색하고 관리하는 라이브러리\n",
    "# document_loader중 WikipediaLoader를 사용해서 위키백과사전 내용들을 검색할수있다."
   ]
  },
  {
   "cell_type": "code",
   "execution_count": 83,
   "metadata": {},
   "outputs": [
    {
     "data": {
      "text/plain": [
       "[Document(metadata={'title': '국제 축구 연맹', 'summary': '국제 축구 연맹(國際蹴球聯盟; 문화어: 국제 축구 련맹; 프랑스어: Fédération internationale de football association; 영어: International Association Football Federation), 줄여서 피파(FIFA)는 축구(아식축구)와 풋살, 비치사커 종목을 총괄하는 국제 기구로, 스위스의 취리히에 FIFA 본부를 두고 있으며 4년마다 열리는 FIFA 월드컵을 비롯해서 여러 국제 대회를 운영하고 있다. 1904년 5월 21일 파리에서 결성되었으며 현 FIFA 회장은 잔니 인판티노이다.', 'source': 'https://ko.wikipedia.org/wiki/%EA%B5%AD%EC%A0%9C_%EC%B6%95%EA%B5%AC_%EC%97%B0%EB%A7%B9'}, page_content='국제 축구 연맹(國際蹴球聯盟; 문화어: 국제 축구 련맹; 프랑스어: Fédération internationale de football association; 영어: International Association Football Federation), 줄여서 피파(FIFA)는 축구(아식축구)와 풋살, 비치사커 종목을 총괄하는 국제 기구로, 스위스의 취리히에 FIFA 본부를 두고 있으며 4년마다 열리는 FIFA 월드컵을 비롯해서 여러 국제 대회를 운영하고 있다. 1904년 5월 21일 파리에서 결성되었으며 현 FIFA 회장은 잔니 인판티노이다.\\n\\n\\n== 역사 ==\\n\\n20세기 초, 축구의 인기가 영국에서 해외로 확산되면서 경기 종목을 관리할 조직체의 필요성이 대두되었다. 하지만, 그 필요성을 먼저 느낀 것은 The FA가 아닌 다른 나라의 축구인들이었다. 그 조직으로써 FIFA가 1904년 5월 21일 프랑스 파리에서 설립되었다.\\n오늘날 프랑스어를 사용하지 않는 나라들에서도 이 단체의 이름을 프랑스어로 표기하는 것은 이 단체가 처음 만들어진 곳이 프랑스이기 때문이다.\\nFIFA가 주관한 최초의 국제 경기는 1906년 열렸는데, 그다지 성공적이지 못했다. 결국 초대 회장이었던 로베르 게랭이 물러나는 계기가 되었고, 종주국인 잉글랜드 출신의 대니얼 벌리 울폴이 새 회장이 된다.\\n그 다음 열린 국제 대회는 1908년 런던 올림픽이었는데, 여덟 팀이 참가한 축구 대회는 비교적 성공적이었다. 1909년 남아프리카 공화국이 FIFA에 가입하면서 처음으로 가맹국이 유럽의 울타리를 벗어나게 되었다.\\n1912년에는 아르헨티나와 칠레가, 1913년에는 캐나다와 미국이 가입하면서 FIFA는 대서양을 중심으로 세력을 확장시킬 수 있었다.\\n제1차 세계 대전은 FIFA의 발전에 큰 타격을 주었다. 국제적인 교류는 미미한 수준으로 떨어졌고, 많은 축구선수들이 전장에 나가 희생되기도 했으며, 국제경기는 정상적으로 치를 수 없었다.\\n전쟁 이후, 회장인 울펄이 사망하고 부회장이었던 네덜란드인 카를 히르츠만이 일시적으로 FIFA를 맡게 되었다. 전쟁을 이유로 홈 네이션 4개국(잉글랜드, 스코틀랜드, 웨일스, 북아일랜드)이 FIFA를 탈퇴하면서 FIFA는 큰 위기에 봉착했고 회원국 수는 20개 국으로 줄어들었다.\\n위기에 빠진 FIFA를 재건한 사람은 48세의 프랑스인 쥘 리메였다. 그가 회장으로 재임한 33년 동안 제2차 세계 대전발발에도 불구하고 FIFA는 많은 발전을 이루었다. 1930년 최초의 월드 컵이 우루과이에서 열렸으며, 회원국들은 다시 증가했다.\\n1946년 홈 네이션들도 FIFA에 재가입하였다. 제 5회 스위스 월드컵이 열린 1954년 회원국의 수는 무려 85개국까지 늘어났고 더욱 국제적인 조직으로 발전할 수 있었다. 이 대회 직후 80세의 쥘 리메는 사임하였다. 당시 월드 컵 우승 팀에게 주어지는 우승컵의 이름은 쥘 리메 컵이었다.\\n2차 세계대전 이후, 많은 신생 독립국들이 FIFA에 가입하면서 회원국의 수는 계속 늘어났다. 당시 독립국들은 UN보다 FIFA에 먼저 가입하는 경우가 많았다. 축구 경기를 TV에서 중계하게 되면서, 축구는 좀 더 세계적인 스포츠로 발전했고 FIFA의 인지도도 같이 높아졌다.\\n이전까지 FIFA는 4년에 한 번 열리는 월드컵을 통해 수익을 얻을 수밖에 없었는데, TV 중계는 FIFA의 재정에 큰 도움이 되었다. 6대 회장인 스탠리 루스 경은 여러 사업을 통해 FIFA의 재정 안정에 큰 기여를 하였다. 이러한 공로로 루스경은 1974년 FIFA 명예회장으로 추대되었다. 다음 회장은 브라질 출신의 주앙 아벨란제 박사였다.\\n아벨란제 회장은 다소 보수적이었던 FIFA를 보다 능동적인 조직으로 탈바꿈시켰다. 스위스 취리히의 작은 건물에서 12명의 직원이 일하던 FIFA는 그 열 배가 넘는 조직으로 확장되었고, 보다 많은 수익을 얻는 기관으로 발전했다. FIFA의 상업화에는 비판의 목소리도 있었지만, FIFA의 조직 안정성은 결과적으로 산하 연맹들과 회원국들에게 이익이 되었고 1998년까지 아벨란제는 24년간 장기 집권을 할 수 있었다.\\n1998년 6월 8일 스위스 출신의 제프 블라터가 새로운 회장으로 취임하면서 2016년까지 18년간 장기 집권을 하였다. FIFA 내 부패 혐의로 미국 연방검찰의 체포 위협 때문에 회장직을 사임하였다.(스위스인은 스위스 이외 외국으로 형사강제송환되지 아니한다.)\\n2016년 2월 스위스 출신의 유럽축구연맹 사무총장 잔니 인판티노가 새로운 회장으로 취임하면서 오늘에 이르고 있다.\\n\\n\\n== 구조 ==\\nFIFA는 스위스 취리히에 본부를 두고 있기 때문에, 스위스 법의 적용을 받는 단체이다.\\nFIFA의 최고 결정기관은 FIFA 총회이며, 이는 각 가입국의 대표들로 이루어져 있다. 1년에 한번 정기회의를 가지며, 1998년부터 요청이 있을 경우에 한해 1년에 한번 더 특별회의를 열 수 있다. FIFA 총회만이 회원국 승인, 재정 등 FIFA의 주요 사항을 결정할 수 있다.\\n총회는 FIFA 회장과 부회장, 사무총장, 집행위원회를 선출한다. 회장과 사무총장은 FIFA의 주요 구성원으로서 FIFA의 관리경영을 맡게 되며, 208개 회원국과 집행위원회에 의해 실행된다.\\nFIFA 회장에 의해 임명되는 FIFA 집행위원회는, 총회가 구성되는 사이사이에 중요한 결정기관의 역할을 한다. FIFA는 분야별로 전 세계에 걸쳐 총회 또는 집행위원회의 보좌를 상설위원회를 두고 있으며, 재정위원회, 징계위원회, 심판위원회 등이 있다.\\nFIFA는 각종 기관(총회, 집행위원회 등) 외에도 국가별 축구 협회를 산하에 두고 있으며, 대륙별 축구 연맹은 FIFA의 회원이 아닌, FIFA가 관리기관으로서 만든 연맹이다. FIFA가 주관하는 대회에 참가하기 위해서는 각 국가의 축구 협회는 FIFA에 가입해야 하며, 회원가입 신청시에는 FIFA는 물론 지역적으로 자국이 속한 대륙에 회원국 등록을 신청해야 한다.\\n\\n6개 대륙별 축구연맹으로 구성되어 있다.\\n\\n유럽과 아시아의 구분이 모호한 근동 지방에 있는 나라는 소속 연맹을 선택할 수 있다. 그에 따라 러시아, 터키, 아르메니아, 아제르바이잔, 조지아, 키프로스는 국토의 일부 혹은 전체가 아시아에 위치해 있음에도 유럽 축구 연맹에 가입되어 있다. 이스라엘은 국토 전체가 완전히 아시아에 속해 있지만 중동과의 정치적인 사유로 1994년에 유럽 축구 연맹에 가입했다. 2002년에는 카자흐스탄이 아시아 축구 연맹에서 유럽 축구 연맹으로 이동했으며, 2006년 1월에는 오스트레일리아가 오세아니아 축구 연맹에서 아시아 축구 연맹으로 이동했다.\\n가이아나와 수리남은 남아메리카 대륙에 위치해있음에도 불구하고 북중미카리브 축구 연맹에 소속되어 있다.\\n오세아니아 축구 연맹에 소속된 나라들은 FIFA 가맹국이 적고 FIFA 랭킹이 낮은 편이기 때문에 대륙에서 유일하게 0.5장의 본선 티켓만 배분받아 본선 진출을 완전히 보장받지 못하고 있다. 따라서 지역 예선에서 1위를 해도 대륙 간의 플레이오프에 진출해서 승리해야만 본선에 직행할 수 있다. 물론 패배할 경우 FIFA 월드컵 본선에 직행할 수 없게 되어 오세아니아에 출전할 수 있는 나라가 없게 된다.\\n가장 최근의 예선 시스템으로는, 오세아니아 지역예선의 1위는 남아메리카 축구 연맹 지역예선의 5위와 플레이오프를 벌여야 하고, 오스트레일리아는 이 단계에서 계속 진출 실패를 거듭해왔기 때문에, 경기력의 질적 향상과 월드컵 진출상의 용이를 위해 아시아 축구 연맹으로 이동했다. 이에 따라 오스트레일리아는 AFC 아시안컵과 AFC 챔피언스리그 등 아시아 축구 연맹이 주관하는 대회에 참가할 수 있게 되었다.\\n오스트레일리아는 아시아 축구 연맹으로의 이동이 결정되고부터 불과 몇 달 후에 우루과이와의 플레이오프전에서 승부차기까지 가는 사투 끝에 2006년 FIFA 월드컵 예선을 통과했다. FIFA는 당초 2010년 FIFA 월드컵 예선으로 오세아니아 예선 1위를 아시아 월드컵 최종 예선에 포함시킬 계획이었으나, 오세아니아의 1위와 아시아 팀의 월드컵 플레이오프가 결정되면서 무산되었다.\\nFIFA는 211개 축구 협회와 각각의 남성 대표팀 및 129개의 여성 대표팀을 인정하고 있다. (축구 '),\n",
       " Document(metadata={'title': 'FIFA 클럽 월드컵', 'summary': 'FIFA 클럽 월드컵(FIFA Club World Cup)은 국제 축구 연맹(FIFA) 주관으로 1년마다 열리는 축구 대회로, 6개 대륙의 클럽간 컵 대회 우승 팀과 개최국의 1부 리그 우승 팀이 참가하는 대회이다.', 'source': 'https://ko.wikipedia.org/wiki/FIFA_%ED%81%B4%EB%9F%BD_%EC%9B%94%EB%93%9C%EC%BB%B5'}, page_content='FIFA 클럽 월드컵(FIFA Club World Cup)은 국제 축구 연맹(FIFA) 주관으로 1년마다 열리는 축구 대회로, 6개 대륙의 클럽간 컵 대회 우승 팀과 개최국의 1부 리그 우승 팀이 참가하는 대회이다.\\n\\n\\n== 역사 ==\\n2000년 1월에 브라질에서 FIFA 클럽 세계 선수권 대회(FIFA Club World Championship)라는 이름으로 첫 대회가 개최되었다. 이것은 FIFA가 인터콘티넨털컵을 대체하기 위해 만들어졌는데 당시 이 대회는 매년 일본 도쿄에서 열렸고 유럽의 UEFA 챔피언스리그 우승 팀과 남미의 코파 리베르타도레스 우승 팀이 참가하였다.\\n두 번째 대회는 2001년에 스페인에서 12개 팀이 참가하기로 계획되어 있었다. 그러나 이 대회는 여러 가지 복합적인 요인으로 취소되었는데 그 중 FIFA의 마케팅 파트너였던 인터내셔널 스포츠 앤 레저(ISL)이라는 회사가 파산한 것이 가장 결정적으로 작용하였다. 그리하여 이 대회는 2003년에 개최하기로 연기되었으나 이 계획도 실패로 돌아갔다. FIFA는 결국 도요타컵과 통합하는 데에 동의하였고 다시 시작된 세계 클럽 챔피언십 대회는 2005년에 일본에서 개최되며 첫 시작을 하였다.\\n2009년과 2010년 대회는 아랍에미리트에서 열렸고 2011년과 2012년 대회는 일본에서 다시 개최하기로 했다.\\n5위 결정전은 2007년 대회에 폐지되었으나 2008년 대회에 다시 도입되었다. 이 경기가 재도입되면서 전체 상금이 50만 미국 달러에서 1,650만 미국 달러로 늘어났다. 이 대회의 우승 팀은 500만 미국 달러를 획득하며 준우승 팀은 400만 미국 달러를, 3위 팀은 250만 미국 달러를, 4위 팀은 200만 미국 달러를, 5위 팀은 150만 미국 달러를, 6위 팀은 100만 미국 달러를, 7위 팀이 50만 미국 달러를 받는다.\\n이 대회에 가장 많이 출전한 팀은 뉴질랜드의 오클랜드 시티로 총 16번의 대회 중 9번의 대회(2006년, 2009년, 2011년, 2012년, 2013년, 2014년, 2015년, 2016년, 2017년)에 참가하였다.\\n2019년 3월 15일에 열린 FIFA 평의회에서 FIFA 컨페더레이션스컵을 폐지하는 대신에 FIFA 클럽 월드컵 참가 팀 수를 2021년 대회부터 24개 팀으로 확대하기로 결정했다. 하지만 이 계획은 코로나19 범유행의 여파로 인하여 연기된 상태이다.\\n\\n\\n== 역대 결과 ==\\n\\n\\n== 4강 진출 팀들의 기록 ==\\n\\n\\n== 국가별 기록 ==\\n\\n\\n== 같이 보기 ==\\nUEFA 챔피언스리그\\n코파 리베르타도레스\\nAFC 챔피언스리그\\nCONCACAF 챔피언스리그\\nCAF 챔피언스리그\\nOFC 챔피언스리그\\n\\n\\n== 각주 ==\\n\\n\\n== 외부 링크 ==\\n\\n(영어/스페인어/프랑스어/독일어/…) FIFA 클럽 월드컵 공식 사이트'),\n",
       " Document(metadata={'title': 'FIFA 월드컵', 'summary': 'FIFA 월드컵(영어: FIFA World Cup)은 축구 국제 기구인 국제 축구 연맹(FIFA)에 가맹한 축구 협회(연맹)의  축구 국가대표팀만 참가하는 국제 축구 대회이다.\\n4년마다 열리는 월드컵은 1930년에 첫 대회가 열렸다. 1942년과 1946년 대회는 제2차 세계 대전으로 인하여 열리지 못했다. 대회는 예선 무대와 본선 무대 등 두 부분으로 나뉜다. 예선 무대는 본선에 진출할 32팀을 가려내기 위해 본선 보다 3년 일찍 시작한다. 현재 본선은 개최국 경기장에서 한 달 남짓 32개 팀이 우승을 놓고 경쟁하는 방식으로 진행된다. 월드컵 결승전은 세계에서 가장 많은 사람이 시청하는 단일 스포츠 경기이다. 어림잡아 7억 1,510만 명이 2006년 FIFA 월드컵 결승전을 시청했다고 한다.\\n총 20번 대회가 열리는 동안 8팀이 우승을 차지했다. 가장 우승 횟수가 많은 팀은 브라질로 총 다섯 번의 우승컵을 들어올렸다. 그 다음으로 이탈리아와 독일이 네 번, 아르헨티나가 세 번, 그리고 초대 우승팀인 우루과이와 프랑스가 각각 두 차례씩, 잉글랜드와 스페인가 각각 한 차례씩 우승을 차지했다. 네덜란드는 준우승만 3번(1974·1978·2010)했다.대한민국은 4위가 최고 기록이다.(2002)\\n가장 최근에 열린 2022년 FIFA 월드컵은 카타르에서 열렸고, 아르헨티나가 우승했다. 2026년은 캐나다/멕시코/미국에서 개최된다.\\n세계적인 종합 스포츠 행사 중 하나인 올림픽과 달리 월드컵은 단일 종목 대회다. 그리고 올림픽은 고대 그리스의 전통을 따라 한 도시를 중심으로 개최되지만, 월드컵은 한 국가를 중심으로 열리며 대회 기간은 올림픽이 보통 2주 동안 열리는데 비해 월드컵은 약 한달 동안 진행된다.\\n\\n', 'source': 'https://ko.wikipedia.org/wiki/FIFA_%EC%9B%94%EB%93%9C%EC%BB%B5'}, page_content='FIFA 월드컵(영어: FIFA World Cup)은 축구 국제 기구인 국제 축구 연맹(FIFA)에 가맹한 축구 협회(연맹)의  축구 국가대표팀만 참가하는 국제 축구 대회이다.\\n4년마다 열리는 월드컵은 1930년에 첫 대회가 열렸다. 1942년과 1946년 대회는 제2차 세계 대전으로 인하여 열리지 못했다. 대회는 예선 무대와 본선 무대 등 두 부분으로 나뉜다. 예선 무대는 본선에 진출할 32팀을 가려내기 위해 본선 보다 3년 일찍 시작한다. 현재 본선은 개최국 경기장에서 한 달 남짓 32개 팀이 우승을 놓고 경쟁하는 방식으로 진행된다. 월드컵 결승전은 세계에서 가장 많은 사람이 시청하는 단일 스포츠 경기이다. 어림잡아 7억 1,510만 명이 2006년 FIFA 월드컵 결승전을 시청했다고 한다.\\n총 20번 대회가 열리는 동안 8팀이 우승을 차지했다. 가장 우승 횟수가 많은 팀은 브라질로 총 다섯 번의 우승컵을 들어올렸다. 그 다음으로 이탈리아와 독일이 네 번, 아르헨티나가 세 번, 그리고 초대 우승팀인 우루과이와 프랑스가 각각 두 차례씩, 잉글랜드와 스페인가 각각 한 차례씩 우승을 차지했다. 네덜란드는 준우승만 3번(1974·1978·2010)했다.대한민국은 4위가 최고 기록이다.(2002)\\n가장 최근에 열린 2022년 FIFA 월드컵은 카타르에서 열렸고, 아르헨티나가 우승했다. 2026년은 캐나다/멕시코/미국에서 개최된다.\\n세계적인 종합 스포츠 행사 중 하나인 올림픽과 달리 월드컵은 단일 종목 대회다. 그리고 올림픽은 고대 그리스의 전통을 따라 한 도시를 중심으로 개최되지만, 월드컵은 한 국가를 중심으로 열리며 대회 기간은 올림픽이 보통 2주 동안 열리는데 비해 월드컵은 약 한달 동안 진행된다.\\n\\n\\n== 역사 ==\\n\\n\\n=== 이전의 국제 대회들 ===\\n세계 최초의 A매치는 1872년 글래스고에서 열린 스코틀랜드 대 잉글랜드의 경기였으며, 1884년에 시작된 첫 국제 대회인 브리티시 홈 챔피언십(영국 정기전)의 계기가 되기도 했다. (이후 이 대회는 1984년까지 이어졌다.)  이때 축구는 영국과 아일랜드 외의 다른 나라에서는 찾아보기 어려웠다. 한 세기가 지나 다른 지역에서도 축구의 인기가 높아지면서 1900년, 1904년, 1906년 하계 올림픽에서 시범 종목으로 채택되었다. 이 대회에서 별도의 메달은 수여되지 않았다.\\n월드컵의 역사는\\nFIFA가 1904년에 설립된 이후로 FIFA가 주관하며 올림픽과는 별개로 국가대항 축구 대회를 만들고자 하는 시도가 1906년에 스위스에서 있었다. 하지만 FIFA의 공식적인 기록에 의하면 이 대회의 계획은 실패로 돌아갔다고 한다.\\n올림픽 대회가 아마추어 팀들 간에 계속 경쟁을 하는 방향으로 가는 가운데 1909년, 토머스 립튼은 토머스 립튼 트로피 선수권 대회를 토리노에서 개최한다. 립튼 선수권은 각기 한 국가를 대표하러 나온 개인 클럽간(국가 대표팀간이 아닌)의 대회였다. 대회는 때때로 첫 번째 월드컵이라고 묘사되곤 했으며, 이탈리아, 독일, 그리고 스위스의 일류 프로 클럽팀이 주로 참가했다. 그러나 잉글랜드 축구 협회는 이 대회에 관여하려 않았으며, 프로팀들을 보내달라는 제안을 거절했다. 립튼은 카운티 더럼에 있는 아마추어 팀인 웨스트 오클랜드를 잉글랜드 팀을 대표하여 대신 초대했다. 웨스트 오클랜드는 대회에서 우승했고, 1911년의 대회에서도 성공적으로 타이틀을 방어, 대회 규칙에 따라 트로피를 영원히 보유하게 되었다.\\n1914년에, FIFA는 올림픽에서의 축구 대회를 ‘세계 아마추어 축구 선수권대회’로서 승인해주었고, 대회의 관리를 맡게 되었다. 그 결과 1920년 하계 올림픽에서 세계 최초의 대륙 간 축구 대회가 열렸다. 이 대회에는 이집트와 13개의 유럽 팀들이 참가하였다. 금메달은 벨기에가 차지하였다.\\n1928년에 FIFA는 올림픽과는 별개로 직접 주관하는 대회를 개최하기로 한다. FIFA는 첫 번째 FIFA 월드컵 개최국을 1924년 하계 올림픽과 1928년 하계 올림픽의 축구 종목에서 금메달을 차지했고, 1930년에 독립 100주년을 맞이하게 되는 우루과이로 결정한다.\\n\\n\\n=== 첫 번째 월드컵 ===\\n\\n로스앤젤레스에서 열린 1932년 하계 올림픽에서는 개최국인 미국에서 미식축구의 인기 탓에 축구의 인기가 낮아 정식 종목으로 채택될 계획이 없었다. 또한, FIFA와 IOC의 아마추어 선수의 지위에 관한 의견이 일치하지 않았고 이에 따라 축구는 올림픽에서 제외되었다. 이어 당시 FIFA 회장이었던 쥘 리메는 첫 번째 월드컵 대회를 1930년 우루과이에서 개최하기로 했다. 각 국가의 축구 협회들은 대회 참가 초청을 받았지만, 유럽 지역의 팀들에는 우루과이가 대서양을 횡단해야 하는 먼 나라였기 때문에, 큰 지출과 오랜 여정이 불가피했다. 그런 이유에 따라 대회 2달 전까지도 팀을 보내겠다는 확약을 한 유럽 국가는 없었다. 결국, 쥘 리메는 유럽 팀들을 한 팀이라도 설득하기 위해 노력했으며 우루과이는 모든 체류비와 차비를 출전팀들에게 제공하겠다는 조건을 내건 끝에 여비 및 체류비용이 공짜라는 점과 쥘 리메의 눈치를 봐서 벨기에, 프랑스, 루마니아, 유고슬라비아가 대회 참가에 응했다. 이리하여 유럽에서 4팀, 북중미에서 2팀, 남미에서 7팀, 총 13개 팀이 대회에 참가하였다.\\n월드컵 개막식은 두 경기가 동시에 열렸으며, 프랑스와 미국이 각각 멕시코를 4-1로, 벨기에를 3-0으로 꺾고 승리했다. 월드컵 사상 첫 번째 득점은 프랑스의 루시앙 로랑이 기록했다.\\n우루과이는 몬테비데오에서 열린 결승전에서 93,000명의 관중 앞에서 아르헨티나를 4-2로 꺾으며 첫 번째 FIFA 월드컵 우승 팀이 되었다.\\n\\n\\n=== 월드컵 대회가 맞은 시련 ===\\n초창기 월드컵 대회가 직면했던 문제는 두 가지였다. 첫 번째는 대륙 간 장거리 여행의 어려움이었다. 첫 번째 대회가 우루과이에서 열렸을 때에는 유럽팀들이 장거리 여행의 어려움을 이유로 많은 팀이 불참했다면, 반대로 유럽에서 열린 두 번째, 세 번째 대회에서는 남미 팀들이 이와 같은 이유로 대회에 불참하였다.\\n두 번째는 전쟁 문제로, 네 번째 대회는 원래 1942년에 개최될 예정이었다. 1936년 8월 13일, 베를린에서 열린 제23차 FIFA 총회에서 독일이 공식적으로 개최 신청을 했다. 곧이어 브라질도 월드컵 개최를 신청하였다. 1939년 6월에는 아르헨티나도 개최 신청에 참여했다. 하지만, 제4회 대회의 개최국이 결정되기 전인 1939년 9월 1일, 독일이 폴란드를 침공하면서 제2차 세계 대전이 발발하여 결국 무산되었다. 이 탓에 다음 대회인 1946년 대회도 자동으로 무산되었다.\\n종전 후인 1946년 7월 26일 룩셈부르크 시에서 열린 FIFA 총회에서 제4회 대회를 1949년 브라질에서, 제5회 대회를 1953년 스위스에서 개최하기로 했다. 개최국이 결정된 다음날, 대회 준비를 이유로 개최가 한 해씩 미뤄져 제4회 대회는 1950년, 제5회 대회는 1954년 개최되게 되었다.\\n\\n\\n=== 시련 이후 계속되는 성장 ===\\n\\n1950년 FIFA 월드컵은 처음으로 영국의 팀들이 참가한 대회였다. 영국의 일부 팀들은 그들과 전쟁했던 나라들과의 대결하기를 꺼렸고 또 그들의 팀들이 다른 나라의 축구에 영향을 주는 것을 항의하고자 1920년에 FIFA에서 탈퇴했으나, 그러나 FIFA의 초청에 따라 1946년에 다시 가입했다. 추가로 1950년 월드컵은 한국 전쟁이 발발한 시각과 동일한 시각에 개막되었다. 그리고 1950년 대회에서는 또한, 제1회 대회의 우승국이었던 우루과이가 이전 두 대회의 참가 거부 끝에 복귀했다. 우루과이는 이 대회에서 다시 한 번 우승했고 이 대회는 마라카낭의 비극이라고 하는 역사상 유명한 경기로 후에 남게 되었다. 우루과이에 패배한 브라질은 그 굴욕을 참지 못해 유니폼의 색깔이 변경되었다.\\n1934년부터 1978년 대회까지는 1938년 대회에서 오스트리아가 나치 독일에 예선 통과 후에 흡수됨에 따라 15개 팀의 참가로 치러진 경우와, 1950년 대회에서 인도, 스코틀랜드, 터키가 기권해서 13개 팀의 참가로 치러진 경우를 제외하면 총 16개의 팀이 본선에서 경쟁을 치렀다. 가장 많은 참가를 한 국가들은 대부분 유럽과 남미에')]"
      ]
     },
     "execution_count": 83,
     "metadata": {},
     "output_type": "execute_result"
    }
   ],
   "source": [
    "from langchain_community.document_loaders import WikipediaLoader\n",
    "wiki_loader = WikipediaLoader(query=\"FIFA\", load_max_docs=3, lang=\"ko\")\n",
    "wiki_loader.load()"
   ]
  },
  {
   "cell_type": "code",
   "execution_count": 90,
   "metadata": {},
   "outputs": [],
   "source": [
    "from langchain_community.document_loaders import WikipediaLoader\n",
    "from langchain_core.runnables import chain\n",
    "from pydantic import BaseModel, Field\n",
    "\n",
    "@chain\n",
    "def wikipedia_search(input_dict:dict) -> dict:\n",
    "    \"\"\"사용자 query에 대한 정보를 위키백과사전에서 k개 문서를 검색하는 Runnable\"\"\"\n",
    "\n",
    "    query = input_dict[\"query\"]                                 # 검색어\n",
    "    max_results = input_dict.get(\"max_results\",2)               # 조회문서 최대개수 / defaul : 2\n",
    "    wiki_loader = WikipediaLoader(query=query, load_max_docs=max_results, lang=\"ko\")\n",
    "    search_result = wiki_loader.load()                          # list[Document]\n",
    "    if search_result:                                           # 검색결과가 있다면 / Document -> dictionary\n",
    "        result_list = []\n",
    "        for doc in search_result:\n",
    "            result_list.append({\"content\":doc.page_content, \"url\":doc.metadata[\"source\"], \"title\":doc.metadata[\"title\"]})\n",
    "        return {\"result\":result_list}\n",
    "    else:\n",
    "        return {\"result\":\"검색 결과가 없습니다.\"}"
   ]
  },
  {
   "cell_type": "code",
   "execution_count": 89,
   "metadata": {},
   "outputs": [
    {
     "data": {
      "text/plain": [
       "{'result': [{'content': '국제 축구 연맹(國際蹴球聯盟; 문화어: 국제 축구 련맹; 프랑스어: Fédération internationale de football association; 영어: International Association Football Federation), 줄여서 피파(FIFA)는 축구(아식축구)와 풋살, 비치사커 종목을 총괄하는 국제 기구로, 스위스의 취리히에 FIFA 본부를 두고 있으며 4년마다 열리는 FIFA 월드컵을 비롯해서 여러 국제 대회를 운영하고 있다. 1904년 5월 21일 파리에서 결성되었으며 현 FIFA 회장은 잔니 인판티노이다.\\n\\n\\n== 역사 ==\\n\\n20세기 초, 축구의 인기가 영국에서 해외로 확산되면서 경기 종목을 관리할 조직체의 필요성이 대두되었다. 하지만, 그 필요성을 먼저 느낀 것은 The FA가 아닌 다른 나라의 축구인들이었다. 그 조직으로써 FIFA가 1904년 5월 21일 프랑스 파리에서 설립되었다.\\n오늘날 프랑스어를 사용하지 않는 나라들에서도 이 단체의 이름을 프랑스어로 표기하는 것은 이 단체가 처음 만들어진 곳이 프랑스이기 때문이다.\\nFIFA가 주관한 최초의 국제 경기는 1906년 열렸는데, 그다지 성공적이지 못했다. 결국 초대 회장이었던 로베르 게랭이 물러나는 계기가 되었고, 종주국인 잉글랜드 출신의 대니얼 벌리 울폴이 새 회장이 된다.\\n그 다음 열린 국제 대회는 1908년 런던 올림픽이었는데, 여덟 팀이 참가한 축구 대회는 비교적 성공적이었다. 1909년 남아프리카 공화국이 FIFA에 가입하면서 처음으로 가맹국이 유럽의 울타리를 벗어나게 되었다.\\n1912년에는 아르헨티나와 칠레가, 1913년에는 캐나다와 미국이 가입하면서 FIFA는 대서양을 중심으로 세력을 확장시킬 수 있었다.\\n제1차 세계 대전은 FIFA의 발전에 큰 타격을 주었다. 국제적인 교류는 미미한 수준으로 떨어졌고, 많은 축구선수들이 전장에 나가 희생되기도 했으며, 국제경기는 정상적으로 치를 수 없었다.\\n전쟁 이후, 회장인 울펄이 사망하고 부회장이었던 네덜란드인 카를 히르츠만이 일시적으로 FIFA를 맡게 되었다. 전쟁을 이유로 홈 네이션 4개국(잉글랜드, 스코틀랜드, 웨일스, 북아일랜드)이 FIFA를 탈퇴하면서 FIFA는 큰 위기에 봉착했고 회원국 수는 20개 국으로 줄어들었다.\\n위기에 빠진 FIFA를 재건한 사람은 48세의 프랑스인 쥘 리메였다. 그가 회장으로 재임한 33년 동안 제2차 세계 대전발발에도 불구하고 FIFA는 많은 발전을 이루었다. 1930년 최초의 월드 컵이 우루과이에서 열렸으며, 회원국들은 다시 증가했다.\\n1946년 홈 네이션들도 FIFA에 재가입하였다. 제 5회 스위스 월드컵이 열린 1954년 회원국의 수는 무려 85개국까지 늘어났고 더욱 국제적인 조직으로 발전할 수 있었다. 이 대회 직후 80세의 쥘 리메는 사임하였다. 당시 월드 컵 우승 팀에게 주어지는 우승컵의 이름은 쥘 리메 컵이었다.\\n2차 세계대전 이후, 많은 신생 독립국들이 FIFA에 가입하면서 회원국의 수는 계속 늘어났다. 당시 독립국들은 UN보다 FIFA에 먼저 가입하는 경우가 많았다. 축구 경기를 TV에서 중계하게 되면서, 축구는 좀 더 세계적인 스포츠로 발전했고 FIFA의 인지도도 같이 높아졌다.\\n이전까지 FIFA는 4년에 한 번 열리는 월드컵을 통해 수익을 얻을 수밖에 없었는데, TV 중계는 FIFA의 재정에 큰 도움이 되었다. 6대 회장인 스탠리 루스 경은 여러 사업을 통해 FIFA의 재정 안정에 큰 기여를 하였다. 이러한 공로로 루스경은 1974년 FIFA 명예회장으로 추대되었다. 다음 회장은 브라질 출신의 주앙 아벨란제 박사였다.\\n아벨란제 회장은 다소 보수적이었던 FIFA를 보다 능동적인 조직으로 탈바꿈시켰다. 스위스 취리히의 작은 건물에서 12명의 직원이 일하던 FIFA는 그 열 배가 넘는 조직으로 확장되었고, 보다 많은 수익을 얻는 기관으로 발전했다. FIFA의 상업화에는 비판의 목소리도 있었지만, FIFA의 조직 안정성은 결과적으로 산하 연맹들과 회원국들에게 이익이 되었고 1998년까지 아벨란제는 24년간 장기 집권을 할 수 있었다.\\n1998년 6월 8일 스위스 출신의 제프 블라터가 새로운 회장으로 취임하면서 2016년까지 18년간 장기 집권을 하였다. FIFA 내 부패 혐의로 미국 연방검찰의 체포 위협 때문에 회장직을 사임하였다.(스위스인은 스위스 이외 외국으로 형사강제송환되지 아니한다.)\\n2016년 2월 스위스 출신의 유럽축구연맹 사무총장 잔니 인판티노가 새로운 회장으로 취임하면서 오늘에 이르고 있다.\\n\\n\\n== 구조 ==\\nFIFA는 스위스 취리히에 본부를 두고 있기 때문에, 스위스 법의 적용을 받는 단체이다.\\nFIFA의 최고 결정기관은 FIFA 총회이며, 이는 각 가입국의 대표들로 이루어져 있다. 1년에 한번 정기회의를 가지며, 1998년부터 요청이 있을 경우에 한해 1년에 한번 더 특별회의를 열 수 있다. FIFA 총회만이 회원국 승인, 재정 등 FIFA의 주요 사항을 결정할 수 있다.\\n총회는 FIFA 회장과 부회장, 사무총장, 집행위원회를 선출한다. 회장과 사무총장은 FIFA의 주요 구성원으로서 FIFA의 관리경영을 맡게 되며, 208개 회원국과 집행위원회에 의해 실행된다.\\nFIFA 회장에 의해 임명되는 FIFA 집행위원회는, 총회가 구성되는 사이사이에 중요한 결정기관의 역할을 한다. FIFA는 분야별로 전 세계에 걸쳐 총회 또는 집행위원회의 보좌를 상설위원회를 두고 있으며, 재정위원회, 징계위원회, 심판위원회 등이 있다.\\nFIFA는 각종 기관(총회, 집행위원회 등) 외에도 국가별 축구 협회를 산하에 두고 있으며, 대륙별 축구 연맹은 FIFA의 회원이 아닌, FIFA가 관리기관으로서 만든 연맹이다. FIFA가 주관하는 대회에 참가하기 위해서는 각 국가의 축구 협회는 FIFA에 가입해야 하며, 회원가입 신청시에는 FIFA는 물론 지역적으로 자국이 속한 대륙에 회원국 등록을 신청해야 한다.\\n\\n6개 대륙별 축구연맹으로 구성되어 있다.\\n\\n유럽과 아시아의 구분이 모호한 근동 지방에 있는 나라는 소속 연맹을 선택할 수 있다. 그에 따라 러시아, 터키, 아르메니아, 아제르바이잔, 조지아, 키프로스는 국토의 일부 혹은 전체가 아시아에 위치해 있음에도 유럽 축구 연맹에 가입되어 있다. 이스라엘은 국토 전체가 완전히 아시아에 속해 있지만 중동과의 정치적인 사유로 1994년에 유럽 축구 연맹에 가입했다. 2002년에는 카자흐스탄이 아시아 축구 연맹에서 유럽 축구 연맹으로 이동했으며, 2006년 1월에는 오스트레일리아가 오세아니아 축구 연맹에서 아시아 축구 연맹으로 이동했다.\\n가이아나와 수리남은 남아메리카 대륙에 위치해있음에도 불구하고 북중미카리브 축구 연맹에 소속되어 있다.\\n오세아니아 축구 연맹에 소속된 나라들은 FIFA 가맹국이 적고 FIFA 랭킹이 낮은 편이기 때문에 대륙에서 유일하게 0.5장의 본선 티켓만 배분받아 본선 진출을 완전히 보장받지 못하고 있다. 따라서 지역 예선에서 1위를 해도 대륙 간의 플레이오프에 진출해서 승리해야만 본선에 직행할 수 있다. 물론 패배할 경우 FIFA 월드컵 본선에 직행할 수 없게 되어 오세아니아에 출전할 수 있는 나라가 없게 된다.\\n가장 최근의 예선 시스템으로는, 오세아니아 지역예선의 1위는 남아메리카 축구 연맹 지역예선의 5위와 플레이오프를 벌여야 하고, 오스트레일리아는 이 단계에서 계속 진출 실패를 거듭해왔기 때문에, 경기력의 질적 향상과 월드컵 진출상의 용이를 위해 아시아 축구 연맹으로 이동했다. 이에 따라 오스트레일리아는 AFC 아시안컵과 AFC 챔피언스리그 등 아시아 축구 연맹이 주관하는 대회에 참가할 수 있게 되었다.\\n오스트레일리아는 아시아 축구 연맹으로의 이동이 결정되고부터 불과 몇 달 후에 우루과이와의 플레이오프전에서 승부차기까지 가는 사투 끝에 2006년 FIFA 월드컵 예선을 통과했다. FIFA는 당초 2010년 FIFA 월드컵 예선으로 오세아니아 예선 1위를 아시아 월드컵 최종 예선에 포함시킬 계획이었으나, 오세아니아의 1위와 아시아 팀의 월드컵 플레이오프가 결정되면서 무산되었다.\\nFIFA는 211개 축구 협회와 각각의 남성 대표팀 및 129개의 여성 대표팀을 인정하고 있다. (축구 ',\n",
       "   'url': 'https://ko.wikipedia.org/wiki/%EA%B5%AD%EC%A0%9C_%EC%B6%95%EA%B5%AC_%EC%97%B0%EB%A7%B9',\n",
       "   'title': '국제 축구 연맹'},\n",
       "  {'content': 'FIFA 클럽 월드컵(FIFA Club World Cup)은 국제 축구 연맹(FIFA) 주관으로 1년마다 열리는 축구 대회로, 6개 대륙의 클럽간 컵 대회 우승 팀과 개최국의 1부 리그 우승 팀이 참가하는 대회이다.\\n\\n\\n== 역사 ==\\n2000년 1월에 브라질에서 FIFA 클럽 세계 선수권 대회(FIFA Club World Championship)라는 이름으로 첫 대회가 개최되었다. 이것은 FIFA가 인터콘티넨털컵을 대체하기 위해 만들어졌는데 당시 이 대회는 매년 일본 도쿄에서 열렸고 유럽의 UEFA 챔피언스리그 우승 팀과 남미의 코파 리베르타도레스 우승 팀이 참가하였다.\\n두 번째 대회는 2001년에 스페인에서 12개 팀이 참가하기로 계획되어 있었다. 그러나 이 대회는 여러 가지 복합적인 요인으로 취소되었는데 그 중 FIFA의 마케팅 파트너였던 인터내셔널 스포츠 앤 레저(ISL)이라는 회사가 파산한 것이 가장 결정적으로 작용하였다. 그리하여 이 대회는 2003년에 개최하기로 연기되었으나 이 계획도 실패로 돌아갔다. FIFA는 결국 도요타컵과 통합하는 데에 동의하였고 다시 시작된 세계 클럽 챔피언십 대회는 2005년에 일본에서 개최되며 첫 시작을 하였다.\\n2009년과 2010년 대회는 아랍에미리트에서 열렸고 2011년과 2012년 대회는 일본에서 다시 개최하기로 했다.\\n5위 결정전은 2007년 대회에 폐지되었으나 2008년 대회에 다시 도입되었다. 이 경기가 재도입되면서 전체 상금이 50만 미국 달러에서 1,650만 미국 달러로 늘어났다. 이 대회의 우승 팀은 500만 미국 달러를 획득하며 준우승 팀은 400만 미국 달러를, 3위 팀은 250만 미국 달러를, 4위 팀은 200만 미국 달러를, 5위 팀은 150만 미국 달러를, 6위 팀은 100만 미국 달러를, 7위 팀이 50만 미국 달러를 받는다.\\n이 대회에 가장 많이 출전한 팀은 뉴질랜드의 오클랜드 시티로 총 16번의 대회 중 9번의 대회(2006년, 2009년, 2011년, 2012년, 2013년, 2014년, 2015년, 2016년, 2017년)에 참가하였다.\\n2019년 3월 15일에 열린 FIFA 평의회에서 FIFA 컨페더레이션스컵을 폐지하는 대신에 FIFA 클럽 월드컵 참가 팀 수를 2021년 대회부터 24개 팀으로 확대하기로 결정했다. 하지만 이 계획은 코로나19 범유행의 여파로 인하여 연기된 상태이다.\\n\\n\\n== 역대 결과 ==\\n\\n\\n== 4강 진출 팀들의 기록 ==\\n\\n\\n== 국가별 기록 ==\\n\\n\\n== 같이 보기 ==\\nUEFA 챔피언스리그\\n코파 리베르타도레스\\nAFC 챔피언스리그\\nCONCACAF 챔피언스리그\\nCAF 챔피언스리그\\nOFC 챔피언스리그\\n\\n\\n== 각주 ==\\n\\n\\n== 외부 링크 ==\\n\\n(영어/스페인어/프랑스어/독일어/…) FIFA 클럽 월드컵 공식 사이트',\n",
       "   'url': 'https://ko.wikipedia.org/wiki/FIFA_%ED%81%B4%EB%9F%BD_%EC%9B%94%EB%93%9C%EC%BB%B5',\n",
       "   'title': 'FIFA 클럽 월드컵'}]}"
      ]
     },
     "execution_count": 89,
     "metadata": {},
     "output_type": "execute_result"
    }
   ],
   "source": [
    "wikipedia_search.invoke({\"query\":\"FIFA\"})"
   ]
  },
  {
   "cell_type": "code",
   "execution_count": 91,
   "metadata": {},
   "outputs": [
    {
     "name": "stderr",
     "output_type": "stream",
     "text": [
      "/var/folders/69/bt3_5fns57n_cp5_ydbrhfh80000gn/T/ipykernel_57799/2235108541.py:7: LangChainBetaWarning: This API is in beta and may change in the future.\n",
      "  search_wiki = wikipedia_search.as_tool(\n"
     ]
    }
   ],
   "source": [
    "# Runnable을 tool로 생성 - runnable.as_tool(툴정보)\n",
    "class SearchWikiArgsSchema(BaseModel):\n",
    "    query:str = Field(..., description=\"위키백과사전에서 검색할 키워드, 검색어\")\n",
    "    max_results:int = Field(default=2, description=\"검색할 문서의 최대개수\")\n",
    "\n",
    "\n",
    "search_wiki = wikipedia_search.as_tool(\n",
    "    name=\"search_wikipedia\",                            # 툴이름\n",
    "    description=(\"위키백과사전에서 정보를 검색할 때 사용하는 tool\\n\"\n",
    "                 \"사용자의 질문과 관련된 위키백과사전의 문서를 지정한 개수만큼 검색해서 반환합니다.\"\n",
    "                 \"일반적인 지식이나 배경 정보가 필요한 경우 유용하게 사용할 수 있는 tool입니다.\"),\n",
    "    args_schema=SearchWikiArgsSchema                   # 파라미터(argument)에 대한 설계 -> pydantic 모델 정의\n",
    ")"
   ]
  },
  {
   "cell_type": "code",
   "execution_count": 92,
   "metadata": {},
   "outputs": [
    {
     "name": "stdout",
     "output_type": "stream",
     "text": [
      "search_wikipedia\n",
      "name='search_wikipedia' description='위키백과사전에서 정보를 검색할 때 사용하는 tool\\n사용자의 질문과 관련된 위키백과사전의 문서를 지정한 개수만큼 검색해서 반환합니다.일반적인 지식이나 배경 정보가 필요한 경우 유용하게 사용할 수 있는 tool입니다.' args_schema=<class '__main__.SearchWikiArgsSchema'> func=<function convert_runnable_to_tool.<locals>.invoke_wrapper at 0x11f0c4d60> coroutine=<function convert_runnable_to_tool.<locals>.ainvoke_wrapper at 0x11f0c6020>\n"
     ]
    }
   ],
   "source": [
    "print(search_wiki.name)\n",
    "print(search_wiki)"
   ]
  },
  {
   "cell_type": "code",
   "execution_count": 1,
   "metadata": {},
   "outputs": [
    {
     "name": "stderr",
     "output_type": "stream",
     "text": [
      "/Users/giwonjun/Desktop/boot/SKN/13_Langchain/tools.py:50: LangChainBetaWarning: This API is in beta and may change in the future.\n",
      "  search_wiki = wikipedia_search.as_tool(\n"
     ]
    },
    {
     "data": {
      "text/plain": [
       "{'result': [{'content': '삼국 시대(三國時代)는 기원전 1세기부터 7세기까지 고구려, 백제, 신라 삼국이 남만주와 한반도 일대에서 중앙집권적 국가로 발전한 시기를 일컫는다. 신라와 당나라 연합군에 의해 백제(660년), 고구려(668년) 차례로 멸망하면서 한반도 중남부에는 통일신라 북부에는 발해가 들어서 남북국 시대로 넘어간다. 각국의 전성기로 평가되는 시기는 백제 4세기, 고구려 5세기, 신라 6세기 순이다.\\n일부 사학자들은 실질적으로 삼국이 정립되어 삼국 시대가 전개된 것은 고구려, 백제의 기원인 부여가 멸망하고(494년), 또, 가야가 멸망한 562년 이후부터 신라가 백제를 정복한 660년까지 약 100년 동안의 기간 뿐이므로 부여, 가야를 포함하여 오국 시대 혹은 사국 시대라는 용어를 사용하기도 한다.\\n\\n\\n== 역사 ==\\n\\n\\n=== 삼국 시대의 배경과 원삼국 시대 ===\\n기원전 108년 왕검성(王儉城)을 함락시키고 고조선을 멸망시킨 한나라는 옛 고조선 지역에 네 개의 군을 설치했다. 한사군(낙랑군, 임둔군, 진번군, 현도군)의 지배 시기에 고조선 사회의 기존 상급 통합조직은 해체되었다. 중국계 주민들은 군현 내의 주요 지점에 설치된 토성에 주로 거주하면서 지배 족속으로 군림하였고, 고조선인은 촌락 단위로 군현 조직에 예속되었다. 또한 8조의 법금이 갑자기 60여 조로 늘어난 데서 알 수 있듯이, 고조선 사회의 전통적인 사회질서와 문화에 큰 혼란이 일어났다. 경제적으로도 군현의 공적인 수취 외에 한나라인들에 의한 수탈적인 상거래가 성행하였다. 이러한 결과를 강요한 한군현의 지배에 대한 저항이 곧이어 일어났고, 그 결과 2개 군이 폐지되고 1개 군이 축소되는 변동이 잇따랐다.\\n그러나 고조선 사회의 중심부였던 한반도 서북 지방에 설치된 낙랑군은 점차 지배 영역이 축소되긴 했지만 기원후 4세기 초까지 유지되었다. 3세기 초에는 낙랑군의 남부 지역에 대방군이 설치되었다. 낙랑군 관할에 있었던 조선현(朝鮮縣), 즉 평양 지역은 비단 한반도 서북부의 문화와 정치의 중심지였을 뿐 아니라, 한반도 남부와 일본 열도 지역의 주민과 중국 사이의 무역 중계지로서 번영하였다. 이 지역에는 상당수의 중국계 주민이 이주해 와 정착하였다.\\n이들이 남긴 무덤들에선 한나라에서 반입된 고급품과 낙랑군 현지에서 생산한 물품들이 출토되어 당시 번성한 낙랑군의 면모를 보여준다. 그러나 이런 높은 수준의 문물은 토성을 중심으로 거주하던 중국계 주민들과 낙랑군의 지배 조직의 말단에 편입된 일부 고조선계의 수장층에 한정되어 보급되었으며, 다수의 고조선인의 생활과는 무관한 것이었다. 나아가 이런 한나라의 군현들과 그 세력의 원천인 한나라는 군현의 외곽 지역에 거주하던 예·맥·한민족 사회의 정치적인 성장을 압박하는 외적 요소로 작용하였다. 한편 한나라 군현을 통해 유입되는 선진문물은 토착사회의 변화를 자극하였다.\\n이러한 상황에서 한편으로는 한나라 군현의 세력에 대항하고, 다른 한편으로는 그 선진 문물을 수용하면서, 예·맥·한민족 사회에서 삼한(마한, 변한, 진한), 고구려, 옥저, 동예, 부여 등 여러 국가들이 차례로 등장하였다. 이 국가들이 오랜 기간에 걸친 상호 통합의 과정을 거쳐, 고구려·백제·신라 등의 국가로 정립하게 되었다.\\n\\n\\n=== 삼국의 정립 ===\\n\\n\\n==== 고구려 ====\\n한족과의 투쟁 과정 속에서 점차 세력을 확대한 고구려는 유리왕 때에 이르러 전한의 뒤를 이어 일어난 신나라와 충돌할 정도로 그 세력이 성장하였다. 이어 태조왕 때부터는 강력한 대외 발전을 꾀하여 옥저를 복속시키고 요동군과 현도군을 자주 공격하였다. 또 고구려는 요하 지역을 차지하고 있던 공손씨를 축출하고, 중국이 삼국의 대치로 혼란에 빠진 틈을 타 위나라를 공격하는 등 정복 국가로서의 면모를 과시하며 집권 체제를 가다듬었다.\\n이후 고국천왕 대에 이르러 을파소 등의 유능한 대신이 등장하고, 진대법 등을 통해 내정의 안정을 꾀하였지만, 고국천왕 사후에 고발기를 비롯한 고국천왕의 형제들 간에 일어난 싸움으로 혼란이 일어나기도 하였다. 그러나 발기의 난에서 고발기를 진압하고 왕이 된 산상왕에 이어 동천왕이 즉위하면서부터는 다시 대륙과의 관계를 다양하게 전개, 위나라에는 능동적으로 대처하고 신라를 지속적으로 침범하였다.\\n이러한 정복전쟁 결과 고구려는 막대한 토지와 인간을 점유하였고, 왕실을 고정하고 부자상속을 확립하였으며, 또 5부를 개편하는 등 국가체제의 정비를 꾀하여 4세기에는 율령제가 갖추어진 고대 국가로서 발전하였다.\\n\\n\\n==== 신라와 가야 ====\\n지금의 경주를 중심으로 성장한 사로국은 중국의 금속 문화와 접촉할 기회가 적어서 고구려·백제보다 사회 발전이 늦었다. 그러나 점차적으로 동부 해안에서 정착해 온 석씨와 연합하여 연맹체를 이루어 갔다. 그리하여 탈해 이사금 때는 국호를 계림(鷄林)으로 고치고, 6촌을 개편하여 6부의 행정 구역으로 하였다. 이 시대에는 부족장의 칭호도 군장이라는 의미로 해석되는 ‘거서간’에서 무당 또는 제사장을 의미하는 ‘차차웅(次次雄)’으로, 그리고 다시 부족장 권한의 ‘계승자’라는 의미의 ‘이사금(尼師今)’으로 변했다. 그 후 미추왕의 즉위를 기점으로 김알지의 후손 김씨가 왕위를 차지하였다.\\n한편 금속문화의 전파가 늦었던 변한의 여러 부족 국가들도 3세기 이후에는 가야라는 연맹체를 형성하기 시작했다.\\n\\n\\n==== 백제 ====\\n백제의 경우 고구려 계통에서 시작했을 것이라고 추측된다. 고구려에서 도주한 온조 집단이 처음에 정착한 곳은 미추홀과 위례성이었고, 비류가 자살하면서 위례로 합쳐졌다. 고조선 멸망 후부터 파상적으로 피난해 온조왕·초고왕의 재위 기간을 거치는 동안 토착 부족 세력을 결합하면서 점차\\n낙랑·대방의 침략을 받은 한강 유역의 부족 국가들은 이에 대항하기 위하여, 보다 큰 연맹체가 요구되자 백제를 맹주로 공고히 단결함으로써 백제는 부족국가로 성장할 수 있었다.\\n\\n\\n=== 삼국의 발전 ===\\n대륙에서 후한(後漢)이 망하고 위(魏)·촉(蜀)·오(吳)의 세 나라가 각축을 벌이는 가운데, 반도에 대한 영향력이 점차 감소되고 있던 4세기에서 6세기에 이르는 시기에 삼국은 정치적으로 큰 발전을 이룩하였다. 그 중 하나는 고대 국가로의 발돋움을 위한 체제 정비이고, 다른 하나는 정복 국가로의 변모다.\\n한국의 고대 국가 체제 정비는 부족 국가 체제의 약화에서 시작되었다. 원래 부족장의 권한이 강대한 상태에서는 지방 분권적인 사회 조직이 유지될 뿐 강력한 왕권이 존재할 수 없었다. 부족 연맹 사회의 우두머리라 할 부족 연맹장으로서의 왕도 각 부족장의 통치권을 인정한 바탕 위에서 성립된 것이기 때문에 강력한 전제 왕권의 행사가 불가능하였다. 따라서 왕권의 세습이나 왕권의 부자상속 같은 것도 기대할 수 없었고, 다만 선거로써 왕좌(王座)가 변동되었다. 부여에서 가뭄과 장마의 책임을 왕에게 돌려 왕을 폐위하거나 죽인 사례나 고구려의 오부(五部) 사이에서 왕권의 이동이 있었던 사실, 신라의 세 성(박·석·김)이 왕위를 번갈아 이어받았던 것은 이러한 것을 잘 말해준다. \\n그러나 부족 연맹장의 세력은 점차 증대되고 부족장의 권한은 점차 약화되었을 뿐만 아니라, 지방의 부족장을 중앙으로 끌어올려 적당한 지위를 주어 귀족으로 편제시켰다. 신라의 골품제에서 나타난 진골을 비롯한 각 두품이나 17개의 관등, 또 고구려와 백제에서의 관등의 성립 등은 이러한 것을 잘 말해주고 있다. 이를 통해 단순한 부족 연맹의 군장이었던 왕은 종래의 부족장이 선출하던 연약한 왕권의 소유자에서 부자 상속이 가능한 절대적인 군주로 군림할 수 있었다.\\n또 하나, 고대 왕권의 구축과 고대 국가 체제의 정비에는 제도적인 면에 앞서서 사상 통일이 요청되었다. 과거의 지방 분권적이고 부족적인 사상 체계를 고대 국가적인 사상 체계로 승화시키는 데에는 보다 포괄적이고 고차원적인 이념과 윤리 강령이 필요하였다. 한국의 고대에서 고구려 (372년), 백제 (384년), 신라 (527년)가 각각 불교를 수입, 혹은 공인하는 것이 바로 이 시기였다는 것은 불교가 고대 국가 체제의 정비에서 관념 체계적인 역할을 감당했다는 것을 의미한다.\\n고구려에서 고대 국가 체제를 정비한 소수림왕과 고국양왕의 뒤를 이어 즉위한 광개토왕과 장수왕이 요동',\n",
       "   'url': 'https://ko.wikipedia.org/wiki/%EC%82%BC%EA%B5%AD_%EC%8B%9C%EB%8C%80',\n",
       "   'title': '삼국 시대'},\n",
       "  {'content': '삼국 시대(三國時代)는 후한이 멸망한 3세기 초부터 서로 다투던 위, 촉, 오를 서진이 통일한 3세기 후반까지를 가리키는 말이다. 따라서 사전적인 의미로는 위가 세워진 220년부터 오가 서진에게 멸망한 280년까지를 삼국시대로 본다. 하지만 후한의 통치력은 이미 훨씬 전 황건의 난을 계기로 이미 무너진 상태였기 때문에 황건의 난과 그 이후 펼쳐진 군웅할거의 시대 역시 삼국지대의 전초전으로 보는 것이 일반적이며 대중들에게도 오히려 삼국 정립 이후보다 후한 말의 군웅할거 시대가 훨씬 더 잘 알려져 있다. 중국의 다른 국가들과 이름을 구별하기 위해 역사가들은 이 시대의 삼국들을 각각 위는 조위, 촉은 촉한, 오는 동오 또는 손오라고 부르곤 한다.\\n다만 동탁이 사망한 직후에는 후한이 재건할 수 있는 마지막 기회가 잠깐 찾아왔었다. 하지만 탐욕에 절어있고 악에 받쳐있는 가후가 야반도주 하려던 이각과 곽사를 꼬드겨 후한 헌제의 군대와 맞서 싸우게 하였으며 이 전투에서 이각과 곽사군이 승리함으로서 후한은 완벽한 재기불능 상태로 전락했고 결국 이게 원인이 되어 멸망했다.\\n비록 상대적으로 짧은 기간이었지만 동아시아 문화에 큰 영향력을 끼친 시대다. 삼국 시대는 후대 많은 사람들에게 구전되었고, 오늘날까지도 TV, 영화, 비디오 게임 등 다양한 2차 창작물로 끝임없이 재생산되고 있다. 하지만 역시나 가장 잘 알려진 것은 명나라의 나관중이 쓴 삼국시대에 기반을 둔 역사 소설 삼국지연의다. 삼국지 연의의 인기는 그야말로 엄청나서 오늘날까지도 한자 문명권에서는 거의 모르는 사람이 없을 정도로 널리 읽혀지고 있다.\\n창작물이 아닌 권위있는 정통 역사 기록으로는 진수가 쓰고 배송지가 주석을 단 삼국지가 있다. 이 밖에도 후한서, 산양공일기, 영웅기 및 조만전 등이 당대의 시대상을 해석할 수 있게 도와주는 다양한 관점의 당대 기록들이 오늘날까지도 남아있다. 아무래도 하나의 강력한 단일정부가 중국을 통치했던 시대가 아니었던 만큼 기록 측면에서는 각각 다양한 관점의 다채로운 해석들이 풍부하게 남은 시대였다.\\n삼국 시대는 중국 역사 상 가장 폭력적이고 혼란스러운 시기 중 하나였다. 후한 말 인구조사에 집계된 중국의 전체 인구는 약 5,000만명 정도였으나 중국을 재통일한 서진이 전국 규모로 다시 실시한 인구조사로 파악된 인구는 약 1,600만명 정도에 불과하였다. 단 이것은 100년이란 짧은 기간 동안에 3,000만명이 넘는 인구가 증발했다는 것은 아니었다. 워낙 정국이 혼란스럽다 보니 많은 인구가 재산을 버리고 도적이나 유랑민이 되었고 혹은 지방 유지들에게 신변을 바치고 농노가 되었기 때문에 인구의 상당 부분이 중앙정부의 행정력을 벗어났던 것이다. 물론 백만이 넘는 사상자를 야기한 이각 곽사의 난처럼 조직적인 대학살도 빈번하게 벌어졌으며 전국 각지에서 전쟁이 끊이지 않은 만큼 많은 사상자가 발생한 것은 사실이다. 또한 중국 전역이 전쟁터로 전락하면서 생산력이 급감하고 행정력 역시 마비되었기 때문에 굶주림이나 전염병으로 죽은 사람도 많았다. 오늘날 학계에서는 삼국정립의 시점을 기준으로 당대 중국의 인구는 약 3,000만명 정도였을 것으로 보고 있다.\\n\\n\\n== 역사 ==\\n\\n\\n=== 황건적의 난 ===\\n\\n후한은 화제의 재위기 이후부터 눈에 띄게 쇠퇴하기 시작했으며 내.외부적으로 수많은 해결하기 어려운 문제들에 부딪치게 되었다. 많은 황제들이 최소한의 판단력도 갖추지 못한 어린 나이에 재위에 올랐으며 황제권은 외척의 전유물이 되었다. 황제들이 성년에 이르러도 외척들은 권력을 내주길 꺼려했기 때문에, 황제는 권력을 찾기 위해 환관들에게 의지할 수 밖에 없었다. 결국 한나라 최후의 100년은 환관과 외척 간의 궁중 정쟁이 잠시도 쉬지 않고 이어진 시대였으며 이 100년 간 후한 정부는 사태를 개선하기 위한 어떤 노력도 보여주지 못하였다.\\n반면 지방에서는 관료직을 독점하고 무너진 중농층들을 농노로 거둬들이며 대지주가 된 호족세력들이 실력자로 등장한지 오래였다. 이들은 각자 긴밀한 학연, 지연, 혈연으로 서로 묶여 있었으며 이들의 협조없이 지방을 통치하는 것은 사실상 불가능하였으며 모든 관직들을 이들 호족들이 독점했던 만큼 정부 관료의 수준은 갈수록 저하되었고 유능하지만 명문가 출신이 아니라 출세의 길이 막혀 버린 야심가들은 정부에 대한 불만 세력으로 변해갔다.\\n대외 요건도 좋지 않았는데 이 시기 즈음부터 시작된 소빙하기 현상으로 점차 농업 생산력이 감소하였으며 악화되는 기후를 피해 중국으로 이주하려는 이민족들이 빈번한 침입으로 안보 위협도 계속 높아지는 추세였다. 후한이 아직 건재할 때에도 이미 흉노족이 중원의 중앙인 황거강까지 습격해 들어오는 일이 빈번했으며 서쪽의 강족. 저족은 이미 반 독립세력을 갖추어 중앙정부의 통제를 벗어난지 오래였다. 이들을 통제하기 위해선 더 많은 군대를 변방에 배치해야 했지만 이미 자영농이 몰락해 버린 후한은 그럴 돈도 인력도 부족했고 결국은 가난한 빈농 혹은 변방의 반 이민족들을 용병으로 사용하는 가장 쉬운 길은 택했다. 비슷한 실수를 저지른 로마제국과 마찬가지로 결국 후한 역시 결국은 사병으로 전락한 이들 용병들로 인해 엄청난 재앙을 겪게 된다.\\n이러한 후한의 침체기는 환제와 영제의 대에 이르자 극에 달했다. 황제를 좌지우지 하는 환관들과 관료조직을 장악하고 있던 호족 지식계급 간의 갈등은 극에 달했는데, 환관들은 대표적인 명문 호족들을 관직에서 추방하는 일명 당고의 금으로 맞섰다. 단 이런 억압적인 대책은 일시적인 것일 뿐이었는데 아무리 환관들이 중앙정부를 장악하고 있다고 해봤자 이미 지방권력과 지식 패러다임을 장악하고 있는 호족들 없이 국가를 운영하는 것은 불가능했기 때문이다. 당고의 금은 당장은 환관의 승리로 보였지만 실제로는 이 시대의 대표 기득권이 정권을 본격적으로 불신임하는 신호탄이었던 것이다.\\n이런 흉흉한 분위기 속에서 184년 2월, 도교적 교단 태평도의 지배자였던 장각이 형제였던 장보와 장량과 함께 정부를 상대로 황건적의 난을 일으켰다. 장각은 뛰어난 조직력과 상상력의 갖춘 인물이었으며 의지할 곳이 없었던 빈농들을 도교 사상을 종교적으로 덧칠하고 민간 공동체를 제공하는 방법으로 사로잡았다. 이는 중국 역사 상 최초의 종교 반란이기도 하였다.\\n난은 급속도로 퍼져 수십만에 이르렀고, 중국 곳곳에서 많은 지지를 받았다. 그들은 36개의 요새를 가지고 있었고, 큰 요새는 만명 이상, 작은 요새는 6~7천명 정도의 군사를 가져 규모만 놓고 보면 한나라 공식 군대보다도 더 규모가 컸다. 그들은 \"창천이사 황천당립 세재갑자 천하대길(蒼天已死 黃天當立 歲在甲子 天下大吉: 푸른 하늘이 죽고 노란 하늘이 일어나니, 갑자년에 천하가 크게 길해지리라)\"라는 구호를 내세웠다. 당황한 한나라는 당고의 금을 해제하고 지방의 호족들에게 무장을 하고 황건적에게 대응해 줄 것을 요청하였다. 또한 각지의 실력과 야망은 있으나 신분이 미천해 빛을 발하지 못하고 있던 숨은 잠룡들도 바로 이 때를 계기로 처음으로 역사의 무대에 등장하게 된다. 삼국지연의는 바로 이 시점부터 시작된다. 황건적은 결국 패배하고 중국 각지로 흩어졌지만, 제국의 혼란스러운 상황때문에 살아남아 각지에서 도적으로 살아갔고, 이로 인해 시대의 혼란은 더욱 커졌다.\\n중국 곳곳으로 퍼진 도적떼들을 다 처리할 능력이 한나라 군대에는 없었다. 188년, 유언은 지방관들이 직접 그 지방을 통치할 수 있게 해달라 영제에게 건의했고, 영제는 이를 받아들였다. 이로써 기존에는 제한된 행정권만을 가지고 있었던 지방관들이 사실상 자기 관할지역의 전권을 차지하게 되었으며 이는 도적에 대한 대응에 있어서는 효율적이었으나 야심을 품은 지방관들이 결국엔 군벌화 하면서 중국의 혼란은 더욱 가속되었다.\\n\\n\\n=== 권력을 잡은 동탁 ===\\n이듬해에 영제가 죽자 한나라의 조정은 황제가 교체될 때마다 언제나 그랬듯이 외척과 환관 간의 싸움터가 되었다. 환관 건석은 외척이었던 대장군 하진을 죽이고 왕세자자리에 올라있던 유변을 대신해 유협을 왕세자로 바꿀 계획을 세웠으나 실패로 돌아갔다. 유변은 황제가 되어 소제가 되었고, 하진은 당시 대표적인 명문집안이었던 원씨 일가의 젊은 동량이었던 원소와 함께 그 당시 정권을 잡고 있던',\n",
       "   'url': 'https://ko.wikipedia.org/wiki/%EC%82%BC%EA%B5%AD_%EC%8B%9C%EB%8C%80_(%EC%A4%91%EA%B5%AD)',\n",
       "   'title': '삼국 시대 (중국)'}]}"
      ]
     },
     "execution_count": 1,
     "metadata": {},
     "output_type": "execute_result"
    }
   ],
   "source": [
    "from tools import search_wiki as sw\n",
    "sw.invoke({\"query\":\"삼국시대\"})"
   ]
  },
  {
   "cell_type": "code",
   "execution_count": null,
   "metadata": {},
   "outputs": [],
   "source": []
  },
  {
   "cell_type": "markdown",
   "metadata": {},
   "source": [
    "## Vector Store(Vector 저장소) tool\n",
    "\n",
    "### text loading -> Document 생성\n",
    "- 레스토랑 메뉴를 vector store에 저장한다.\n",
    "1. 메뉴 text 를 로딩한다.\n",
    "2. 각 메뉴의 내용(음식이름, 메뉴설명, 파일명)을 넣어 Document를 생성한다."
   ]
  },
  {
   "cell_type": "code",
   "execution_count": 2,
   "metadata": {},
   "outputs": [],
   "source": [
    "menu_path = \"data/restaurant_menu.txt\"\n",
    "with open(menu_path, \"rt\", encoding=\"utf-8\") as fr:\n",
    "    menu = fr.read()\n",
    "# print(menu)"
   ]
  },
  {
   "cell_type": "code",
   "execution_count": 11,
   "metadata": {},
   "outputs": [
    {
     "name": "stdout",
     "output_type": "stream",
     "text": [
      "1. 라따뚜이\n",
      "   - 가격: 17,000원\n",
      "   - 주요 재료: 가지, 호박, 파프리카, 토마토 소스, 올리브 오일\n",
      "   - 메뉴 설명: 프랑스 남부를 대표하는 전통 요리로, 신선한 채소를 얇게 썰어 층층이 쌓아 올리고 허브와 토마토 소스를 더해 구워냅니다. 채소 본연의 단맛과 상큼한 소스가 조화를 이룹니다. 비건 고객도 즐길 수 있는 건강한 메뉴입니다. 따뜻한 바게트와 함께 제공됩니다.\n",
      "1 라따뚜이\n"
     ]
    }
   ],
   "source": [
    "menu1 = menu.split(\"\\n\\n\")[0]\n",
    "print(menu1)                        # 번호 / 메뉴이름 추출\n",
    "import re\n",
    "p = r\"(^\\d+)\\. ([가-힣a-zA-Z0-9 ]+)\"\n",
    "result = re.match(p,menu1)\n",
    "print(result.group(1), result.group(2))"
   ]
  },
  {
   "cell_type": "code",
   "execution_count": 12,
   "metadata": {},
   "outputs": [],
   "source": [
    "# Document - 개별 메뉴. page_content : 메뉴정보, metadata : 메뉴번호, 메뉴이름, 파일경로\n",
    "import re\n",
    "from langchain_core.documents import Document\n",
    "def menu_splitter(menu_txt:str, file_name:str)->list[Document]:\n",
    "    \"\"\"\n",
    "    전체 메뉴 text를 받아서 각 메뉴별로 Document객체에 담아 반환\n",
    "    page_content : 메뉴정보, metadata : 메뉴번호, 메뉴이름, 파일경로\n",
    "    Args:\n",
    "        menu_txt(str): 전체 메뉴 string\n",
    "        file_name(str): 메뉴파일의 경로\n",
    "    Returns:\n",
    "        list[Document]\n",
    "    \"\"\"\n",
    "    # 메뉴별로 분리\n",
    "    menu_list = menu_txt.split(\"\\n\\n\")\n",
    "    menu_document_list = []\n",
    "    for menu_item in menu_list:\n",
    "        pattern = r\"(^\\d+)\\. ([가-힣a-zA-Z0-9 ]+)\"\n",
    "        re_result = re.match(pattern, menu_item)\n",
    "        if re_result is None:       continue\n",
    "        menu_num = re_result.group(1)\n",
    "        menu_name = re_result.group(2)\n",
    "        doc = Document(page_content=menu_item, metadata={\"menu_num\":menu_num, \"menu_name\":menu_name, \"source\":file_name})\n",
    "        menu_document_list.append(doc)\n",
    "    \n",
    "    return menu_document_list"
   ]
  },
  {
   "cell_type": "code",
   "execution_count": 13,
   "metadata": {},
   "outputs": [
    {
     "data": {
      "text/plain": [
       "15"
      ]
     },
     "execution_count": 13,
     "metadata": {},
     "output_type": "execute_result"
    }
   ],
   "source": [
    "menu_document_list = menu_splitter(menu, menu_path)\n",
    "len(menu_document_list)"
   ]
  },
  {
   "cell_type": "code",
   "execution_count": null,
   "metadata": {},
   "outputs": [],
   "source": [
    "# vector store에 저장\n",
    "from langchain_chroma import Chroma\n",
    "from langchain_openai import OpenAIEmbeddings\n",
    "\n",
    "COLLECTION = \"restaurant_menu\"\n",
    "PERSIST_DIRECTORY = \"vector_store/chroma/restaurant_menu_db\"\n",
    "\n",
    "embedding_model = OpenAIEmbeddings(model=\"text-embedding-3-large\")\n",
    "vector_store = Chroma(\n",
    "    embedding_function=embedding_model,\n",
    "    collection_name=COLLECTION,\n",
    "    persist_directory=PERSIST_DIRECTORY\n",
    ")\n",
    "\n",
    "# 저장(upsert)\n",
    "# add_ids = vector_store.add_documents(menu_document_list)\n",
    "\n",
    "# Retriever 생성\n",
    "menu_retriever = vector_store.as_retriever(search_kwargs={\"k\":3})"
   ]
  },
  {
   "cell_type": "code",
   "execution_count": 20,
   "metadata": {},
   "outputs": [
    {
     "data": {
      "text/plain": [
       "[Document(id='e8289da7-33bd-4264-b087-33abcdc252cd', metadata={'source': 'data/restaurant_menu.txt', 'menu_name': '니스 샐러드', 'menu_num': '4'}, page_content='4. 니스 샐러드\\n   - 가격: 18,000원\\n   - 주요 재료: 참치, 방울토마토, 올리브, 삶은 달걀, 그린빈\\n   - 메뉴 설명: 프랑스 니스 지방의 상큼한 샐러드로, 다양한 채소와 참치를 사용해 풍성한 맛과 식감을 제공합니다. 발사믹 비네거 드레싱이 가미되어 가볍게 즐기기 좋은 요리입니다. 신선함과 영양을 동시에 잡은 메뉴입니다.'),\n",
       " Document(id='9b847f60-94d9-4dc8-acfc-c87067a3978e', metadata={'menu_name': '크림 스피나치 라자냐', 'source': 'data/restaurant_menu.txt', 'menu_num': '11'}, page_content='11. 크림 스피나치 라자냐\\n    - 가격: 23,000원\\n    - 주요 재료: 라자냐 면, 크림 소스, 시금치, 리코타 치즈\\n    - 메뉴 설명: 부드럽고 크리미한 소스와 신선한 시금치가 조화를 이루는 라자냐입니다. 리코타 치즈를 풍부하게 사용해 깊은 맛을 더했습니다. 따뜻하고 풍성한 한 끼로 제격입니다.'),\n",
       " Document(id='0df49f69-113a-45f3-9427-d181b67ac2c1', metadata={'menu_name': '토마토 브루스케타', 'menu_num': '10', 'source': 'data/restaurant_menu.txt'}, page_content='10. 토마토 브루스케타\\n    - 가격: 12,000원\\n    - 주요 재료: 토마토, 바질, 올리브 오일, 바게트\\n    - 메뉴 설명: 바삭하게 구운 바게트 위에 신선한 토마토와 바질을 얹고 올리브 오일로 마무리한 간단한 요리입니다. 입맛을 돋우는 상큼한 맛이 특징입니다. 가벼운 전채로 적합합니다.')]"
      ]
     },
     "execution_count": 20,
     "metadata": {},
     "output_type": "execute_result"
    }
   ],
   "source": [
    "menu_retriever.invoke(\"단백질 쉐이크와 어울리는 메뉴를 추천해주세요.\")"
   ]
  },
  {
   "cell_type": "code",
   "execution_count": 22,
   "metadata": {},
   "outputs": [],
   "source": [
    "# vector_store를 tool로 정의 -> @tool 사용\n",
    "from langchain_core.tools import tool\n",
    "\n",
    "@tool\n",
    "def search_menu(query:str)->dict:\n",
    "    \"\"\"\n",
    "    vector store에 저장된 레스토랑의 메뉴를 검색하는 tool\n",
    "    이 tool은 query와 가장 연관된 메뉴를 vector DB에서 검색해 반환함\n",
    "    레스토랑 메뉴와 관련된 검색은 이 tool을 사용함\n",
    "    \"\"\"\n",
    "    menu_result_list = menu_retriever.invoke(query)\n",
    "    result_list = []\n",
    "    for menu_doc in menu_result_list:\n",
    "        result_list.append({\"content\":menu_doc.page_content, \"title\":menu_doc.metadata[\"menu_name\"], \"url\":menu_doc.metadata[\"source\"]})\n",
    "    \n",
    "    if not result_list:    result_list = \"검색된 정보가 없습니다.\"\n",
    "\n",
    "    return {\"result\":result_list}"
   ]
  },
  {
   "cell_type": "code",
   "execution_count": 24,
   "metadata": {},
   "outputs": [
    {
     "data": {
      "text/plain": [
       "{'result': [{'content': '13. 티라미수\\n    - 가격: 10,000원\\n    - 주요 재료: 마스카르포네 치즈, 에스프레소, 코코아 파우더, 사보이아르디\\n    - 메뉴 설명: 이탈리아를 대표하는 디저트로, 부드러운 마스카르포네 치즈 크림과 촉촉한 에스프레소 시트가 어우러집니다. 코코아 파우더가 위에 뿌려져 달콤쌉쌀한 맛이 특징입니다. 커피와 함께 즐기기에 완벽한 디저트입니다.',\n",
       "   'title': '티라미수',\n",
       "   'url': 'data/restaurant_menu.txt'},\n",
       "  {'content': '14. 크렘 브륄레\\n    - 가격: 11,000원\\n    - 주요 재료: 크림, 설탕, 바닐라 빈, 달걀 노른자\\n    - 메뉴 설명: 부드러운 크림 베이스 위에 바삭한 캐러멜 층이 올라간 프랑스 디저트입니다. 숟가락으로 캐러멜을 부수며 즐기는 식감이 매력적입니다. 부드럽고 달콤한 맛이 입안을 가득 채웁니다.',\n",
       "   'title': '크렘 브륄레',\n",
       "   'url': 'data/restaurant_menu.txt'},\n",
       "  {'content': '2. 카르보나라\\n   - 가격: 20,000원\\n   - 주요 재료: 스파게티 면, 판체타, 달걀 노른자, 파르미지아노 치즈\\n   - 메뉴 설명: 이탈리아 전통 방식으로 만든 크리미한 파스타입니다. 판체타의 풍미와 달걀 노른자가 어우러져 고소하고 깊은 맛을 자랑합니다. 신선한 파르미지아노 치즈가 풍미를 더하며, 후추를 뿌려 맛을 완성합니다.',\n",
       "   'title': '카르보나라',\n",
       "   'url': 'data/restaurant_menu.txt'}]}"
      ]
     },
     "execution_count": 24,
     "metadata": {},
     "output_type": "execute_result"
    }
   ],
   "source": [
    "search_menu(\"카페라떼로 배채우는 사람이 맛있게 먹을 수 있는 음식 알려줘.\")"
   ]
  },
  {
   "cell_type": "code",
   "execution_count": 7,
   "metadata": {},
   "outputs": [
    {
     "data": {
      "text/plain": [
       "True"
      ]
     },
     "execution_count": 7,
     "metadata": {},
     "output_type": "execute_result"
    }
   ],
   "source": [
    "################################################################################################\n",
    "# search_web, search_wiki, search_menu 툴을 사용하는 메뉴/음식 추천 정보제공 agent\n",
    "################################################################################################\n",
    "\n",
    "from langchain_openai import ChatOpenAI\n",
    "from langchain.prompts import ChatPromptTemplate, MessagesPlaceholder\n",
    "from tools import search_web, search_wikipedia, search_menu\n",
    "from dotenv import load_dotenv\n",
    "load_dotenv()"
   ]
  },
  {
   "cell_type": "code",
   "execution_count": null,
   "metadata": {},
   "outputs": [],
   "source": [
    "from textwrap import dedent\n",
    "from langchain_core.runnables import chain\n",
    "\n",
    "model = ChatOpenAI(model=\"gpt-4.1\")\n",
    "tool_model = model.bind_tools(tools=[search_web, search_wikipedia, search_menu])\n",
    "agent_prompt = ChatPromptTemplate.from_messages(\n",
    "    [\n",
    "        (\"system\", dedent(\"\"\"\n",
    "            당신은 레스토랑 메뉴 정보와 일반적인 음식 관련 지식을 제공하는 AI 어시스턴트입니다. \n",
    "            주요 목표는 사용자의 요청에 대한 정확한 정보를 제공하고 메뉴를 추천하는 것입니다.\n",
    "                          \n",
    "            주요 지침들(guidelines):\n",
    "                레스토랑의 메뉴관련 정보를 확인하려면 search_menu 도구를 사용하십시오. 이 도구는 레스토랑의 메뉴들의 가격, 음식의 특징들에 대한 정보를 제공합니다.\n",
    "                일반적인 음식 정보, 그 음식의 유래, 문화적 배경에 대한 정보는 search_wiki 도구를 사용하십시오. 이 도구는 wikipedia 에서 정보를 검색해서 제공합니다.\n",
    "                추가적인 웹 검색이 필요하거나 최신 정보를 얻고 싶을 때는 search_web 도구를 사용하십시오. 이 도구는 인터넷 검색을 통해 정보를 검색해서 제공합니다.\n",
    "                검색 결과를 기반으로 명확하고 간결한 답변을 제공하십시오.\n",
    "                요청 받은 질문이 모호하거나 필요한 정보가 부족한 경우 정중하게 설명을 요청하세요.\n",
    "                메뉴 정보를 제공할 때는 가격, 주재료, 특징 순으로 설명하세요.\n",
    "                메뉴를 추천 할 때는 간단하게 추천 이유를 설명해주세요.\n",
    "                최종 응답은 챗봇과 같은 대화형 스타일을 유지하세요. 친근하고 매력적이며 자연스럽게 소통하되 전문성을 보이는 어조를 유지하세요.\n",
    "\n",
    "            각 도구의 목적과 기능을 정확하게 이해하고 각 적절한 상황에서 사용하세요.\n",
    "            각 도구들을 결합해서 사용자의 요청에 정확한 대답을 하세요.\n",
    "            항상 가장 최신의 정확한 정보를 제공하기 위해 노력하세요.\n",
    "            \"\"\")),\n",
    "        # MessagesPlaceholder(variable_name=\"chat_history\", optional=True),  # 메모리 기능 사용시.\n",
    "        (\"human\", \"{query}\"),\n",
    "        MessagesPlaceholder(variable_name=\"agent_scratchpad\", optional=True) # AIMessage(tool calling정보, ToolMessage)\n",
    "    ]\n",
    ")\n",
    "\n",
    "model_chain = agent_prompt | tool_model\n",
    "\n",
    "@chain\n",
    "def agent_chain(query:str):\n",
    "    ai_message = model_chain.invoke({\"query\":query})\n",
    "    if ai_message.tool_calls:                                                # 도구 호출을 하도록 응답\n",
    "        # tool 이름에 맞춰 Tool 호출\n",
    "        tool_message_list = []\n",
    "        for tool_call in ai_message.tool_calls:\n",
    "            tool_name = tool_call[\"name\"]\n",
    "            # if tool_name == \"search_web\":\n",
    "            #     tool_message = search_web.invoke(tool_call)\n",
    "            # elif tool_name == \"search_wikipedia\":\n",
    "            #     tool_message = search_wikipedia.invoke(tool_call)\n",
    "            # elif tool_name == \"search_menu\":\n",
    "            #     tool_message = search_menu.invoke(tool_call)\n",
    "            # else:\n",
    "            #     raise Exception(\"Tool_name: {tool_name}\\n 등록되지 않은 tool이름 입니다.\")\n",
    "\n",
    "            tool_message = globals()[tool_name].invoke(tool_call)\n",
    "            tool_message_list.append(tool_message)\n",
    "            \n",
    "        input_data = {\"query\":query, \"agent_scratchpad\":[ai_message, *tool_message_list]}\n",
    "        result = model_chain.invoke(input_data)\n",
    "        return result\n",
    "    # else:                                                                    # LLM 최종 답변 응답\n",
    "    return ai_message"
   ]
  },
  {
   "cell_type": "code",
   "execution_count": 26,
   "metadata": {},
   "outputs": [],
   "source": [
    "query = \"파스타 요리를 추천해줘. 파스타는 어떤 음식인지 설명해줘. 오늘 날씨 알려줘\"\n",
    "# query = \"안녕하세요\"\n",
    "response = agent_chain.invoke(query)"
   ]
  },
  {
   "cell_type": "code",
   "execution_count": 27,
   "metadata": {},
   "outputs": [
    {
     "name": "stdout",
     "output_type": "stream",
     "text": [
      "파스타는 이탈리아의 대표적인 요리로, 밀가루 반죽을 다양한 형태의 면으로 만들어 끓이거나 삶아 먹는 음식입니다. 흔히 토마토소스, 크림소스, 오일 등 다양한 재료와 어우러져 독특한 맛을 냅니다. 그 유래는 고대 그리스·로마 시대까지 거슬러 올라가며, 오늘날에는 전 세계적으로 사랑받고 있어요.\n",
      "\n",
      "추천하고 싶은 파스타 요리는 아래와 같습니다:\n",
      "\n",
      "1. 카르보나라 - 20,000원\n",
      "   - 주재료: 스파게티 면, 판체타(이탈리아식 베이컨), 달걀 노른자, 파르미지아노 치즈\n",
      "   - 특징: 이탈리아 전통 방식의 크리미한 파스타로, 짭조름하면서도 고소한 맛이 일품입니다.\n",
      "\n",
      "2. 바질 페스토 뇨끼 - 19,000원\n",
      "   - 주재료: 감자 뇨끼, 바질 페스토, 파르미지아노 치즈\n",
      "   - 특징: 부드러운 감자 뇨끼와 향긋한 바질 소스가 어우러져 신선하고 가벼운 식사로 좋아요.\n",
      "\n",
      "3. 부르기뇽 스튜 - 28,000원\n",
      "   - 주재료: 쇠고기, 적포도주, 양파, 당근, 베이컨\n",
      "   - 특징: 프랑스 지방에서 유래한 파스타로, 풍부한 소스와 신선한 허브가 조화를 이루는 깊은 맛입니다.\n",
      "\n",
      "오늘의 날씨는 지역에 따라 다르니, 아래 링크에서 확인하실 수 있습니다:\n",
      "- 오늘 날씨 확인하기: [The Weather Channel—오늘의 날씨](https://weather.com/ko-KR/weather/today/l/Los+Angeles+CA+United+States?canonicalCityId=84c64154109916077c8d3c2352410aaae5f6eeff682000e3a7470e38976128c2)\n",
      "\n",
      "파스타 요리 추천이 필요하시거나 날씨 확인에 추가적인 정보가 필요하시면 언제든 말씀해 주세요!\n"
     ]
    }
   ],
   "source": [
    "print(response.content)"
   ]
  },
  {
   "cell_type": "code",
   "execution_count": 22,
   "metadata": {},
   "outputs": [],
   "source": [
    "def test1():\n",
    "    pass"
   ]
  },
  {
   "cell_type": "code",
   "execution_count": 23,
   "metadata": {},
   "outputs": [],
   "source": [
    "v = globals()           # 전역 번수들을 dict반환\n",
    "# locals() : 지역 변수들을 dict반환\n",
    "# vars(객체) - 객체의 attribute들을 dict반환"
   ]
  },
  {
   "cell_type": "code",
   "execution_count": 24,
   "metadata": {},
   "outputs": [],
   "source": [
    "func_name = \"test1\"\n",
    "v[func_name]()"
   ]
  },
  {
   "cell_type": "code",
   "execution_count": null,
   "metadata": {},
   "outputs": [],
   "source": []
  },
  {
   "cell_type": "markdown",
   "metadata": {},
   "source": [
    "# Agent 구현\n",
    "\n",
    "- `create_tool_calling_agent()` 를 이용해 Agent 생성\n",
    "    - 파라미터\n",
    "        - llm: 에이전트로 사용할 LLM.\n",
    "        - tools: 에이전트가 접근할 수 있는 도구들의 목록.\n",
    "        - prompt_template: 에이전트의 동작을 안내하는 프롬프트 템플릿.\n",
    "            - 이름이 `agent_scratchpad` 인 MessagesPlaceholder 추가\n",
    "                - Agent 가 tool을 호출해서 받은 정보를 prompt에 추가하는 placeholder.\n",
    "- AgentExecutor를 이용해 Agent 실행\n",
    "    - Agent의 동작을 관리하는 클래스.\n",
    "    - AgentExecutor는 사용자 요청을 처리할 때 까지 적절한 tool들을 호출하고 최종 결과를 생성해 반환하는 작업을 처리한다.\n",
    "    - 파라미터\n",
    "        - agent: 실행할 Agent.\n",
    "        - tools: Agent가 사용할 tool들 목록."
   ]
  },
  {
   "cell_type": "code",
   "execution_count": 2,
   "metadata": {},
   "outputs": [],
   "source": [
    "from textwrap import dedent\n",
    "from langchain_core.runnables import chain\n",
    "################################################################################################\n",
    "# search_web, search_wiki, search_menu 툴을 사용하는 메뉴/음식 추천 정보제공 agent\n",
    "################################################################################################\n",
    "\n",
    "from langchain_openai import ChatOpenAI\n",
    "from langchain.prompts import ChatPromptTemplate, MessagesPlaceholder\n",
    "from tools import search_web, search_wikipedia, search_menu\n",
    "from dotenv import load_dotenv\n",
    "load_dotenv()\n",
    "\n",
    "\n",
    "model = ChatOpenAI(model=\"gpt-4.1\")\n",
    "agent_prompt = ChatPromptTemplate.from_messages(\n",
    "    [\n",
    "        (\"system\", dedent(\"\"\"\n",
    "            당신은 레스토랑 메뉴 정보와 일반적인 음식 관련 지식을 제공하는 AI 어시스턴트입니다. \n",
    "            주요 목표는 사용자의 요청에 대한 정확한 정보를 제공하고 메뉴를 추천하는 것입니다.\n",
    "                          \n",
    "            주요 지침들(guidelines):\n",
    "                레스토랑의 메뉴관련 정보를 확인하려면 search_menu 도구를 사용하십시오. 이 도구는 레스토랑의 메뉴들의 가격, 음식의 특징들에 대한 정보를 제공합니다.\n",
    "                일반적인 음식 정보, 그 음식의 유래, 문화적 배경에 대한 정보는 search_wiki 도구를 사용하십시오. 이 도구는 wikipedia 에서 정보를 검색해서 제공합니다.\n",
    "                추가적인 웹 검색이 필요하거나 최신 정보를 얻고 싶을 때는 search_web 도구를 사용하십시오. 이 도구는 인터넷 검색을 통해 정보를 검색해서 제공합니다.\n",
    "                검색 결과를 기반으로 명확하고 간결한 답변을 제공하십시오.\n",
    "                요청 받은 질문이 모호하거나 필요한 정보가 부족한 경우 정중하게 설명을 요청하세요.\n",
    "                메뉴 정보를 제공할 때는 가격, 주재료, 특징 순으로 설명하세요.\n",
    "                메뉴를 추천 할 때는 간단하게 추천 이유를 설명해주세요.\n",
    "                최종 응답은 챗봇과 같은 대화형 스타일을 유지하세요. 친근하고 매력적이며 자연스럽게 소통하되 전문성을 보이는 어조를 유지하세요.\n",
    "\n",
    "            각 도구의 목적과 기능을 정확하게 이해하고 각 적절한 상황에서 사용하세요.\n",
    "            각 도구들을 결합해서 사용자의 요청에 정확한 대답을 하세요.\n",
    "            항상 가장 최신의 정확한 정보를 제공하기 위해 노력하세요.\n",
    "            \"\"\")),\n",
    "        # MessagesPlaceholder(variable_name=\"chat_history\", optional=True),  # 메모리 기능 사용시.\n",
    "        (\"human\", \"{query}\"),\n",
    "        MessagesPlaceholder(variable_name=\"agent_scratchpad\", optional=True) # AIMessage(tool calling정보, ToolMessage)\n",
    "    ]\n",
    ")"
   ]
  },
  {
   "cell_type": "code",
   "execution_count": 3,
   "metadata": {},
   "outputs": [],
   "source": [
    "# Agent 생성\n",
    "from langchain.agents import create_tool_calling_agent, AgentExecutor\n",
    "# create_tool_calling_agent : Agent 체인 구성\n",
    "# AgentExecutor : Agent 체인 실행\n",
    "\n",
    "tools = [search_web, search_wikipedia, search_menu]\n",
    "agent = create_tool_calling_agent(\n",
    "    llm=model,\n",
    "    tools=tools,\n",
    "    prompt=agent_prompt\n",
    ")\n",
    "agent_executor = AgentExecutor(\n",
    "    agent=agent,                                        # tool_model chain\n",
    "    tools=tools                                         # 호출할 tools\n",
    ")"
   ]
  },
  {
   "cell_type": "code",
   "execution_count": 4,
   "metadata": {},
   "outputs": [],
   "source": [
    "response = agent_executor.invoke({\"query\":\"오늘 점심 추천해줘. 그 요리에 대한 설명도 부탁할게.\"})"
   ]
  },
  {
   "cell_type": "code",
   "execution_count": 5,
   "metadata": {},
   "outputs": [
    {
     "data": {
      "text/plain": [
       "{'query': '오늘 점심 추천해줘. 그 요리에 대한 설명도 부탁할게.',\n",
       " 'output': '오늘 점심으로 두 가지를 추천드릴게요!\\n\\n1. 부르기뇽 스튜 (28,000원)\\n- 쇠고기, 적포도주, 양파, 당근, 베이컨이 들어간 프랑스 부르고뉴 지방의 전통 스튜입니다. 고기를 적포도주와 오랜 시간 푹 끓여 부드럽고 진한 풍미가 특징이에요. 신선한 허브와 채소가 풍미를 더해주며, 바게트와 함께 먹으면 정말 잘 어울립니다.\\n\\n2. 라따뚜이 (17,000원)\\n- 가지, 호박, 파프리카, 토마토 소스 등 다양한 채소를 사용한 프랑스 남부의 건강한 요리입니다. 얇게 썬 채소를 층층이 쌓아 올려 오븐에 구워낸 메뉴로, 비건도 즐길 수 있고 채소 본연의 맛을 잘 느낄 수 있어요. 따뜻한 바게트와 같이 제공되어 더욱 든든하게 드실 수 있습니다.\\n\\n부드러운 고기 요리를 원하면 부르기뇽 스튜, 가볍고 건강하게 즐기고 싶다면 라따뚜이를 추천드려요! 어느 쪽으로 드셔도 만족하실 거예요. 어떤 메뉴가 더 끌리시나요?'}"
      ]
     },
     "execution_count": 5,
     "metadata": {},
     "output_type": "execute_result"
    }
   ],
   "source": [
    "response"
   ]
  },
  {
   "cell_type": "code",
   "execution_count": null,
   "metadata": {},
   "outputs": [],
   "source": []
  }
 ],
 "metadata": {
  "kernelspec": {
   "display_name": "lang_env",
   "language": "python",
   "name": "python3"
  },
  "language_info": {
   "codemirror_mode": {
    "name": "ipython",
    "version": 3
   },
   "file_extension": ".py",
   "mimetype": "text/x-python",
   "name": "python",
   "nbconvert_exporter": "python",
   "pygments_lexer": "ipython3",
   "version": "3.12.11"
  }
 },
 "nbformat": 4,
 "nbformat_minor": 4
}
