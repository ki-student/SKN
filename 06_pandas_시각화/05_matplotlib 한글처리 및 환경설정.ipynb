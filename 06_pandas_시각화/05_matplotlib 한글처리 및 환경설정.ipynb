{
 "cells": [
  {
   "cell_type": "markdown",
   "metadata": {},
   "source": [
    "# matplotlib 한글처리\n",
    "matplotlib에 설정되있는 폰트가 한글을 지원하지 않기 때문에 그래프의 한글이 깨져서 나온다. 그래서 폰트를 변경해야한다."
   ]
  },
  {
   "cell_type": "code",
   "execution_count": 2,
   "metadata": {},
   "outputs": [
    {
     "name": "stdout",
     "output_type": "stream",
     "text": [
      "Requirement already satisfied: matplotlib in /Users/giwonjun/anaconda3/envs/ml/lib/python3.12/site-packages (3.10.1)\n",
      "Requirement already satisfied: contourpy>=1.0.1 in /Users/giwonjun/anaconda3/envs/ml/lib/python3.12/site-packages (from matplotlib) (1.3.2)\n",
      "Requirement already satisfied: cycler>=0.10 in /Users/giwonjun/anaconda3/envs/ml/lib/python3.12/site-packages (from matplotlib) (0.12.1)\n",
      "Requirement already satisfied: fonttools>=4.22.0 in /Users/giwonjun/anaconda3/envs/ml/lib/python3.12/site-packages (from matplotlib) (4.57.0)\n",
      "Requirement already satisfied: kiwisolver>=1.3.1 in /Users/giwonjun/anaconda3/envs/ml/lib/python3.12/site-packages (from matplotlib) (1.4.8)\n",
      "Requirement already satisfied: numpy>=1.23 in /Users/giwonjun/anaconda3/envs/ml/lib/python3.12/site-packages (from matplotlib) (2.2.4)\n",
      "Requirement already satisfied: packaging>=20.0 in /Users/giwonjun/anaconda3/envs/ml/lib/python3.12/site-packages (from matplotlib) (24.2)\n",
      "Requirement already satisfied: pillow>=8 in /Users/giwonjun/anaconda3/envs/ml/lib/python3.12/site-packages (from matplotlib) (11.2.1)\n",
      "Requirement already satisfied: pyparsing>=2.3.1 in /Users/giwonjun/anaconda3/envs/ml/lib/python3.12/site-packages (from matplotlib) (3.2.3)\n",
      "Requirement already satisfied: python-dateutil>=2.7 in /Users/giwonjun/anaconda3/envs/ml/lib/python3.12/site-packages (from matplotlib) (2.9.0.post0)\n",
      "Requirement already satisfied: six>=1.5 in /Users/giwonjun/anaconda3/envs/ml/lib/python3.12/site-packages (from python-dateutil>=2.7->matplotlib) (1.17.0)\n",
      "Note: you may need to restart the kernel to use updated packages.\n"
     ]
    }
   ],
   "source": [
    "%pip install matplotlib"
   ]
  },
  {
   "cell_type": "code",
   "execution_count": 1,
   "metadata": {
    "ExecuteTime": {
     "end_time": "2020-08-15T14:11:37.991800Z",
     "start_time": "2020-08-15T14:11:37.828240Z"
    }
   },
   "outputs": [
    {
     "ename": "KeyError",
     "evalue": "'font.style'",
     "output_type": "error",
     "traceback": [
      "\u001b[31m---------------------------------------------------------------------------\u001b[39m",
      "\u001b[31mKeyError\u001b[39m                                  Traceback (most recent call last)",
      "\u001b[36mCell\u001b[39m\u001b[36m \u001b[39m\u001b[32mIn[1]\u001b[39m\u001b[32m, line 2\u001b[39m\n\u001b[32m      1\u001b[39m \u001b[38;5;66;03m# 한글 깨지는 예\u001b[39;00m\n\u001b[32m----> \u001b[39m\u001b[32m2\u001b[39m \u001b[38;5;28;01mimport\u001b[39;00m\u001b[38;5;250m \u001b[39m\u001b[34;01mmatplotlib\u001b[39;00m\u001b[34;01m.\u001b[39;00m\u001b[34;01mpyplot\u001b[39;00m\u001b[38;5;250m \u001b[39m\u001b[38;5;28;01mas\u001b[39;00m\u001b[38;5;250m \u001b[39m\u001b[34;01mplt\u001b[39;00m\n\u001b[32m      3\u001b[39m plt.plot(\u001b[38;5;28mrange\u001b[39m(-\u001b[32m10\u001b[39m,\u001b[32m10\u001b[39m))\n\u001b[32m      4\u001b[39m plt.xlabel(\u001b[33m\"\u001b[39m\u001b[33mX값\u001b[39m\u001b[33m\"\u001b[39m)\n",
      "\u001b[36mFile \u001b[39m\u001b[32m~/anaconda3/envs/ml/lib/python3.12/site-packages/matplotlib/__init__.py:1015\u001b[39m\n\u001b[32m   1008\u001b[39m rcParamsOrig = rcParams.copy()\n\u001b[32m   1009\u001b[39m \u001b[38;5;28;01mwith\u001b[39;00m _api.suppress_matplotlib_deprecation_warning():\n\u001b[32m   1010\u001b[39m     \u001b[38;5;66;03m# This also checks that all rcParams are indeed listed in the template.\u001b[39;00m\n\u001b[32m   1011\u001b[39m     \u001b[38;5;66;03m# Assigning to rcsetup.defaultParams is left only for backcompat.\u001b[39;00m\n\u001b[32m   1012\u001b[39m     defaultParams = rcsetup.defaultParams = {\n\u001b[32m   1013\u001b[39m         \u001b[38;5;66;03m# We want to resolve deprecated rcParams, but not backend...\u001b[39;00m\n\u001b[32m   1014\u001b[39m         key: [(rcsetup._auto_backend_sentinel \u001b[38;5;28;01mif\u001b[39;00m key == \u001b[33m\"\u001b[39m\u001b[33mbackend\u001b[39m\u001b[33m\"\u001b[39m \u001b[38;5;28;01melse\u001b[39;00m\n\u001b[32m-> \u001b[39m\u001b[32m1015\u001b[39m                \u001b[43mrcParamsDefault\u001b[49m\u001b[43m[\u001b[49m\u001b[43mkey\u001b[49m\u001b[43m]\u001b[49m),\n\u001b[32m   1016\u001b[39m               validator]\n\u001b[32m   1017\u001b[39m         \u001b[38;5;28;01mfor\u001b[39;00m key, validator \u001b[38;5;129;01min\u001b[39;00m rcsetup._validators.items()}\n\u001b[32m   1018\u001b[39m \u001b[38;5;28;01mif\u001b[39;00m rcParams[\u001b[33m'\u001b[39m\u001b[33maxes.formatter.use_locale\u001b[39m\u001b[33m'\u001b[39m]:\n\u001b[32m   1019\u001b[39m     locale.setlocale(locale.LC_ALL, \u001b[33m'\u001b[39m\u001b[33m'\u001b[39m)\n",
      "\u001b[36mFile \u001b[39m\u001b[32m~/anaconda3/envs/ml/lib/python3.12/site-packages/matplotlib/__init__.py:799\u001b[39m, in \u001b[36mRcParams.__getitem__\u001b[39m\u001b[34m(self, key)\u001b[39m\n\u001b[32m    796\u001b[39m         \u001b[38;5;28;01mfrom\u001b[39;00m\u001b[38;5;250m \u001b[39m\u001b[34;01mmatplotlib\u001b[39;00m\u001b[38;5;250m \u001b[39m\u001b[38;5;28;01mimport\u001b[39;00m pyplot \u001b[38;5;28;01mas\u001b[39;00m plt\n\u001b[32m    797\u001b[39m         plt.switch_backend(rcsetup._auto_backend_sentinel)\n\u001b[32m--> \u001b[39m\u001b[32m799\u001b[39m \u001b[38;5;28;01mreturn\u001b[39;00m \u001b[38;5;28;43mself\u001b[39;49m\u001b[43m.\u001b[49m\u001b[43m_get\u001b[49m\u001b[43m(\u001b[49m\u001b[43mkey\u001b[49m\u001b[43m)\u001b[49m\n",
      "\u001b[36mFile \u001b[39m\u001b[32m~/anaconda3/envs/ml/lib/python3.12/site-packages/matplotlib/__init__.py:717\u001b[39m, in \u001b[36mRcParams._get\u001b[39m\u001b[34m(self, key)\u001b[39m\n\u001b[32m    698\u001b[39m \u001b[38;5;28;01mdef\u001b[39;00m\u001b[38;5;250m \u001b[39m\u001b[34m_get\u001b[39m(\u001b[38;5;28mself\u001b[39m, key):\n\u001b[32m    699\u001b[39m \u001b[38;5;250m    \u001b[39m\u001b[33;03m\"\"\"\u001b[39;00m\n\u001b[32m    700\u001b[39m \u001b[33;03m    Directly read data bypassing deprecation, backend and validation\u001b[39;00m\n\u001b[32m    701\u001b[39m \u001b[33;03m    logic.\u001b[39;00m\n\u001b[32m   (...)\u001b[39m\u001b[32m    715\u001b[39m \u001b[33;03m    :meta public:\u001b[39;00m\n\u001b[32m    716\u001b[39m \u001b[33;03m    \"\"\"\u001b[39;00m\n\u001b[32m--> \u001b[39m\u001b[32m717\u001b[39m     \u001b[38;5;28;01mreturn\u001b[39;00m \u001b[38;5;28;43mdict\u001b[39;49m\u001b[43m.\u001b[49m\u001b[34;43m__getitem__\u001b[39;49m\u001b[43m(\u001b[49m\u001b[38;5;28;43mself\u001b[39;49m\u001b[43m,\u001b[49m\u001b[43m \u001b[49m\u001b[43mkey\u001b[49m\u001b[43m)\u001b[49m\n",
      "\u001b[31mKeyError\u001b[39m: 'font.style'"
     ]
    }
   ],
   "source": [
    "# 한글 깨지는 예\n",
    "import matplotlib.pyplot as plt\n",
    "plt.plot(range(-10,10))\n",
    "plt.xlabel(\"X값\")\n",
    "plt.ylabel(\"Y값\")\n",
    "plt.title('matplotlib 예제')\n",
    "plt.show()"
   ]
  },
  {
   "cell_type": "markdown",
   "metadata": {},
   "source": [
    "## 설정방법\n",
    "1. 설정파일을 변경한다. \n",
    "    - 설치된 matplotlib 당 한번만 하면 된다.\n",
    "2. 프로그램상에서 코드로 변경.\n",
    "    - 프로그램이 로딩 될 때마다 (노트북 파일이나 파이썬 스크립트 실행시마다) 코드를 실행해야 한다."
   ]
  },
  {
   "cell_type": "markdown",
   "metadata": {},
   "source": [
    "## 설정파일에 설정\n",
    "\n",
    "설정파일에서 다음 항목을 변경한다.\n",
    "- font.family: 한글폰트 이름\n",
    "- axes.unicode_minus: False"
   ]
  },
  {
   "cell_type": "code",
   "execution_count": 4,
   "metadata": {
    "ExecuteTime": {
     "end_time": "2022-06-14T01:42:15.953880Z",
     "start_time": "2022-06-14T01:42:15.942944Z"
    }
   },
   "outputs": [
    {
     "name": "stdout",
     "output_type": "stream",
     "text": [
      "/Users/giwonjun/anaconda3/envs/ml/lib/python3.12/site-packages/matplotlib/mpl-data/matplotlibrc\n"
     ]
    }
   ],
   "source": [
    "### 설정파일 경로(path) 조회\n",
    "import  matplotlib as mpl\n",
    "print(mpl.matplotlib_fname())"
   ]
  },
  {
   "cell_type": "markdown",
   "metadata": {},
   "source": [
    "## 코드상에서 변경\n",
    "- `matplotlib.pyplot.rcParams['설정이름'] = 값`"
   ]
  },
  {
   "cell_type": "code",
   "execution_count": null,
   "metadata": {
    "ExecuteTime": {
     "end_time": "2022-06-14T02:10:50.306933Z",
     "start_time": "2022-06-14T02:10:50.289975Z"
    }
   },
   "outputs": [],
   "source": [
    "import matplotlib.pyplot as plt"
   ]
  },
  {
   "cell_type": "code",
   "execution_count": 6,
   "metadata": {},
   "outputs": [
    {
     "data": {
      "text/plain": [
       "True"
      ]
     },
     "execution_count": 6,
     "metadata": {},
     "output_type": "execute_result"
    }
   ],
   "source": [
    "# 폰트 조회\n",
    "plt.rcParams[\"font.family\"]\n",
    "# unicode_minus 사용여부 확인\n",
    "plt.rcParams['axes.unicode_minus']\n",
    "\n",
    "# 이 두개를 matplotlibrc 파일에서 바꾸면 한글 파일 안깨짐"
   ]
  },
  {
   "cell_type": "code",
   "execution_count": 7,
   "metadata": {
    "ExecuteTime": {
     "end_time": "2022-06-14T02:10:50.306933Z",
     "start_time": "2022-06-14T02:10:50.289975Z"
    }
   },
   "outputs": [],
   "source": [
    "# 폰트변경\n",
    "plt.rcParams[\"font.family\"] = \"malgun gothic\"\n",
    "# tick(눈금)의 음수기호 '-' 가 깨지는 것 처리\n",
    "plt.rcParams['axes.unicode_minus'] = False\n",
    "\n",
    "# 폰트 size변경\n",
    "plt.rcParams[\"font.size\"] = 20\n",
    "# x, y 축의 label 크기 변경\n",
    "plt.rcParams['axes.labelsize'] = 15\n",
    "# x, y 축의 tick(눈금) label 크기 변경\n",
    "plt.rcParams['xtick.labelsize'] = 12\n",
    "plt.rcParams['ytick.labelsize'] = 12"
   ]
  },
  {
   "cell_type": "code",
   "execution_count": 2,
   "metadata": {
    "ExecuteTime": {
     "end_time": "2022-06-14T02:11:19.921348Z",
     "start_time": "2022-06-14T02:11:19.762317Z"
    }
   },
   "outputs": [
    {
     "ename": "KeyError",
     "evalue": "'font.style'",
     "output_type": "error",
     "traceback": [
      "\u001b[31m---------------------------------------------------------------------------\u001b[39m",
      "\u001b[31mKeyError\u001b[39m                                  Traceback (most recent call last)",
      "\u001b[36mCell\u001b[39m\u001b[36m \u001b[39m\u001b[32mIn[2]\u001b[39m\u001b[32m, line 1\u001b[39m\n\u001b[32m----> \u001b[39m\u001b[32m1\u001b[39m \u001b[38;5;28;01mimport\u001b[39;00m\u001b[38;5;250m \u001b[39m\u001b[34;01mmatplotlib\u001b[39;00m\u001b[34;01m.\u001b[39;00m\u001b[34;01mpyplot\u001b[39;00m\u001b[38;5;250m \u001b[39m\u001b[38;5;28;01mas\u001b[39;00m\u001b[38;5;250m \u001b[39m\u001b[34;01mplt\u001b[39;00m\n\u001b[32m      2\u001b[39m plt.plot(\u001b[38;5;28mrange\u001b[39m(-\u001b[32m5\u001b[39m,\u001b[32m6\u001b[39m))\n\u001b[32m      3\u001b[39m plt.xlabel(\u001b[33m\"\u001b[39m\u001b[33mX값\u001b[39m\u001b[33m\"\u001b[39m)\n",
      "\u001b[36mFile \u001b[39m\u001b[32m~/anaconda3/envs/ml/lib/python3.12/site-packages/matplotlib/__init__.py:1015\u001b[39m\n\u001b[32m   1008\u001b[39m rcParamsOrig = rcParams.copy()\n\u001b[32m   1009\u001b[39m \u001b[38;5;28;01mwith\u001b[39;00m _api.suppress_matplotlib_deprecation_warning():\n\u001b[32m   1010\u001b[39m     \u001b[38;5;66;03m# This also checks that all rcParams are indeed listed in the template.\u001b[39;00m\n\u001b[32m   1011\u001b[39m     \u001b[38;5;66;03m# Assigning to rcsetup.defaultParams is left only for backcompat.\u001b[39;00m\n\u001b[32m   1012\u001b[39m     defaultParams = rcsetup.defaultParams = {\n\u001b[32m   1013\u001b[39m         \u001b[38;5;66;03m# We want to resolve deprecated rcParams, but not backend...\u001b[39;00m\n\u001b[32m   1014\u001b[39m         key: [(rcsetup._auto_backend_sentinel \u001b[38;5;28;01mif\u001b[39;00m key == \u001b[33m\"\u001b[39m\u001b[33mbackend\u001b[39m\u001b[33m\"\u001b[39m \u001b[38;5;28;01melse\u001b[39;00m\n\u001b[32m-> \u001b[39m\u001b[32m1015\u001b[39m                \u001b[43mrcParamsDefault\u001b[49m\u001b[43m[\u001b[49m\u001b[43mkey\u001b[49m\u001b[43m]\u001b[49m),\n\u001b[32m   1016\u001b[39m               validator]\n\u001b[32m   1017\u001b[39m         \u001b[38;5;28;01mfor\u001b[39;00m key, validator \u001b[38;5;129;01min\u001b[39;00m rcsetup._validators.items()}\n\u001b[32m   1018\u001b[39m \u001b[38;5;28;01mif\u001b[39;00m rcParams[\u001b[33m'\u001b[39m\u001b[33maxes.formatter.use_locale\u001b[39m\u001b[33m'\u001b[39m]:\n\u001b[32m   1019\u001b[39m     locale.setlocale(locale.LC_ALL, \u001b[33m'\u001b[39m\u001b[33m'\u001b[39m)\n",
      "\u001b[36mFile \u001b[39m\u001b[32m~/anaconda3/envs/ml/lib/python3.12/site-packages/matplotlib/__init__.py:799\u001b[39m, in \u001b[36mRcParams.__getitem__\u001b[39m\u001b[34m(self, key)\u001b[39m\n\u001b[32m    796\u001b[39m         \u001b[38;5;28;01mfrom\u001b[39;00m\u001b[38;5;250m \u001b[39m\u001b[34;01mmatplotlib\u001b[39;00m\u001b[38;5;250m \u001b[39m\u001b[38;5;28;01mimport\u001b[39;00m pyplot \u001b[38;5;28;01mas\u001b[39;00m plt\n\u001b[32m    797\u001b[39m         plt.switch_backend(rcsetup._auto_backend_sentinel)\n\u001b[32m--> \u001b[39m\u001b[32m799\u001b[39m \u001b[38;5;28;01mreturn\u001b[39;00m \u001b[38;5;28;43mself\u001b[39;49m\u001b[43m.\u001b[49m\u001b[43m_get\u001b[49m\u001b[43m(\u001b[49m\u001b[43mkey\u001b[49m\u001b[43m)\u001b[49m\n",
      "\u001b[36mFile \u001b[39m\u001b[32m~/anaconda3/envs/ml/lib/python3.12/site-packages/matplotlib/__init__.py:717\u001b[39m, in \u001b[36mRcParams._get\u001b[39m\u001b[34m(self, key)\u001b[39m\n\u001b[32m    698\u001b[39m \u001b[38;5;28;01mdef\u001b[39;00m\u001b[38;5;250m \u001b[39m\u001b[34m_get\u001b[39m(\u001b[38;5;28mself\u001b[39m, key):\n\u001b[32m    699\u001b[39m \u001b[38;5;250m    \u001b[39m\u001b[33;03m\"\"\"\u001b[39;00m\n\u001b[32m    700\u001b[39m \u001b[33;03m    Directly read data bypassing deprecation, backend and validation\u001b[39;00m\n\u001b[32m    701\u001b[39m \u001b[33;03m    logic.\u001b[39;00m\n\u001b[32m   (...)\u001b[39m\u001b[32m    715\u001b[39m \u001b[33;03m    :meta public:\u001b[39;00m\n\u001b[32m    716\u001b[39m \u001b[33;03m    \"\"\"\u001b[39;00m\n\u001b[32m--> \u001b[39m\u001b[32m717\u001b[39m     \u001b[38;5;28;01mreturn\u001b[39;00m \u001b[38;5;28;43mdict\u001b[39;49m\u001b[43m.\u001b[49m\u001b[34;43m__getitem__\u001b[39;49m\u001b[43m(\u001b[49m\u001b[38;5;28;43mself\u001b[39;49m\u001b[43m,\u001b[49m\u001b[43m \u001b[49m\u001b[43mkey\u001b[49m\u001b[43m)\u001b[49m\n",
      "\u001b[31mKeyError\u001b[39m: 'font.style'"
     ]
    }
   ],
   "source": [
    "import matplotlib.pyplot as plt\n",
    "plt.plot(range(-5,6))\n",
    "plt.xlabel(\"X값\")\n",
    "plt.ylabel(\"Y값\")\n",
    "plt.title('matplotlib 예제')\n",
    "plt.show()"
   ]
  },
  {
   "cell_type": "code",
   "execution_count": null,
   "metadata": {},
   "outputs": [],
   "source": []
  }
 ],
 "metadata": {
  "kernelspec": {
   "display_name": "Python 3 (ipykernel)",
   "language": "python",
   "name": "python3"
  },
  "language_info": {
   "codemirror_mode": {
    "name": "ipython",
    "version": 3
   },
   "file_extension": ".py",
   "mimetype": "text/x-python",
   "name": "python",
   "nbconvert_exporter": "python",
   "pygments_lexer": "ipython3",
   "version": "3.12.10"
  },
  "toc": {
   "base_numbering": 1,
   "nav_menu": {},
   "number_sections": true,
   "sideBar": true,
   "skip_h1_title": false,
   "title_cell": "Table of Contents",
   "title_sidebar": "Contents",
   "toc_cell": false,
   "toc_position": {},
   "toc_section_display": true,
   "toc_window_display": false
  },
  "varInspector": {
   "cols": {
    "lenName": 16,
    "lenType": 16,
    "lenVar": 40
   },
   "kernels_config": {
    "python": {
     "delete_cmd_postfix": "",
     "delete_cmd_prefix": "del ",
     "library": "var_list.py",
     "varRefreshCmd": "print(var_dic_list())"
    },
    "r": {
     "delete_cmd_postfix": ") ",
     "delete_cmd_prefix": "rm(",
     "library": "var_list.r",
     "varRefreshCmd": "cat(var_dic_list()) "
    }
   },
   "types_to_exclude": [
    "module",
    "function",
    "builtin_function_or_method",
    "instance",
    "_Feature"
   ],
   "window_display": false
  }
 },
 "nbformat": 4,
 "nbformat_minor": 4
}
