{
 "cells": [
  {
   "cell_type": "markdown",
   "id": "96128174-4a73-434b-bc74-b3e50f4b357d",
   "metadata": {},
   "source": [
    "# 명령어\n",
    "- a : 위에 cell 추가 / b : 아래에 cell 추가\n",
    "- x : cell 잘라내기 / v : cell 붙여 넣기\n",
    "- dd : cell 삭제\n",
    "- shift + enter : 실행 후 다음 cell 이동\n",
    "- ctrl + enter : 실행 후 cell 이동 x\n",
    "- esc : cursor 모드 시 실행 -> cell 이동 가능\n",
    "- y : cell을 **코드모드**로 변경\n",
    "- m : cell을 *기울림체*로 변경"
   ]
  }
 ],
 "metadata": {
  "kernelspec": {
   "display_name": "Python 3 (ipykernel)",
   "language": "python",
   "name": "python3"
  },
  "language_info": {
   "codemirror_mode": {
    "name": "ipython",
    "version": 3
   },
   "file_extension": ".py",
   "mimetype": "text/x-python",
   "name": "python",
   "nbconvert_exporter": "python",
   "pygments_lexer": "ipython3",
   "version": "3.11.5"
  }
 },
 "nbformat": 4,
 "nbformat_minor": 5
}
