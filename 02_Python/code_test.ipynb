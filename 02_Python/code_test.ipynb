{
 "cells": [
  {
   "cell_type": "code",
   "execution_count": null,
   "id": "99b44bc8-5a8c-40ae-8d05-8dfa3f8fc4c2",
   "metadata": {},
   "outputs": [],
   "source": [
    "# 명령어\n",
    "# a : 위에 cell 추가 / b : 아래에 cell 추가\n",
    "# x : cell 잘라내기 / v : cell 붙여 넣기\n",
    "# dd : cell 삭제\n",
    "# shift + enter : 실행 후 다음 cell 이동\n",
    "# ctrl + enter : 실행 후 cell 이동 x\n",
    "# esc : cursor 모드 시 실행 -> cell 이동 가능"
   ]
  }
 ],
 "metadata": {
  "kernelspec": {
   "display_name": "Python 3 (ipykernel)",
   "language": "python",
   "name": "python3"
  },
  "language_info": {
   "codemirror_mode": {
    "name": "ipython",
    "version": 3
   },
   "file_extension": ".py",
   "mimetype": "text/x-python",
   "name": "python",
   "nbconvert_exporter": "python",
   "pygments_lexer": "ipython3",
   "version": "3.11.5"
  }
 },
 "nbformat": 4,
 "nbformat_minor": 5
}
