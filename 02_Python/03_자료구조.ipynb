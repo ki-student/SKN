{
 "cells": [
  {
   "cell_type": "markdown",
   "id": "da193321",
   "metadata": {
    "slideshow": {
     "slide_type": "slide"
    }
   },
   "source": [
    "# 자료구조란\n",
    "\n",
    "-   **여러 개의 값들을 모아서 관리**하는 데이터 타입.\n",
    "    -   한 개의 변수는 한 개의 값 밖에는 가지지 못한다. 그러나 하나의 변수로 여러 개의 값 관리해야 할 경우가 있다.\n",
    "    -   하나의 값이 여러개의 값들로 구성된 경우\n",
    "        -   한명의 고객 정보의 경우 이름, 나이, 주소, 전화번호 등 여러개의 값이 모여서 하나의 값이 된다.\n",
    "        -   한 반의 학생들의 이름들은 여러개의 이름들로 구성된다.\n",
    "-   파이썬은 데이터를 모으는 방식에 따라 다음과 같이 4개의 타입을 제공한다.\n",
    "    -   **List:** 순서가 있으며 중복된 값들을 모으는 것을 허용하고 구성하는 값들(원소)을 변경할 수 있다.\n",
    "    -   **Tuple:** 순서가 있으며 중복된 값들을 모으는 것을 허용하는데 구성하는 값들을 변경할 수 없다.\n",
    "    -   **Dictionary:** key-value 형태로 값들을 저장해 관리한다.\n",
    "    -   **Set:** 중복을 허용하지 않고 값들의 순서가 없다.\n",
    "-   **원소, 성분, 요소, element**\n",
    "    -   자료구조의 값들을 구성하는 개별 값들을 말한다.\n",
    "    -   len(자료구조) 함수\n",
    "        -   자료구조 내의 원소의 개수를 반환한다.\n"
   ]
  },
  {
   "cell_type": "markdown",
   "id": "84431cfd",
   "metadata": {
    "slideshow": {
     "slide_type": "slide"
    }
   },
   "source": [
    "# List (리스트)\n",
    "\n",
    "-   값들을 순서대로 모아서 관리하는 자료구조. 원소(element)들을 순번을 이용해 식별한다.\n",
    "    -   각각의 원소가 어떤 값인지를 index(순번)을 가지고 식별하기 때문에 **순서가 있고 그 순서가 매우 중요하다.** 즉 같은 값에 대해 순서가 바뀌면 안된다.\n",
    "-   각각의 원소들은 index를 이용해 식별한다.\n",
    "    -   index는 문자열과 마찮가지로 양수 index와 음수 index 두개가 각 값에 생긴다.\n",
    "    -   양수 index는 앞에서부터 음수 index는 뒤에서 부터 값을 식별할 때 사용하는 것이 편리하다.\n",
    "    -   **index를 가지고 각 원소값의 의미를 식별할 수 있으면 List나 Tuple을 사용한다.**\n",
    "-   중복된 값들을 저장할 수 있다.\n",
    "-   각 원소들의 데이터 타입은 달라도 상관없다.\n",
    "    -   보통은 같은 타입의 데이터를 모은다.\n",
    "-   리스트를 구성하는 **원소들을 변경할 수 있다.** (추가, 삭제, 변경이 가능)\n",
    "    -   원소 변경 여부가 List와 Tuple의 차이이다.\n",
    "\n",
    "## List 생성 구문\n",
    "\n",
    "```python\n",
    "[값, 값, 값, ..]\n",
    "```\n"
   ]
  },
  {
   "cell_type": "code",
   "execution_count": null,
   "id": "6eef6bd9",
   "metadata": {},
   "outputs": [],
   "source": []
  },
  {
   "cell_type": "code",
   "execution_count": null,
   "id": "efc59691",
   "metadata": {
    "ExecuteTime": {
     "end_time": "2022-12-18T00:22:24.071490Z",
     "start_time": "2022-12-18T00:22:23.651455Z"
    },
    "slideshow": {
     "slide_type": "fragment"
    }
   },
   "outputs": [],
   "source": []
  },
  {
   "cell_type": "markdown",
   "id": "08d634bf",
   "metadata": {
    "slideshow": {
     "slide_type": "subslide"
    }
   },
   "source": [
    "## Indexing과 Slicing을 이용한 원소(element) 조회 및 변경\n",
    "\n",
    "### Indexing\n",
    "\n",
    "-   하나의 원소를 조회하거나 변경할 때 사용\n",
    "-   리스트\\[index\\]\n",
    "    -   index의 원소를 조회\n",
    "-   리스트\\[index\\] = 값\n",
    "    -   index의 원소를 변경\n"
   ]
  },
  {
   "cell_type": "markdown",
   "id": "ab5a40cb",
   "metadata": {
    "slideshow": {
     "slide_type": "fragment"
    }
   },
   "source": [
    "### Slicing\n",
    "\n",
    "-   범위로 조회하거나 그 범위의 값들을 변경한다.\n",
    "-   기본구문: **리스트\\[ 시작 index : 종료 index : 간격\\]**\n",
    "    -   시작 index ~ (종료 index – 1)\n",
    "    -   간격을 지정하면 간격만큼 index를 증/감한다. (생략 시 1이 기본 간격)\n",
    "-   **0번 index 부터 조회 할 경우 시작 index는 생략가능**\n",
    "    -   리스트 \\[ : 5\\] => 0 ~ 4 까지 조회\n",
    "-   **마지막 index까지 (끝까지) 조회 할 경우 종료 index는 생략 가능**\n",
    "    -   리스트\\[2 : \\] => 2번 index 에서 끝까지\n",
    "-   **명시적으로 간격을 줄 경우**\n",
    "    -   리스트\\[ : : 3 \\] => 0, 3, 6, 9.. index의 값 조회\n",
    "    -   리스트\\[1 : 9 : 2\\] => 1, 3, 5, 7 index의 값 조회\n",
    "-   **시작 index > 종료 index, 간격을 음수로 하면 역으로 반환한다.(Reverse)**\n",
    "    -   리스트\\[5: 1: -1\\] => 5, 4, 3, 2 index의 값 조회\n",
    "    -   리스트\\[: : -1\\] => 마지막 index ~ 0번 index 까지 의미. Reverse 한다.\n",
    "\n",
    "#### slicing을 이용한 값 변경\n",
    "\n",
    "-   slicing 을 이용할 경우 slicing된 원소 개수와 동일한 개수의 값들을 대입한다.\n",
    "    -   `리스트[1:5] = 10,20,30,40` : index 1, 2, 3, 4의 값을 각각 10, 20, 30, 40 으로 변경\n"
   ]
  },
  {
   "cell_type": "code",
   "execution_count": null,
   "id": "a758ab6d",
   "metadata": {},
   "outputs": [],
   "source": []
  },
  {
   "cell_type": "code",
   "execution_count": null,
   "id": "5d462776",
   "metadata": {
    "slideshow": {
     "slide_type": "fragment"
    }
   },
   "outputs": [],
   "source": []
  },
  {
   "cell_type": "markdown",
   "id": "a4f9fe12",
   "metadata": {
    "slideshow": {
     "slide_type": "slide"
    }
   },
   "source": [
    "## List 연산자\n",
    "\n",
    "-   **리스트 + 리스트**\n",
    "    -   두 리스트의 원소들을 합친 리스트를 반환한다.\n",
    "-   **리스트 \\* 정수**\n",
    "    -   같은 리스트의 원소들을 정수번 합친 리스트를 반환한다.\n",
    "-   **in, not in 연산자**\n",
    "    -   값 in 리스트\n",
    "        -   리스트의 원소로 값이 **있으면** True, 없으면 False 반환\n",
    "    -   값 not in 리스트\n",
    "        -   리스트의 원소로 값이 **없으면** True, 있으면 False 반환\n",
    "-   **len(리스트)**\n",
    "    -   리스트 내의 원소수를 반환.\n"
   ]
  },
  {
   "cell_type": "code",
   "execution_count": null,
   "id": "db069ee7",
   "metadata": {},
   "outputs": [],
   "source": []
  },
  {
   "cell_type": "code",
   "execution_count": null,
   "id": "f085e817",
   "metadata": {
    "ExecuteTime": {
     "end_time": "2022-12-17T14:17:03.293505Z",
     "start_time": "2022-12-17T14:17:03.285501Z"
    },
    "slideshow": {
     "slide_type": "fragment"
    }
   },
   "outputs": [],
   "source": []
  },
  {
   "cell_type": "markdown",
   "id": "f90af754",
   "metadata": {
    "slideshow": {
     "slide_type": "slide"
    }
   },
   "source": [
    "## 중첩 리스트 (Nested List)\n",
    "\n",
    "-   List가 원소로 List를 가지는 것을 말한다.\n",
    "    -   List를 포함한 모든 자료구조 타입들도 다 값이므로 다른 자료구조의 원소로 들어갈 수 있다.\n",
    "    -   리스트(자료구조)도 값이다. 그래서 다른 자료구조의 원소로 들어갈 수 있다."
   ]
  },
  {
   "cell_type": "code",
   "execution_count": null,
   "id": "4f52b717",
   "metadata": {},
   "outputs": [],
   "source": []
  },
  {
   "cell_type": "code",
   "execution_count": null,
   "id": "01bede57",
   "metadata": {
    "slideshow": {
     "slide_type": "fragment"
    }
   },
   "outputs": [],
   "source": []
  },
  {
   "cell_type": "code",
   "execution_count": null,
   "id": "2dfd6c46",
   "metadata": {
    "slideshow": {
     "slide_type": "fragment"
    }
   },
   "outputs": [],
   "source": []
  },
  {
   "cell_type": "markdown",
   "id": "826b8780",
   "metadata": {
    "slideshow": {
     "slide_type": "slide"
    }
   },
   "source": [
    "## List 주요 메소드\n",
    "\n",
    "| 메소드                       | 설명                                                                                 |\n",
    "| :--------------------------- | ------------------------------------------------------------------------------------ |\n",
    "| append(value)                | value를 추가한다.                                                                    |\n",
    "| extend(List)                 | List의 원소들을 추가한다.                                                            |\n",
    "| sort(\\[reverse=False\\])      | 원소들을 오름차순 정렬한다. reverse=True로 하면 내림차순정렬 한다.                   |\n",
    "| insert(index, 삽입할값)      | 지정한 index에 '삽입할값'을 삽입한다.                                                |\n",
    "| remove(삭제할값)             | '삭제할값' 값과 같은 원소를 삭제한다.                                                |\n",
    "| index(찾을값\\[, 시작index\\]) | '찾을값'의 index를 반환한다.                                                         |\n",
    "| pop(\\[index\\])               | index의 값을 반환하면서 삭제한다. index 생략하면 가장 마지막 값을 반환하며 삭제한다. |\n",
    "| count(값)                    | '값'이 리스트의 원소로 몇개 있는지 반환한다.                                         |\n",
    "| clear()                      | 리스트 안의 모든 원소들을 삭제한다.                                                  |\n"
   ]
  },
  {
   "cell_type": "code",
   "execution_count": 2,
   "id": "041be1da",
   "metadata": {},
   "outputs": [
    {
     "data": {
      "text/plain": [
       "[10, 20, 30, 40, 50, 60, 70]"
      ]
     },
     "execution_count": 2,
     "metadata": {},
     "output_type": "execute_result"
    }
   ],
   "source": [
    "l = [10,20,30]\n",
    "l.append(40) # 한개씩 추가\n",
    "l.extend([50,60,70]) # 여러 값 추가\n",
    "l"
   ]
  },
  {
   "cell_type": "code",
   "execution_count": 3,
   "id": "4b14d8e8",
   "metadata": {
    "slideshow": {
     "slide_type": "fragment"
    }
   },
   "outputs": [
    {
     "data": {
      "text/plain": [
       "[10, 20, 0, 30, 40, 50, 60, 70]"
      ]
     },
     "execution_count": 3,
     "metadata": {},
     "output_type": "execute_result"
    }
   ],
   "source": [
    "l.insert(2, 0) # 삽입\n",
    "l"
   ]
  },
  {
   "cell_type": "code",
   "execution_count": 10,
   "id": "452c0cde-2232-4f64-aca2-1ec12a315f22",
   "metadata": {},
   "outputs": [
    {
     "data": {
      "text/plain": [
       "[70, 60, 50, 40, 30, 20, 10, 0]"
      ]
     },
     "execution_count": 10,
     "metadata": {},
     "output_type": "execute_result"
    }
   ],
   "source": [
    "# 정렬 - sorted() 함수 / sort() 메소드\n",
    "# sorted() 함수 : 모든 자료구조를 받아서 정렬 한 결과를 list로 반환. (원본 정렬은 x)\n",
    "# sort() 메소드 : list용 / list 자체를 정렬\n",
    "result = sorted(l) # 오름차순\n",
    "result2 = sorted(l, reverse=True) # 내림차순\n",
    "l.sort() # 오름차순\n",
    "l.sort(reverse=True) # 내림차순\n",
    "l"
   ]
  },
  {
   "cell_type": "code",
   "execution_count": 13,
   "id": "1539a15c-d115-4dda-b5d6-daaf8e9d9264",
   "metadata": {},
   "outputs": [
    {
     "ename": "ValueError",
     "evalue": "list.remove(x): x not in list",
     "output_type": "error",
     "traceback": [
      "\u001b[0;31m---------------------------------------------------------------------------\u001b[0m",
      "\u001b[0;31mValueError\u001b[0m                                Traceback (most recent call last)",
      "Cell \u001b[0;32mIn[13], line 2\u001b[0m\n\u001b[1;32m      1\u001b[0m \u001b[38;5;66;03m# 삭제\u001b[39;00m\n\u001b[0;32m----> 2\u001b[0m l\u001b[38;5;241m.\u001b[39mremove(\u001b[38;5;241m10\u001b[39m) \u001b[38;5;66;03m# 값으로 삭제\u001b[39;00m\n\u001b[1;32m      3\u001b[0m l\u001b[38;5;241m.\u001b[39mpop(\u001b[38;5;241m0\u001b[39m) \u001b[38;5;66;03m# index로 삭제 / index를 주면 그 값 삭제, 아니면 마지막 값 삭제\u001b[39;00m\n\u001b[1;32m      4\u001b[0m l\u001b[38;5;241m.\u001b[39mclear()\n",
      "\u001b[0;31mValueError\u001b[0m: list.remove(x): x not in list"
     ]
    }
   ],
   "source": [
    "# 삭제\n",
    "l.remove(10) # 값으로 삭제\n",
    "l.pop(0) # index로 삭제 / index를 주면 그 값 삭제, 아니면 마지막 값 삭제\n",
    "l.clear() # 모두 삭제"
   ]
  },
  {
   "cell_type": "markdown",
   "id": "5b28f033",
   "metadata": {
    "slideshow": {
     "slide_type": "slide"
    }
   },
   "source": [
    "# Tuple (튜플)\n",
    "\n",
    "-   List와 같이 순서대로 원소들을 관리한다. 단 저장된 원소를 변경할 수 없다.\n",
    "-   Tuple 은 각 위치(Index) 마다 정해진 의미가 있고 그 값이 한번 설정되면 바뀌지 않는 경우에 사용한다.\n",
    "    -   Tuple은 값의 변경되지 않으므로 안전하다.\n",
    "\n",
    "## Tuple 생성\n",
    "\n",
    "-   `(value, value, value, ...)`\n",
    "-   소괄호를 생략할 수 있다.\n",
    "-   원소가 하나인 Tuple 표현식\n",
    "    -   `(value,)` 또는 `value,`\n",
    "        -   값 뒤에 `,` 를 붙여준다. `,`를 붙이지 않으면 ( )가 연산자 우선순위 괄호가 된다.\n"
   ]
  },
  {
   "cell_type": "code",
   "execution_count": 15,
   "id": "f7f96391",
   "metadata": {},
   "outputs": [
    {
     "data": {
      "text/plain": [
       "(1, 2, 3, 4, 5)"
      ]
     },
     "execution_count": 15,
     "metadata": {},
     "output_type": "execute_result"
    }
   ],
   "source": [
    "t1 = (1,2,3,4,5)\n",
    "t1"
   ]
  },
  {
   "cell_type": "code",
   "execution_count": 14,
   "id": "17099a9e",
   "metadata": {
    "slideshow": {
     "slide_type": "fragment"
    }
   },
   "outputs": [
    {
     "data": {
      "text/plain": [
       "(10, 20, 30, 40, 50)"
      ]
     },
     "execution_count": 14,
     "metadata": {},
     "output_type": "execute_result"
    }
   ],
   "source": [
    "t2 = 10,20,30,40,50\n",
    "t2"
   ]
  },
  {
   "cell_type": "code",
   "execution_count": 21,
   "id": "2d5e5c1d-da70-4f8d-9527-4bcc64a89543",
   "metadata": {},
   "outputs": [
    {
     "data": {
      "text/plain": [
       "100"
      ]
     },
     "execution_count": 21,
     "metadata": {},
     "output_type": "execute_result"
    }
   ],
   "source": [
    "t3 = (100) # 값이 한개이면 연산자 괄호로 인식, 정수로 판단\n",
    "t3"
   ]
  },
  {
   "cell_type": "code",
   "execution_count": 22,
   "id": "3d441f57-9aee-49cf-b6b7-f06ab2ab5579",
   "metadata": {},
   "outputs": [
    {
     "data": {
      "text/plain": [
       "(100,)"
      ]
     },
     "execution_count": 22,
     "metadata": {},
     "output_type": "execute_result"
    }
   ],
   "source": [
    "t4 = (100,) # ,를 붙이면 tuple로 인식\n",
    "t4 = 100,\n",
    "t4"
   ]
  },
  {
   "cell_type": "code",
   "execution_count": 27,
   "id": "6ce80607-127f-4423-b6f5-7ba3a31e9b08",
   "metadata": {},
   "outputs": [
    {
     "data": {
      "text/plain": [
       "('a', 100, 31.2)"
      ]
     },
     "execution_count": 27,
     "metadata": {},
     "output_type": "execute_result"
    }
   ],
   "source": [
    "t5 = (\"a\", 100, 31.2)\n",
    "t5"
   ]
  },
  {
   "cell_type": "markdown",
   "id": "16954356",
   "metadata": {
    "slideshow": {
     "slide_type": "slide"
    }
   },
   "source": [
    "## Indexing과 Slicing을 이용한 원소(element) 조회\n",
    "\n",
    "-   리스트와 동일하다.\n",
    "-   단 튜플은 조회만 가능하고 원소를 변경할 수 없다.\n"
   ]
  },
  {
   "cell_type": "code",
   "execution_count": 24,
   "id": "fa92bc45",
   "metadata": {},
   "outputs": [
    {
     "ename": "TypeError",
     "evalue": "'tuple' object does not support item assignment",
     "output_type": "error",
     "traceback": [
      "\u001b[0;31m---------------------------------------------------------------------------\u001b[0m",
      "\u001b[0;31mTypeError\u001b[0m                                 Traceback (most recent call last)",
      "Cell \u001b[0;32mIn[24], line 1\u001b[0m\n\u001b[0;32m----> 1\u001b[0m t1[\u001b[38;5;241m0\u001b[39m] \u001b[38;5;241m=\u001b[39m \u001b[38;5;241m100\u001b[39m\n",
      "\u001b[0;31mTypeError\u001b[0m: 'tuple' object does not support item assignment"
     ]
    }
   ],
   "source": [
    "t1[0] = 100 # 변경만 불가"
   ]
  },
  {
   "cell_type": "code",
   "execution_count": 25,
   "id": "6c5b9b2c",
   "metadata": {
    "slideshow": {
     "slide_type": "fragment"
    }
   },
   "outputs": [
    {
     "data": {
      "text/plain": [
       "(1, 2, 3)"
      ]
     },
     "execution_count": 25,
     "metadata": {},
     "output_type": "execute_result"
    }
   ],
   "source": [
    "t1[0:3]"
   ]
  },
  {
   "cell_type": "markdown",
   "id": "135101f3",
   "metadata": {
    "slideshow": {
     "slide_type": "slide"
    }
   },
   "source": [
    "## Tuple 연산자\n",
    "\n",
    "-   **tuple + tuple**\n",
    "    -   두 tuple의 원소들을 합친 tuple을 반환한다.\n",
    "-   **tuple \\* 정수**\n",
    "    -   같은 tuple의 원소들을 정수번 합친 tuple를 반환한다.\n",
    "-   **in, not in 연산자**\n",
    "    -   값 in tuple\n",
    "        -   tuple의 원소로 값이 **있으면** True, 없으면 False 반환\n",
    "    -   값 not in tuple\n",
    "        -   tuple의 원소로 값이 **없으면** True, 있으면 False 반환\n",
    "-   **len(tuple)**\n",
    "    -   tuple의 원소 개수 반환\n"
   ]
  },
  {
   "cell_type": "code",
   "execution_count": null,
   "id": "c39c878c",
   "metadata": {},
   "outputs": [],
   "source": []
  },
  {
   "cell_type": "code",
   "execution_count": null,
   "id": "5903e00f",
   "metadata": {
    "slideshow": {
     "slide_type": "fragment"
    }
   },
   "outputs": [],
   "source": []
  },
  {
   "cell_type": "markdown",
   "id": "89803fdd",
   "metadata": {
    "slideshow": {
     "slide_type": "subslide"
    }
   },
   "source": [
    "## Tuple의 주요 메소드\n",
    "\n",
    "| 메소드                        | 설명                                |\n",
    "| :---------------------------- | ----------------------------------- |\n",
    "| index(찾을값 \\[, 시작index\\]) | '찾을값'이 몇번 index인지 반환한다. |\n",
    "| count(값)                     | 원소로 '값'이 몇개 있는지 반환한다. |\n"
   ]
  },
  {
   "cell_type": "code",
   "execution_count": 32,
   "id": "e8e4d78e",
   "metadata": {},
   "outputs": [
    {
     "data": {
      "text/plain": [
       "2"
      ]
     },
     "execution_count": 32,
     "metadata": {},
     "output_type": "execute_result"
    }
   ],
   "source": [
    "t6 = (10,100,20,40,100,2,10)\n",
    "t6.index(100) # 첫 원소부터 찾음\n",
    "t6.index(100,3) # 세번째 원소부터 찾음\n",
    "t6[::-1].index(100) # 뒤에서부터 원소 찾음"
   ]
  },
  {
   "cell_type": "code",
   "execution_count": 29,
   "id": "93a527af",
   "metadata": {
    "slideshow": {
     "slide_type": "fragment"
    }
   },
   "outputs": [
    {
     "data": {
      "text/plain": [
       "2"
      ]
     },
     "execution_count": 29,
     "metadata": {},
     "output_type": "execute_result"
    }
   ],
   "source": [
    "t6.count(100)"
   ]
  },
  {
   "cell_type": "code",
   "execution_count": 34,
   "id": "49daca6b-0092-42c5-8a99-46aa7bc22f11",
   "metadata": {},
   "outputs": [
    {
     "data": {
      "text/plain": [
       "[2, 10, 10, 20, 40, 100, 100]"
      ]
     },
     "execution_count": 34,
     "metadata": {},
     "output_type": "execute_result"
    }
   ],
   "source": [
    "sorted(t6) # 정렬은 항상 list로 반환"
   ]
  },
  {
   "cell_type": "markdown",
   "id": "e6c196f5",
   "metadata": {
    "slideshow": {
     "slide_type": "slide"
    }
   },
   "source": [
    "# Dictionary\n",
    "\n",
    "-   값을 키(key)-값(value) 쌍으로 묶어서 저장하는 자료구조이다.\n",
    "    -   리스트나 튜플의 index의 역할을 하는 key를 직접 지정한다.\n",
    "    -   서로 의미가 다른 값들을 하나로 묶을 때 그 값의 의미를 key로 가질 수 있는 dictionary를 사용한다.\n",
    "        -   cf) 값의 의미가 같을 경우 List나 Tuple을 사용한다.\n",
    "    -   key-value 쌍으로 묶은 데이터 한개를 **item 또는 entry**라고 한다.\n",
    "    -   key는 중복을 허용하지 않고 value는 중복을 허용한다.\n",
    "\n",
    "## Dictionary 생성\n",
    "\n",
    "-   구문\n",
    "    1. `{ 키 : 값, 키 : 값, 키 : 값 }`\n",
    "    2. dict(key=value, key=value) 함수 이용\n",
    "    -   키(key)는 불변(Immutable)의 값들만 사용 가능하다. (숫자, 문자열, 튜플) 일반적으로 문자열을 사용한다.\n",
    "    -   dict() 함수를 사용할 경우 key는 변수로 정의한다\n"
   ]
  },
  {
   "cell_type": "code",
   "execution_count": null,
   "id": "18611386",
   "metadata": {},
   "outputs": [],
   "source": []
  },
  {
   "cell_type": "code",
   "execution_count": null,
   "id": "d9d37f28",
   "metadata": {
    "slideshow": {
     "slide_type": "fragment"
    }
   },
   "outputs": [],
   "source": []
  },
  {
   "cell_type": "markdown",
   "id": "f8c87bd3",
   "metadata": {
    "slideshow": {
     "slide_type": "subslide"
    }
   },
   "source": [
    "## Dictionary 원소 조회 및 변경\n",
    "\n",
    "-   조회: index에 key값을 식별자로 지정한다.\n",
    "    -   dictionary\\[ key \\]\n",
    "    -   없는 키로 조회 시 KeyError 발생\n",
    "-   변경\n",
    "    -   dictionary\\[ key \\] = 값\n",
    "    -   있는 key값에 값을 대입하면 변경이고 없는 key 일 경우는 새로운 item을 추가하는 것이다.\n"
   ]
  },
  {
   "cell_type": "code",
   "execution_count": 5,
   "id": "5c8cec2f",
   "metadata": {},
   "outputs": [],
   "source": [
    "d1 = {\"name\":\"gildong\", \"age\":20, \"marriage\":False}"
   ]
  },
  {
   "cell_type": "code",
   "execution_count": 17,
   "id": "459db630",
   "metadata": {
    "slideshow": {
     "slide_type": "fragment"
    }
   },
   "outputs": [
    {
     "data": {
      "text/plain": [
       "{'name': 'gildong',\n",
       " 'age': 20,\n",
       " 'marriage': False,\n",
       " 'hobby': ['movie', 'reading', 'listening'],\n",
       " 'address': {'시': '서울', '구': '금천구', '동': '독산동'},\n",
       " '전화번호': '010-1234-5678'}"
      ]
     },
     "execution_count": 17,
     "metadata": {},
     "output_type": "execute_result"
    }
   ],
   "source": [
    "d2 = {\n",
    "    \"name\":\"gildong\",\n",
    "    \"age\":20,\n",
    "    \"marriage\":False,\n",
    "    \"hobby\":[\"movie\",\"reading\",\"listening\"],\n",
    "    \"address\":{\"시\":\"서울\", \"구\":\"금천구\"}\n",
    "}\n",
    "d2[\"address\"][\"구\"]\n",
    "d2[\"전화번호\"] = \"010-1234-5678\"\n",
    "d2[\"address\"][\"동\"] = \"독산동\"\n",
    "d2"
   ]
  },
  {
   "cell_type": "code",
   "execution_count": 51,
   "id": "d0cd0a3e-be98-4aa5-885b-d94c2b05fbfe",
   "metadata": {},
   "outputs": [
    {
     "ename": "TypeError",
     "evalue": "'dict' object is not callable",
     "output_type": "error",
     "traceback": [
      "\u001b[0;31m---------------------------------------------------------------------------\u001b[0m",
      "\u001b[0;31mTypeError\u001b[0m                                 Traceback (most recent call last)",
      "Cell \u001b[0;32mIn[51], line 1\u001b[0m\n\u001b[0;32m----> 1\u001b[0m d3 \u001b[38;5;241m=\u001b[39m \u001b[38;5;28mdict\u001b[39m(이름\u001b[38;5;241m=\u001b[39m\u001b[38;5;124m\"\u001b[39m\u001b[38;5;124m홍길동\u001b[39m\u001b[38;5;124m\"\u001b[39m, 나이\u001b[38;5;241m=\u001b[39m\u001b[38;5;241m30\u001b[39m, 주소\u001b[38;5;241m=\u001b[39m\u001b[38;5;124m\"\u001b[39m\u001b[38;5;124m서울시 금천구\u001b[39m\u001b[38;5;124m\"\u001b[39m, 취미\u001b[38;5;241m=\u001b[39m[\u001b[38;5;124m\"\u001b[39m\u001b[38;5;124m게임\u001b[39m\u001b[38;5;124m\"\u001b[39m, \u001b[38;5;124m\"\u001b[39m\u001b[38;5;124m야구\u001b[39m\u001b[38;5;124m\"\u001b[39m])\n\u001b[1;32m      2\u001b[0m d3\n",
      "\u001b[0;31mTypeError\u001b[0m: 'dict' object is not callable"
     ]
    }
   ],
   "source": [
    "d3 = dict(이름=\"홍길동\", 나이=30, 주소=\"서울시 금천구\", 취미=[\"게임\", \"야구\"])\n",
    "d3"
   ]
  },
  {
   "cell_type": "markdown",
   "id": "d5aade1e",
   "metadata": {
    "slideshow": {
     "slide_type": "slide"
    }
   },
   "source": [
    "## Dictionary 연산자\n",
    "\n",
    "-   **in, not in 연산자**\n",
    "    -   값 in dictionary\n",
    "        -   dictionary의 **Key**로 값이 **있으면** True, 없으면 False 반환\n",
    "    -   값 not in dictionary\n",
    "        -   dictionary의 **Key**로 값이 **없으면** True, 있으면 False 반환\n",
    "-   **len(dictionary)**\n",
    "    -   dictionary의 **Item의 개수** 반환\n"
   ]
  },
  {
   "cell_type": "code",
   "execution_count": 52,
   "id": "71449891",
   "metadata": {},
   "outputs": [
    {
     "data": {
      "text/plain": [
       "True"
      ]
     },
     "execution_count": 52,
     "metadata": {},
     "output_type": "execute_result"
    }
   ],
   "source": [
    "\"name\" in d2"
   ]
  },
  {
   "cell_type": "code",
   "execution_count": 54,
   "id": "4a7c9061",
   "metadata": {
    "slideshow": {
     "slide_type": "fragment"
    }
   },
   "outputs": [
    {
     "data": {
      "text/plain": [
       "False"
      ]
     },
     "execution_count": 54,
     "metadata": {},
     "output_type": "execute_result"
    }
   ],
   "source": [
    "\"gildong\" in d2 #key 값만 조회 가능"
   ]
  },
  {
   "cell_type": "code",
   "execution_count": 56,
   "id": "41b890aa-e89c-449f-bd81-e69bc212117a",
   "metadata": {},
   "outputs": [
    {
     "data": {
      "text/plain": [
       "'gildong'"
      ]
     },
     "execution_count": 56,
     "metadata": {},
     "output_type": "execute_result"
    }
   ],
   "source": [
    "d2.get(\"name\") # key로 value 조회 가능"
   ]
  },
  {
   "cell_type": "code",
   "execution_count": 64,
   "id": "a2446854-f737-4703-83e8-9bba5d08060e",
   "metadata": {},
   "outputs": [
    {
     "data": {
      "text/plain": [
       "'없는 key 값'"
      ]
     },
     "execution_count": 64,
     "metadata": {},
     "output_type": "execute_result"
    }
   ],
   "source": [
    "r = d2.get(\"tall\") # 없는 key 값 조회 시 None 반환\n",
    "r if r != None else \"없는 key 값\"\n",
    "# ==\n",
    "r if r else \"없는 key 값\"\n",
    "r if r is not None else \"없는 key 값\""
   ]
  },
  {
   "cell_type": "markdown",
   "id": "9f620ec1",
   "metadata": {
    "slideshow": {
     "slide_type": "slide"
    }
   },
   "source": [
    "## Dictionary 주요 메소드\n",
    "\n",
    "| 메소드               | 설명                                                                               |\n",
    "| :------------------- | ---------------------------------------------------------------------------------- |\n",
    "| get(key\\[, 기본값\\]) | key의 item의 값을 반환한다. 단 key가 없을 경우 None또는 기본값을 반환한다.         |\n",
    "| pop(key)             | key의 item의 값을 반환하면서 dictionary에서 삭제한다. 없는 key일 경우 KeyError발생 |\n",
    "| clear()              | dictionary의 모든 item들을 삭제한다.                                               |\n",
    "| del dict\\[key\\]      | key의 item을 제거한다.                                                             |\n",
    "| items()              | item의 key, value를 튜플로 묶어 모아 반환한다.                                     |\n",
    "| keys()               | key값들만 모아 반환한다.                                                           |\n",
    "| values()             | value값들만 모아 반환한다.                                                         |\n"
   ]
  },
  {
   "cell_type": "code",
   "execution_count": 9,
   "id": "55f208b6",
   "metadata": {},
   "outputs": [
    {
     "data": {
      "text/plain": [
       "[]"
      ]
     },
     "execution_count": 9,
     "metadata": {},
     "output_type": "execute_result"
    }
   ],
   "source": [
    "d2.get(\"몸무게\", \"0kg\") # key가 없으면 지정한 기본값(0)을 반환\n",
    "d2.get(\"취미\", [])"
   ]
  },
  {
   "cell_type": "code",
   "execution_count": 15,
   "id": "350e7ad5",
   "metadata": {
    "slideshow": {
     "slide_type": "fragment"
    }
   },
   "outputs": [
    {
     "data": {
      "text/plain": [
       "{'name': 'gildong', 'marriage': False}"
      ]
     },
     "execution_count": 15,
     "metadata": {},
     "output_type": "execute_result"
    }
   ],
   "source": [
    "d1[\"주소\"] = \"서울\"\n",
    "del d1[\"주소\"]\n",
    "# d1.pop(\"age\")\n",
    "d1"
   ]
  },
  {
   "cell_type": "code",
   "execution_count": 20,
   "id": "5158dfbd-5628-4258-8546-f235839a030c",
   "metadata": {},
   "outputs": [
    {
     "name": "stdout",
     "output_type": "stream",
     "text": [
      "dict_keys(['name', 'age', 'marriage', 'hobby', 'address', '전화번호'])\n"
     ]
    }
   ],
   "source": [
    "# key 값만 출력\n",
    "keys = d2.keys()\n",
    "print(keys)"
   ]
  },
  {
   "cell_type": "code",
   "execution_count": 21,
   "id": "180f2d64-e379-4b75-a637-07d854de2cad",
   "metadata": {},
   "outputs": [
    {
     "name": "stdout",
     "output_type": "stream",
     "text": [
      "dict_values(['gildong', 20, False, ['movie', 'reading', 'listening'], {'시': '서울', '구': '금천구', '동': '독산동'}, '010-1234-5678'])\n"
     ]
    }
   ],
   "source": [
    "# value 값만 출력\n",
    "values = d2.values()\n",
    "print(values)"
   ]
  },
  {
   "cell_type": "code",
   "execution_count": 24,
   "id": "0a46532a-0383-4cc4-9f64-45f7428ca47e",
   "metadata": {},
   "outputs": [
    {
     "name": "stdout",
     "output_type": "stream",
     "text": [
      "dict_items([('name', 'gildong'), ('age', 20), ('marriage', False), ('hobby', ['movie', 'reading', 'listening']), ('address', {'시': '서울', '구': '금천구', '동': '독산동'}), ('전화번호', '010-1234-5678')])\n"
     ]
    }
   ],
   "source": [
    "# key-value 출력 / 각 entry를 괄호로 묶어 활용\n",
    "items = d2.items()\n",
    "print(items)"
   ]
  },
  {
   "cell_type": "markdown",
   "id": "d97869af",
   "metadata": {
    "slideshow": {
     "slide_type": "slide"
    }
   },
   "source": [
    "# Set\n",
    "\n",
    "-   Set은 중복되는 값을 허용하지 않고 순서를 신경 쓰지 않는다.\n",
    "    -   원소를 식별할 수 있는 식별자가 없기 때문에 Set은 indexing과 slicing을 지원하지 않는다\n",
    "\n",
    "## Set 생성\n",
    "\n",
    "-   구문\n",
    "    -   {값, 값, 값 }\n",
    "\n",
    "> -   빈 Dictionary 만들기\n",
    ">     -   info = {}\n",
    ">     -   중괄호만 사용하면 빈 set이 아니라 빈 dictionary를 생성하는 것임.\n"
   ]
  },
  {
   "cell_type": "code",
   "execution_count": 26,
   "id": "304f16ea",
   "metadata": {},
   "outputs": [
    {
     "data": {
      "text/plain": [
       "{1, 2, 3, 4, 5}"
      ]
     },
     "execution_count": 26,
     "metadata": {},
     "output_type": "execute_result"
    }
   ],
   "source": [
    "s1 = {1,1,2,3,4,5}\n",
    "s1"
   ]
  },
  {
   "cell_type": "code",
   "execution_count": 29,
   "id": "5c88480a",
   "metadata": {
    "slideshow": {
     "slide_type": "fragment"
    }
   },
   "outputs": [
    {
     "ename": "TypeError",
     "evalue": "'set' object is not subscriptable",
     "output_type": "error",
     "traceback": [
      "\u001b[0;31m---------------------------------------------------------------------------\u001b[0m",
      "\u001b[0;31mTypeError\u001b[0m                                 Traceback (most recent call last)",
      "Cell \u001b[0;32mIn[29], line 1\u001b[0m\n\u001b[0;32m----> 1\u001b[0m s1[\u001b[38;5;241m0\u001b[39m]\n",
      "\u001b[0;31mTypeError\u001b[0m: 'set' object is not subscriptable"
     ]
    }
   ],
   "source": [
    "s1[0] # TypeError: 'set' object is not [subscriptable : index 이용 가능]"
   ]
  },
  {
   "cell_type": "markdown",
   "id": "79cf0f20",
   "metadata": {
    "slideshow": {
     "slide_type": "slide"
    }
   },
   "source": [
    "## Set 연산자\n",
    "\n",
    "-   **in, not in 연산자**\n",
    "    -   값 in Set\n",
    "        -   Set의 원소로 값이 **있으면** True, 없으면 False 반환\n",
    "    -   값 not in Set\n",
    "        -   Set의 원소로 값이 **없으면** True, 있으면 False 반환\n",
    "-   **len(Set)**\n",
    "    -   Set의 **원소의 개수** 반환\n",
    "-   **[집합연산자](#Set의-집합연산-연산자-및-메소드)**\n"
   ]
  },
  {
   "cell_type": "code",
   "execution_count": null,
   "id": "1c530013",
   "metadata": {},
   "outputs": [],
   "source": []
  },
  {
   "cell_type": "code",
   "execution_count": null,
   "id": "80be18ad",
   "metadata": {
    "slideshow": {
     "slide_type": "fragment"
    }
   },
   "outputs": [],
   "source": []
  },
  {
   "cell_type": "markdown",
   "id": "080c2a17",
   "metadata": {
    "slideshow": {
     "slide_type": "slide"
    }
   },
   "source": [
    "## Set의 주요 메소드\n",
    "\n",
    "| 메소드           | 설명                                   |\n",
    "| ---------------- | -------------------------------------- |\n",
    "| add(값)          | 집합에 값 추가                         |\n",
    "| update(자료구조) | 자료구조내의 원소들을 모두 집합에 추가 |\n",
    "| pop()            | 원소를 반환하고 Set에서 삭제한다.      |\n",
    "| remove(값)       | 값을 찾아서 Set에서 삭제한다.          |\n"
   ]
  },
  {
   "cell_type": "code",
   "execution_count": 30,
   "id": "6ec0eee0",
   "metadata": {},
   "outputs": [
    {
     "data": {
      "text/plain": [
       "{1, 2, 3, 4, 5}"
      ]
     },
     "execution_count": 30,
     "metadata": {},
     "output_type": "execute_result"
    }
   ],
   "source": [
    "s1"
   ]
  },
  {
   "cell_type": "code",
   "execution_count": 34,
   "id": "b12f08b0",
   "metadata": {
    "slideshow": {
     "slide_type": "fragment"
    }
   },
   "outputs": [
    {
     "data": {
      "text/plain": [
       "{1, 2, 3, 4, 5, 6}"
      ]
     },
     "execution_count": 34,
     "metadata": {},
     "output_type": "execute_result"
    }
   ],
   "source": [
    "s1.add(6) # 중복 값은 추가 x\n",
    "s1"
   ]
  },
  {
   "cell_type": "code",
   "execution_count": 68,
   "id": "79210fb9-1139-4a8f-950b-587dc51ed00f",
   "metadata": {},
   "outputs": [
    {
     "data": {
      "text/plain": [
       "{7, 8, 9, 10}"
      ]
     },
     "execution_count": 68,
     "metadata": {},
     "output_type": "execute_result"
    }
   ],
   "source": [
    "s1.update([7,8,9,10]) # 여러 값 추가 가능\n",
    "s1"
   ]
  },
  {
   "cell_type": "code",
   "execution_count": 38,
   "id": "160a7b4f-bde9-45ca-bb4b-ea93edb692b3",
   "metadata": {},
   "outputs": [
    {
     "ename": "KeyError",
     "evalue": "10",
     "output_type": "error",
     "traceback": [
      "\u001b[0;31m---------------------------------------------------------------------------\u001b[0m",
      "\u001b[0;31mKeyError\u001b[0m                                  Traceback (most recent call last)",
      "Cell \u001b[0;32mIn[38], line 1\u001b[0m\n\u001b[0;32m----> 1\u001b[0m s1\u001b[38;5;241m.\u001b[39mremove(\u001b[38;5;241m10\u001b[39m)\n\u001b[1;32m      2\u001b[0m s1\n\u001b[1;32m      3\u001b[0m s1\u001b[38;5;241m.\u001b[39mremove(\u001b[38;5;241m10\u001b[39m)\n",
      "\u001b[0;31mKeyError\u001b[0m: 10"
     ]
    }
   ],
   "source": [
    "s1.remove(10)\n",
    "s1\n",
    "s1.remove(10) # 값이 없는 경우엔 error"
   ]
  },
  {
   "cell_type": "code",
   "execution_count": 41,
   "id": "4dfb6e9e-0b0e-4116-939f-f47d90276a86",
   "metadata": {},
   "outputs": [
    {
     "data": {
      "text/plain": [
       "2"
      ]
     },
     "execution_count": 41,
     "metadata": {},
     "output_type": "execute_result"
    }
   ],
   "source": [
    "s1.pop() # FIFO"
   ]
  },
  {
   "cell_type": "code",
   "execution_count": 43,
   "id": "81c5a144-497e-46a9-bbbf-f8a00f923473",
   "metadata": {},
   "outputs": [
    {
     "data": {
      "text/plain": [
       "set()"
      ]
     },
     "execution_count": 43,
     "metadata": {},
     "output_type": "execute_result"
    }
   ],
   "source": [
    "s1.clear()\n",
    "s1"
   ]
  },
  {
   "cell_type": "code",
   "execution_count": 46,
   "id": "1e211e72-8f71-42aa-86e9-50616c22e5c8",
   "metadata": {},
   "outputs": [
    {
     "data": {
      "text/plain": [
       "(dict, set)"
      ]
     },
     "execution_count": 46,
     "metadata": {},
     "output_type": "execute_result"
    }
   ],
   "source": [
    "type({}), type(set()) # 괄호 생략 및 튜플로 반환"
   ]
  },
  {
   "cell_type": "markdown",
   "id": "33d115cd",
   "metadata": {
    "slideshow": {
     "slide_type": "subslide"
    }
   },
   "source": [
    "## Set의 집합연산 연산자 및 메소드\n",
    "\n",
    "-   합집합\n",
    "    -   집합A | 집합B\n",
    "    -   집합A.union(집합B)\n",
    "-   교집합\n",
    "    -   집합A & 집합B\n",
    "    -   집합A.intersection(집합B)\n",
    "-   차집합\n",
    "    -   집합A - 집합B\n",
    "    -   집합A.difference(집합B)\n"
   ]
  },
  {
   "cell_type": "code",
   "execution_count": 55,
   "id": "d2a32b55",
   "metadata": {},
   "outputs": [
    {
     "data": {
      "text/plain": [
       "{1, 2, 3, 4, 5, 6}"
      ]
     },
     "execution_count": 55,
     "metadata": {},
     "output_type": "execute_result"
    }
   ],
   "source": [
    "s2 = {1,2,3,4}\n",
    "s3 = {3,4,5,6}\n",
    "s2 | s3\n",
    "s2.union(s3)"
   ]
  },
  {
   "cell_type": "code",
   "execution_count": 52,
   "id": "e2d43f89",
   "metadata": {},
   "outputs": [
    {
     "data": {
      "text/plain": [
       "{3, 4}"
      ]
     },
     "execution_count": 52,
     "metadata": {},
     "output_type": "execute_result"
    }
   ],
   "source": [
    "s2 & s3\n",
    "s2.intersection(s3)"
   ]
  },
  {
   "cell_type": "code",
   "execution_count": 54,
   "id": "c89d1997-57e2-4088-a0ff-87ce9d38b7fc",
   "metadata": {},
   "outputs": [
    {
     "data": {
      "text/plain": [
       "{1, 2}"
      ]
     },
     "execution_count": 54,
     "metadata": {},
     "output_type": "execute_result"
    }
   ],
   "source": [
    "s2 - s3\n",
    "s2.difference(s3)"
   ]
  },
  {
   "cell_type": "markdown",
   "id": "17bf4f71",
   "metadata": {},
   "source": [
    "# 자료구조를 이용한 대입\n",
    "\n",
    "-   리스트, 튜플, 셋의 원소들을 개별 변수에 대입한다. 어느 자료구조에 적용하느냐에 따라 **리스트 대입, 튜플 대입, 셋 대입** 이라고 한다. 이중 리스트대입이나 튜플대입은 많이 사용된다.\n",
    "-   변수의 개수와 리스트 원소의 개수는 동일해야 한다.\n"
   ]
  },
  {
   "cell_type": "code",
   "execution_count": 58,
   "id": "73b925bb",
   "metadata": {},
   "outputs": [
    {
     "name": "stdout",
     "output_type": "stream",
     "text": [
      "10 20 30 가\n"
     ]
    }
   ],
   "source": [
    "a,b,c,d = 10,20,30,\"가\" # tuple 대입\n",
    "print(a,b,c,d)"
   ]
  },
  {
   "cell_type": "code",
   "execution_count": 60,
   "id": "64bf5839",
   "metadata": {
    "slideshow": {
     "slide_type": "fragment"
    }
   },
   "outputs": [
    {
     "name": "stdout",
     "output_type": "stream",
     "text": [
      "True 1 가\n"
     ]
    }
   ],
   "source": [
    "x,y,z = [True, 1, \"가\"] # list 대입\n",
    "print(x,y,z)"
   ]
  },
  {
   "cell_type": "code",
   "execution_count": 61,
   "id": "379755b0-f059-49b9-8c15-a5b1f17dc152",
   "metadata": {},
   "outputs": [
    {
     "name": "stdout",
     "output_type": "stream",
     "text": [
      "1 False 가\n"
     ]
    }
   ],
   "source": [
    "i,j,k = (1,False,\"가\") # set 대입\n",
    "print(i,j,k)"
   ]
  },
  {
   "cell_type": "code",
   "execution_count": 63,
   "id": "e28a0df0-5ca7-4d10-aeb1-ee664ae4109d",
   "metadata": {},
   "outputs": [
    {
     "name": "stdout",
     "output_type": "stream",
     "text": [
      "10 20 30\n"
     ]
    }
   ],
   "source": [
    "li = [10,20,30]\n",
    "l,m,n = li\n",
    "print(l,m,n)"
   ]
  },
  {
   "cell_type": "markdown",
   "id": "a3778f41",
   "metadata": {
    "slideshow": {
     "slide_type": "slide"
    }
   },
   "source": [
    "# 자료구조 변환 함수\n",
    "\n",
    "-   **list(자료구조)**\n",
    "    -   대상 자료구조/Iterable을 List로 변환한다.\n",
    "-   **tuple(자료구조)**\n",
    "    -   대상 자료구조/Iterable을 Tuple로 변환\n",
    "-   **set(자료구조)**\n",
    "    -   대상 자료구조/Iterable을 Set으로 변환\n",
    "    -   다른 자료구조의 원소 중 중복을 빼고 조회할 때 set()를 이용해 Set으로 변환한다.\n",
    "-   Dictionary로 변환하는 함수는 없다.\n",
    "    -   dict(key=value, ..) 는 딕셔너리 생성하는 함수이다.\n",
    "-   변경 대상이 Dictionary 일 경우에는 key값들만 모아서 변환한다.\n",
    "\n",
    "> -   **Iterable**\n",
    ">     -   반복가능한 객체.\n",
    ">     -   여러개의 값을 요청을 받을 때마다 하나씩 제공해주는 타입을 iterable 이라고 함.\n",
    ">         -   Iterable이 제공하는 값을 반복문을 이용해 조회할 경우 **for in문**을 사용한다.\n",
    ">     -   대표적으로 자료구조, 문자열 등이 있다.\n"
   ]
  },
  {
   "cell_type": "code",
   "execution_count": 64,
   "id": "07fd6373",
   "metadata": {
    "slideshow": {
     "slide_type": "fragment"
    }
   },
   "outputs": [
    {
     "data": {
      "text/plain": [
       "(1, 2, 3, 4, 5, 6)"
      ]
     },
     "execution_count": 64,
     "metadata": {},
     "output_type": "execute_result"
    }
   ],
   "source": [
    "o = [1,2,3,4,5,6]\n",
    "t = tuple(o)\n",
    "t"
   ]
  },
  {
   "cell_type": "code",
   "execution_count": 66,
   "id": "82ebe9ba-2432-47ed-8f30-02bc9034f033",
   "metadata": {},
   "outputs": [
    {
     "data": {
      "text/plain": [
       "{1, 2, 3, 4, 5, 6}"
      ]
     },
     "execution_count": 66,
     "metadata": {},
     "output_type": "execute_result"
    }
   ],
   "source": [
    "p = set(t)\n",
    "p"
   ]
  },
  {
   "cell_type": "code",
   "execution_count": 67,
   "id": "44334e0d-a584-4c03-a7a2-fd1434a7e238",
   "metadata": {},
   "outputs": [
    {
     "data": {
      "text/plain": [
       "[1, 2, 3, 4, 5, 6]"
      ]
     },
     "execution_count": 67,
     "metadata": {},
     "output_type": "execute_result"
    }
   ],
   "source": [
    "lst = list(p)\n",
    "lst"
   ]
  },
  {
   "cell_type": "code",
   "execution_count": 70,
   "id": "91c32892-d3fe-41c0-af69-b37d08fd15e9",
   "metadata": {},
   "outputs": [
    {
     "data": {
      "text/plain": [
       "['이름', '나이', '주소']"
      ]
     },
     "execution_count": 70,
     "metadata": {},
     "output_type": "execute_result"
    }
   ],
   "source": [
    "d = {\"이름\":\"홍길동\",\"나이\":20,\"주소\":\"서울\"}\n",
    "list(d) # dictionary 변환 시 key 값만 반환"
   ]
  },
  {
   "cell_type": "code",
   "execution_count": 71,
   "id": "a09bb1e3-a2d7-4028-81af-54c2f989fc9e",
   "metadata": {},
   "outputs": [
    {
     "data": {
      "text/plain": [
       "['a', 'b', 'c', 'd', 'e', 'f']"
      ]
     },
     "execution_count": 71,
     "metadata": {},
     "output_type": "execute_result"
    }
   ],
   "source": [
    "list(\"abcdef\")"
   ]
  },
  {
   "cell_type": "code",
   "execution_count": 72,
   "id": "b3b476b9-0b54-422d-9910-4f35f6a10f0a",
   "metadata": {},
   "outputs": [
    {
     "data": {
      "text/plain": [
       "{'a', 'b', 'c', 'd'}"
      ]
     },
     "execution_count": 72,
     "metadata": {},
     "output_type": "execute_result"
    }
   ],
   "source": [
    "set(\"abcd\")"
   ]
  },
  {
   "cell_type": "code",
   "execution_count": 73,
   "id": "49debb04-2bc7-432e-b8f2-b16d5785df4c",
   "metadata": {},
   "outputs": [
    {
     "data": {
      "text/plain": [
       "('안', '녕', '하', '세', '요')"
      ]
     },
     "execution_count": 73,
     "metadata": {},
     "output_type": "execute_result"
    }
   ],
   "source": [
    "tuple(\"안녕하세요\")"
   ]
  },
  {
   "cell_type": "code",
   "execution_count": 75,
   "id": "3ec46e43-cadf-494b-a5bc-98f80074442e",
   "metadata": {},
   "outputs": [
    {
     "data": {
      "text/plain": [
       "'a, b, c, d, e, f'"
      ]
     },
     "execution_count": 75,
     "metadata": {},
     "output_type": "execute_result"
    }
   ],
   "source": [
    "# 자료구조의 문자열들을 한 문자열로 합치기\n",
    "# \"구분자\".join(합칠 대상_iterable)\n",
    "s = \"abcdef\"\n",
    "l = list(s)\n",
    "\"\".join(l)\n",
    "\", \".join(l)"
   ]
  },
  {
   "cell_type": "markdown",
   "id": "b4671a5d",
   "metadata": {
    "slideshow": {
     "slide_type": "skip"
    }
   },
   "source": [
    "# TODO\n"
   ]
  },
  {
   "cell_type": "code",
   "execution_count": 77,
   "id": "b734640f-7fd9-4879-942d-f0e5fe147213",
   "metadata": {},
   "outputs": [
    {
     "name": "stdout",
     "output_type": "stream",
     "text": [
      "80\n",
      "[100, 90, 100, 80, 70]\n",
      "[80, 70, 100, 80]\n",
      "[90, 80, 100, 90, 85]\n",
      "[100, 100, 70, 80, 95]\n",
      "[100, 90, 100, 80, 70, 100, 80, 90, 20, 85]\n",
      "[100, 70, 80, 20, 85, 90]\n"
     ]
    }
   ],
   "source": [
    "# 문제 1 ~ 7\n",
    "jumsu = [100, 90, 100, 80, 70, 100, 80, 90, 95, 85]\n",
    "# 위 리스트는 학생번호 1번 ~ 10번까지 10명의 시험 점수이다.\n",
    "\n",
    "# (1)  7번의 점수를 출력하세요\n",
    "print(jumsu[6])\n",
    "\n",
    "# (2)  1번부터 5번까지의 점수를 출력하세요.\n",
    "print(jumsu[:5])\n",
    "\n",
    "# (3)  4, 5, 6, 7번의 점수를 출력하세요.\n",
    "print(jumsu[3:7])\n",
    "\n",
    "# (4) 짝수번째 점수를 출력하세요.\n",
    "print(jumsu[1::2])\n",
    "\n",
    "# (5) 홀수번째 점수를 출력하세요.\n",
    "print(jumsu[::2])\n",
    "\n",
    "# (6) 9번의 점수를 20으로 변경하고 전체 출력하세요.\n",
    "jumsu[8] = 20\n",
    "print(jumsu)\n",
    "\n",
    "# (7) 중복된 점수는 제거하고 하나씩만 나오도록 출력하세요.\n",
    "print(list(set(jumsu)))"
   ]
  },
  {
   "cell_type": "code",
   "execution_count": 1,
   "id": "33b3ad85-ddc6-4c51-8ced-3ac503dbb829",
   "metadata": {},
   "outputs": [
    {
     "data": {
      "text/plain": [
       "['수박', '딸기', '사과', '귤']"
      ]
     },
     "execution_count": 1,
     "metadata": {},
     "output_type": "execute_result"
    }
   ],
   "source": [
    "# 문제 8 ~ 9\n",
    "fruits = [\"복숭아\", \"수박\", \"딸기\"]\n",
    "\n",
    "# (8) fruits 리스트에 마지막 원소로 \"사과\", \"귤\"을 추가하세요.\n",
    "fruits.extend([\"사과\", \"귤\"])\n",
    "\n",
    "# (9) fruits 리스트에서 \"복숭아\"를 제거하세요.\n",
    "fruits.remove(\"복숭아\")\n",
    "# fruits.pop(0)\n",
    "# del fruits[0]\n",
    "fruits"
   ]
  },
  {
   "cell_type": "code",
   "execution_count": 8,
   "id": "12398809",
   "metadata": {
    "slideshow": {
     "slide_type": "skip"
    }
   },
   "outputs": [
    {
     "name": "stdout",
     "output_type": "stream",
     "text": [
      "기원준 kiwonjune@naver.com\n",
      "홍길동 26\n",
      "OTT 시청\n"
     ]
    }
   ],
   "source": [
    "# 문제 10 ~ 15\n",
    "# (10)본인의 이름, 나이, email주소, 취미, 결혼유무를 사전(딕셔너리)으로 생성.\n",
    "# 취미는 2개 이상의 값을 넣는다..\n",
    "dic = {\"이름\": \"기원준\", \"나이\": 26, \"email 주소\": \"kiwonjune@naver.com\", \"취미\": [\"수영\", \"OTT 시청\"], \"결혼유무\": False}\n",
    "dic2 = dict(이름=\"홍길동\",나이=26,취미=[\"도적질\",\"담넘기\"])\n",
    "# (11) 위 딕셔너리에서 이름과 email주소를 조회해서 출력하세요.\n",
    "print(dic[\"이름\"], dic[\"email 주소\"])\n",
    "print(dic2['이름'], dic2['나이'])\n",
    "# (12) 위 딕셔너리에서 취미중 두번째 취미를 조회해서 출력하세요.\n",
    "print(dic[\"취미\"][1])\n",
    "\n",
    "# (13) 위 딕셔너리에 몸무게와 키 항목을 추가하세요.\n",
    "dic[\"몸무게\"] = 85\n",
    "dic[\"키\"] = 177\n",
    "\n",
    "# (14) 위 딕셔너리에서 email 주소를 다른 값으로 변경하세요.\n",
    "dic[\"email 주소\"] = \"kiwonjune@gmail.com\"\n",
    "\n",
    "# (15) 위 딕셔너리에서 나이를 제거하세요.\n",
    "del dic[\"나이\"]\n",
    "# dic.pop('나이')"
   ]
  }
 ],
 "metadata": {
  "kernelspec": {
   "display_name": "Python 3 (ipykernel)",
   "language": "python",
   "name": "python3"
  },
  "language_info": {
   "codemirror_mode": {
    "name": "ipython",
    "version": 3
   },
   "file_extension": ".py",
   "mimetype": "text/x-python",
   "name": "python",
   "nbconvert_exporter": "python",
   "pygments_lexer": "ipython3",
   "version": "3.11.5"
  },
  "toc": {
   "base_numbering": 1,
   "nav_menu": {},
   "number_sections": true,
   "sideBar": true,
   "skip_h1_title": false,
   "title_cell": "Table of Contents",
   "title_sidebar": "Contents",
   "toc_cell": false,
   "toc_position": {
    "height": "calc(100% - 180px)",
    "left": "10px",
    "top": "150px",
    "width": "512px"
   },
   "toc_section_display": true,
   "toc_window_display": true
  },
  "varInspector": {
   "cols": {
    "lenName": 16,
    "lenType": 16,
    "lenVar": 40
   },
   "kernels_config": {
    "python": {
     "delete_cmd_postfix": "",
     "delete_cmd_prefix": "del ",
     "library": "var_list.py",
     "varRefreshCmd": "print(var_dic_list())"
    },
    "r": {
     "delete_cmd_postfix": ") ",
     "delete_cmd_prefix": "rm(",
     "library": "var_list.r",
     "varRefreshCmd": "cat(var_dic_list()) "
    }
   },
   "types_to_exclude": [
    "module",
    "function",
    "builtin_function_or_method",
    "instance",
    "_Feature"
   ],
   "window_display": false
  }
 },
 "nbformat": 4,
 "nbformat_minor": 5
}
