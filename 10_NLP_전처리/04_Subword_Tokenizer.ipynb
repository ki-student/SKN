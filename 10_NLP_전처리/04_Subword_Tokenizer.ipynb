{
 "cells": [
  {
   "cell_type": "markdown",
   "metadata": {},
   "source": [
    "\n",
    "# 형태소 분석 기반 토큰화의 문제\n",
    "- 형태소 분석기는 작성된 알고리즘 또는 학습된 내용을 바탕으로 토큰화를 하기 때문에 오탈자나 띄어쓰기 실수, 신조어, 외래어, 고유어 등이 사용된 경우 제대로 토큰화 하지 못한다.\n",
    "- 그래서 발생 할 수있는 잠재적 문제점\n",
    "    - 어휘사전을 크게 만든다.\n",
    "        - 같은 의미의 단어가 형태소 분석이 안되어 여러개 등록될 수있다.\n",
    "        - ex) 신조어 `돈쭐` 이라는 단어를 인식 못할 경우 `\"돈쭐내러\", \"돈쭐나\", \"돈쭐냄\"` 등이 다 등록 될 수 있다.\n",
    "    - OOV(Out Of Vocab)에 대응하기 어렵게 만든다.\n",
    "        - 같은 어근의 단어가 있지만 조사등이 바뀐 신조어등을 OOV로 인식할 수있다.\n",
    "\n",
    "\n",
    "\n",
    "\n",
    "> ### 어휘 사전(Vocabulary)과 Out Of Vocabulary (OOV)\n",
    "> \n",
    "> - 언어 모델링에서 **어휘 사전(Vocabulary)**은 모델이 처리할 수 있는 단어(토큰)들의 집합이다.  \n",
    "> - 어휘 사전은 보통 전체 데이터셋을 토큰화한 후, 각 토큰을 고유한 정수 인덱스로 매핑해 만든다.\n",
    ">    - 매핑된 정수는 모델에 입력되는 텍스트 데이터를 숫자 형식으로 변환해 모델이 처리할 수 있도록 돕는다.\n",
    ">    - 예시) {\"I\": 1, \"he\": 2, \"you\": 3, ...}\n",
    "> - **Out Of Vocabulary (OOV)**\n",
    ">    - 어휘 사전(Vocab): 코퍼스를 구성하는 모든 토큰의 집합.\n",
    ">    - **OOV**란 어휘 사전에 포함되지 않은 토큰을 의미하며, 모델이 해당 토큰을 처리할 수 없기 때문에 일반적으로 특별한 토큰(예: `[UNK]`)으로 대체되거나 다른 방식으로 처리된다.\n",
    "\n"
   ]
  },
  {
   "cell_type": "markdown",
   "metadata": {},
   "source": []
  },
  {
   "cell_type": "markdown",
   "metadata": {},
   "source": [
    "# Subword Tokenization(하위 단어 토큰화)\n",
    "\n",
    "## 정의\n",
    "\n",
    "- Subword Tokenization은 단어를 더 작은 단위(subword)로 나누어 텍스트를 토큰화하는 방식이다.  \n",
    "    - subword는 하나의 단어를 구성하는 단어들을 말한다.(coworker: co, work, er)\n",
    "- 주로 자주 등장하는 단어의 일부를 공통된 토큰으로 만들고, 희귀하거나 복합적인 단어는 작은 조각(subword)으로 나누어 처리한다.\n",
    "- 단어 자체를 그대로 사용하기보다는 단어의 일부를 나누어 처리함으로써 새로운 단어나 미등록 단어(Out-of-Vocabulary) 문제를 줄일 수 있다.\n",
    "\n",
    "## 장점\n",
    "\n",
    "1. **미등록 단어 처리 가능**  \n",
    "   -  새로운 단어(신조어, 속어, 고유어등)가 등장해도 미리 정의된 subword를 조합해서 표현할 수 있어 OOV 문제를 줄일 수 있다.  \n",
    "\n",
    "2. **어휘 크기 축소**  \n",
    "   - 같은 subword를 여러 단어에서 공유함으로써, 완전한 단어를 사용하는 경우보다 어휘집의 크기를 작게 유지할 수 있다.\n",
    "\n",
    "\n",
    "## 종류\n",
    "\n",
    "1. **Byte-Pair Encoding (BPE)**  \n",
    "   - 자주 등장하는 문자 쌍을 반복적으로 병합해 서브워드를 생성하는 방식.\n",
    "   - OpenAI의 GPT 모델에 사용된 토크나이저이다.\n",
    "\n",
    "2. **Unigram**  \n",
    "   - 빈도기반 확률모델에 따라 subword 단위를 선택하는 방식이다.  \n",
    "   - BPE보다 유연하여 더 다양한 분할 결과를 얻을 수 있다.\n",
    "\n",
    "3. **WordPiece**  \n",
    "   - BPE와 유사하지만, 빈도수가 아니라, 가능성이 높은 조합(합쳐질 가능성이 높은 subword)에 기반해 subword들을 찾는다.\n",
    "   - Google의 BERT 모델에 사용된 토크나이저이다."
   ]
  },
  {
   "cell_type": "markdown",
   "metadata": {},
   "source": [
    "# Byte Pair Encoding 방식\n",
    "\n",
    "- 원래 Text data 압축을 위해 만들어진 방법으로 text 에서 많이 등장하는 두글자 쌍의 조합을 찾아 부호화하는 알고리즘이다. \n",
    "- 연속된 글자 쌍이 더 나타나지 않거나 정해진 어휘사전 크기에 도달 할 때 까지 조합을 찾아 부호화 하는 작업을 반복한다.\n",
    "\n",
    "## text 압축 방식의 예\n",
    "- 원문: abracadabra\n",
    "1. AracadAra: ab -> A :=> 원문에서 가장 빈도수 많은 ab를 A(부호로 아무 글자나 사용할 수 있다.)로 치환\n",
    "2. ABcadAB: ra -> B :=> 1에서 가장 빈도수가 많은 ra를 B로 치환\n",
    "3. CcadC: AB -> C :=> 2에서 가장 빈도수 맣은 AB를 C로 치환한다.(치환된 글자 쌍도 변환대상에 포함된다.)\n",
    "\n",
    "## BPE Tokenizer 방식\n",
    "BPE 토크나이저는 자주 등장하는 글자 쌍을 찾아 치환하는 대신 **단어 사전**에 추가한다.\n",
    "\n",
    "### 예)\n",
    "1. 말뭉치의 토큰들의 빈도수, 어휘사전은 아래와 같을 경우\n",
    "    - 빈도사전: ('low', 5), ('lower', 2), ('newest', 6), ('widest', 3)\n",
    "    - 어휘사전: ['low', 'lower', 'newest', 'widest']\n",
    "2. 빈도 사전내의 모든 단어들을 글자 단위로 나눈다. (Pre Tokenization)\n",
    "    - 빈도사전: ('l', 'o', 'w',  5), ('l', 'o', 'w', 'e', 'r', 2), ('n', 'e', 'w', 'e', 's', 't', 6), ('w', 'i', 'd', 'e', 's', 't', 3)\n",
    "    - 어휘사전: ['d', 'e', 'i', 'l', 'n', 'o', 'r', 's', 't', 'w']\n",
    "3. 빈도 사전을 기준으로 가장 자주 등장하는 글자 쌍(byte pair)를 찾는다.  위에서는 **'e'와 's'가 총 9번으로 가장 많이 등장함**. 'e'와 's'를 'es'로 합치고 어휘 사전에 추가한다.\n",
    "    - 빈도사전: ('l', 'o', 'w',  5), ('l', 'o', 'w', 'e', 'r', 2), ('n', 'e', 'w', **'es'**, 't', 6), ('w', 'i', 'd', **'es'**, 't', 3)\n",
    "    - 어휘사전: ['d', 'e', 'i', 'l', 'n', 'o', 'r', 's', 't', 'w', **'es'**]\n",
    "4. 3 번의 과정을 계속 반복한다. 빈도수가 가장 많은 'es'와 't' 쌍을 'est'로 병합하고 'est'를 어휘 사전에 추가한다.\n",
    "    - 빈도사전: ('l', 'o', 'w',  5), ('l', 'o', 'w', 'e', 'r', 2), ('n', 'e', 'w', **'est'**, 6), ('w', 'i', 'd', **'est'**, 3)\n",
    "    - 어휘사전: ['d', 'e', 'i', 'l', 'n', 'o', 'r', 's', 't', 'w', **'es'**, **'est'**]\n",
    "5. 만약 10번 반복했다고 하면 다음과 같은 빈도 사전과 어휘 사전이 생성된다.\n",
    "    - 빈도 사전: (**'low'**, 5), (**'low'**, 'e', 'r', 2), ('n', 'e', 'w', **'est'**, 6), ('w', 'i', 'd', **'est'**, 3)\n",
    "    - 어휘사전: ['d', 'e', 'i', 'l', 'n', 'o', 'r', 's', 't', 'w', **'es'**, **'est'**, **'lo'**,**'low'**, **'low'**, **'ne'**, **'new'**, **'newest'**, **'wi'**, **'wid'**, **'widest'**]\n",
    "\n",
    "- 위와 같이 어휘 사전이 만들어 지면 원래 어휘서전에 없던 것들에 대한 처리를 할 수있다.\n",
    "    - ex)\n",
    "        - 'newer' :=> 'new', 'e', 'r', \n",
    "        - 'lowest' :=> 'low', 'est'\n",
    "        - 'wider' :=> 'wid', 'e', 'r'"
   ]
  },
  {
   "cell_type": "markdown",
   "metadata": {},
   "source": [
    "# WordPiece tokenizer\n",
    "\n",
    "- Byte Pair Encoding 이 빈도 기반이라면 wordpiece tokenizer는 확률 기반으로 글자 쌍을 병합한다.\n",
    "- 두개 글자 쌍의 빈도수를 각 개별 글자 빈도수의 곱으로 나눈 점수가 가장 높은 순서대로 글자쌍을 묶어 나간다.\n",
    "\n",
    "$$\n",
    "score = \\cfrac{f(x, y)}{f(x)\\cdot f(y)} \n",
    "$$\n",
    "\n",
    "함수 f는 빈도를 나타내며 x, y는 병합하려는 하위 단어이다.\n",
    "\n",
    "- 빈도사전: ('l','o','w', 5), ('l','o','w', 'e', 'r', 2), ('n', 'e', 'w', 'e', 's', 't', 6), ('w', 'i', 'd', 'e', 's', 't', 3)\n",
    "- 어휘사전: ('d', 'e', 'i', 'l', 'n', 'o', 'r', 's', 't', 'w')\n",
    "- 가장 빈도수가 높은 쌍은 'e','s'로 9번 등장한다. 이때 각 글자는 전체에서 각각 'e'는 17번, 's'는 9번 등장한다. 위 공식에 대입하면 score는 $\\frac{9}{17 \\times 9} \\approx 0.06$ 이다.\n",
    "- 'i'와 'd' 쌍은 3번만 등장하지만 전체에서 각각 'i' 3번, 'd' 3번 등장한다. 그래서 score는 $\\frac{3}{3 \\times 3} \\approx 0.33$ 이다.\n",
    "- 나타난 빈도수는 'es' 가 많치만 더 높은 score를 가지는 'id' 쌍을 병합한다.\n",
    "- 빈도사전: ('l','o','w', 5), ('l','o','w', 'e', 'r', 2), ('n', 'e', 'w', 'e', 's', 't', 6), ('w', **'id'**, 'e', 's', 't', 3)\n",
    "- 어휘사전: ('d', 'e', 'i', 'l', 'n', 'o', 'r', 's', 't', 'w', **'id'**)\n",
    "위의 작업을 반복해 연속된 글자 쌍이 더이상 나타나지 않거나 어휘 사전 max 크기에 도달할 때 까지 학습한다."
   ]
  },
  {
   "cell_type": "markdown",
   "metadata": {},
   "source": [
    "# Unigram 방식\n",
    "- 빈도 기반 확률 모델을 사용하여 효율적으로 서브워드를 선택하고, 불필요한 서브워드를 제거해 최적의 어휘 크기를 찾는 알고리즘\n",
    "\n",
    "\n",
    "- **초기 어휘 집합 구성**\n",
    "    - 대상 text에 모든 단어와 그 서브스트링을 포함한 어휘 집합을 생성한다. 이 어휘 집합은 나올 수있는 모든 subword들을 다 모아놓은 것이다. \n",
    "    - 예를 들어 \"hug\" 단어의  [\"h\", \"u\", \"g\", \"hu\", \"ug\", \"hug\"]  substring을 만든다. 이들이 subword 후보가 된다.\n",
    "- **각 Subword의 빈도수 기반 확률 계산**\n",
    "    -  $\\cfrac{subword가\\;나타난\\;횟수}{전체\\;빈도수}$ 로 각 subword들의 나타난 확률을 계산한다.\n",
    "- **가능한 분할에 대한 확률 계산**\n",
    "    - 단어를 여러 서브워드로 분할할 수 있는 경우, 각 분할에 대한 전체 확률을 계산한다.\n",
    "    - 확률 계산은 $ P(subword1)\\;\\times \\; P(subword2)\\;\\times\\; ..$ 으로 계산한다.\n",
    "    - 예를 들어 \"hug\" 를 분할 한다고 했을 때\n",
    "        1. \\[\"h\", \"u\", \"g\"\\]: $ P(h) \\times P(u) \\times P(g) $\n",
    "        2. \\[\"hu\", \"g\"\\]: $ P(pu) \\times P(g) $\n",
    "\n",
    "   - 각각의 확률을 계산한 후, **가장 높은 확률**을 가진 분할을 선택한다.\n",
    "     - 위 예에서 만약 1의 확률이 0.01 이고 2의 확률이 0.00001 이라면 첫번째 분할이 선택된다.\n",
    "\n",
    "- **서브워드 제거**\n",
    "    - 위의 훈견과정에서 불필요한 서브워드를 제거하면서 최적의 어휘 집합을 찾아간다. \n",
    "    - 제거 대상은 빈도수가 낮거나 조합에 크게 영향을 주지 않은 subword들이다."
   ]
  },
  {
   "cell_type": "code",
   "execution_count": 1,
   "metadata": {},
   "outputs": [
    {
     "name": "stdout",
     "output_type": "stream",
     "text": [
      "Collecting korpora\n",
      "  Downloading Korpora-0.2.0-py3-none-any.whl.metadata (26 kB)\n",
      "Collecting tokenizers\n",
      "  Downloading tokenizers-0.21.1-cp39-abi3-macosx_11_0_arm64.whl.metadata (6.8 kB)\n",
      "Collecting dataclasses>=0.6 (from korpora)\n",
      "  Downloading dataclasses-0.6-py3-none-any.whl.metadata (3.0 kB)\n",
      "Requirement already satisfied: numpy>=1.18.0 in /Users/giwonjun/anaconda3/envs/dl/lib/python3.12/site-packages (from korpora) (2.2.6)\n",
      "Collecting tqdm>=4.46.0 (from korpora)\n",
      "  Using cached tqdm-4.67.1-py3-none-any.whl.metadata (57 kB)\n",
      "Collecting requests>=2.20.0 (from korpora)\n",
      "  Using cached requests-2.32.3-py3-none-any.whl.metadata (4.6 kB)\n",
      "Collecting xlrd>=1.2.0 (from korpora)\n",
      "  Using cached xlrd-2.0.1-py2.py3-none-any.whl.metadata (3.4 kB)\n",
      "Collecting huggingface-hub<1.0,>=0.16.4 (from tokenizers)\n",
      "  Downloading huggingface_hub-0.31.4-py3-none-any.whl.metadata (13 kB)\n",
      "Collecting filelock (from huggingface-hub<1.0,>=0.16.4->tokenizers)\n",
      "  Using cached filelock-3.18.0-py3-none-any.whl.metadata (2.9 kB)\n",
      "Collecting fsspec>=2023.5.0 (from huggingface-hub<1.0,>=0.16.4->tokenizers)\n",
      "  Downloading fsspec-2025.5.0-py3-none-any.whl.metadata (11 kB)\n",
      "Requirement already satisfied: packaging>=20.9 in /Users/giwonjun/anaconda3/envs/dl/lib/python3.12/site-packages (from huggingface-hub<1.0,>=0.16.4->tokenizers) (25.0)\n",
      "Collecting pyyaml>=5.1 (from huggingface-hub<1.0,>=0.16.4->tokenizers)\n",
      "  Using cached PyYAML-6.0.2-cp312-cp312-macosx_11_0_arm64.whl.metadata (2.1 kB)\n",
      "Collecting typing-extensions>=3.7.4.3 (from huggingface-hub<1.0,>=0.16.4->tokenizers)\n",
      "  Using cached typing_extensions-4.13.2-py3-none-any.whl.metadata (3.0 kB)\n",
      "Collecting charset-normalizer<4,>=2 (from requests>=2.20.0->korpora)\n",
      "  Downloading charset_normalizer-3.4.2-cp312-cp312-macosx_10_13_universal2.whl.metadata (35 kB)\n",
      "Collecting idna<4,>=2.5 (from requests>=2.20.0->korpora)\n",
      "  Using cached idna-3.10-py3-none-any.whl.metadata (10 kB)\n",
      "Collecting urllib3<3,>=1.21.1 (from requests>=2.20.0->korpora)\n",
      "  Using cached urllib3-2.4.0-py3-none-any.whl.metadata (6.5 kB)\n",
      "Collecting certifi>=2017.4.17 (from requests>=2.20.0->korpora)\n",
      "  Using cached certifi-2025.4.26-py3-none-any.whl.metadata (2.5 kB)\n",
      "Downloading Korpora-0.2.0-py3-none-any.whl (57 kB)\n",
      "Downloading tokenizers-0.21.1-cp39-abi3-macosx_11_0_arm64.whl (2.7 MB)\n",
      "\u001b[2K   \u001b[90m━━━━━━━━━━━━━━━━━━━━━━━━━━━━━━━━━━━━━━━━\u001b[0m \u001b[32m2.7/2.7 MB\u001b[0m \u001b[31m59.1 MB/s\u001b[0m eta \u001b[36m0:00:00\u001b[0m\n",
      "\u001b[?25hDownloading huggingface_hub-0.31.4-py3-none-any.whl (489 kB)\n",
      "Downloading dataclasses-0.6-py3-none-any.whl (14 kB)\n",
      "Downloading fsspec-2025.5.0-py3-none-any.whl (196 kB)\n",
      "Using cached PyYAML-6.0.2-cp312-cp312-macosx_11_0_arm64.whl (173 kB)\n",
      "Using cached requests-2.32.3-py3-none-any.whl (64 kB)\n",
      "Downloading charset_normalizer-3.4.2-cp312-cp312-macosx_10_13_universal2.whl (199 kB)\n",
      "Using cached idna-3.10-py3-none-any.whl (70 kB)\n",
      "Using cached urllib3-2.4.0-py3-none-any.whl (128 kB)\n",
      "Using cached certifi-2025.4.26-py3-none-any.whl (159 kB)\n",
      "Using cached tqdm-4.67.1-py3-none-any.whl (78 kB)\n",
      "Using cached typing_extensions-4.13.2-py3-none-any.whl (45 kB)\n",
      "Using cached xlrd-2.0.1-py2.py3-none-any.whl (96 kB)\n",
      "Using cached filelock-3.18.0-py3-none-any.whl (16 kB)\n",
      "Installing collected packages: dataclasses, xlrd, urllib3, typing-extensions, tqdm, pyyaml, idna, fsspec, filelock, charset-normalizer, certifi, requests, korpora, huggingface-hub, tokenizers\n",
      "\u001b[2K   \u001b[90m━━━━━━━━━━━━━━━━━━━━━━━━━━━━━━━━━━━━━━━━\u001b[0m \u001b[32m15/15\u001b[0m [tokenizers]5\u001b[0m [huggingface-hub]\n",
      "\u001b[1A\u001b[2KSuccessfully installed certifi-2025.4.26 charset-normalizer-3.4.2 dataclasses-0.6 filelock-3.18.0 fsspec-2025.5.0 huggingface-hub-0.31.4 idna-3.10 korpora-0.2.0 pyyaml-6.0.2 requests-2.32.3 tokenizers-0.21.1 tqdm-4.67.1 typing-extensions-4.13.2 urllib3-2.4.0 xlrd-2.0.1\n",
      "Note: you may need to restart the kernel to use updated packages.\n"
     ]
    }
   ],
   "source": [
    "%pip install korpora tokenizers"
   ]
  },
  {
   "cell_type": "code",
   "execution_count": 2,
   "metadata": {},
   "outputs": [
    {
     "name": "stdout",
     "output_type": "stream",
     "text": [
      "\n",
      "    Korpora 는 다른 분들이 연구 목적으로 공유해주신 말뭉치들을\n",
      "    손쉽게 다운로드, 사용할 수 있는 기능만을 제공합니다.\n",
      "\n",
      "    말뭉치들을 공유해 주신 분들에게 감사드리며, 각 말뭉치 별 설명과 라이센스를 공유 드립니다.\n",
      "    해당 말뭉치에 대해 자세히 알고 싶으신 분은 아래의 description 을 참고,\n",
      "    해당 말뭉치를 연구/상용의 목적으로 이용하실 때에는 아래의 라이센스를 참고해 주시기 바랍니다.\n",
      "\n",
      "    # Description\n",
      "    Author : Hyunjoong Kim lovit@github\n",
      "    Repository : https://github.com/lovit/petitions_archive\n",
      "    References :\n",
      "\n",
      "    청와대 국민청원 게시판의 데이터를 월별로 수집한 것입니다.\n",
      "    청원은 게시판에 글을 올린 뒤, 한달 간 청원이 진행됩니다.\n",
      "    수집되는 데이터는 청원종료가 된 이후의 데이터이며, 청원 내 댓글은 수집되지 않습니다.\n",
      "    단 청원의 동의 개수는 수집됩니다.\n",
      "    자세한 내용은 위의 repository를 참고하세요.\n",
      "\n",
      "    # License\n",
      "    CC0 1.0 Universal (CC0 1.0) Public Domain Dedication\n",
      "    Details in https://creativecommons.org/publicdomain/zero/1.0/\n",
      "\n"
     ]
    },
    {
     "name": "stderr",
     "output_type": "stream",
     "text": [
      "[korean_petitions] download petitions_2017-08: 1.84MB [00:00, 29.3MB/s]\n",
      "[korean_petitions] download petitions_2017-09: 20.4MB [00:00, 59.8MB/s]                            \n",
      "[korean_petitions] download petitions_2017-10: 12.0MB [00:00, 34.2MB/s]                            \n",
      "[korean_petitions] download petitions_2017-11: 28.4MB [00:00, 59.4MB/s]                            \n",
      "[korean_petitions] download petitions_2017-12: 29.0MB [00:00, 52.0MB/s]                            \n",
      "[korean_petitions] download petitions_2018-01: 43.9MB [00:00, 54.7MB/s]                            \n",
      "[korean_petitions] download petitions_2018-02: 33.8MB [00:00, 54.2MB/s]                            \n",
      "[korean_petitions] download petitions_2018-03: 34.3MB [00:00, 54.3MB/s]                            \n",
      "[korean_petitions] download petitions_2018-04: 35.5MB [00:00, 51.0MB/s]                            \n",
      "[korean_petitions] download petitions_2018-05: 37.5MB [00:00, 53.2MB/s]                            \n",
      "[korean_petitions] download petitions_2018-06: 37.8MB [00:00, 57.2MB/s]                            \n",
      "[korean_petitions] download petitions_2018-07: 40.5MB [00:00, 59.2MB/s]                            \n",
      "[korean_petitions] download petitions_2018-08: 39.8MB [00:00, 62.5MB/s]                            \n",
      "[korean_petitions] download petitions_2018-09: 36.1MB [00:00, 52.4MB/s]                            \n",
      "[korean_petitions] download petitions_2018-10: 38.1MB [00:00, 52.5MB/s]                            \n",
      "[korean_petitions] download petitions_2018-11: 37.7MB [00:00, 63.3MB/s]                            \n",
      "[korean_petitions] download petitions_2018-12: 33.0MB [00:00, 56.8MB/s]                            \n",
      "[korean_petitions] download petitions_2019-01: 34.8MB [00:00, 67.5MB/s]                            \n",
      "[korean_petitions] download petitions_2019-02: 30.8MB [00:00, 63.0MB/s]                            \n",
      "[korean_petitions] download petitions_2019-03: 34.9MB [00:00, 61.8MB/s]                            \n"
     ]
    },
    {
     "data": {
      "text/plain": [
       "<Korpora.korpus_korean_petitions.KoreanPetitionsKorpus at 0x105f71580>"
      ]
     },
     "execution_count": 2,
     "metadata": {},
     "output_type": "execute_result"
    }
   ],
   "source": [
    "from Korpora import Korpora\n",
    "corpus = Korpora.load(\"korean_petitions\")\n",
    "corpus"
   ]
  },
  {
   "cell_type": "code",
   "execution_count": 3,
   "metadata": {},
   "outputs": [
    {
     "data": {
      "text/plain": [
       "433631"
      ]
     },
     "execution_count": 3,
     "metadata": {},
     "output_type": "execute_result"
    }
   ],
   "source": [
    "petitions = corpus.get_all_texts() # 청원데이터를 반환. list[str] str: 개별 청원\n",
    "len(petitions)"
   ]
  },
  {
   "cell_type": "code",
   "execution_count": 4,
   "metadata": {},
   "outputs": [
    {
     "name": "stdout",
     "output_type": "stream",
     "text": [
      "안녕하세요. 현재 사대, 교대 등 교원양성학교들의 예비교사들이 임용절벽에 매우 힘들어 하고 있는 줄로 압니다. 정부 부처에서는 영양사의 영양'교사'화, 폭발적인 영양'교사' 채용, 기간제 교사, 영전강, 스강의 무기계약직화가 그들의 임용 절벽과는 전혀 무관한 일이라고 주장하고 있지만 조금만 생각해보면 전혀 설득력 없는 말이라고 생각합니다. 학교 수가 같고, 학생 수가 동일한데 영양교사와 기간제 교사, 영전강 스강이 학교에 늘어나게 되면 당연히 정규 교원의 수는 줄어들게 되지 않겠습니까? 기간제 교사, 영전강, 스강의 무기계약직화, 정규직화 꼭 전면 백지화해주십시오. 백년대계인 국가의 교육에 달린 문제입니다. 단순히 대통령님의 일자리 공약, 81만개 일자리 창출 공약을 지키시고자 돌이킬 수 없는 실수는 하지 않으시길 바랍니다. 세계 어느 나라와 비교해도, 한국 교원의 수준과 질은 최고 수준입니다. 고등교육을 받고 어려운 국가 고시를 통과해야만 대한민국 공립 학교의 교단에 설 수 있고, 이러한 과정이 힘들기는 하지만 교원들이 교육자로서의 사명감과 자부심을 갖고 교육하게 되는 원동력이기도 합니다. 자격도 없는 비정규 인력들을 일자리 늘리기 명목 하에 학교로 들이게 되면, 그들이 무슨 낯으로 대한민국이 '공정한 사회' 라고 아이들에게 가르칠 수 있겠습니까? 그들이 가르치는 것을 학부모와 학생들이 납득할 수 있겠으며, 학생들은 공부를 열심히 해야하는 이유를 찾을 수나 있겠습니까? 열심히 안 해도 떼 쓰면 되는 세상이라고 생각하지 않겠습니까? 영양사의 영양교사화도 재고해주십시오. 영양사분들 정말 너무나 고마운 분들입니다. 학생들의 건강과 영양? 당연히 성장기에 있는 아이들에게 필수적이고 중요한 문제입니다. 하지만 이들이 왜 교사입니까. 유래를 찾아 볼 수 없는 영양사의 '교사'화. 정말 대통령님이 생각하신 아이디어라고 믿기 싫을 정도로 납득하기 어렵습니다. 중등은 실과교과 교사가 존재하지요? 초등 역시 임용 시험에 실과가 포함돼 있으며 학교 현장에서도 정규 교원이 직접 실과 과목을 학생들에게 가르칩니다. 영양'교사', 아니 영양사가 학생들에게 실과를 가르치지 않습니다. 아니 그 어떤 것도 가르치지 않습니다. 올해 대통령님 취임 후에 초등, 중등 임용 티오가 초전박살 나는 동안 영양'교사' 티오는 폭발적으로 확대된 줄로 압니다. 학생들의 교육을 위해 정말 교원의 수를 줄이고, 영양 교사의 수를 늘리는 것이 올바른 해답인지 묻고 싶습니다. 마지막으로 교원 당 학생 수. 이 통계도 제대로 내주시기 바랍니다. 다른 나라들은 '정규 교원', 즉 담임이나 교과 교사들로만 통계를 내는데(너무나 당연한 것이지요) 왜 한국은 보건, 영양, 기간제, 영전강, 스강 까지 다 포함해서 교원 수 통계를 내는건가요? 이런 통계의 장난을 통해 OECD 평균 교원 당 학생 수와 거의 비슷한 수준에 이르렀다고 주장하시는건가요? 학교는 교육의 장이고 학생들의 공간이지, 인력 센터가 아닙니다. 부탁드립니다. 부디 넓은 안목으로 멀리 내다봐주시길 간곡히 부탁드립니다.\n"
     ]
    }
   ],
   "source": [
    "print(petitions[0])"
   ]
  },
  {
   "cell_type": "code",
   "execution_count": 5,
   "metadata": {},
   "outputs": [],
   "source": [
    "# 파일로 저장\n",
    "save_petitions_path = \"./data/petitions_corpus.txt\"\n",
    "with open(save_petitions_path, \"wt\", encoding='utf-8') as fw:\n",
    "    for p in petitions:\n",
    "        fw.write(p+\"\\n\")"
   ]
  },
  {
   "cell_type": "code",
   "execution_count": 6,
   "metadata": {},
   "outputs": [],
   "source": [
    "# 저장된 txt 읽기\n",
    "with open(save_petitions_path, 'rt', encoding='utf-8') as fr:\n",
    "    petitions_txt = fr.read()"
   ]
  },
  {
   "cell_type": "markdown",
   "metadata": {},
   "source": [
    "# Hugging Face tokenizers 패키지 사용해 토큰화 수행\n",
    "- Subword tokenization을 처리하는 다양한 패키지(라이브러리)가 있다.\n",
    "\n",
    "## 주요 라이브러리 \n",
    "- [tokenizers](https://huggingface.co/docs/tokenizers/index)\n",
    "    - huggingface에서 개발한 tokenizer 라이브러리로 BPE, WordPiece, Unigram 알고리즘을 지원한다. \n",
    "    - 설치: `pip install tokenizers`\n",
    "- [Sentencepiece](https://github.com/google/sentencepiece)\n",
    "    - 구글에서 개발한 subword tokenizer 라이브러리로 BPE, Unigram 방식 지원.\n",
    "    - 설치: `pip install sentencepiece`"
   ]
  },
  {
   "cell_type": "markdown",
   "metadata": {},
   "source": [
    "> ### korpora 말뭉치\n",
    "> - 다양한 한글 데이터셋을 제공하는 패키지\n",
    "> - `pip install korpora`"
   ]
  },
  {
   "cell_type": "markdown",
   "metadata": {},
   "source": [
    "## Hugging Face tokenizers 패키지이용\n",
    "\n",
    "- 설치: `pip install tokenizers`\n",
    "- Tokenizer 생성\n",
    "    - 토큰화 알고리즘을 지정해 instance 생성.\n",
    "- Trainer 생성\n",
    "    - 학습 파라미터를 설정해서 instance 생성\n",
    "- Tokenizer 학습\n",
    "    - train() 메소드: 학습 text 파일 경로를 지정해서 학습\n",
    "    - train_from_iterator() 메소드: 학습할 string들을 iterator를 통해 제공.\n",
    "- https://github.com/huggingface/tokenizers\n",
    "\n"
   ]
  },
  {
   "cell_type": "code",
   "execution_count": 7,
   "metadata": {},
   "outputs": [
    {
     "name": "stdout",
     "output_type": "stream",
     "text": [
      "Ignored unknown kwargs option min_fequency\n"
     ]
    }
   ],
   "source": [
    "import time\n",
    "# Tokenizer\n",
    "from tokenizers import Tokenizer\n",
    "from tokenizers.models import BPE\n",
    "# subword 알고리즘을 적용하기 전에 어떻게 나눠놓을 것인지.\n",
    "from tokenizers.pre_tokenizers import Whitespace\n",
    "# Trainer (학습)\n",
    "from tokenizers.trainers import BpeTrainer\n",
    "\n",
    "# 토크나이저 생성\n",
    "## subword 알고리즘을 구현한 Tokenizer의 객체를 넣어 생성. (BPE)\n",
    "### unk_token: OOV(Unknow) 단어(토큰)을 처리할 토큰을 지정.\n",
    "tokenizer = Tokenizer(BPE(unk_token='[UNK]'))\n",
    "# pre tokenizer를 등록\n",
    "tokenizer.pre_tokenizer = Whitespace() # 공백을 기준으로 미리 토큰화해 놓는다.\n",
    "\n",
    "# tokenzer를 학습하는 Trainer객체 -> Tokenizer알고리즘 별로 Trainer클래스가 제공됨.\n",
    "# initializer에 어떻게 학습시킬지 설정\n",
    "trainer = BpeTrainer(\n",
    "    vocab_size=10000,  # 어휘사전의 최대 크기(고유 토큰의 최대 개수.) - 30000\n",
    "    min_fequency=10,   # 사전에 넣을 토큰의 **최소 출연 횟수**(빈도수)\n",
    "    special_tokens=[\"[UNK]\", \"[PAD]\"], \n",
    "    # 어휘사전에 추가할 특수(목적)토큰(Special token)들 지정. 이중 unk_token은 반드시 설정해야 함. \n",
    ")\n",
    "# special token: [UNK] - oov 토큰을 표시. [PAD] - 문장의 토큰수를 맞추기 위한 padding(채우는 토큰)\n",
    "#                [CLS] - 문서의 시작을 표시 + 전체문서의 의미를 저장하는 토큰을 사용(BERT)\n",
    "              #  [SOS] - 문서의 시작, [EOS] - 문서의 끝\n",
    "              #  [SEP] - 문서가 여러 문장으로 구성된 경우 문장 구분\n",
    "              #  [MASK] - 일부 토큰을 가리는 토큰."
   ]
  },
  {
   "cell_type": "code",
   "execution_count": 8,
   "metadata": {},
   "outputs": [
    {
     "name": "stdout",
     "output_type": "stream",
     "text": [
      "\n",
      "\n",
      "\n",
      "걸린시간: 24.763062000274658 초\n"
     ]
    }
   ],
   "source": [
    "# 학습 - corpus를 받아서 어휘사전을 만드는 작업.\n",
    "s = time.time()\n",
    "tokenizer.train([\"data/petitions_corpus.txt\"], trainer=trainer) #학습시킬 파일 경로(들),  Trainer객체\n",
    "e = time.time()\n",
    "print('걸린시간:', (e-s), \"초\")"
   ]
  },
  {
   "cell_type": "code",
   "execution_count": 9,
   "metadata": {},
   "outputs": [],
   "source": [
    "# 학습된 tokenizer를 disk에 저장.\n",
    "import os\n",
    "os.makedirs(\"saved_models\", exist_ok=True)\n",
    "\n",
    "# 저장 - tokenizer.save(경로)\n",
    "save_path = \"saved_models/petitions_bpe.json\"\n",
    "tokenizer.save(save_path)"
   ]
  },
  {
   "cell_type": "code",
   "execution_count": 10,
   "metadata": {},
   "outputs": [],
   "source": [
    "# 저장된 모델 load\n",
    "load_tokenizer = Tokenizer.from_file(save_path)"
   ]
  },
  {
   "cell_type": "code",
   "execution_count": 11,
   "metadata": {},
   "outputs": [
    {
     "name": "stdout",
     "output_type": "stream",
     "text": [
      "vocab size(어휘사전에 어휘수): 10000\n"
     ]
    }
   ],
   "source": [
    "# vocab size\n",
    "print(\"vocab size(어휘사전에 어휘수):\", tokenizer.get_vocab_size())"
   ]
  },
  {
   "cell_type": "code",
   "execution_count": 12,
   "metadata": {},
   "outputs": [
    {
     "data": {
      "text/plain": [
       "{'평': 7332,\n",
       " '쎗': 5988,\n",
       " '갃': 3905,\n",
       " '個': 1317,\n",
       " 'す': 918,\n",
       " '告': 1587,\n",
       " '닲': 4575,\n",
       " '주': 6575,\n",
       " '거리': 9050,\n",
       " '迎': 3534,\n",
       " '읬': 6392,\n",
       " '機': 2445,\n",
       " '퀄': 7076,\n",
       " 'ộ': 450,\n",
       " '└': 680,\n",
       " '듭니다': 8948,\n",
       " '更': 2332,\n",
       " '轟': 3514,\n",
       " '찣': 6789,\n",
       " '알': 6077,\n",
       " '↗': 535,\n",
       " '遮': 3581,\n",
       " '✞': 788,\n",
       " '抉': 2147,\n",
       " '쓔': 6040,\n",
       " '각': 3903,\n",
       " '数': 2255,\n",
       " '💻': 8053,\n",
       " '객': 3926,\n",
       " '\\uf046': 7698,\n",
       " '던': 4616,\n",
       " '다가': 8626,\n",
       " '붓': 5515,\n",
       " '26': 9892,\n",
       " '⑵': 625,\n",
       " '밍': 5343,\n",
       " '횝': 7575,\n",
       " '녿': 4456,\n",
       " '株': 2391,\n",
       " '꺼': 4203,\n",
       " '뭑': 5296,\n",
       " '·': 204,\n",
       " '근혜': 9220,\n",
       " '侈': 1293,\n",
       " '殿': 2482,\n",
       " '핪': 7437,\n",
       " '쿌': 7061,\n",
       " '∘': 564,\n",
       " '☻': 753,\n",
       " '芳': 3178,\n",
       " '🕛': 8078,\n",
       " '甸': 2781,\n",
       " '녖': 4444,\n",
       " '뎋': 4649,\n",
       " '붸': 5530,\n",
       " '진행': 8680,\n",
       " '積': 2942,\n",
       " '뺑': 5597,\n",
       " '젱': 6508,\n",
       " 'è': 131,\n",
       " '상태': 8670,\n",
       " '가격': 8803,\n",
       " 'ョ': 1042,\n",
       " '핼': 7452,\n",
       " '볋': 5442,\n",
       " '〃': 872,\n",
       " '錮': 3651,\n",
       " '褐': 3292,\n",
       " '飯': 3810,\n",
       " '뚷': 4901,\n",
       " '邯': 3596,\n",
       " '밫': 5371,\n",
       " '심히': 8889,\n",
       " '이야기': 9267,\n",
       " '매매': 9366,\n",
       " '全': 1384,\n",
       " '걱': 3957,\n",
       " '랍니다': 8384,\n",
       " '◐': 717,\n",
       " '럅': 4975,\n",
       " '㈏': 1115,\n",
       " '넺': 4429,\n",
       " '믓': 5327,\n",
       " '👿': 8028,\n",
       " '💡': 8044,\n",
       " '史': 1559,\n",
       " 'ʿ': 169,\n",
       " '⑥': 609,\n",
       " '鑄': 3664,\n",
       " '쇡': 5823,\n",
       " '城': 1667,\n",
       " '썡': 5968,\n",
       " '＊': 7863,\n",
       " 'О': 235,\n",
       " '넬': 4422,\n",
       " '어요': 9171,\n",
       " '강제': 9248,\n",
       " '汝': 2504,\n",
       " '싴': 5930,\n",
       " '₩': 502,\n",
       " '봣': 5481,\n",
       " 'ч': 262,\n",
       " '먺': 5190,\n",
       " 'フ': 1024,\n",
       " '호': 7533,\n",
       " '越': 3475,\n",
       " '핟': 7426,\n",
       " '20': 8237,\n",
       " '정신': 8571,\n",
       " '몹': 5249,\n",
       " '귬': 4125,\n",
       " '맗': 5151,\n",
       " '귀': 4112,\n",
       " '밬': 5372,\n",
       " '국회의원': 8525,\n",
       " '鋌': 3645,\n",
       " '간곡': 9792,\n",
       " '옥': 6217,\n",
       " '㎐': 1145,\n",
       " '踊': 3485,\n",
       " '삘': 5688,\n",
       " '공무원': 8300,\n",
       " '했고': 9101,\n",
       " '猶': 2724,\n",
       " '㉦': 1130,\n",
       " '떤': 4825,\n",
       " '問': 1610,\n",
       " '오히려': 8906,\n",
       " '쌕': 5952,\n",
       " '閑': 3677,\n",
       " '볖': 5452,\n",
       " '탚': 7129,\n",
       " '에도': 8313,\n",
       " '损': 2185,\n",
       " '姐': 1752,\n",
       " 'ᅦ': 398,\n",
       " '蟲': 3258,\n",
       " '〖': 887,\n",
       " '驗': 3832,\n",
       " '꿘': 4288,\n",
       " '소비': 9238,\n",
       " '눃': 4489,\n",
       " '契': 1727,\n",
       " '荊': 3192,\n",
       " '지': 6637,\n",
       " '뚜': 4885,\n",
       " '생각을': 9359,\n",
       " '둿': 4729,\n",
       " '̶': 196,\n",
       " '炳': 2658,\n",
       " '힛': 7659,\n",
       " '🗡': 8089,\n",
       " '썽': 5979,\n",
       " '또는': 8677,\n",
       " '엦': 6176,\n",
       " '⚡': 776,\n",
       " '脊': 3135,\n",
       " '壇': 1697,\n",
       " '项': 3792,\n",
       " '얼': 6148,\n",
       " '摘': 2213,\n",
       " '☚': 735,\n",
       " 'ヨ': 1043,\n",
       " '조사': 8450,\n",
       " '齒': 3893,\n",
       " '▷': 701,\n",
       " '무엇': 8788,\n",
       " '往': 2007,\n",
       " '꼬': 4232,\n",
       " '😋': 8103,\n",
       " '닷': 4580,\n",
       " '〕': 886,\n",
       " '奮': 1733,\n",
       " '싻': 5937,\n",
       " '족': 6528,\n",
       " '졎': 6520,\n",
       " '생각이': 9004,\n",
       " '맣': 5163,\n",
       " '朋': 2342,\n",
       " '騰': 3829,\n",
       " '딕': 4779,\n",
       " 'asdfasdfasdfasdf': 8240,\n",
       " '만들': 8534,\n",
       " '탠': 7134,\n",
       " '日': 2282,\n",
       " '웋': 6302,\n",
       " '읯': 6395,\n",
       " '슬': 5892,\n",
       " '竝': 2955,\n",
       " '톅': 7182,\n",
       " '듡': 4754,\n",
       " '봐': 5474,\n",
       " '쒼': 6038,\n",
       " '酬': 3616,\n",
       " '鷗': 3869,\n",
       " 'ャ': 1038,\n",
       " '瑞': 2755,\n",
       " '랭': 4967,\n",
       " '済': 2583,\n",
       " '威': 1762,\n",
       " '衛': 3269,\n",
       " '꼼': 4240,\n",
       " 'إ': 269,\n",
       " '駅': 3824,\n",
       " '鎭': 3659,\n",
       " '붔': 5516,\n",
       " '쵀': 6889,\n",
       " '퀴': 7081,\n",
       " 'g': 72,\n",
       " '함': 7435,\n",
       " '운영': 8559,\n",
       " '사실을': 9371,\n",
       " '법으로': 9590,\n",
       " '대법원': 9968,\n",
       " '凵': 1422,\n",
       " '땃': 4799,\n",
       " '롷': 5040,\n",
       " '⒈': 636,\n",
       " 'asdfasdfasdfasdfasdfasdfasdfasdfasdfasdf': 8865,\n",
       " '하': 7419,\n",
       " 'ث': 275,\n",
       " '앜': 6092,\n",
       " '尾': 1861,\n",
       " '폣': 7341,\n",
       " '옰': 6225,\n",
       " '아이들을': 9981,\n",
       " '深': 2574,\n",
       " '욧': 6276,\n",
       " '황': 7561,\n",
       " '榮': 2425,\n",
       " '환경': 8572,\n",
       " '사랑': 9433,\n",
       " '選': 3585,\n",
       " '샾': 5742,\n",
       " '熱': 2678,\n",
       " '),': 9557,\n",
       " '慧': 2099,\n",
       " '杳': 2369,\n",
       " '덟': 4622,\n",
       " '된다면': 9558,\n",
       " '운동': 8934,\n",
       " '시작': 8684,\n",
       " '倫': 1327,\n",
       " '문화': 8708,\n",
       " '국민들의': 8973,\n",
       " '붱': 5529,\n",
       " '횄': 7568,\n",
       " '해주는': 9748,\n",
       " '³': 111,\n",
       " 'ㅛ': 1093,\n",
       " '쯩': 6773,\n",
       " '足': 3478,\n",
       " '이라면': 9394,\n",
       " '섵': 5765,\n",
       " '텻': 7178,\n",
       " '匙': 1495,\n",
       " '아닐': 9539,\n",
       " '건강보험': 9973,\n",
       " 'ぃ': 898,\n",
       " '팽': 7296,\n",
       " '쐈': 6015,\n",
       " '쉽게': 9435,\n",
       " '벳': 5432,\n",
       " '您': 2069,\n",
       " '쿽': 7074,\n",
       " '剖': 1449,\n",
       " '资': 3467,\n",
       " '덧': 4626,\n",
       " '먖': 5184,\n",
       " '부모님': 9292,\n",
       " '공개': 8835,\n",
       " '첞': 6835,\n",
       " '珉': 2741,\n",
       " '❉': 796,\n",
       " '☶': 749,\n",
       " '싫': 5921,\n",
       " '냡': 4384,\n",
       " 'ớ': 451,\n",
       " '갲': 3936,\n",
       " '직': 6638,\n",
       " '겔': 3981,\n",
       " '풀': 7373,\n",
       " '촹': 6888,\n",
       " '力': 7800,\n",
       " '2년': 8829,\n",
       " '텬': 7177,\n",
       " '!!!!!!!!': 9445,\n",
       " '좃': 6537,\n",
       " '自': 3154,\n",
       " '류': 5086,\n",
       " 'ᇿ': 416,\n",
       " '⚀': 770,\n",
       " '묺': 5280,\n",
       " '쮤': 6764,\n",
       " '지역': 8433,\n",
       " '誤': 3355,\n",
       " '尖': 1854,\n",
       " '제안': 9286,\n",
       " '炭': 2656,\n",
       " '須': 3778,\n",
       " '速': 3559,\n",
       " '〔': 885,\n",
       " '\\U000f0850': 8197,\n",
       " '아파트': 8520,\n",
       " '켞': 7023,\n",
       " '”': 471,\n",
       " '領': 7815,\n",
       " '단': 4566,\n",
       " 'ฯ': 348,\n",
       " '젚': 6495,\n",
       " '드립니다': 8395,\n",
       " '뙇': 4876,\n",
       " '끜': 4329,\n",
       " '등록': 9070,\n",
       " '녑': 4440,\n",
       " '렝': 5006,\n",
       " '培': 1670,\n",
       " '제로': 8820,\n",
       " '疏': 2799,\n",
       " '소유': 9455,\n",
       " '심지어': 9468,\n",
       " '킁': 7099,\n",
       " '达': 3532,\n",
       " '쎔': 5986,\n",
       " '💨': 8047,\n",
       " '핱': 7444,\n",
       " '썬': 5972,\n",
       " '도로': 8617,\n",
       " '傍': 1345,\n",
       " '殃': 2474,\n",
       " '행위를': 9793,\n",
       " '아이를': 9143,\n",
       " '솓': 5803,\n",
       " '션': 5784,\n",
       " '群': 3085,\n",
       " '算': 2981,\n",
       " '헬': 7504,\n",
       " '무기': 9529,\n",
       " '뗜': 4851,\n",
       " '냉': 4377,\n",
       " '冬': 1409,\n",
       " '꽨': 4258,\n",
       " '싶': 5932,\n",
       " '젠': 6500,\n",
       " '💩': 8048,\n",
       " '😜': 8116,\n",
       " '瑤': 2756,\n",
       " '虛': 3247,\n",
       " '❼': 822,\n",
       " '眸': 2851,\n",
       " '읠': 6388,\n",
       " '알바': 9958,\n",
       " '搬': 2211,\n",
       " '횰': 7582,\n",
       " '😏': 8107,\n",
       " '멕': 5207,\n",
       " 'α': 214,\n",
       " '嫚': 1775,\n",
       " '딨': 4786,\n",
       " '쭟': 6757,\n",
       " '졕': 6523,\n",
       " '탞': 7133,\n",
       " '당시': 8809,\n",
       " '鮮': 3858,\n",
       " '寫': 1832,\n",
       " '통과': 9810,\n",
       " '慇': 2092,\n",
       " '해당': 8611,\n",
       " '俗': 1307,\n",
       " '坦': 1660,\n",
       " '끋': 4317,\n",
       " '흽': 7648,\n",
       " '藩': 3238,\n",
       " 'À': 121,\n",
       " '첩': 6843,\n",
       " '혘': 7522,\n",
       " '세력': 9566,\n",
       " '버': 5400,\n",
       " '午': 1507,\n",
       " '泊': 2528,\n",
       " '믾': 5334,\n",
       " '부에': 9882,\n",
       " '말씀': 8862,\n",
       " '父': 2693,\n",
       " 'έ': 211,\n",
       " '繡': 3049,\n",
       " 'ō': 159,\n",
       " '헯': 7505,\n",
       " '择': 2170,\n",
       " '텦': 7173,\n",
       " '으로써': 9300,\n",
       " 'ぶ': 947,\n",
       " '卯': 1524,\n",
       " '乐': 1200,\n",
       " '雙': 3738,\n",
       " '😾': 8138,\n",
       " '소에': 9881,\n",
       " '가고': 8609,\n",
       " '徨': 2018,\n",
       " '적인': 8262,\n",
       " '부탁드립니다': 8583,\n",
       " '쵤': 6893,\n",
       " '㉠': 1124,\n",
       " '遵': 3583,\n",
       " '仄': 1240,\n",
       " '졳': 6529,\n",
       " '밨': 5368,\n",
       " 'ⓛ': 659,\n",
       " '준': 6578,\n",
       " 'н': 253,\n",
       " '★': 725,\n",
       " '述': 3544,\n",
       " '떌': 4818,\n",
       " '愿': 2090,\n",
       " '曨': 2328,\n",
       " '렆': 4996,\n",
       " '륩': 5092,\n",
       " '\\ue6d7': 7680,\n",
       " '멸': 5220,\n",
       " '적이고': 9689,\n",
       " 'ㄹ': 1063,\n",
       " '상식': 9822,\n",
       " '⌌': 592,\n",
       " '휄': 7608,\n",
       " '몬': 5242,\n",
       " '검사': 9054,\n",
       " '갷': 3938,\n",
       " '😣': 8121,\n",
       " '🙌': 8143,\n",
       " '합니다': 8211,\n",
       " '쳦': 6870,\n",
       " '뿐만': 9391,\n",
       " '첧': 6841,\n",
       " '사건을': 9526,\n",
       " '⑰': 620,\n",
       " '彩': 1999,\n",
       " '넗': 4407,\n",
       " '룡': 5064,\n",
       " '評': 3337,\n",
       " '←': 529,\n",
       " '좋': 6544,\n",
       " '컽': 7005,\n",
       " '놯': 4476,\n",
       " '뗫': 4853,\n",
       " '\\uea40': 7689,\n",
       " '貝': 3426,\n",
       " '먈': 5182,\n",
       " '¥': 100,\n",
       " '근무': 8476,\n",
       " '봒': 5475,\n",
       " '澹': 2637,\n",
       " '번': 5403,\n",
       " '세대': 9182,\n",
       " '나라의': 9473,\n",
       " '孫': 1793,\n",
       " '싯': 5925,\n",
       " '쉽': 5873,\n",
       " '얆': 6118,\n",
       " '얜': 6135,\n",
       " '핃': 7406,\n",
       " '일반행정': 8919,\n",
       " '스로': 9168,\n",
       " '설명': 9486,\n",
       " '샸': 5740,\n",
       " '댑': 4595,\n",
       " '퀀': 7075,\n",
       " '장이': 8608,\n",
       " '뎃': 4642,\n",
       " '잝': 6435,\n",
       " '다른': 8337,\n",
       " '엯': 6182,\n",
       " '벌금': 9467,\n",
       " '꿁': 4275,\n",
       " '篤': 2988,\n",
       " '懼': 2119,\n",
       " '뀄': 4299,\n",
       " '能': 3131,\n",
       " '놨': 4474,\n",
       " '맇': 5139,\n",
       " '바': 5350,\n",
       " '틐': 7255,\n",
       " '갋': 3912,\n",
       " '連': 7805,\n",
       " '携': 2212,\n",
       " 'ك': 292,\n",
       " '훅': 7585,\n",
       " '작성': 9436,\n",
       " '28': 9948,\n",
       " '마지막': 9789,\n",
       " '있어': 8366,\n",
       " '▩': 695,\n",
       " '浚': 2551,\n",
       " '인은': 9234,\n",
       " '惡': 2077,\n",
       " '붭': 5527,\n",
       " '\\U000f007e': 8182,\n",
       " '鬪': 3847,\n",
       " '淹': 2579,\n",
       " '뜿': 4923,\n",
       " '않고': 8383,\n",
       " '炅': 2652,\n",
       " '및': 5345,\n",
       " '慨': 2100,\n",
       " '쎠': 5991,\n",
       " '임을': 9600,\n",
       " '욪': 6279,\n",
       " '집': 6652,\n",
       " '츽': 6948,\n",
       " '헤': 7501,\n",
       " '測': 2590,\n",
       " 'а': 242,\n",
       " '`': 65,\n",
       " '\\ue97d': 7688,\n",
       " '우리나라는': 9745,\n",
       " '即': 1527,\n",
       " '驛': 3834,\n",
       " '¬': 104,\n",
       " '댯': 4611,\n",
       " '때문에': 8351,\n",
       " '죠': 6563,\n",
       " '칙': 6952,\n",
       " '无': 2280,\n",
       " '꿂': 4276,\n",
       " '태': 7131,\n",
       " '이유': 8341,\n",
       " '등학교': 8962,\n",
       " '혹은': 9575,\n",
       " '겠죠': 9761,\n",
       " 'U': 54,\n",
       " '군요': 8796,\n",
       " '〜': 893,\n",
       " '逐': 3555,\n",
       " '낀': 4339,\n",
       " '智': 2317,\n",
       " '近': 3535,\n",
       " '젭': 6505,\n",
       " '퐤': 7358,\n",
       " '助': 1468,\n",
       " '아직도': 9373,\n",
       " '떯': 4830,\n",
       " '녅': 4436,\n",
       " '맢': 5162,\n",
       " '벼': 5436,\n",
       " '天': 1716,\n",
       " '？': 7884,\n",
       " '値': 1326,\n",
       " '町': 2782,\n",
       " '이상': 8283,\n",
       " '줏': 6586,\n",
       " '된다': 8743,\n",
       " '아무리': 9306,\n",
       " '대형': 9959,\n",
       " 'ỉ': 446,\n",
       " '잢': 6439,\n",
       " '劈': 1458,\n",
       " '어떤': 8601,\n",
       " '잣': 6440,\n",
       " '😯': 8131,\n",
       " 'ㅊ': 1076,\n",
       " '訟': 3328,\n",
       " '持': 2176,\n",
       " '웁': 6295,\n",
       " '얉': 6120,\n",
       " '201': 8288,\n",
       " 'ฝ': 333,\n",
       " '驕': 3831,\n",
       " 'よ': 965,\n",
       " 'ㅍ': 1079,\n",
       " '제시': 9961,\n",
       " '沃': 2514,\n",
       " '🐳': 8000,\n",
       " '사람은': 9048,\n",
       " '師': 1917,\n",
       " '監': 2836,\n",
       " '미': 5330,\n",
       " '쯧': 6772,\n",
       " '誓': 3349,\n",
       " '앞': 6094,\n",
       " '愧': 2087,\n",
       " '龐': 3897,\n",
       " ',': 13,\n",
       " '궁': 4093,\n",
       " '敷': 2259,\n",
       " '积': 2927,\n",
       " '증': 6625,\n",
       " '켛': 7020,\n",
       " '云': 1217,\n",
       " '똣': 4869,\n",
       " '킅': 7101,\n",
       " '툴': 7218,\n",
       " '://': 8878,\n",
       " '국가의': 9537,\n",
       " '嶼': 1897,\n",
       " '시키': 8446,\n",
       " '펵': 7324,\n",
       " '대기업': 9089,\n",
       " '힘들게': 9975,\n",
       " '三': 1172,\n",
       " '아니라': 8407,\n",
       " '겢': 3987,\n",
       " '出': 1424,\n",
       " '한다면': 8810,\n",
       " '椎': 2415,\n",
       " '👋': 8013,\n",
       " '이미': 8632,\n",
       " '공공': 8921,\n",
       " '幾': 1940,\n",
       " '곮': 4031,\n",
       " '폈': 7331,\n",
       " '权': 2356,\n",
       " '똫': 4872,\n",
       " 'ə': 167,\n",
       " '劃': 1456,\n",
       " '浦': 2554,\n",
       " '싷': 5933,\n",
       " '캆': 6972,\n",
       " '핯': 7442,\n",
       " '겁니까': 9216,\n",
       " '˟': 177,\n",
       " '셰': 5794,\n",
       " '바른': 9784,\n",
       " '졍': 6519,\n",
       " '마': 5140,\n",
       " '英': 3185,\n",
       " '썪': 5971,\n",
       " '칟': 6954,\n",
       " 'Y': 58,\n",
       " '썌': 5966,\n",
       " '쎌': 5985,\n",
       " '장': 6442,\n",
       " '抄': 2146,\n",
       " '性': 2045,\n",
       " '않아': 9093,\n",
       " '사이': 8574,\n",
       " '炤': 2654,\n",
       " '獄': 2726,\n",
       " '켔': 7015,\n",
       " '흗': 7630,\n",
       " '껴': 4222,\n",
       " '뺀': 5590,\n",
       " '門': 3673,\n",
       " '매우': 9047,\n",
       " '차를': 9271,\n",
       " '어린이집': 9060,\n",
       " 'η': 218,\n",
       " '陛': 3705,\n",
       " 'K': 44,\n",
       " '눌': 4494,\n",
       " '흐': 7627,\n",
       " '전부': 9285,\n",
       " '工': 1902,\n",
       " '肅': 3115,\n",
       " '´': 112,\n",
       " '전기': 9353,\n",
       " '賴': 3459,\n",
       " '즀': 6615,\n",
       " '그럼': 8945,\n",
       " '２': 7871,\n",
       " '빨': 5579,\n",
       " '렜': 5005,\n",
       " '슅': 5878,\n",
       " '큲': 7094,\n",
       " '가상': 8983,\n",
       " 'ㅒ': 1084,\n",
       " '登': 2820,\n",
       " '-': 14,\n",
       " '넛': 4411,\n",
       " '주십시오': 9077,\n",
       " '☯': 744,\n",
       " '西': 3300,\n",
       " '했습니다': 8365,\n",
       " 'ไ': 362,\n",
       " '视': 3313,\n",
       " 'い': 899,\n",
       " '誰': 3359,\n",
       " '☟': 740,\n",
       " '添': 2581,\n",
       " '技': 2145,\n",
       " '펄': 7308,\n",
       " '招': 2168,\n",
       " '夏': 1708,\n",
       " '蝶': 3255,\n",
       " '홧': 7560,\n",
       " '羅': 7754,\n",
       " '없이': 8324,\n",
       " '練': 3041,\n",
       " '훤': 7600,\n",
       " '⓻': 669,\n",
       " '憤': 2107,\n",
       " '앓': 6083,\n",
       " '춴': 6917,\n",
       " '4': 21,\n",
       " '탇': 7118,\n",
       " '⇛': 551,\n",
       " '份': 1262,\n",
       " '헝': 7496,\n",
       " '氣': 2494,\n",
       " '倻': 1329,\n",
       " '☜': 737,\n",
       " '쏱': 6009,\n",
       " '!!!': 9227,\n",
       " '閱': 3683,\n",
       " '겆': 3971,\n",
       " '長': 3671,\n",
       " '녘': 4446,\n",
       " '🚫': 8152,\n",
       " 'า': 351,\n",
       " '̽': 198,\n",
       " '☳': 747,\n",
       " '士': 1701,\n",
       " 'з': 247,\n",
       " '엏': 6164,\n",
       " '인가요': 9129,\n",
       " '솎': 5801,\n",
       " '勤': 1486,\n",
       " '略': 2791,\n",
       " 'ゴ': 991,\n",
       " '豪': 3422,\n",
       " '쉭': 5869,\n",
       " '이건': 9003,\n",
       " '많이': 8367,\n",
       " '기초': 9409,\n",
       " '賛': 3450,\n",
       " '世': 1179,\n",
       " '돗': 4668,\n",
       " '엋': 6160,\n",
       " 'ᄋ': 388,\n",
       " '정치': 8434,\n",
       " '일이': 8462,\n",
       " '倡': 1325,\n",
       " '벖': 5413,\n",
       " 'ᒺ': 419,\n",
       " '琴': 2751,\n",
       " '국민이': 8655,\n",
       " '80': 9413,\n",
       " '⁂': 489,\n",
       " '엸': 6191,\n",
       " '없는': 8268,\n",
       " '틷': 7263,\n",
       " 'ํ': 369,\n",
       " '박': 5351,\n",
       " '⟷': 855,\n",
       " '寸': 1835,\n",
       " '첨': 6842,\n",
       " '勝': 1482,\n",
       " '눂': 4488,\n",
       " '콜': 7037,\n",
       " '펐': 7312,\n",
       " '💯': 8050,\n",
       " '부모': 8454,\n",
       " '쐿': 6022,\n",
       " '読': 3358,\n",
       " '그런데': 8475,\n",
       " '6년': 9381,\n",
       " '[': 60,\n",
       " '럴': 4985,\n",
       " '떵': 4835,\n",
       " '먼': 5191,\n",
       " '젬': 6504,\n",
       " '폭행': 8649,\n",
       " '刺': 1443,\n",
       " '쥭': 6610,\n",
       " '그저': 9917,\n",
       " '쭸': 6761,\n",
       " '막': 5141,\n",
       " '☆': 726,\n",
       " '些': 1222,\n",
       " '룹': 5072,\n",
       " '옜': 6211,\n",
       " '도움': 8852,\n",
       " '오는': 9199,\n",
       " '詩': 3340,\n",
       " '위원': 8628,\n",
       " '췃': 6918,\n",
       " '賞': 3452,\n",
       " '댙': 4601,\n",
       " 'ぜ': 921,\n",
       " '念': 2036,\n",
       " 'σ': 226,\n",
       " '다운': 9893,\n",
       " '긕': 4148,\n",
       " '⓫': 661,\n",
       " '식으로': 8880,\n",
       " '靜': 3761,\n",
       " '튑': 7234,\n",
       " '∽': 575,\n",
       " '社': 2896,\n",
       " '犯': 2713,\n",
       " '蠻': 3262,\n",
       " '칸': 6968,\n",
       " '주의': 8493,\n",
       " '얿': 6151,\n",
       " '릅니다': 9890,\n",
       " '😥': 8123,\n",
       " '亚': 1221,\n",
       " '댸': 4613,\n",
       " 'โ': 360,\n",
       " '폄': 7328,\n",
       " '들을': 8263,\n",
       " '냐': 4379,\n",
       " '사고가': 9909,\n",
       " '初': 1433,\n",
       " '【': 882,\n",
       " '놥': 4472,\n",
       " '뒤': 4734,\n",
       " '激': 2638,\n",
       " '글': 4133,\n",
       " '가입': 9097,\n",
       " '拳': 2172,\n",
       " '献': 2723,\n",
       " '時': 2307,\n",
       " '퉈': 7223,\n",
       " '지정': 9606,\n",
       " '排': 2192,\n",
       " '영어': 9966,\n",
       " '\\u200f': 459,\n",
       " 'モ': 1037,\n",
       " '토': 7185,\n",
       " '常': 1921,\n",
       " 'ま': 955,\n",
       " '촬': 6887,\n",
       " '쐬': 6019,\n",
       " '0': 17,\n",
       " '걧': 3954,\n",
       " '달': 4570,\n",
       " '槍': 2428,\n",
       " '쌍': 5947,\n",
       " '🔉': 8061,\n",
       " '핢': 7429,\n",
       " '판': 7273,\n",
       " '딫': 4789,\n",
       " '九': 1203,\n",
       " '厚': 1532,\n",
       " '리가': 8752,\n",
       " '귈': 4115,\n",
       " '阜': 3693,\n",
       " '헡': 7498,\n",
       " '말고': 8739,\n",
       " '韶': 3772,\n",
       " '기업': 8307,\n",
       " '둠': 4721,\n",
       " '2017년': 9510,\n",
       " '둣': 4723,\n",
       " '퇄': 7201,\n",
       " 'ວ': 375,\n",
       " '비스': 9251,\n",
       " '비정규직': 9856,\n",
       " '쟎': 6465,\n",
       " '븉': 5541,\n",
       " '‵': 484,\n",
       " '飢': 3808,\n",
       " '또': 4860,\n",
       " '希': 1914,\n",
       " '랂': 4945,\n",
       " 'ل': 293,\n",
       " '☢': 742,\n",
       " '꾾': 4272,\n",
       " '빈': 5560,\n",
       " '섀': 5743,\n",
       " '회사': 8447,\n",
       " '인력': 9929,\n",
       " '멜': 5209,\n",
       " '别': 1437,\n",
       " '있다': 8377,\n",
       " '있게': 8651,\n",
       " '윻': 6356,\n",
       " '唐': 1604,\n",
       " '汲': 2509,\n",
       " '捺': 2189,\n",
       " '읾': 6406,\n",
       " '⑽': 633,\n",
       " '뎁': 4641,\n",
       " '■': 691,\n",
       " '걁': 3944,\n",
       " '歡': 2463,\n",
       " '숬': 5847,\n",
       " '곳이': 9618,\n",
       " '❤': 811,\n",
       " '칼': 6969,\n",
       " '府': 1951,\n",
       " '戌': 2122,\n",
       " '켸': 7032,\n",
       " '얼굴': 9886,\n",
       " '근거': 9713,\n",
       " '👦': 8020,\n",
       " '더니': 9008,\n",
       " '롶': 5039,\n",
       " '췌': 6923,\n",
       " 'ａ': 7906,\n",
       " '險': 3728,\n",
       " '뿘': 5666,\n",
       " '护': 2156,\n",
       " '橫': 2447,\n",
       " '公': 1388,\n",
       " '선거': 8813,\n",
       " '∙': 565,\n",
       " '텀': 7156,\n",
       " '25': 9162,\n",
       " '曉': 2326,\n",
       " '佐': 1280,\n",
       " '被': 3279,\n",
       " '웬': 6324,\n",
       " '됮': 4706,\n",
       " '하며': 8342,\n",
       " '자동': 8952,\n",
       " '看': 2846,\n",
       " '껭': 4221,\n",
       " '줉': 6582,\n",
       " '맬': 5168,\n",
       " '➈': 834,\n",
       " '麗': 7799,\n",
       " '👥': 8019,\n",
       " '변': 5439,\n",
       " '없다는': 9208,\n",
       " '단지': 9690,\n",
       " '잜': 6434,\n",
       " '议': 3399,\n",
       " '據': 2228,\n",
       " '柳': 2385,\n",
       " '핲': 7445,\n",
       " '⼷': 869,\n",
       " '法': 2531,\n",
       " '틍': 7254,\n",
       " '뚣': 4889,\n",
       " '음': 6372,\n",
       " '벆': 5402,\n",
       " '行': 3265,\n",
       " '촉': 6874,\n",
       " '채용': 9024,\n",
       " '🔵': 8068,\n",
       " '陪': 3711,\n",
       " '낦': 4355,\n",
       " '멎': 5202,\n",
       " '쟁': 6458,\n",
       " '쬡': 6744,\n",
       " '놩': 4475,\n",
       " '미국': 8575,\n",
       " '栢': 2390,\n",
       " '제발': 8464,\n",
       " '역시': 9154,\n",
       " '凡': 1419,\n",
       " '갼': 3942,\n",
       " '성이': 8825,\n",
       " '⎦': 599,\n",
       " '잠': 6437,\n",
       " '살': 5699,\n",
       " 'В': 232,\n",
       " '功': 1463,\n",
       " '.)': 9104,\n",
       " '확실': 9519,\n",
       " '잳': 6452,\n",
       " '닿': 4588,\n",
       " '래': 4959,\n",
       " '륻': 5100,\n",
       " '컾': 7006,\n",
       " '🚨': 8150,\n",
       " '┳': 684,\n",
       " '룔': 5060,\n",
       " '겠지만': 8972,\n",
       " '위협': 9429,\n",
       " 'غ': 289,\n",
       " '럸': 4987,\n",
       " '벭': 5429,\n",
       " '羞': 3084,\n",
       " '웒': 6307,\n",
       " '즁': 6616,\n",
       " '흘': 7631,\n",
       " '廈': 1961,\n",
       " '칬': 6960,\n",
       " '푸': 7370,\n",
       " '들의': 8243,\n",
       " '한다는': 8552,\n",
       " '//': 8818,\n",
       " '인터넷': 9065,\n",
       " '정도로': 9324,\n",
       " '지속': 9452,\n",
       " '訂': 3321,\n",
       " '늖': 4523,\n",
       " '땍': 4805,\n",
       " '친': 6953,\n",
       " '뭍': 5292,\n",
       " '셕': 5783,\n",
       " 'ㅓ': 1085,\n",
       " '科': 2921,\n",
       " '意': 2083,\n",
       " '푝': 7362,\n",
       " 'べ': 950,\n",
       " '况': 1412,\n",
       " '稅': 2931,\n",
       " '독': 4661,\n",
       " '춘': 6901,\n",
       " '∣': 570,\n",
       " '眄': 2845,\n",
       " '\\U000f02b3': 8187,\n",
       " '장애': 8555,\n",
       " '됄': 4686,\n",
       " '윧': 6345,\n",
       " '섷': 5767,\n",
       " 'ㄻ': 1065,\n",
       " '蠶': 3261,\n",
       " ...}"
      ]
     },
     "execution_count": 12,
     "metadata": {},
     "output_type": "execute_result"
    }
   ],
   "source": [
    "tokenizer.get_vocab() # 어휘사전을 dictionary로 반환(key: 단어, value: id)"
   ]
  },
  {
   "cell_type": "code",
   "execution_count": 13,
   "metadata": {},
   "outputs": [],
   "source": [
    "# 테스트 문장\n",
    "sports_txt = \"프리미어리그 역대 개인 최다골 기록을 보유하고 있는 시어러가 손흥민의 골 결정력을 재차 극찬했다.\"\n",
    "petition_txt = \"이 글을 쓴 이유는 다름아닌 '전안법'시행 반대를 주장하기 위해서입니다. 먼저, '전안법'은 전기용품 및 생활용품을 판매하는 업체에서 KC인증마크를 의무적으로 받는 것입니다.\"\n",
    "comment_txt = \"멋진 식사를 즐기기에 좋은 장소 - 채식 메뉴가 정말 훌륭했습니다. 당근 케이크는 아마도 내가 먹어본 디저트 중 최고였을 거예요.\""
   ]
  },
  {
   "cell_type": "code",
   "execution_count": null,
   "metadata": {},
   "outputs": [
    {
     "data": {
      "text/plain": [
       "Encoding(num_tokens=34, attributes=[ids, type_ids, tokens, offsets, attention_mask, special_tokens_mask, overflowing])"
      ]
     },
     "execution_count": 14,
     "metadata": {},
     "output_type": "execute_result"
    }
   ],
   "source": [
    "# text -> token 화\n",
    "token_output = tokenizer.encode(sports_txt)         # encode : 어휘사전에 있는 단어 단위로 끊음(국민청원에 있는 단어)\n",
    "token_output"
   ]
  },
  {
   "cell_type": "code",
   "execution_count": 15,
   "metadata": {},
   "outputs": [
    {
     "data": {
      "text/plain": [
       "['프',\n",
       " '리',\n",
       " '미',\n",
       " '어',\n",
       " '리',\n",
       " '그',\n",
       " '역',\n",
       " '대',\n",
       " '개인',\n",
       " '최',\n",
       " '다',\n",
       " '골',\n",
       " '기록',\n",
       " '을',\n",
       " '보유',\n",
       " '하고',\n",
       " '있는',\n",
       " '시',\n",
       " '어',\n",
       " '러',\n",
       " '가',\n",
       " '손',\n",
       " '흥',\n",
       " '민',\n",
       " '의',\n",
       " '골',\n",
       " '결정',\n",
       " '력을',\n",
       " '재',\n",
       " '차',\n",
       " '극',\n",
       " '찬',\n",
       " '했다',\n",
       " '.']"
      ]
     },
     "execution_count": 15,
     "metadata": {},
     "output_type": "execute_result"
    }
   ],
   "source": [
    "# 토큰 - 단어\n",
    "token_output.tokens"
   ]
  },
  {
   "cell_type": "code",
   "execution_count": 16,
   "metadata": {},
   "outputs": [
    {
     "data": {
      "text/plain": [
       "[7390,\n",
       " 5123,\n",
       " 5330,\n",
       " 6140,\n",
       " 5123,\n",
       " 4128,\n",
       " 6180,\n",
       " 4589,\n",
       " 8414,\n",
       " 6891,\n",
       " 4563,\n",
       " 4027,\n",
       " 9449,\n",
       " 6364,\n",
       " 9442,\n",
       " 8209,\n",
       " 8219,\n",
       " 5908,\n",
       " 6140,\n",
       " 4980,\n",
       " 3902,\n",
       " 5802,\n",
       " 7638,\n",
       " 5332,\n",
       " 6384,\n",
       " 4027,\n",
       " 8940,\n",
       " 8644,\n",
       " 6449,\n",
       " 6793,\n",
       " 4129,\n",
       " 6795,\n",
       " 8565,\n",
       " 15]"
      ]
     },
     "execution_count": 16,
     "metadata": {},
     "output_type": "execute_result"
    }
   ],
   "source": [
    "# 토큰 - 토큰 id(정수)\n",
    "token_output.ids"
   ]
  },
  {
   "cell_type": "code",
   "execution_count": 17,
   "metadata": {},
   "outputs": [
    {
     "name": "stdout",
     "output_type": "stream",
     "text": [
      "['이', '글을', '쓴', '이유는', '다', '름', '아닌', \"'\", '전', '안', '법', \"'\", '시행', '반대', '를', '주장', '하기', '위해서', '입니다', '.', '먼저', ',', \"'\", '전', '안', '법', \"'\", '은', '전기', '용', '품', '및', '생활', '용', '품', '을', '판매', '하는', '업체', '에서', 'K', 'C', '인', '증', '마', '크', '를', '의무', '적으로', '받는', '것입니다', '.']\n"
     ]
    }
   ],
   "source": [
    "output = tokenizer.encode(petition_txt)\n",
    "print(output.tokens)"
   ]
  },
  {
   "cell_type": "code",
   "execution_count": null,
   "metadata": {},
   "outputs": [
    {
     "name": "stdout",
     "output_type": "stream",
     "text": [
      "[6396, 8577, 6044, 9246, 4563, 5107, 8323, 8, 6476, 6073, 5412, 8, 8656, 8658, 5101, 8953, 8301, 8580, 8212, 15, 8855, 13, 8, 6476, 6073, 5412, 8, 6360, 9353, 6278, 7375, 5345, 8437, 6278, 7375, 6364, 9118, 8208, 8692, 8210, 44, 36, 6400, 6625, 5140, 7091, 5101, 8521, 8253, 8546, 8299, 15]\n"
     ]
    }
   ],
   "source": [
    "print(output.ids)               # print문으로 출력 시 가로 방향으로 나열"
   ]
  },
  {
   "cell_type": "code",
   "execution_count": null,
   "metadata": {},
   "outputs": [
    {
     "data": {
      "text/plain": [
       "(7, 10)"
      ]
     },
     "execution_count": 21,
     "metadata": {},
     "output_type": "execute_result"
    }
   ],
   "source": [
    "# offset[토큰 리스트의 index]\n",
    "output.offsets[3]       # (이유는, 9246)이 어디에 있는지 반환"
   ]
  },
  {
   "cell_type": "code",
   "execution_count": null,
   "metadata": {},
   "outputs": [
    {
     "data": {
      "text/plain": [
       "8341"
      ]
     },
     "execution_count": 22,
     "metadata": {},
     "output_type": "execute_result"
    }
   ],
   "source": [
    "tokenizer.token_to_id(\"이유\")           # 토큰 문자열 -> 토큰 id / 몇 번째 토큰인지 변환"
   ]
  },
  {
   "cell_type": "code",
   "execution_count": 23,
   "metadata": {},
   "outputs": [
    {
     "data": {
      "text/plain": [
       "'이유'"
      ]
     },
     "execution_count": 23,
     "metadata": {},
     "output_type": "execute_result"
    }
   ],
   "source": [
    "tokenizer.id_to_token(8341)         # 토큰 id -> 토큰 문자열"
   ]
  },
  {
   "cell_type": "code",
   "execution_count": null,
   "metadata": {},
   "outputs": [
    {
     "data": {
      "text/plain": [
       "'¥ 니까 이유 3 ▶ 什'"
      ]
     },
     "execution_count": 24,
     "metadata": {},
     "output_type": "execute_result"
    }
   ],
   "source": [
    "ids = [100, 8231, 8341, 20, 700, 1238]\n",
    "decode_output = tokenizer.decode(ids)           # 토큰 id로 구성된 list를 문장으로 한번에 decode\n",
    "decode_output"
   ]
  },
  {
   "cell_type": "code",
   "execution_count": null,
   "metadata": {},
   "outputs": [
    {
     "data": {
      "text/plain": [
       "\"이 글을 쓴 이유는 다 름 아닌 ' 전 안 법 ' 시행 반대 를 주장 하기 위해서 입니다 . 먼저 , ' 전 안 법 ' 은 전기 용 품 및 생활 용 품 을 판매 하는 업체 에서 K C 인 증 마 크 를 의무 적으로 받는 것입니다 .\""
      ]
     },
     "execution_count": 25,
     "metadata": {},
     "output_type": "execute_result"
    }
   ],
   "source": [
    "tokenizer.decode(output.ids)                    # 원상복구"
   ]
  },
  {
   "cell_type": "markdown",
   "metadata": {},
   "source": [
    "## Word Piece 모델 학습"
   ]
  },
  {
   "cell_type": "code",
   "execution_count": 63,
   "metadata": {},
   "outputs": [],
   "source": [
    "from tokenizers import Tokenizer\n",
    "from tokenizers.models import WordPiece\n",
    "from tokenizers.pre_tokenizers import Whitespace\n",
    "from tokenizers.trainers import WordPieceTrainer\n",
    "\n",
    "# 토크나이저 생성\n",
    "tokenizer2 = Tokenizer(WordPiece(unk_token=\"[UNK]\"))\n",
    "# Pre tokenizer\n",
    "tokenizer2.pre_tokenizer = Whitespace()\n",
    "# Trainer 생성\n",
    "trainer = WordPieceTrainer(\n",
    "    vocab_size = 20000,\n",
    "    special_tokens=[\"[UNK]\", \"[PAD]\", \"[SEP]\", \"[SOS]\", \"[EOS]\"],\n",
    "    min_frequency=10\n",
    ")"
   ]
  },
  {
   "cell_type": "code",
   "execution_count": 32,
   "metadata": {},
   "outputs": [
    {
     "name": "stdout",
     "output_type": "stream",
     "text": [
      "\n",
      "\n",
      "\n",
      "31.46517586708069 초 걸림\n"
     ]
    }
   ],
   "source": [
    "import time\n",
    "s = time.time()\n",
    "tokenizer2.train(['data/petitions_corpus.txt'], trainer=trainer)\n",
    "e = time.time()\n",
    "print(f\"{e-s} 초 걸림\")"
   ]
  },
  {
   "cell_type": "code",
   "execution_count": 33,
   "metadata": {},
   "outputs": [],
   "source": [
    "tokenizer2.save(\"saved_models/petitions_wordpiece.json\")"
   ]
  },
  {
   "cell_type": "code",
   "execution_count": 34,
   "metadata": {},
   "outputs": [],
   "source": [
    "load_tokenizer2 = Tokenizer.from_file(\"saved_models/petitions_wordpiece.json\")"
   ]
  },
  {
   "cell_type": "code",
   "execution_count": 35,
   "metadata": {},
   "outputs": [
    {
     "data": {
      "text/plain": [
       "20000"
      ]
     },
     "execution_count": 35,
     "metadata": {},
     "output_type": "execute_result"
    }
   ],
   "source": [
    "tokenizer2.get_vocab_size()"
   ]
  },
  {
   "cell_type": "code",
   "execution_count": 36,
   "metadata": {},
   "outputs": [
    {
     "data": {
      "text/plain": [
       "15453"
      ]
     },
     "execution_count": 36,
     "metadata": {},
     "output_type": "execute_result"
    }
   ],
   "source": [
    "tokenizer2.token_to_id('안녕하세요')"
   ]
  },
  {
   "cell_type": "code",
   "execution_count": 37,
   "metadata": {},
   "outputs": [
    {
     "data": {
      "text/plain": [
       "'안녕하세요'"
      ]
     },
     "execution_count": 37,
     "metadata": {},
     "output_type": "execute_result"
    }
   ],
   "source": [
    "tokenizer2.id_to_token(15453)"
   ]
  },
  {
   "cell_type": "code",
   "execution_count": 38,
   "metadata": {},
   "outputs": [
    {
     "data": {
      "text/plain": [
       "'멋진 식사를 즐기기에 좋은 장소 - 채식 메뉴가 정말 훌륭했습니다. 당근 케이크는 아마도 내가 먹어본 디저트 중 최고였을 거예요.'"
      ]
     },
     "execution_count": 38,
     "metadata": {},
     "output_type": "execute_result"
    }
   ],
   "source": [
    "comment_txt"
   ]
  },
  {
   "cell_type": "code",
   "execution_count": 39,
   "metadata": {},
   "outputs": [
    {
     "data": {
      "text/plain": [
       "Encoding(num_tokens=44, attributes=[ids, type_ids, tokens, offsets, attention_mask, special_tokens_mask, overflowing])"
      ]
     },
     "execution_count": 39,
     "metadata": {},
     "output_type": "execute_result"
    }
   ],
   "source": [
    "output = tokenizer2.encode(comment_txt)\n",
    "output"
   ]
  },
  {
   "cell_type": "code",
   "execution_count": 40,
   "metadata": {},
   "outputs": [
    {
     "name": "stdout",
     "output_type": "stream",
     "text": [
      "[5202, 8290, 5912, 15002, 6624, 8333, 15062, 15252, 6445, 8261, 17, 6814, 8534, 5209, 8994, 8225, 15005, 7592, 9207, 15148, 18, 4585, 8258, 7010, 8247, 8631, 8220, 17053, 8239, 15680, 5192, 8338, 8554, 4781, 8766, 8349, 6590, 16373, 8564, 8209, 3959, 8473, 8311, 18]\n"
     ]
    }
   ],
   "source": [
    "print(output.ids)"
   ]
  },
  {
   "cell_type": "code",
   "execution_count": null,
   "metadata": {},
   "outputs": [
    {
     "data": {
      "text/plain": [
       "['멋',\n",
       " '##진',\n",
       " '식',\n",
       " '##사를',\n",
       " '즐',\n",
       " '##기',\n",
       " '##기에',\n",
       " '좋은',\n",
       " '장',\n",
       " '##소',\n",
       " '-',\n",
       " '채',\n",
       " '##식',\n",
       " '메',\n",
       " '##뉴',\n",
       " '##가',\n",
       " '정말',\n",
       " '훌',\n",
       " '##륭',\n",
       " '##했습니다',\n",
       " '.',\n",
       " '당',\n",
       " '##근',\n",
       " '케',\n",
       " '##이',\n",
       " '##크',\n",
       " '##는',\n",
       " '아마',\n",
       " '##도',\n",
       " '내가',\n",
       " '먹',\n",
       " '##어',\n",
       " '##본',\n",
       " '디',\n",
       " '##저',\n",
       " '##트',\n",
       " '중',\n",
       " '최고',\n",
       " '##였',\n",
       " '##을',\n",
       " '거',\n",
       " '##예',\n",
       " '##요',\n",
       " '.']"
      ]
     },
     "execution_count": 41,
     "metadata": {},
     "output_type": "execute_result"
    }
   ],
   "source": [
    "output.tokens\n",
    "# 글자 앞에 ##을 붙여 단어 중 나중에 나오는 글자 표시"
   ]
  },
  {
   "cell_type": "markdown",
   "metadata": {},
   "source": [
    "### Unigram"
   ]
  },
  {
   "cell_type": "code",
   "execution_count": 60,
   "metadata": {},
   "outputs": [
    {
     "name": "stdout",
     "output_type": "stream",
     "text": [
      "Ignored unknown kwargs option min_frequency\n"
     ]
    }
   ],
   "source": [
    "from tokenizers import Tokenizer\n",
    "from tokenizers.models import Unigram\n",
    "from tokenizers.pre_tokenizers import Whitespace\n",
    "from tokenizers.trainers import UnigramTrainer\n",
    "\n",
    "# 토크나이저 생성\n",
    "tokenizer3 = Tokenizer(Unigram())\n",
    "# Pre tokenizer\n",
    "tokenizer3.pre_tokenizer = Whitespace()\n",
    "# Trainer 생성\n",
    "trainer = UnigramTrainer(\n",
    "    vocab_size = 20000,\n",
    "    special_tokens=[\"[UNK]\", \"[PAD]\", \"[SEP]\", \"[SOS]\", \"[EOS]\"],\n",
    "    min_frequency=10\n",
    ")"
   ]
  },
  {
   "cell_type": "code",
   "execution_count": 61,
   "metadata": {},
   "outputs": [
    {
     "name": "stdout",
     "output_type": "stream",
     "text": [
      "\n",
      "\n",
      "191.31399297714233\n"
     ]
    }
   ],
   "source": [
    "s = time.time()\n",
    "tokenizer3.train([\"data/petitions_corpus.txt\"], trainer=trainer)\n",
    "e = time.time()\n",
    "print(e-s)"
   ]
  },
  {
   "cell_type": "code",
   "execution_count": 62,
   "metadata": {},
   "outputs": [],
   "source": [
    "tokenizer3.save(\"saved_models/petitions_unigram.json\")"
   ]
  },
  {
   "cell_type": "code",
   "execution_count": 51,
   "metadata": {},
   "outputs": [
    {
     "data": {
      "text/plain": [
       "20000"
      ]
     },
     "execution_count": 51,
     "metadata": {},
     "output_type": "execute_result"
    }
   ],
   "source": [
    "tokenizer3.get_vocab_size()"
   ]
  },
  {
   "cell_type": "code",
   "execution_count": 52,
   "metadata": {},
   "outputs": [
    {
     "data": {
      "text/plain": [
       "484"
      ]
     },
     "execution_count": 52,
     "metadata": {},
     "output_type": "execute_result"
    }
   ],
   "source": [
    "tokenizer3.token_to_id(\"안녕하세요\")"
   ]
  },
  {
   "cell_type": "code",
   "execution_count": 53,
   "metadata": {},
   "outputs": [
    {
     "data": {
      "text/plain": [
       "'안녕하세요'"
      ]
     },
     "execution_count": 53,
     "metadata": {},
     "output_type": "execute_result"
    }
   ],
   "source": [
    "tokenizer3.id_to_token(484)"
   ]
  },
  {
   "cell_type": "code",
   "execution_count": 54,
   "metadata": {},
   "outputs": [
    {
     "data": {
      "text/plain": [
       "['멋진',\n",
       " '식사',\n",
       " '를',\n",
       " '즐기',\n",
       " '기에',\n",
       " '좋은',\n",
       " '장소',\n",
       " '-',\n",
       " '채',\n",
       " '식',\n",
       " '메뉴',\n",
       " '가',\n",
       " '정말',\n",
       " '훌륭',\n",
       " '했습니다',\n",
       " '.',\n",
       " '당',\n",
       " '근',\n",
       " '케이',\n",
       " '크',\n",
       " '는',\n",
       " '아마도',\n",
       " '내가',\n",
       " '먹어',\n",
       " '본',\n",
       " '디',\n",
       " '저',\n",
       " '트',\n",
       " '중',\n",
       " '최고',\n",
       " '였',\n",
       " '을',\n",
       " '거예요',\n",
       " '.']"
      ]
     },
     "execution_count": 54,
     "metadata": {},
     "output_type": "execute_result"
    }
   ],
   "source": [
    "output = tokenizer3.encode(comment_txt)\n",
    "output.tokens"
   ]
  },
  {
   "cell_type": "code",
   "execution_count": 55,
   "metadata": {},
   "outputs": [
    {
     "data": {
      "text/plain": [
       "[11930,\n",
       " 4707,\n",
       " 14,\n",
       " 5688,\n",
       " 1050,\n",
       " 320,\n",
       " 2278,\n",
       " 69,\n",
       " 510,\n",
       " 252,\n",
       " 12447,\n",
       " 12,\n",
       " 134,\n",
       " 12592,\n",
       " 174,\n",
       " 5,\n",
       " 161,\n",
       " 842,\n",
       " 6651,\n",
       " 1090,\n",
       " 13,\n",
       " 6337,\n",
       " 654,\n",
       " 5653,\n",
       " 277,\n",
       " 1178,\n",
       " 137,\n",
       " 424,\n",
       " 59,\n",
       " 1715,\n",
       " 2127,\n",
       " 8,\n",
       " 10839,\n",
       " 5]"
      ]
     },
     "execution_count": 55,
     "metadata": {},
     "output_type": "execute_result"
    }
   ],
   "source": [
    "output.ids"
   ]
  },
  {
   "cell_type": "code",
   "execution_count": 57,
   "metadata": {},
   "outputs": [
    {
     "data": {
      "text/plain": [
       "'멋진 식사 를 즐기 기에 좋은 장소 - 채 식 메뉴 가 정말 훌륭 했습니다 . 당 근 케이 크 는 아마도 내가 먹어 본 디 저 트 중 최고 였 을 거예요 .'"
      ]
     },
     "execution_count": 57,
     "metadata": {},
     "output_type": "execute_result"
    }
   ],
   "source": [
    "tokenizer3.decode(output.ids)"
   ]
  },
  {
   "cell_type": "code",
   "execution_count": 64,
   "metadata": {},
   "outputs": [
    {
     "data": {
      "text/plain": [
       "'멋 ##진 식 ##사를 즐 ##기 ##기에 좋은 장 ##소 - 채 ##식 메 ##뉴 ##가 정말 훌 ##륭 ##했습니다 . 당 ##근 케 ##이 ##크 ##는 아마 ##도 내가 먹 ##어 ##본 디 ##저 ##트 중 최고 ##였 ##을 거 ##예 ##요 .'"
      ]
     },
     "execution_count": 64,
     "metadata": {},
     "output_type": "execute_result"
    }
   ],
   "source": [
    "# wordpiece\n",
    "output2 = load_tokenizer2.encode(comment_txt)\n",
    "load_tokenizer2.decode(output2.ids)"
   ]
  },
  {
   "cell_type": "code",
   "execution_count": 65,
   "metadata": {},
   "outputs": [
    {
     "data": {
      "text/plain": [
       "'멋 ##진 식 ##사를 즐 ##기 ##기에 좋은 장 ##소 - 채 ##식 메 ##뉴 ##가 정말 훌 ##륭 ##했습니다 . 당 ##근 케 ##이 ##크 ##는 아마 ##도 내가 먹 ##어 ##본 디 ##저 ##트 중 최고 ##였 ##을 거 ##예 ##요 .'"
      ]
     },
     "execution_count": 65,
     "metadata": {},
     "output_type": "execute_result"
    }
   ],
   "source": [
    "\" \".join(output2.tokens)"
   ]
  },
  {
   "cell_type": "code",
   "execution_count": null,
   "metadata": {},
   "outputs": [],
   "source": []
  },
  {
   "cell_type": "code",
   "execution_count": null,
   "metadata": {},
   "outputs": [],
   "source": []
  },
  {
   "cell_type": "code",
   "execution_count": null,
   "metadata": {},
   "outputs": [],
   "source": []
  },
  {
   "cell_type": "code",
   "execution_count": null,
   "metadata": {},
   "outputs": [],
   "source": []
  },
  {
   "cell_type": "code",
   "execution_count": null,
   "metadata": {},
   "outputs": [],
   "source": []
  }
 ],
 "metadata": {
  "kernelspec": {
   "display_name": "dl",
   "language": "python",
   "name": "python3"
  },
  "language_info": {
   "codemirror_mode": {
    "name": "ipython",
    "version": 3
   },
   "file_extension": ".py",
   "mimetype": "text/x-python",
   "name": "python",
   "nbconvert_exporter": "python",
   "pygments_lexer": "ipython3",
   "version": "3.12.10"
  }
 },
 "nbformat": 4,
 "nbformat_minor": 4
}
